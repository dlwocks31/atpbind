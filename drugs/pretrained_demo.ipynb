{
 "cells": [
  {
   "cell_type": "code",
   "execution_count": 1,
   "metadata": {},
   "outputs": [],
   "source": [
    "import sys, os\n",
    "sys.path.insert(0, os.path.abspath('..'))"
   ]
  },
  {
   "cell_type": "code",
   "execution_count": 2,
   "metadata": {},
   "outputs": [
    {
     "name": "stdout",
     "output_type": "stream",
     "text": [
      "load model lm-gearnet, kwargs: {'gpu': 1, 'lm_type': 'esm-t33', 'gearnet_hidden_dim_size': 512, 'gearnet_hidden_dim_count': 4, 'lm_freeze_layer_count': 33}\n",
      "freeze_lm: 33\n",
      "get dataset imatinib\n",
      "ImatinibBind: data_path is None, set to /home/jaechanlee/atpbind/data/imatinib\n",
      "Initialize Undersampling: all ones\n",
      "Initialize Weighting: all ones\n",
      "train samples: 16, valid samples: 5, test samples: 6\n",
      "Adam parameter: all\n",
      "no scheduler\n"
     ]
    }
   ],
   "source": [
    "from lib.pipeline import Pipeline\n",
    "import numpy as np\n",
    "import matplotlib.pyplot as plt\n",
    "import torch\n",
    "from torchdrug import utils, data\n",
    "from lib.disable_logger import DisableLogger\n",
    "\n",
    "GPU = 1\n",
    "device = f'cuda:{GPU}'\n",
    "pipeline = Pipeline(\n",
    "    model='lm-gearnet',\n",
    "    dataset='imatinib',\n",
    "    gpus=[GPU],\n",
    "    model_kwargs={\n",
    "        'gpu': GPU,\n",
    "        'lm_type': 'esm-t33',\n",
    "        'gearnet_hidden_dim_size': 512,\n",
    "        'gearnet_hidden_dim_count': 4,\n",
    "        'lm_freeze_layer_count': 33,\n",
    "    },\n",
    "    batch_size=4,\n",
    ")\n"
   ]
  },
  {
   "cell_type": "code",
   "execution_count": 3,
   "metadata": {},
   "outputs": [
    {
     "data": {
      "text/plain": [
       "Parameter containing:\n",
       "tensor([[-0.0041,  0.0017, -0.0084,  ..., -0.0129,  0.0076,  0.0010],\n",
       "        [ 0.0193,  0.0150,  0.0112,  ...,  0.0188, -0.0039, -0.0072],\n",
       "        [ 0.0078,  0.0009,  0.0020,  ..., -0.0193, -0.0065,  0.0075],\n",
       "        ...,\n",
       "        [-0.0032,  0.0041,  0.0099,  ...,  0.0020, -0.0143,  0.0124],\n",
       "        [-0.0093, -0.0176, -0.0084,  ...,  0.0220,  0.0209,  0.0094],\n",
       "        [ 0.0059,  0.0135, -0.0110,  ..., -0.0068, -0.0206, -0.0195]],\n",
       "       device='cuda:1', requires_grad=True)"
      ]
     },
     "execution_count": 3,
     "metadata": {},
     "output_type": "execute_result"
    }
   ],
   "source": [
    "pipeline.task.mlp.layers[0].weight"
   ]
  },
  {
   "cell_type": "code",
   "execution_count": 9,
   "metadata": {},
   "outputs": [
    {
     "data": {
      "text/plain": [
       "<All keys matched successfully>"
      ]
     },
     "execution_count": 9,
     "metadata": {},
     "output_type": "execute_result"
    }
   ],
   "source": [
    "\n",
    "\n",
    "pipeline.task.load_state_dict(torch.load('lm-gearnet-pretrained.pth'))"
   ]
  },
  {
   "cell_type": "code",
   "execution_count": 10,
   "metadata": {},
   "outputs": [
    {
     "data": {
      "text/plain": [
       "Parameter containing:\n",
       "tensor([[ 0.0008, -0.0128,  0.0146,  ..., -0.0203, -0.0126, -0.0032],\n",
       "        [ 0.0097,  0.0082,  0.0237,  ...,  0.0163, -0.0094, -0.0042],\n",
       "        [ 0.0118, -0.0025,  0.0105,  ..., -0.0149,  0.0166, -0.0134],\n",
       "        ...,\n",
       "        [ 0.0267,  0.0211, -0.0258,  ...,  0.0162,  0.0131, -0.0113],\n",
       "        [-0.0092, -0.0213, -0.0039,  ..., -0.0019, -0.0080,  0.0047],\n",
       "        [-0.0127,  0.0232, -0.0206,  ..., -0.0158,  0.0208, -0.0110]],\n",
       "       device='cuda:1', requires_grad=True)"
      ]
     },
     "execution_count": 10,
     "metadata": {},
     "output_type": "execute_result"
    }
   ],
   "source": [
    "pipeline.task.mlp.layers[0].weight"
   ]
  },
  {
   "cell_type": "code",
   "execution_count": 11,
   "metadata": {},
   "outputs": [
    {
     "name": "stdout",
     "output_type": "stream",
     "text": [
      "16:26:15   >>>>>>>>>>>>>>>>>>>>>>>>>>>>>>\n",
      "16:26:15   Evaluate on test\n",
      "16:26:16   ------------------------------\n",
      "16:26:16   accuracy: 0.894637\n",
      "16:26:16   mcc: 0.114024\n",
      "16:26:16   micro_auroc: 0.569005\n",
      "16:26:16   precision: 0.186813\n",
      "16:26:16   sensitivity: 0.154545\n",
      "16:26:16   specificity: 0.949831\n"
     ]
    },
    {
     "data": {
      "text/plain": [
       "{'sensitivity': 0.15454545617103577,\n",
       " 'specificity': 0.9498305320739746,\n",
       " 'accuracy': 0.8946372270584106,\n",
       " 'precision': 0.18681319057941437,\n",
       " 'mcc': 0.1140241525976579,\n",
       " 'micro_auroc': 0.5690045952796936}"
      ]
     },
     "execution_count": 11,
     "metadata": {},
     "output_type": "execute_result"
    }
   ],
   "source": [
    "pipeline.evaluate()"
   ]
  },
  {
   "cell_type": "code",
   "execution_count": 12,
   "metadata": {},
   "outputs": [
    {
     "name": "stdout",
     "output_type": "stream",
     "text": [
      "0m2s {'sensitivity': 0.5455, 'specificity': 0.9308, 'accuracy': 0.9041, 'precision': 0.3704, 'mcc': 0.3996, 'micro_auroc': 0.8288, 'valid_mcc': 0.495, 'train_bce': 0.6627, 'valid_bce': 0.2037, 'lr': 0.001}\n",
      "0m2s {'sensitivity': 0.6818, 'specificity': 0.8156, 'accuracy': 0.8063, 'precision': 0.2161, 'mcc': 0.3057, 'micro_auroc': 0.8135, 'valid_mcc': 0.4271, 'train_bce': 0.1571, 'valid_bce': 0.1743, 'lr': 0.001}\n",
      "0m2s {'sensitivity': 0.6727, 'specificity': 0.9756, 'accuracy': 0.9546, 'precision': 0.6727, 'mcc': 0.6483, 'micro_auroc': 0.8903, 'valid_mcc': 0.8019, 'train_bce': 0.1076, 'valid_bce': 0.1269, 'lr': 0.001}\n",
      "0m2s {'sensitivity': 0.6364, 'specificity': 0.9851, 'accuracy': 0.9609, 'precision': 0.7609, 'mcc': 0.6754, 'micro_auroc': 0.9083, 'valid_mcc': 0.8297, 'train_bce': 0.0698, 'valid_bce': 0.1727, 'lr': 0.001}\n",
      "0m2s {'sensitivity': 0.6727, 'specificity': 0.9769, 'accuracy': 0.9558, 'precision': 0.6852, 'mcc': 0.6552, 'micro_auroc': 0.9208, 'valid_mcc': 0.8436, 'train_bce': 0.0522, 'valid_bce': 0.13, 'lr': 0.001}\n",
      "0m2s {'sensitivity': 0.6818, 'specificity': 0.9797, 'accuracy': 0.959, 'precision': 0.7143, 'mcc': 0.6759, 'micro_auroc': 0.9309, 'valid_mcc': 0.864, 'train_bce': 0.0433, 'valid_bce': 0.1117, 'lr': 0.001}\n",
      "0m2s {'sensitivity': 0.6636, 'specificity': 0.9797, 'accuracy': 0.9577, 'precision': 0.7087, 'mcc': 0.6632, 'micro_auroc': 0.923, 'valid_mcc': 0.8004, 'train_bce': 0.0298, 'valid_bce': 0.1462, 'lr': 0.001}\n",
      "0m2s {'sensitivity': 0.7364, 'specificity': 0.9729, 'accuracy': 0.9565, 'precision': 0.6694, 'mcc': 0.6788, 'micro_auroc': 0.9289, 'valid_mcc': 0.81, 'train_bce': 0.0233, 'valid_bce': 0.1094, 'lr': 0.001}\n",
      "0m2s {'sensitivity': 0.7273, 'specificity': 0.9763, 'accuracy': 0.959, 'precision': 0.6957, 'mcc': 0.6892, 'micro_auroc': 0.9285, 'valid_mcc': 0.8338, 'train_bce': 0.0172, 'valid_bce': 0.1095, 'lr': 0.001}\n",
      "0m2s {'sensitivity': 0.7273, 'specificity': 0.979, 'accuracy': 0.9615, 'precision': 0.7207, 'mcc': 0.7033, 'micro_auroc': 0.9281, 'valid_mcc': 0.8671, 'train_bce': 0.0116, 'valid_bce': 0.0658, 'lr': 0.001}\n"
     ]
    },
    {
     "data": {
      "text/plain": [
       "{'sensitivity': 0.7273,\n",
       " 'specificity': 0.979,\n",
       " 'accuracy': 0.9615,\n",
       " 'precision': 0.7207,\n",
       " 'mcc': 0.7033,\n",
       " 'micro_auroc': 0.9281,\n",
       " 'valid_mcc': 0.8671,\n",
       " 'train_bce': 0.0116,\n",
       " 'valid_bce': 0.0658,\n",
       " 'lr': 0.001}"
      ]
     },
     "execution_count": 12,
     "metadata": {},
     "output_type": "execute_result"
    }
   ],
   "source": [
    "res = pipeline.train_until_fit(max_epoch=10, patience=10)\n",
    "res[-1]"
   ]
  },
  {
   "cell_type": "code",
   "execution_count": 8,
   "metadata": {},
   "outputs": [
    {
     "data": {
      "text/plain": [
       "Parameter containing:\n",
       "tensor([[ 0.0031, -0.0186,  0.0125,  ..., -0.0165, -0.0068,  0.0020],\n",
       "        [ 0.0221, -0.0002,  0.0292,  ...,  0.0077,  0.0008,  0.0041],\n",
       "        [ 0.0265, -0.0105,  0.0138,  ..., -0.0185,  0.0273, -0.0029],\n",
       "        ...,\n",
       "        [ 0.0338,  0.0286, -0.0180,  ...,  0.0099,  0.0198, -0.0161],\n",
       "        [-0.0007, -0.0145,  0.0018,  ..., -0.0040, -0.0033,  0.0030],\n",
       "        [ 0.0004,  0.0155, -0.0174,  ..., -0.0223,  0.0318, -0.0025]],\n",
       "       device='cuda:1', requires_grad=True)"
      ]
     },
     "execution_count": 8,
     "metadata": {},
     "output_type": "execute_result"
    }
   ],
   "source": [
    "pipeline.task.mlp.layers[0].weight"
   ]
  }
 ],
 "metadata": {
  "kernelspec": {
   "display_name": "jc",
   "language": "python",
   "name": "python3"
  },
  "language_info": {
   "codemirror_mode": {
    "name": "ipython",
    "version": 3
   },
   "file_extension": ".py",
   "mimetype": "text/x-python",
   "name": "python",
   "nbconvert_exporter": "python",
   "pygments_lexer": "ipython3",
   "version": "3.9.17"
  }
 },
 "nbformat": 4,
 "nbformat_minor": 2
}
