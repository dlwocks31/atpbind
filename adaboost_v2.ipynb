{
 "cells": [
  {
   "cell_type": "code",
   "execution_count": 1,
   "metadata": {},
   "outputs": [
    {
     "name": "stdout",
     "output_type": "stream",
     "text": [
      "load model lm-gearnet, kwargs: {'gpu': 0, 'lm_type': 'esm-t33', 'gearnet_hidden_dim_size': 512, 'gearnet_hidden_dim_count': 4, 'lm_freeze_layer_count': 30}\n",
      "freeze_lm: 30\n",
      "get dataset atpbind3d-minimal\n",
      "Initialize Undersampling: all ones\n",
      "Initialize Weighting: all ones\n",
      "train samples: 4, valid samples: 1, test samples: 5\n",
      "Adam parameter: all\n",
      "use cyclic lr scheduler\n"
     ]
    }
   ],
   "source": [
    "from lib.pipeline import Pipeline\n",
    "gpu = 0\n",
    "CYCLE_SIZE = 10\n",
    "DEBUG = True\n",
    "pipeline = Pipeline(\n",
    "    dataset='atpbind3d-minimal' if DEBUG else 'atpbind3d',\n",
    "    model='lm-gearnet',\n",
    "    gpus=[gpu],\n",
    "    model_kwargs={\n",
    "        'gpu': gpu,\n",
    "        'lm_type': 'esm-t33',\n",
    "        'gearnet_hidden_dim_size': 512,\n",
    "        'gearnet_hidden_dim_count': 4,\n",
    "        'lm_freeze_layer_count': 30,\n",
    "    },\n",
    "    valid_fold_num=0,\n",
    "    batch_size=2,\n",
    "    scheduler='cyclic',\n",
    "    scheduler_kwargs={\n",
    "        'base_lr': 1e-3,\n",
    "        'max_lr': 3e-3,\n",
    "        'step_size_up': CYCLE_SIZE / 2,\n",
    "        'step_size_down': CYCLE_SIZE / 2,\n",
    "        'cycle_momentum': False\n",
    "    }\n",
    ")"
   ]
  },
  {
   "cell_type": "code",
   "execution_count": null,
   "metadata": {},
   "outputs": [],
   "source": [
    "import numpy as np\n",
    "def resiboost_v2_preprocess(pipeline, prev_results, _, prev_weights):\n",
    "    if not prev_results:\n",
    "        return\n",
    "\n",
    "    weights = prev_weights\n",
    "    THRESHOLD = -1.3863 # This is sigmoid^{-1}(0.2)\n",
    "    df_train = prev_results[-1]['df_train']\n",
    "    def from_row(row):\n",
    "        pred_binary = row['pred'] > THRESHOLD\n",
    "        is_correct = bool(row['target']) == pred_binary\n",
    "        protein_index_in_dataset = int(row['protein_index'])\n",
    "        # assume valid fold is consecutive: so that if protein index is larger than first protein index in valid fold, \n",
    "        # we need to add the length of valid fold as an offset\n",
    "        if row['protein_index'] >= pipeline.dataset.valid_fold()[0]:\n",
    "            protein_index_in_dataset += len(pipeline.dataset.valid_fold())\n",
    "        residue_index = int(row['residue_index'])\n",
    "        return (is_correct, protein_index_in_dataset, residue_index)\n",
    "    \n",
    "    # 1. Compute Error of Learner\n",
    "    err = 0\n",
    "    weight_sum = 0\n",
    "    for _, row in df_train.iterrows():\n",
    "        is_correct, protein_index_in_dataset, residue_index = from_row(row)\n",
    "        w = weights[protein_index_in_dataset][residue_index]\n",
    "        \n",
    "        if not is_correct:\n",
    "            err += w\n",
    "        weight_sum += w\n",
    "    \n",
    "    a = 0.5 * np.log((1 - err) / err)\n",
    "    prev_results[-1] = {**prev_results[-1], 'alpha': a}\n",
    "    print(f'Error: {err}, weighted sum: {weight_sum}')\n",
    "    \n",
    "    # 2. Update Weights\n",
    "    for _, row in df_train.iterrows():\n",
    "        is_correct, protein_index_in_dataset, residue_index = from_row(row)\n",
    "        if is_correct:\n",
    "            weights[protein_index_in_dataset][residue_index] *= np.exp(-a)\n",
    "        else:\n",
    "            weights[protein_index_in_dataset][residue_index] *= np.exp(a)\n",
    "    \n",
    "    # 3. Normalize Weights\n",
    "    new_weight_sum = sum(np.sum(weights))\n",
    "    for weight_vec in weights:\n",
    "        weight_vec = weight_vec * weight_sum / new_weight_sum    \n",
    "    \n",
    "    # 4. Apply Weights and Alpha\n",
    "    pipeline.apply_mask_and_weights(masks=None, weights=weights)"
   ]
  }
 ],
 "metadata": {
  "kernelspec": {
   "display_name": "jc",
   "language": "python",
   "name": "python3"
  },
  "language_info": {
   "codemirror_mode": {
    "name": "ipython",
    "version": 3
   },
   "file_extension": ".py",
   "mimetype": "text/x-python",
   "name": "python",
   "nbconvert_exporter": "python",
   "pygments_lexer": "ipython3",
   "version": "3.9.17"
  }
 },
 "nbformat": 4,
 "nbformat_minor": 2
}
