{
 "cells": [
  {
   "cell_type": "code",
   "execution_count": 1,
   "metadata": {},
   "outputs": [
    {
     "name": "stdout",
     "output_type": "stream",
     "text": [
      "get dataset atpbind3d\n",
      "Initialize RUS: None\n",
      "train samples: 302, valid samples: 76, test samples: 41\n",
      "{'sensitivity': 0.3955, 'specificity': 0.9938, 'accuracy': 0.9628, 'precision': 0.7774, 'mcc': 0.5387, 'micro_auroc': 0.9434, 'train_bce': 0.1373, 'valid_bce': 0.0999, 'valid_mcc': 0.5566}\n",
      "{'sensitivity': 0.5072, 'specificity': 0.9927, 'accuracy': 0.9675, 'precision': 0.791, 'mcc': 0.6182, 'micro_auroc': 0.9342, 'train_bce': 0.071, 'valid_bce': 0.0973, 'valid_mcc': 0.589}\n",
      "{'sensitivity': 0.4944, 'specificity': 0.994, 'accuracy': 0.9681, 'precision': 0.8179, 'mcc': 0.6215, 'micro_auroc': 0.9263, 'train_bce': 0.0427, 'valid_bce': 0.1028, 'valid_mcc': 0.6342}\n",
      "{'sensitivity': 0.6077, 'specificity': 0.9883, 'accuracy': 0.9686, 'precision': 0.7398, 'mcc': 0.6544, 'micro_auroc': 0.9388, 'train_bce': 0.0279, 'valid_bce': 0.1198, 'valid_mcc': 0.6373}\n",
      "{'sensitivity': 0.5598, 'specificity': 0.9902, 'accuracy': 0.9679, 'precision': 0.7565, 'mcc': 0.6348, 'micro_auroc': 0.9363, 'train_bce': 0.0176, 'valid_bce': 0.1139, 'valid_mcc': 0.6299}\n",
      "{'sensitivity': 0.5917, 'specificity': 0.99, 'accuracy': 0.9694, 'precision': 0.7634, 'mcc': 0.6567, 'micro_auroc': 0.9331, 'train_bce': 0.015, 'valid_bce': 0.1518, 'valid_mcc': 0.6518}\n",
      "{'sensitivity': 0.6108, 'specificity': 0.9859, 'accuracy': 0.9665, 'precision': 0.7028, 'mcc': 0.6378, 'micro_auroc': 0.9271, 'train_bce': 0.0152, 'valid_bce': 0.1474, 'valid_mcc': 0.6281}\n",
      "{'sensitivity': 0.5167, 'specificity': 0.9935, 'accuracy': 0.9688, 'precision': 0.812, 'mcc': 0.6333, 'micro_auroc': 0.9303, 'train_bce': 0.0089, 'valid_bce': 0.1849, 'valid_mcc': 0.6303}\n",
      "{'sensitivity': 0.5997, 'specificity': 0.9879, 'accuracy': 0.9678, 'precision': 0.7301, 'mcc': 0.6452, 'micro_auroc': 0.9244, 'train_bce': 0.0063, 'valid_bce': 0.2059, 'valid_mcc': 0.6375}\n",
      "{'sensitivity': 0.5614, 'specificity': 0.9914, 'accuracy': 0.9691, 'precision': 0.7805, 'mcc': 0.6468, 'micro_auroc': 0.9309, 'train_bce': 0.0055, 'valid_bce': 0.2156, 'valid_mcc': 0.6575}\n",
      "{'sensitivity': 0.5965, 'specificity': 0.9889, 'accuracy': 0.9686, 'precision': 0.7465, 'mcc': 0.6514, 'micro_auroc': 0.9243, 'train_bce': 0.0041, 'valid_bce': 0.2037, 'valid_mcc': 0.6405}\n",
      "{'sensitivity': 0.5088, 'specificity': 0.9922, 'accuracy': 0.9671, 'precision': 0.78, 'mcc': 0.6144, 'micro_auroc': 0.9313, 'train_bce': 0.0052, 'valid_bce': 0.1854, 'valid_mcc': 0.6412}\n",
      "{'sensitivity': 0.362, 'specificity': 0.9972, 'accuracy': 0.9643, 'precision': 0.8764, 'mcc': 0.5502, 'micro_auroc': 0.9237, 'train_bce': 0.0088, 'valid_bce': 0.2212, 'valid_mcc': 0.6023}\n"
     ]
    },
    {
     "ename": "KeyboardInterrupt",
     "evalue": "",
     "output_type": "error",
     "traceback": [
      "\u001b[0;31m---------------------------------------------------------------------------\u001b[0m",
      "\u001b[0;31mKeyboardInterrupt\u001b[0m                         Traceback (most recent call last)",
      "Cell \u001b[0;32mIn[1], line 14\u001b[0m\n\u001b[1;32m      2\u001b[0m \u001b[39mfrom\u001b[39;00m \u001b[39mlib\u001b[39;00m\u001b[39m.\u001b[39;00m\u001b[39mpipeline\u001b[39;00m \u001b[39mimport\u001b[39;00m Pipeline\n\u001b[1;32m      3\u001b[0m pipeline \u001b[39m=\u001b[39m Pipeline(\n\u001b[1;32m      4\u001b[0m     model\u001b[39m=\u001b[39m\u001b[39m'\u001b[39m\u001b[39mesm\u001b[39m\u001b[39m'\u001b[39m,\n\u001b[1;32m      5\u001b[0m     dataset\u001b[39m=\u001b[39m\u001b[39m'\u001b[39m\u001b[39matpbind3d\u001b[39m\u001b[39m'\u001b[39m,\n\u001b[0;32m   (...)\u001b[0m\n\u001b[1;32m     11\u001b[0m     batch_size\u001b[39m=\u001b[39m\u001b[39m2\u001b[39m,\n\u001b[1;32m     12\u001b[0m )\n\u001b[0;32m---> 14\u001b[0m pipeline\u001b[39m.\u001b[39;49mtrain_until_fit(patience\u001b[39m=\u001b[39;49m\u001b[39m10\u001b[39;49m)\n",
      "File \u001b[0;32m~/atpbind/lib/pipeline.py:172\u001b[0m, in \u001b[0;36mPipeline.train_until_fit\u001b[0;34m(self, patience, early_stop_metric, return_state_dict)\u001b[0m\n\u001b[1;32m    170\u001b[0m cur_result[\u001b[39m'\u001b[39m\u001b[39mtrain_bce\u001b[39m\u001b[39m'\u001b[39m] \u001b[39m=\u001b[39m \u001b[39mself\u001b[39m\u001b[39m.\u001b[39mget_last_bce()\n\u001b[1;32m    171\u001b[0m cur_result[\u001b[39m'\u001b[39m\u001b[39mvalid_bce\u001b[39m\u001b[39m'\u001b[39m] \u001b[39m=\u001b[39m \u001b[39mself\u001b[39m\u001b[39m.\u001b[39mcalculate_valid_loss()\n\u001b[0;32m--> 172\u001b[0m cur_result[\u001b[39m'\u001b[39m\u001b[39mvalid_mcc\u001b[39m\u001b[39m'\u001b[39m] \u001b[39m=\u001b[39m \u001b[39mself\u001b[39;49m\u001b[39m.\u001b[39;49mcalculate_best_mcc_and_threshold(\n\u001b[1;32m    173\u001b[0m     threshold_set\u001b[39m=\u001b[39;49m\u001b[39m'\u001b[39;49m\u001b[39mvalid\u001b[39;49m\u001b[39m'\u001b[39;49m\n\u001b[1;32m    174\u001b[0m )[\u001b[39m'\u001b[39m\u001b[39mbest_mcc\u001b[39m\u001b[39m'\u001b[39m]\n\u001b[1;32m    175\u001b[0m cur_result \u001b[39m=\u001b[39m round_dict(cur_result, \u001b[39m4\u001b[39m)\n\u001b[1;32m    176\u001b[0m train_record\u001b[39m.\u001b[39mappend(cur_result)\n",
      "File \u001b[0;32m~/atpbind/lib/pipeline.py:229\u001b[0m, in \u001b[0;36mPipeline.calculate_best_mcc_and_threshold\u001b[0;34m(self, threshold_set)\u001b[0m\n\u001b[1;32m    227\u001b[0m \u001b[39mwith\u001b[39;00m torch\u001b[39m.\u001b[39mno_grad():\n\u001b[1;32m    228\u001b[0m     \u001b[39mfor\u001b[39;00m batch \u001b[39min\u001b[39;00m dataloader:\n\u001b[0;32m--> 229\u001b[0m         batch \u001b[39m=\u001b[39m utils\u001b[39m.\u001b[39;49mcuda(batch, device\u001b[39m=\u001b[39;49mtorch\u001b[39m.\u001b[39;49mdevice(\u001b[39mf\u001b[39;49m\u001b[39m'\u001b[39;49m\u001b[39mcuda:\u001b[39;49m\u001b[39m{\u001b[39;49;00m\u001b[39mself\u001b[39;49m\u001b[39m.\u001b[39;49mgpus[\u001b[39m0\u001b[39;49m]\u001b[39m}\u001b[39;49;00m\u001b[39m'\u001b[39;49m))\n\u001b[1;32m    230\u001b[0m         pred, target \u001b[39m=\u001b[39m \u001b[39mself\u001b[39m\u001b[39m.\u001b[39mtask\u001b[39m.\u001b[39mpredict_and_target(batch)\n\u001b[1;32m    231\u001b[0m         preds\u001b[39m.\u001b[39mappend(pred)\n",
      "File \u001b[0;32m~/miniconda3/envs/jc/lib/python3.9/site-packages/torchdrug/utils/torch.py:89\u001b[0m, in \u001b[0;36mcuda\u001b[0;34m(obj, *args, **kwargs)\u001b[0m\n\u001b[1;32m     87\u001b[0m     \u001b[39mreturn\u001b[39;00m obj\u001b[39m.\u001b[39mcuda(\u001b[39m*\u001b[39margs, \u001b[39m*\u001b[39m\u001b[39m*\u001b[39mkwargs)\n\u001b[1;32m     88\u001b[0m \u001b[39melif\u001b[39;00m \u001b[39misinstance\u001b[39m(obj, Mapping):\n\u001b[0;32m---> 89\u001b[0m     \u001b[39mreturn\u001b[39;00m \u001b[39mtype\u001b[39m(obj)({k: cuda(v, \u001b[39m*\u001b[39margs, \u001b[39m*\u001b[39m\u001b[39m*\u001b[39mkwargs) \u001b[39mfor\u001b[39;00m k, v \u001b[39min\u001b[39;00m obj\u001b[39m.\u001b[39mitems()})\n\u001b[1;32m     90\u001b[0m \u001b[39melif\u001b[39;00m \u001b[39misinstance\u001b[39m(obj, Sequence):\n\u001b[1;32m     91\u001b[0m     \u001b[39mreturn\u001b[39;00m \u001b[39mtype\u001b[39m(obj)(cuda(x, \u001b[39m*\u001b[39margs, \u001b[39m*\u001b[39m\u001b[39m*\u001b[39mkwargs) \u001b[39mfor\u001b[39;00m x \u001b[39min\u001b[39;00m obj)\n",
      "File \u001b[0;32m~/miniconda3/envs/jc/lib/python3.9/site-packages/torchdrug/utils/torch.py:89\u001b[0m, in \u001b[0;36m<dictcomp>\u001b[0;34m(.0)\u001b[0m\n\u001b[1;32m     87\u001b[0m     \u001b[39mreturn\u001b[39;00m obj\u001b[39m.\u001b[39mcuda(\u001b[39m*\u001b[39margs, \u001b[39m*\u001b[39m\u001b[39m*\u001b[39mkwargs)\n\u001b[1;32m     88\u001b[0m \u001b[39melif\u001b[39;00m \u001b[39misinstance\u001b[39m(obj, Mapping):\n\u001b[0;32m---> 89\u001b[0m     \u001b[39mreturn\u001b[39;00m \u001b[39mtype\u001b[39m(obj)({k: cuda(v, \u001b[39m*\u001b[39;49margs, \u001b[39m*\u001b[39;49m\u001b[39m*\u001b[39;49mkwargs) \u001b[39mfor\u001b[39;00m k, v \u001b[39min\u001b[39;00m obj\u001b[39m.\u001b[39mitems()})\n\u001b[1;32m     90\u001b[0m \u001b[39melif\u001b[39;00m \u001b[39misinstance\u001b[39m(obj, Sequence):\n\u001b[1;32m     91\u001b[0m     \u001b[39mreturn\u001b[39;00m \u001b[39mtype\u001b[39m(obj)(cuda(x, \u001b[39m*\u001b[39margs, \u001b[39m*\u001b[39m\u001b[39m*\u001b[39mkwargs) \u001b[39mfor\u001b[39;00m x \u001b[39min\u001b[39;00m obj)\n",
      "File \u001b[0;32m~/miniconda3/envs/jc/lib/python3.9/site-packages/torchdrug/utils/torch.py:87\u001b[0m, in \u001b[0;36mcuda\u001b[0;34m(obj, *args, **kwargs)\u001b[0m\n\u001b[1;32m     83\u001b[0m \u001b[39m\u001b[39m\u001b[39m\"\"\"\u001b[39;00m\n\u001b[1;32m     84\u001b[0m \u001b[39mTransfer any nested conatiner of tensors to CUDA.\u001b[39;00m\n\u001b[1;32m     85\u001b[0m \u001b[39m\"\"\"\u001b[39;00m\n\u001b[1;32m     86\u001b[0m \u001b[39mif\u001b[39;00m \u001b[39mhasattr\u001b[39m(obj, \u001b[39m\"\u001b[39m\u001b[39mcuda\u001b[39m\u001b[39m\"\u001b[39m):\n\u001b[0;32m---> 87\u001b[0m     \u001b[39mreturn\u001b[39;00m obj\u001b[39m.\u001b[39;49mcuda(\u001b[39m*\u001b[39;49margs, \u001b[39m*\u001b[39;49m\u001b[39m*\u001b[39;49mkwargs)\n\u001b[1;32m     88\u001b[0m \u001b[39melif\u001b[39;00m \u001b[39misinstance\u001b[39m(obj, Mapping):\n\u001b[1;32m     89\u001b[0m     \u001b[39mreturn\u001b[39;00m \u001b[39mtype\u001b[39m(obj)({k: cuda(v, \u001b[39m*\u001b[39margs, \u001b[39m*\u001b[39m\u001b[39m*\u001b[39mkwargs) \u001b[39mfor\u001b[39;00m k, v \u001b[39min\u001b[39;00m obj\u001b[39m.\u001b[39mitems()})\n",
      "File \u001b[0;32m~/miniconda3/envs/jc/lib/python3.9/site-packages/torchdrug/data/protein.py:1318\u001b[0m, in \u001b[0;36mPackedProtein.cuda\u001b[0;34m(self, *args, **kwargs)\u001b[0m\n\u001b[1;32m   1313\u001b[0m     \u001b[39mreturn\u001b[39;00m \u001b[39mself\u001b[39m\n\u001b[1;32m   1314\u001b[0m \u001b[39melse\u001b[39;00m:\n\u001b[1;32m   1315\u001b[0m     \u001b[39mreturn\u001b[39;00m \u001b[39mtype\u001b[39m(\u001b[39mself\u001b[39m)(edge_list, edge_weight\u001b[39m=\u001b[39m\u001b[39mself\u001b[39m\u001b[39m.\u001b[39medge_weight,\n\u001b[1;32m   1316\u001b[0m                       num_nodes\u001b[39m=\u001b[39m\u001b[39mself\u001b[39m\u001b[39m.\u001b[39mnum_nodes, num_edges\u001b[39m=\u001b[39m\u001b[39mself\u001b[39m\u001b[39m.\u001b[39mnum_edges, num_residues\u001b[39m=\u001b[39m\u001b[39mself\u001b[39m\u001b[39m.\u001b[39mnum_residues,\n\u001b[1;32m   1317\u001b[0m                       view\u001b[39m=\u001b[39m\u001b[39mself\u001b[39m\u001b[39m.\u001b[39mview, num_relation\u001b[39m=\u001b[39m\u001b[39mself\u001b[39m\u001b[39m.\u001b[39mnum_relation, offsets\u001b[39m=\u001b[39m\u001b[39mself\u001b[39m\u001b[39m.\u001b[39m_offsets,\n\u001b[0;32m-> 1318\u001b[0m                       meta_dict\u001b[39m=\u001b[39m\u001b[39mself\u001b[39m\u001b[39m.\u001b[39mmeta_dict, \u001b[39m*\u001b[39m\u001b[39m*\u001b[39mutils\u001b[39m.\u001b[39;49mcuda(\u001b[39mself\u001b[39;49m\u001b[39m.\u001b[39;49mdata_dict, \u001b[39m*\u001b[39;49margs, \u001b[39m*\u001b[39;49m\u001b[39m*\u001b[39;49mkwargs))\n",
      "File \u001b[0;32m~/miniconda3/envs/jc/lib/python3.9/site-packages/torchdrug/utils/torch.py:89\u001b[0m, in \u001b[0;36mcuda\u001b[0;34m(obj, *args, **kwargs)\u001b[0m\n\u001b[1;32m     87\u001b[0m     \u001b[39mreturn\u001b[39;00m obj\u001b[39m.\u001b[39mcuda(\u001b[39m*\u001b[39margs, \u001b[39m*\u001b[39m\u001b[39m*\u001b[39mkwargs)\n\u001b[1;32m     88\u001b[0m \u001b[39melif\u001b[39;00m \u001b[39misinstance\u001b[39m(obj, Mapping):\n\u001b[0;32m---> 89\u001b[0m     \u001b[39mreturn\u001b[39;00m \u001b[39mtype\u001b[39m(obj)({k: cuda(v, \u001b[39m*\u001b[39margs, \u001b[39m*\u001b[39m\u001b[39m*\u001b[39mkwargs) \u001b[39mfor\u001b[39;00m k, v \u001b[39min\u001b[39;00m obj\u001b[39m.\u001b[39mitems()})\n\u001b[1;32m     90\u001b[0m \u001b[39melif\u001b[39;00m \u001b[39misinstance\u001b[39m(obj, Sequence):\n\u001b[1;32m     91\u001b[0m     \u001b[39mreturn\u001b[39;00m \u001b[39mtype\u001b[39m(obj)(cuda(x, \u001b[39m*\u001b[39margs, \u001b[39m*\u001b[39m\u001b[39m*\u001b[39mkwargs) \u001b[39mfor\u001b[39;00m x \u001b[39min\u001b[39;00m obj)\n",
      "File \u001b[0;32m~/miniconda3/envs/jc/lib/python3.9/site-packages/torchdrug/utils/torch.py:89\u001b[0m, in \u001b[0;36m<dictcomp>\u001b[0;34m(.0)\u001b[0m\n\u001b[1;32m     87\u001b[0m     \u001b[39mreturn\u001b[39;00m obj\u001b[39m.\u001b[39mcuda(\u001b[39m*\u001b[39margs, \u001b[39m*\u001b[39m\u001b[39m*\u001b[39mkwargs)\n\u001b[1;32m     88\u001b[0m \u001b[39melif\u001b[39;00m \u001b[39misinstance\u001b[39m(obj, Mapping):\n\u001b[0;32m---> 89\u001b[0m     \u001b[39mreturn\u001b[39;00m \u001b[39mtype\u001b[39m(obj)({k: cuda(v, \u001b[39m*\u001b[39;49margs, \u001b[39m*\u001b[39;49m\u001b[39m*\u001b[39;49mkwargs) \u001b[39mfor\u001b[39;00m k, v \u001b[39min\u001b[39;00m obj\u001b[39m.\u001b[39mitems()})\n\u001b[1;32m     90\u001b[0m \u001b[39melif\u001b[39;00m \u001b[39misinstance\u001b[39m(obj, Sequence):\n\u001b[1;32m     91\u001b[0m     \u001b[39mreturn\u001b[39;00m \u001b[39mtype\u001b[39m(obj)(cuda(x, \u001b[39m*\u001b[39margs, \u001b[39m*\u001b[39m\u001b[39m*\u001b[39mkwargs) \u001b[39mfor\u001b[39;00m x \u001b[39min\u001b[39;00m obj)\n",
      "File \u001b[0;32m~/miniconda3/envs/jc/lib/python3.9/site-packages/torchdrug/utils/torch.py:87\u001b[0m, in \u001b[0;36mcuda\u001b[0;34m(obj, *args, **kwargs)\u001b[0m\n\u001b[1;32m     83\u001b[0m \u001b[39m\u001b[39m\u001b[39m\"\"\"\u001b[39;00m\n\u001b[1;32m     84\u001b[0m \u001b[39mTransfer any nested conatiner of tensors to CUDA.\u001b[39;00m\n\u001b[1;32m     85\u001b[0m \u001b[39m\"\"\"\u001b[39;00m\n\u001b[1;32m     86\u001b[0m \u001b[39mif\u001b[39;00m \u001b[39mhasattr\u001b[39m(obj, \u001b[39m\"\u001b[39m\u001b[39mcuda\u001b[39m\u001b[39m\"\u001b[39m):\n\u001b[0;32m---> 87\u001b[0m     \u001b[39mreturn\u001b[39;00m obj\u001b[39m.\u001b[39;49mcuda(\u001b[39m*\u001b[39;49margs, \u001b[39m*\u001b[39;49m\u001b[39m*\u001b[39;49mkwargs)\n\u001b[1;32m     88\u001b[0m \u001b[39melif\u001b[39;00m \u001b[39misinstance\u001b[39m(obj, Mapping):\n\u001b[1;32m     89\u001b[0m     \u001b[39mreturn\u001b[39;00m \u001b[39mtype\u001b[39m(obj)({k: cuda(v, \u001b[39m*\u001b[39margs, \u001b[39m*\u001b[39m\u001b[39m*\u001b[39mkwargs) \u001b[39mfor\u001b[39;00m k, v \u001b[39min\u001b[39;00m obj\u001b[39m.\u001b[39mitems()})\n",
      "\u001b[0;31mKeyboardInterrupt\u001b[0m: "
     ]
    }
   ],
   "source": [
    "GPU = 0\n",
    "from lib.pipeline import Pipeline\n",
    "pipeline = Pipeline(\n",
    "    model='esm',\n",
    "    dataset='atpbind3d',\n",
    "    gpus=[GPU],\n",
    "    model_kwargs={\n",
    "        'freeze_esm': False,\n",
    "        'freeze_layer_count': 31,\n",
    "    },\n",
    "    batch_size=2,\n",
    ")\n",
    "\n",
    "pipeline.train_until_fit(patience=10)"
   ]
  },
  {
   "cell_type": "markdown",
   "metadata": {},
   "source": []
  }
 ],
 "metadata": {
  "kernelspec": {
   "display_name": "jc",
   "language": "python",
   "name": "python3"
  },
  "language_info": {
   "codemirror_mode": {
    "name": "ipython",
    "version": 3
   },
   "file_extension": ".py",
   "mimetype": "text/x-python",
   "name": "python",
   "nbconvert_exporter": "python",
   "pygments_lexer": "ipython3",
   "version": "3.9.17"
  },
  "orig_nbformat": 4
 },
 "nbformat": 4,
 "nbformat_minor": 2
}
