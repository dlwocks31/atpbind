{
 "cells": [
  {
   "cell_type": "code",
   "execution_count": 1,
   "metadata": {},
   "outputs": [
    {
     "data": {
      "application/vnd.jupyter.widget-view+json": {
       "model_id": "d03234ae4d2e4125b64ec47abb04d01f",
       "version_major": 2,
       "version_minor": 0
      },
      "text/plain": [
       "Loading checkpoint shards:   0%|          | 0/2 [00:00<?, ?it/s]"
      ]
     },
     "metadata": {},
     "output_type": "display_data"
    },
    {
     "name": "stdout",
     "output_type": "stream",
     "text": [
      "get dataset atpbind3d\n",
      "Initialize RUS: None\n",
      "train samples: 302, valid samples: 76, test samples: 41\n",
      "{'sensitivity': 0.2137, 'specificity': 0.9985, 'accuracy': 0.9579, 'precision': 0.8874, 'mcc': 0.4238, 'micro_auroc': 0.9448, 'train_bce': 0.151, 'valid_bce': 0.1096, 'valid_mcc': 0.5521}\n",
      "{'sensitivity': 0.5789, 'specificity': 0.9891, 'accuracy': 0.9679, 'precision': 0.7439, 'mcc': 0.64, 'micro_auroc': 0.9461, 'train_bce': 0.0537, 'valid_bce': 0.0971, 'valid_mcc': 0.6379}\n",
      "{'sensitivity': 0.555, 'specificity': 0.9889, 'accuracy': 0.9665, 'precision': 0.7326, 'mcc': 0.6209, 'micro_auroc': 0.9396, 'train_bce': 0.0206, 'valid_bce': 0.1189, 'valid_mcc': 0.6067}\n",
      "{'sensitivity': 0.4498, 'specificity': 0.9949, 'accuracy': 0.9666, 'precision': 0.827, 'mcc': 0.5955, 'micro_auroc': 0.9325, 'train_bce': 0.0103, 'valid_bce': 0.2036, 'valid_mcc': 0.6027}\n",
      "{'sensitivity': 0.5024, 'specificity': 0.9936, 'accuracy': 0.9681, 'precision': 0.8098, 'mcc': 0.6232, 'micro_auroc': 0.9434, 'train_bce': 0.0072, 'valid_bce': 0.1862, 'valid_mcc': 0.6256}\n",
      "{'sensitivity': 0.3892, 'specificity': 0.9929, 'accuracy': 0.9616, 'precision': 0.7485, 'mcc': 0.523, 'micro_auroc': 0.895, 'train_bce': 0.0076, 'valid_bce': 0.2215, 'valid_mcc': 0.5507}\n",
      "{'sensitivity': 0.5183, 'specificity': 0.9932, 'accuracy': 0.9686, 'precision': 0.8065, 'mcc': 0.6319, 'micro_auroc': 0.9327, 'train_bce': 0.0053, 'valid_bce': 0.1507, 'valid_mcc': 0.6201}\n",
      "{'sensitivity': 0.5486, 'specificity': 0.9918, 'accuracy': 0.9689, 'precision': 0.7854, 'mcc': 0.6414, 'micro_auroc': 0.936, 'train_bce': 0.0049, 'valid_bce': 0.1622, 'valid_mcc': 0.6246}\n",
      "{'sensitivity': 0.4705, 'specificity': 0.9936, 'accuracy': 0.9665, 'precision': 0.7995, 'mcc': 0.5982, 'micro_auroc': 0.9346, 'train_bce': 0.0033, 'valid_bce': 0.1747, 'valid_mcc': 0.6135}\n",
      "{'sensitivity': 0.4019, 'specificity': 0.9962, 'accuracy': 0.9654, 'precision': 0.8514, 'mcc': 0.5712, 'micro_auroc': 0.9422, 'train_bce': 0.001, 'valid_bce': 0.2195, 'valid_mcc': 0.6236}\n"
     ]
    },
    {
     "ename": "KeyboardInterrupt",
     "evalue": "",
     "output_type": "error",
     "traceback": [
      "\u001b[0;31m---------------------------------------------------------------------------\u001b[0m",
      "\u001b[0;31mKeyboardInterrupt\u001b[0m                         Traceback (most recent call last)",
      "Cell \u001b[0;32mIn[1], line 15\u001b[0m\n\u001b[1;32m      2\u001b[0m \u001b[39mfrom\u001b[39;00m \u001b[39mlib\u001b[39;00m\u001b[39m.\u001b[39;00m\u001b[39mpipeline\u001b[39;00m \u001b[39mimport\u001b[39;00m Pipeline\n\u001b[1;32m      3\u001b[0m pipeline \u001b[39m=\u001b[39m Pipeline(\n\u001b[1;32m      4\u001b[0m     model\u001b[39m=\u001b[39m\u001b[39m'\u001b[39m\u001b[39mesm-t36\u001b[39m\u001b[39m'\u001b[39m,\n\u001b[1;32m      5\u001b[0m     dataset\u001b[39m=\u001b[39m\u001b[39m'\u001b[39m\u001b[39matpbind3d\u001b[39m\u001b[39m'\u001b[39m,\n\u001b[0;32m   (...)\u001b[0m\n\u001b[1;32m     12\u001b[0m     batch_size\u001b[39m=\u001b[39m\u001b[39m8\u001b[39m,\n\u001b[1;32m     13\u001b[0m )\n\u001b[0;32m---> 15\u001b[0m pipeline\u001b[39m.\u001b[39;49mtrain_until_fit(patience\u001b[39m=\u001b[39;49m\u001b[39m10\u001b[39;49m)\n",
      "File \u001b[0;32m~/atpbind/lib/pipeline.py:168\u001b[0m, in \u001b[0;36mPipeline.train_until_fit\u001b[0;34m(self, patience, early_stop_metric, return_state_dict)\u001b[0m\n\u001b[1;32m    166\u001b[0m cm \u001b[39m=\u001b[39m contextlib\u001b[39m.\u001b[39mnullcontext() \u001b[39mif\u001b[39;00m \u001b[39mself\u001b[39m\u001b[39m.\u001b[39mverbose \u001b[39melse\u001b[39;00m DisableLogger()\n\u001b[1;32m    167\u001b[0m \u001b[39mwith\u001b[39;00m cm:\n\u001b[0;32m--> 168\u001b[0m     \u001b[39mself\u001b[39;49m\u001b[39m.\u001b[39;49mtrain(num_epoch\u001b[39m=\u001b[39;49m\u001b[39m1\u001b[39;49m)\n\u001b[1;32m    169\u001b[0m     cur_result \u001b[39m=\u001b[39m \u001b[39mself\u001b[39m\u001b[39m.\u001b[39mevaluate()\n\u001b[1;32m    170\u001b[0m     cur_result[\u001b[39m'\u001b[39m\u001b[39mtrain_bce\u001b[39m\u001b[39m'\u001b[39m] \u001b[39m=\u001b[39m \u001b[39mself\u001b[39m\u001b[39m.\u001b[39mget_last_bce()\n",
      "File \u001b[0;32m~/atpbind/lib/pipeline.py:155\u001b[0m, in \u001b[0;36mPipeline.train\u001b[0;34m(self, num_epoch)\u001b[0m\n\u001b[1;32m    154\u001b[0m \u001b[39mdef\u001b[39;00m \u001b[39mtrain\u001b[39m(\u001b[39mself\u001b[39m, num_epoch):\n\u001b[0;32m--> 155\u001b[0m     \u001b[39mreturn\u001b[39;00m \u001b[39mself\u001b[39;49m\u001b[39m.\u001b[39;49msolver\u001b[39m.\u001b[39;49mtrain(num_epoch\u001b[39m=\u001b[39;49mnum_epoch)\n",
      "File \u001b[0;32m~/miniconda3/envs/jc/lib/python3.9/site-packages/torchdrug/core/engine.py:170\u001b[0m, in \u001b[0;36mEngine.train\u001b[0;34m(self, num_epoch, batch_per_epoch)\u001b[0m\n\u001b[1;32m    168\u001b[0m \u001b[39mif\u001b[39;00m \u001b[39mself\u001b[39m\u001b[39m.\u001b[39mworld_size \u001b[39m>\u001b[39m \u001b[39m1\u001b[39m:\n\u001b[1;32m    169\u001b[0m     metric \u001b[39m=\u001b[39m comm\u001b[39m.\u001b[39mreduce(metric, op\u001b[39m=\u001b[39m\u001b[39m\"\u001b[39m\u001b[39mmean\u001b[39m\u001b[39m\"\u001b[39m)\n\u001b[0;32m--> 170\u001b[0m \u001b[39mself\u001b[39;49m\u001b[39m.\u001b[39;49mmeter\u001b[39m.\u001b[39;49mupdate(metric)\n\u001b[1;32m    172\u001b[0m metrics \u001b[39m=\u001b[39m []\n\u001b[1;32m    173\u001b[0m start_id \u001b[39m=\u001b[39m batch_id \u001b[39m+\u001b[39m \u001b[39m1\u001b[39m\n",
      "File \u001b[0;32m~/miniconda3/envs/jc/lib/python3.9/site-packages/torchdrug/core/meter.py:76\u001b[0m, in \u001b[0;36mMeter.update\u001b[0;34m(self, record)\u001b[0m\n\u001b[1;32m     74\u001b[0m \u001b[39mfor\u001b[39;00m k, v \u001b[39min\u001b[39;00m record\u001b[39m.\u001b[39mitems():\n\u001b[1;32m     75\u001b[0m     \u001b[39mif\u001b[39;00m \u001b[39misinstance\u001b[39m(v, torch\u001b[39m.\u001b[39mTensor):\n\u001b[0;32m---> 76\u001b[0m         v \u001b[39m=\u001b[39m v\u001b[39m.\u001b[39;49mitem()\n\u001b[1;32m     77\u001b[0m     \u001b[39mself\u001b[39m\u001b[39m.\u001b[39mrecords[k]\u001b[39m.\u001b[39mappend(v)\n",
      "\u001b[0;31mKeyboardInterrupt\u001b[0m: "
     ]
    }
   ],
   "source": [
    "GPU = 1\n",
    "from lib.pipeline import Pipeline\n",
    "pipeline = Pipeline(\n",
    "    model='esm-t33',\n",
    "    dataset='atpbind3d',\n",
    "    gpus=[GPU],\n",
    "    model_kwargs={\n",
    "        'gpu': GPU,\n",
    "        'freeze_esm': False,\n",
    "        'freeze_layer_count': 35,\n",
    "    },\n",
    "    batch_size=8,\n",
    ")\n",
    "\n",
    "pipeline.train_until_fit(patience=10)"
   ]
  }
 ],
 "metadata": {
  "kernelspec": {
   "display_name": "jc",
   "language": "python",
   "name": "python3"
  },
  "language_info": {
   "codemirror_mode": {
    "name": "ipython",
    "version": 3
   },
   "file_extension": ".py",
   "mimetype": "text/x-python",
   "name": "python",
   "nbconvert_exporter": "python",
   "pygments_lexer": "ipython3",
   "version": "3.9.17"
  },
  "orig_nbformat": 4
 },
 "nbformat": 4,
 "nbformat_minor": 2
}
