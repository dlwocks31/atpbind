{
 "cells": [
  {
   "cell_type": "code",
   "execution_count": 1,
   "metadata": {},
   "outputs": [
    {
     "data": {
      "application/vnd.jupyter.widget-view+json": {
       "model_id": "20b645945bcc43c19b8e09f690bd3db0",
       "version_major": 2,
       "version_minor": 0
      },
      "text/plain": [
       "Loading checkpoint shards:   0%|          | 0/2 [00:00<?, ?it/s]"
      ]
     },
     "metadata": {},
     "output_type": "display_data"
    },
    {
     "name": "stdout",
     "output_type": "stream",
     "text": [
      "get dataset atpbind3d\n",
      "Initialize RUS: None\n",
      "train samples: 302, valid samples: 76, test samples: 41\n",
      "{'sensitivity': 0.3764, 'specificity': 0.9951, 'accuracy': 0.9631, 'precision': 0.8082, 'mcc': 0.5366, 'micro_auroc': 0.9508, 'train_bce': 0.1483, 'valid_bce': 0.096, 'valid_mcc': 0.5848}\n",
      "{'sensitivity': 0.5455, 'specificity': 0.9911, 'accuracy': 0.968, 'precision': 0.7703, 'mcc': 0.6326, 'micro_auroc': 0.9429, 'train_bce': 0.0507, 'valid_bce': 0.1051, 'valid_mcc': 0.6168}\n"
     ]
    }
   ],
   "source": [
    "GPU = 1\n",
    "from lib.pipeline import Pipeline\n",
    "pipeline = Pipeline(\n",
    "    model='esm-t36',\n",
    "    dataset='atpbind3d',\n",
    "    gpus=[GPU],\n",
    "    model_kwargs={\n",
    "        'gpu': GPU,\n",
    "        'freeze_esm': False,\n",
    "        'freeze_layer_count': 34,\n",
    "    },\n",
    "    batch_size=8,\n",
    ")\n",
    "\n",
    "pipeline.train_until_fit(patience=10)"
   ]
  }
 ],
 "metadata": {
  "kernelspec": {
   "display_name": "jc",
   "language": "python",
   "name": "python3"
  },
  "language_info": {
   "codemirror_mode": {
    "name": "ipython",
    "version": 3
   },
   "file_extension": ".py",
   "mimetype": "text/x-python",
   "name": "python",
   "nbconvert_exporter": "python",
   "pygments_lexer": "ipython3",
   "version": "3.9.17"
  },
  "orig_nbformat": 4
 },
 "nbformat": 4,
 "nbformat_minor": 2
}
