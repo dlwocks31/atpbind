{
 "cells": [
  {
   "cell_type": "code",
   "execution_count": 3,
   "metadata": {},
   "outputs": [
    {
     "data": {
      "text/plain": [
       "[{'micro_auroc': 0.8953720927238464,\n",
       "  'mcc': 0.44206378664167173,\n",
       "  'accuracy': 0.9509333968162537,\n",
       "  'precision': 0.5344467759132385,\n",
       "  'sensitivity': 0.4082934558391571,\n",
       "  'specificity': 0.9805732369422913,\n",
       "  'train_bce': 0.17636553452096201,\n",
       "  'valid_bce': 0.11261173424177937},\n",
       " {'micro_auroc': 0.9135297536849976,\n",
       "  'mcc': 0.500074689291626,\n",
       "  'accuracy': 0.9550635814666748,\n",
       "  'precision': 0.5818540453910828,\n",
       "  'sensitivity': 0.47049441933631897,\n",
       "  'specificity': 0.9815315008163452,\n",
       "  'train_bce': 0.11392486992884766,\n",
       "  'valid_bce': 0.10458015725903567},\n",
       " {'micro_auroc': 0.8879801630973816,\n",
       "  'mcc': 0.47168877562707123,\n",
       "  'accuracy': 0.9565504789352417,\n",
       "  'precision': 0.6332454085350037,\n",
       "  'sensitivity': 0.38277512788772583,\n",
       "  'specificity': 0.9878909587860107,\n",
       "  'train_bce': 0.09159133913503452,\n",
       "  'valid_bce': 0.10648606872806947}]"
      ]
     },
     "execution_count": 3,
     "metadata": {},
     "output_type": "execute_result"
    }
   ],
   "source": [
    "GPU = 0\n",
    "from lib.pipeline import Pipeline\n",
    "pipeline = Pipeline(\n",
    "    model='bert',\n",
    "    dataset='atpbind',\n",
    "    gpus=[GPU],\n",
    "    model_kwargs={\n",
    "        'freeze_bert': False,\n",
    "        'freeze_layer_count': 29,\n",
    "    },\n",
    "    batch_size=1,\n",
    ")\n",
    "\n",
    "pipeline.train_until_fit()"
   ]
  }
 ],
 "metadata": {
  "kernelspec": {
   "display_name": "jc",
   "language": "python",
   "name": "python3"
  },
  "language_info": {
   "codemirror_mode": {
    "name": "ipython",
    "version": 3
   },
   "file_extension": ".py",
   "mimetype": "text/x-python",
   "name": "python",
   "nbconvert_exporter": "python",
   "pygments_lexer": "ipython3",
   "version": "3.9.17"
  },
  "orig_nbformat": 4
 },
 "nbformat": 4,
 "nbformat_minor": 2
}
