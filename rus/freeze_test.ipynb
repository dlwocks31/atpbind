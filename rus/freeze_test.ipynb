{
 "cells": [
  {
   "cell_type": "code",
   "execution_count": 1,
   "metadata": {},
   "outputs": [
    {
     "name": "stdout",
     "output_type": "stream",
     "text": [
      "get dataset atpbind3d\n",
      "Split num:  [337, 41, 41]\n",
      "train samples: 337, valid samples: 41, test samples: 41\n"
     ]
    }
   ],
   "source": [
    "import sys, os\n",
    "sys.path.insert(0, os.path.abspath('..'))\n",
    "GPU = 1\n",
    "from lib.pipeline import Pipeline\n",
    "pipeline = Pipeline(\n",
    "    model='lm-gearnet',\n",
    "    dataset='atpbind3d',\n",
    "    gpus=[GPU],\n",
    "    model_kwargs={\n",
    "        'gpu': GPU,\n",
    "        'gearnet_hidden_dim_size': 512,\n",
    "        'gearnet_hidden_dim_count': 4,\n",
    "        'bert_freeze': False,\n",
    "        'bert_freeze_layer_count': 29,\n",
    "    },\n",
    "    optimizer_kwargs={\n",
    "        'lr': 5e-4,\n",
    "    },\n",
    "    task_kwargs={\n",
    "        'use_rus': True,\n",
    "        'rus_seed': 0,\n",
    "    },\n",
    "    bce_weight=1,\n",
    "    batch_size=4,\n",
    ")"
   ]
  },
  {
   "cell_type": "code",
   "execution_count": 3,
   "metadata": {},
   "outputs": [
    {
     "name": "stdout",
     "output_type": "stream",
     "text": [
      "15:54:44   >>>>>>>>>>>>>>>>>>>>>>>>>>>>>>\n",
      "15:54:44   Epoch 1 begin\n",
      "15:55:10   >>>>>>>>>>>>>>>>>>>>>>>>>>>>>>\n",
      "15:55:10   Epoch 1 end\n",
      "15:55:10   duration: 33.09 secs\n",
      "15:55:10   speed: 2.57 batch / sec\n",
      "15:55:10   ETA: 0.00 secs\n",
      "15:55:10   max GPU memory: 5912.0 MiB\n",
      "15:55:10   ------------------------------\n",
      "15:55:10   average binary cross entropy: 0.0461474\n"
     ]
    }
   ],
   "source": [
    "pipeline.train(num_epoch=1)"
   ]
  },
  {
   "cell_type": "code",
   "execution_count": 4,
   "metadata": {},
   "outputs": [
    {
     "data": {
      "text/plain": [
       "odict_keys(['mean', 'std', 'model.bert_model.embeddings.position_ids', 'model.bert_model.embeddings.word_embeddings.weight', 'model.bert_model.embeddings.position_embeddings.weight', 'model.bert_model.embeddings.token_type_embeddings.weight', 'model.bert_model.embeddings.LayerNorm.weight', 'model.bert_model.embeddings.LayerNorm.bias', 'model.bert_model.encoder.layer.0.attention.self.query.weight', 'model.bert_model.encoder.layer.0.attention.self.query.bias', 'model.bert_model.encoder.layer.0.attention.self.key.weight', 'model.bert_model.encoder.layer.0.attention.self.key.bias', 'model.bert_model.encoder.layer.0.attention.self.value.weight', 'model.bert_model.encoder.layer.0.attention.self.value.bias', 'model.bert_model.encoder.layer.0.attention.output.dense.weight', 'model.bert_model.encoder.layer.0.attention.output.dense.bias', 'model.bert_model.encoder.layer.0.attention.output.LayerNorm.weight', 'model.bert_model.encoder.layer.0.attention.output.LayerNorm.bias', 'model.bert_model.encoder.layer.0.intermediate.dense.weight', 'model.bert_model.encoder.layer.0.intermediate.dense.bias', 'model.bert_model.encoder.layer.0.output.dense.weight', 'model.bert_model.encoder.layer.0.output.dense.bias', 'model.bert_model.encoder.layer.0.output.LayerNorm.weight', 'model.bert_model.encoder.layer.0.output.LayerNorm.bias', 'model.bert_model.encoder.layer.1.attention.self.query.weight', 'model.bert_model.encoder.layer.1.attention.self.query.bias', 'model.bert_model.encoder.layer.1.attention.self.key.weight', 'model.bert_model.encoder.layer.1.attention.self.key.bias', 'model.bert_model.encoder.layer.1.attention.self.value.weight', 'model.bert_model.encoder.layer.1.attention.self.value.bias', 'model.bert_model.encoder.layer.1.attention.output.dense.weight', 'model.bert_model.encoder.layer.1.attention.output.dense.bias', 'model.bert_model.encoder.layer.1.attention.output.LayerNorm.weight', 'model.bert_model.encoder.layer.1.attention.output.LayerNorm.bias', 'model.bert_model.encoder.layer.1.intermediate.dense.weight', 'model.bert_model.encoder.layer.1.intermediate.dense.bias', 'model.bert_model.encoder.layer.1.output.dense.weight', 'model.bert_model.encoder.layer.1.output.dense.bias', 'model.bert_model.encoder.layer.1.output.LayerNorm.weight', 'model.bert_model.encoder.layer.1.output.LayerNorm.bias', 'model.bert_model.encoder.layer.2.attention.self.query.weight', 'model.bert_model.encoder.layer.2.attention.self.query.bias', 'model.bert_model.encoder.layer.2.attention.self.key.weight', 'model.bert_model.encoder.layer.2.attention.self.key.bias', 'model.bert_model.encoder.layer.2.attention.self.value.weight', 'model.bert_model.encoder.layer.2.attention.self.value.bias', 'model.bert_model.encoder.layer.2.attention.output.dense.weight', 'model.bert_model.encoder.layer.2.attention.output.dense.bias', 'model.bert_model.encoder.layer.2.attention.output.LayerNorm.weight', 'model.bert_model.encoder.layer.2.attention.output.LayerNorm.bias', 'model.bert_model.encoder.layer.2.intermediate.dense.weight', 'model.bert_model.encoder.layer.2.intermediate.dense.bias', 'model.bert_model.encoder.layer.2.output.dense.weight', 'model.bert_model.encoder.layer.2.output.dense.bias', 'model.bert_model.encoder.layer.2.output.LayerNorm.weight', 'model.bert_model.encoder.layer.2.output.LayerNorm.bias', 'model.bert_model.encoder.layer.3.attention.self.query.weight', 'model.bert_model.encoder.layer.3.attention.self.query.bias', 'model.bert_model.encoder.layer.3.attention.self.key.weight', 'model.bert_model.encoder.layer.3.attention.self.key.bias', 'model.bert_model.encoder.layer.3.attention.self.value.weight', 'model.bert_model.encoder.layer.3.attention.self.value.bias', 'model.bert_model.encoder.layer.3.attention.output.dense.weight', 'model.bert_model.encoder.layer.3.attention.output.dense.bias', 'model.bert_model.encoder.layer.3.attention.output.LayerNorm.weight', 'model.bert_model.encoder.layer.3.attention.output.LayerNorm.bias', 'model.bert_model.encoder.layer.3.intermediate.dense.weight', 'model.bert_model.encoder.layer.3.intermediate.dense.bias', 'model.bert_model.encoder.layer.3.output.dense.weight', 'model.bert_model.encoder.layer.3.output.dense.bias', 'model.bert_model.encoder.layer.3.output.LayerNorm.weight', 'model.bert_model.encoder.layer.3.output.LayerNorm.bias', 'model.bert_model.encoder.layer.4.attention.self.query.weight', 'model.bert_model.encoder.layer.4.attention.self.query.bias', 'model.bert_model.encoder.layer.4.attention.self.key.weight', 'model.bert_model.encoder.layer.4.attention.self.key.bias', 'model.bert_model.encoder.layer.4.attention.self.value.weight', 'model.bert_model.encoder.layer.4.attention.self.value.bias', 'model.bert_model.encoder.layer.4.attention.output.dense.weight', 'model.bert_model.encoder.layer.4.attention.output.dense.bias', 'model.bert_model.encoder.layer.4.attention.output.LayerNorm.weight', 'model.bert_model.encoder.layer.4.attention.output.LayerNorm.bias', 'model.bert_model.encoder.layer.4.intermediate.dense.weight', 'model.bert_model.encoder.layer.4.intermediate.dense.bias', 'model.bert_model.encoder.layer.4.output.dense.weight', 'model.bert_model.encoder.layer.4.output.dense.bias', 'model.bert_model.encoder.layer.4.output.LayerNorm.weight', 'model.bert_model.encoder.layer.4.output.LayerNorm.bias', 'model.bert_model.encoder.layer.5.attention.self.query.weight', 'model.bert_model.encoder.layer.5.attention.self.query.bias', 'model.bert_model.encoder.layer.5.attention.self.key.weight', 'model.bert_model.encoder.layer.5.attention.self.key.bias', 'model.bert_model.encoder.layer.5.attention.self.value.weight', 'model.bert_model.encoder.layer.5.attention.self.value.bias', 'model.bert_model.encoder.layer.5.attention.output.dense.weight', 'model.bert_model.encoder.layer.5.attention.output.dense.bias', 'model.bert_model.encoder.layer.5.attention.output.LayerNorm.weight', 'model.bert_model.encoder.layer.5.attention.output.LayerNorm.bias', 'model.bert_model.encoder.layer.5.intermediate.dense.weight', 'model.bert_model.encoder.layer.5.intermediate.dense.bias', 'model.bert_model.encoder.layer.5.output.dense.weight', 'model.bert_model.encoder.layer.5.output.dense.bias', 'model.bert_model.encoder.layer.5.output.LayerNorm.weight', 'model.bert_model.encoder.layer.5.output.LayerNorm.bias', 'model.bert_model.encoder.layer.6.attention.self.query.weight', 'model.bert_model.encoder.layer.6.attention.self.query.bias', 'model.bert_model.encoder.layer.6.attention.self.key.weight', 'model.bert_model.encoder.layer.6.attention.self.key.bias', 'model.bert_model.encoder.layer.6.attention.self.value.weight', 'model.bert_model.encoder.layer.6.attention.self.value.bias', 'model.bert_model.encoder.layer.6.attention.output.dense.weight', 'model.bert_model.encoder.layer.6.attention.output.dense.bias', 'model.bert_model.encoder.layer.6.attention.output.LayerNorm.weight', 'model.bert_model.encoder.layer.6.attention.output.LayerNorm.bias', 'model.bert_model.encoder.layer.6.intermediate.dense.weight', 'model.bert_model.encoder.layer.6.intermediate.dense.bias', 'model.bert_model.encoder.layer.6.output.dense.weight', 'model.bert_model.encoder.layer.6.output.dense.bias', 'model.bert_model.encoder.layer.6.output.LayerNorm.weight', 'model.bert_model.encoder.layer.6.output.LayerNorm.bias', 'model.bert_model.encoder.layer.7.attention.self.query.weight', 'model.bert_model.encoder.layer.7.attention.self.query.bias', 'model.bert_model.encoder.layer.7.attention.self.key.weight', 'model.bert_model.encoder.layer.7.attention.self.key.bias', 'model.bert_model.encoder.layer.7.attention.self.value.weight', 'model.bert_model.encoder.layer.7.attention.self.value.bias', 'model.bert_model.encoder.layer.7.attention.output.dense.weight', 'model.bert_model.encoder.layer.7.attention.output.dense.bias', 'model.bert_model.encoder.layer.7.attention.output.LayerNorm.weight', 'model.bert_model.encoder.layer.7.attention.output.LayerNorm.bias', 'model.bert_model.encoder.layer.7.intermediate.dense.weight', 'model.bert_model.encoder.layer.7.intermediate.dense.bias', 'model.bert_model.encoder.layer.7.output.dense.weight', 'model.bert_model.encoder.layer.7.output.dense.bias', 'model.bert_model.encoder.layer.7.output.LayerNorm.weight', 'model.bert_model.encoder.layer.7.output.LayerNorm.bias', 'model.bert_model.encoder.layer.8.attention.self.query.weight', 'model.bert_model.encoder.layer.8.attention.self.query.bias', 'model.bert_model.encoder.layer.8.attention.self.key.weight', 'model.bert_model.encoder.layer.8.attention.self.key.bias', 'model.bert_model.encoder.layer.8.attention.self.value.weight', 'model.bert_model.encoder.layer.8.attention.self.value.bias', 'model.bert_model.encoder.layer.8.attention.output.dense.weight', 'model.bert_model.encoder.layer.8.attention.output.dense.bias', 'model.bert_model.encoder.layer.8.attention.output.LayerNorm.weight', 'model.bert_model.encoder.layer.8.attention.output.LayerNorm.bias', 'model.bert_model.encoder.layer.8.intermediate.dense.weight', 'model.bert_model.encoder.layer.8.intermediate.dense.bias', 'model.bert_model.encoder.layer.8.output.dense.weight', 'model.bert_model.encoder.layer.8.output.dense.bias', 'model.bert_model.encoder.layer.8.output.LayerNorm.weight', 'model.bert_model.encoder.layer.8.output.LayerNorm.bias', 'model.bert_model.encoder.layer.9.attention.self.query.weight', 'model.bert_model.encoder.layer.9.attention.self.query.bias', 'model.bert_model.encoder.layer.9.attention.self.key.weight', 'model.bert_model.encoder.layer.9.attention.self.key.bias', 'model.bert_model.encoder.layer.9.attention.self.value.weight', 'model.bert_model.encoder.layer.9.attention.self.value.bias', 'model.bert_model.encoder.layer.9.attention.output.dense.weight', 'model.bert_model.encoder.layer.9.attention.output.dense.bias', 'model.bert_model.encoder.layer.9.attention.output.LayerNorm.weight', 'model.bert_model.encoder.layer.9.attention.output.LayerNorm.bias', 'model.bert_model.encoder.layer.9.intermediate.dense.weight', 'model.bert_model.encoder.layer.9.intermediate.dense.bias', 'model.bert_model.encoder.layer.9.output.dense.weight', 'model.bert_model.encoder.layer.9.output.dense.bias', 'model.bert_model.encoder.layer.9.output.LayerNorm.weight', 'model.bert_model.encoder.layer.9.output.LayerNorm.bias', 'model.bert_model.encoder.layer.10.attention.self.query.weight', 'model.bert_model.encoder.layer.10.attention.self.query.bias', 'model.bert_model.encoder.layer.10.attention.self.key.weight', 'model.bert_model.encoder.layer.10.attention.self.key.bias', 'model.bert_model.encoder.layer.10.attention.self.value.weight', 'model.bert_model.encoder.layer.10.attention.self.value.bias', 'model.bert_model.encoder.layer.10.attention.output.dense.weight', 'model.bert_model.encoder.layer.10.attention.output.dense.bias', 'model.bert_model.encoder.layer.10.attention.output.LayerNorm.weight', 'model.bert_model.encoder.layer.10.attention.output.LayerNorm.bias', 'model.bert_model.encoder.layer.10.intermediate.dense.weight', 'model.bert_model.encoder.layer.10.intermediate.dense.bias', 'model.bert_model.encoder.layer.10.output.dense.weight', 'model.bert_model.encoder.layer.10.output.dense.bias', 'model.bert_model.encoder.layer.10.output.LayerNorm.weight', 'model.bert_model.encoder.layer.10.output.LayerNorm.bias', 'model.bert_model.encoder.layer.11.attention.self.query.weight', 'model.bert_model.encoder.layer.11.attention.self.query.bias', 'model.bert_model.encoder.layer.11.attention.self.key.weight', 'model.bert_model.encoder.layer.11.attention.self.key.bias', 'model.bert_model.encoder.layer.11.attention.self.value.weight', 'model.bert_model.encoder.layer.11.attention.self.value.bias', 'model.bert_model.encoder.layer.11.attention.output.dense.weight', 'model.bert_model.encoder.layer.11.attention.output.dense.bias', 'model.bert_model.encoder.layer.11.attention.output.LayerNorm.weight', 'model.bert_model.encoder.layer.11.attention.output.LayerNorm.bias', 'model.bert_model.encoder.layer.11.intermediate.dense.weight', 'model.bert_model.encoder.layer.11.intermediate.dense.bias', 'model.bert_model.encoder.layer.11.output.dense.weight', 'model.bert_model.encoder.layer.11.output.dense.bias', 'model.bert_model.encoder.layer.11.output.LayerNorm.weight', 'model.bert_model.encoder.layer.11.output.LayerNorm.bias', 'model.bert_model.encoder.layer.12.attention.self.query.weight', 'model.bert_model.encoder.layer.12.attention.self.query.bias', 'model.bert_model.encoder.layer.12.attention.self.key.weight', 'model.bert_model.encoder.layer.12.attention.self.key.bias', 'model.bert_model.encoder.layer.12.attention.self.value.weight', 'model.bert_model.encoder.layer.12.attention.self.value.bias', 'model.bert_model.encoder.layer.12.attention.output.dense.weight', 'model.bert_model.encoder.layer.12.attention.output.dense.bias', 'model.bert_model.encoder.layer.12.attention.output.LayerNorm.weight', 'model.bert_model.encoder.layer.12.attention.output.LayerNorm.bias', 'model.bert_model.encoder.layer.12.intermediate.dense.weight', 'model.bert_model.encoder.layer.12.intermediate.dense.bias', 'model.bert_model.encoder.layer.12.output.dense.weight', 'model.bert_model.encoder.layer.12.output.dense.bias', 'model.bert_model.encoder.layer.12.output.LayerNorm.weight', 'model.bert_model.encoder.layer.12.output.LayerNorm.bias', 'model.bert_model.encoder.layer.13.attention.self.query.weight', 'model.bert_model.encoder.layer.13.attention.self.query.bias', 'model.bert_model.encoder.layer.13.attention.self.key.weight', 'model.bert_model.encoder.layer.13.attention.self.key.bias', 'model.bert_model.encoder.layer.13.attention.self.value.weight', 'model.bert_model.encoder.layer.13.attention.self.value.bias', 'model.bert_model.encoder.layer.13.attention.output.dense.weight', 'model.bert_model.encoder.layer.13.attention.output.dense.bias', 'model.bert_model.encoder.layer.13.attention.output.LayerNorm.weight', 'model.bert_model.encoder.layer.13.attention.output.LayerNorm.bias', 'model.bert_model.encoder.layer.13.intermediate.dense.weight', 'model.bert_model.encoder.layer.13.intermediate.dense.bias', 'model.bert_model.encoder.layer.13.output.dense.weight', 'model.bert_model.encoder.layer.13.output.dense.bias', 'model.bert_model.encoder.layer.13.output.LayerNorm.weight', 'model.bert_model.encoder.layer.13.output.LayerNorm.bias', 'model.bert_model.encoder.layer.14.attention.self.query.weight', 'model.bert_model.encoder.layer.14.attention.self.query.bias', 'model.bert_model.encoder.layer.14.attention.self.key.weight', 'model.bert_model.encoder.layer.14.attention.self.key.bias', 'model.bert_model.encoder.layer.14.attention.self.value.weight', 'model.bert_model.encoder.layer.14.attention.self.value.bias', 'model.bert_model.encoder.layer.14.attention.output.dense.weight', 'model.bert_model.encoder.layer.14.attention.output.dense.bias', 'model.bert_model.encoder.layer.14.attention.output.LayerNorm.weight', 'model.bert_model.encoder.layer.14.attention.output.LayerNorm.bias', 'model.bert_model.encoder.layer.14.intermediate.dense.weight', 'model.bert_model.encoder.layer.14.intermediate.dense.bias', 'model.bert_model.encoder.layer.14.output.dense.weight', 'model.bert_model.encoder.layer.14.output.dense.bias', 'model.bert_model.encoder.layer.14.output.LayerNorm.weight', 'model.bert_model.encoder.layer.14.output.LayerNorm.bias', 'model.bert_model.encoder.layer.15.attention.self.query.weight', 'model.bert_model.encoder.layer.15.attention.self.query.bias', 'model.bert_model.encoder.layer.15.attention.self.key.weight', 'model.bert_model.encoder.layer.15.attention.self.key.bias', 'model.bert_model.encoder.layer.15.attention.self.value.weight', 'model.bert_model.encoder.layer.15.attention.self.value.bias', 'model.bert_model.encoder.layer.15.attention.output.dense.weight', 'model.bert_model.encoder.layer.15.attention.output.dense.bias', 'model.bert_model.encoder.layer.15.attention.output.LayerNorm.weight', 'model.bert_model.encoder.layer.15.attention.output.LayerNorm.bias', 'model.bert_model.encoder.layer.15.intermediate.dense.weight', 'model.bert_model.encoder.layer.15.intermediate.dense.bias', 'model.bert_model.encoder.layer.15.output.dense.weight', 'model.bert_model.encoder.layer.15.output.dense.bias', 'model.bert_model.encoder.layer.15.output.LayerNorm.weight', 'model.bert_model.encoder.layer.15.output.LayerNorm.bias', 'model.bert_model.encoder.layer.16.attention.self.query.weight', 'model.bert_model.encoder.layer.16.attention.self.query.bias', 'model.bert_model.encoder.layer.16.attention.self.key.weight', 'model.bert_model.encoder.layer.16.attention.self.key.bias', 'model.bert_model.encoder.layer.16.attention.self.value.weight', 'model.bert_model.encoder.layer.16.attention.self.value.bias', 'model.bert_model.encoder.layer.16.attention.output.dense.weight', 'model.bert_model.encoder.layer.16.attention.output.dense.bias', 'model.bert_model.encoder.layer.16.attention.output.LayerNorm.weight', 'model.bert_model.encoder.layer.16.attention.output.LayerNorm.bias', 'model.bert_model.encoder.layer.16.intermediate.dense.weight', 'model.bert_model.encoder.layer.16.intermediate.dense.bias', 'model.bert_model.encoder.layer.16.output.dense.weight', 'model.bert_model.encoder.layer.16.output.dense.bias', 'model.bert_model.encoder.layer.16.output.LayerNorm.weight', 'model.bert_model.encoder.layer.16.output.LayerNorm.bias', 'model.bert_model.encoder.layer.17.attention.self.query.weight', 'model.bert_model.encoder.layer.17.attention.self.query.bias', 'model.bert_model.encoder.layer.17.attention.self.key.weight', 'model.bert_model.encoder.layer.17.attention.self.key.bias', 'model.bert_model.encoder.layer.17.attention.self.value.weight', 'model.bert_model.encoder.layer.17.attention.self.value.bias', 'model.bert_model.encoder.layer.17.attention.output.dense.weight', 'model.bert_model.encoder.layer.17.attention.output.dense.bias', 'model.bert_model.encoder.layer.17.attention.output.LayerNorm.weight', 'model.bert_model.encoder.layer.17.attention.output.LayerNorm.bias', 'model.bert_model.encoder.layer.17.intermediate.dense.weight', 'model.bert_model.encoder.layer.17.intermediate.dense.bias', 'model.bert_model.encoder.layer.17.output.dense.weight', 'model.bert_model.encoder.layer.17.output.dense.bias', 'model.bert_model.encoder.layer.17.output.LayerNorm.weight', 'model.bert_model.encoder.layer.17.output.LayerNorm.bias', 'model.bert_model.encoder.layer.18.attention.self.query.weight', 'model.bert_model.encoder.layer.18.attention.self.query.bias', 'model.bert_model.encoder.layer.18.attention.self.key.weight', 'model.bert_model.encoder.layer.18.attention.self.key.bias', 'model.bert_model.encoder.layer.18.attention.self.value.weight', 'model.bert_model.encoder.layer.18.attention.self.value.bias', 'model.bert_model.encoder.layer.18.attention.output.dense.weight', 'model.bert_model.encoder.layer.18.attention.output.dense.bias', 'model.bert_model.encoder.layer.18.attention.output.LayerNorm.weight', 'model.bert_model.encoder.layer.18.attention.output.LayerNorm.bias', 'model.bert_model.encoder.layer.18.intermediate.dense.weight', 'model.bert_model.encoder.layer.18.intermediate.dense.bias', 'model.bert_model.encoder.layer.18.output.dense.weight', 'model.bert_model.encoder.layer.18.output.dense.bias', 'model.bert_model.encoder.layer.18.output.LayerNorm.weight', 'model.bert_model.encoder.layer.18.output.LayerNorm.bias', 'model.bert_model.encoder.layer.19.attention.self.query.weight', 'model.bert_model.encoder.layer.19.attention.self.query.bias', 'model.bert_model.encoder.layer.19.attention.self.key.weight', 'model.bert_model.encoder.layer.19.attention.self.key.bias', 'model.bert_model.encoder.layer.19.attention.self.value.weight', 'model.bert_model.encoder.layer.19.attention.self.value.bias', 'model.bert_model.encoder.layer.19.attention.output.dense.weight', 'model.bert_model.encoder.layer.19.attention.output.dense.bias', 'model.bert_model.encoder.layer.19.attention.output.LayerNorm.weight', 'model.bert_model.encoder.layer.19.attention.output.LayerNorm.bias', 'model.bert_model.encoder.layer.19.intermediate.dense.weight', 'model.bert_model.encoder.layer.19.intermediate.dense.bias', 'model.bert_model.encoder.layer.19.output.dense.weight', 'model.bert_model.encoder.layer.19.output.dense.bias', 'model.bert_model.encoder.layer.19.output.LayerNorm.weight', 'model.bert_model.encoder.layer.19.output.LayerNorm.bias', 'model.bert_model.encoder.layer.20.attention.self.query.weight', 'model.bert_model.encoder.layer.20.attention.self.query.bias', 'model.bert_model.encoder.layer.20.attention.self.key.weight', 'model.bert_model.encoder.layer.20.attention.self.key.bias', 'model.bert_model.encoder.layer.20.attention.self.value.weight', 'model.bert_model.encoder.layer.20.attention.self.value.bias', 'model.bert_model.encoder.layer.20.attention.output.dense.weight', 'model.bert_model.encoder.layer.20.attention.output.dense.bias', 'model.bert_model.encoder.layer.20.attention.output.LayerNorm.weight', 'model.bert_model.encoder.layer.20.attention.output.LayerNorm.bias', 'model.bert_model.encoder.layer.20.intermediate.dense.weight', 'model.bert_model.encoder.layer.20.intermediate.dense.bias', 'model.bert_model.encoder.layer.20.output.dense.weight', 'model.bert_model.encoder.layer.20.output.dense.bias', 'model.bert_model.encoder.layer.20.output.LayerNorm.weight', 'model.bert_model.encoder.layer.20.output.LayerNorm.bias', 'model.bert_model.encoder.layer.21.attention.self.query.weight', 'model.bert_model.encoder.layer.21.attention.self.query.bias', 'model.bert_model.encoder.layer.21.attention.self.key.weight', 'model.bert_model.encoder.layer.21.attention.self.key.bias', 'model.bert_model.encoder.layer.21.attention.self.value.weight', 'model.bert_model.encoder.layer.21.attention.self.value.bias', 'model.bert_model.encoder.layer.21.attention.output.dense.weight', 'model.bert_model.encoder.layer.21.attention.output.dense.bias', 'model.bert_model.encoder.layer.21.attention.output.LayerNorm.weight', 'model.bert_model.encoder.layer.21.attention.output.LayerNorm.bias', 'model.bert_model.encoder.layer.21.intermediate.dense.weight', 'model.bert_model.encoder.layer.21.intermediate.dense.bias', 'model.bert_model.encoder.layer.21.output.dense.weight', 'model.bert_model.encoder.layer.21.output.dense.bias', 'model.bert_model.encoder.layer.21.output.LayerNorm.weight', 'model.bert_model.encoder.layer.21.output.LayerNorm.bias', 'model.bert_model.encoder.layer.22.attention.self.query.weight', 'model.bert_model.encoder.layer.22.attention.self.query.bias', 'model.bert_model.encoder.layer.22.attention.self.key.weight', 'model.bert_model.encoder.layer.22.attention.self.key.bias', 'model.bert_model.encoder.layer.22.attention.self.value.weight', 'model.bert_model.encoder.layer.22.attention.self.value.bias', 'model.bert_model.encoder.layer.22.attention.output.dense.weight', 'model.bert_model.encoder.layer.22.attention.output.dense.bias', 'model.bert_model.encoder.layer.22.attention.output.LayerNorm.weight', 'model.bert_model.encoder.layer.22.attention.output.LayerNorm.bias', 'model.bert_model.encoder.layer.22.intermediate.dense.weight', 'model.bert_model.encoder.layer.22.intermediate.dense.bias', 'model.bert_model.encoder.layer.22.output.dense.weight', 'model.bert_model.encoder.layer.22.output.dense.bias', 'model.bert_model.encoder.layer.22.output.LayerNorm.weight', 'model.bert_model.encoder.layer.22.output.LayerNorm.bias', 'model.bert_model.encoder.layer.23.attention.self.query.weight', 'model.bert_model.encoder.layer.23.attention.self.query.bias', 'model.bert_model.encoder.layer.23.attention.self.key.weight', 'model.bert_model.encoder.layer.23.attention.self.key.bias', 'model.bert_model.encoder.layer.23.attention.self.value.weight', 'model.bert_model.encoder.layer.23.attention.self.value.bias', 'model.bert_model.encoder.layer.23.attention.output.dense.weight', 'model.bert_model.encoder.layer.23.attention.output.dense.bias', 'model.bert_model.encoder.layer.23.attention.output.LayerNorm.weight', 'model.bert_model.encoder.layer.23.attention.output.LayerNorm.bias', 'model.bert_model.encoder.layer.23.intermediate.dense.weight', 'model.bert_model.encoder.layer.23.intermediate.dense.bias', 'model.bert_model.encoder.layer.23.output.dense.weight', 'model.bert_model.encoder.layer.23.output.dense.bias', 'model.bert_model.encoder.layer.23.output.LayerNorm.weight', 'model.bert_model.encoder.layer.23.output.LayerNorm.bias', 'model.bert_model.encoder.layer.24.attention.self.query.weight', 'model.bert_model.encoder.layer.24.attention.self.query.bias', 'model.bert_model.encoder.layer.24.attention.self.key.weight', 'model.bert_model.encoder.layer.24.attention.self.key.bias', 'model.bert_model.encoder.layer.24.attention.self.value.weight', 'model.bert_model.encoder.layer.24.attention.self.value.bias', 'model.bert_model.encoder.layer.24.attention.output.dense.weight', 'model.bert_model.encoder.layer.24.attention.output.dense.bias', 'model.bert_model.encoder.layer.24.attention.output.LayerNorm.weight', 'model.bert_model.encoder.layer.24.attention.output.LayerNorm.bias', 'model.bert_model.encoder.layer.24.intermediate.dense.weight', 'model.bert_model.encoder.layer.24.intermediate.dense.bias', 'model.bert_model.encoder.layer.24.output.dense.weight', 'model.bert_model.encoder.layer.24.output.dense.bias', 'model.bert_model.encoder.layer.24.output.LayerNorm.weight', 'model.bert_model.encoder.layer.24.output.LayerNorm.bias', 'model.bert_model.encoder.layer.25.attention.self.query.weight', 'model.bert_model.encoder.layer.25.attention.self.query.bias', 'model.bert_model.encoder.layer.25.attention.self.key.weight', 'model.bert_model.encoder.layer.25.attention.self.key.bias', 'model.bert_model.encoder.layer.25.attention.self.value.weight', 'model.bert_model.encoder.layer.25.attention.self.value.bias', 'model.bert_model.encoder.layer.25.attention.output.dense.weight', 'model.bert_model.encoder.layer.25.attention.output.dense.bias', 'model.bert_model.encoder.layer.25.attention.output.LayerNorm.weight', 'model.bert_model.encoder.layer.25.attention.output.LayerNorm.bias', 'model.bert_model.encoder.layer.25.intermediate.dense.weight', 'model.bert_model.encoder.layer.25.intermediate.dense.bias', 'model.bert_model.encoder.layer.25.output.dense.weight', 'model.bert_model.encoder.layer.25.output.dense.bias', 'model.bert_model.encoder.layer.25.output.LayerNorm.weight', 'model.bert_model.encoder.layer.25.output.LayerNorm.bias', 'model.bert_model.encoder.layer.26.attention.self.query.weight', 'model.bert_model.encoder.layer.26.attention.self.query.bias', 'model.bert_model.encoder.layer.26.attention.self.key.weight', 'model.bert_model.encoder.layer.26.attention.self.key.bias', 'model.bert_model.encoder.layer.26.attention.self.value.weight', 'model.bert_model.encoder.layer.26.attention.self.value.bias', 'model.bert_model.encoder.layer.26.attention.output.dense.weight', 'model.bert_model.encoder.layer.26.attention.output.dense.bias', 'model.bert_model.encoder.layer.26.attention.output.LayerNorm.weight', 'model.bert_model.encoder.layer.26.attention.output.LayerNorm.bias', 'model.bert_model.encoder.layer.26.intermediate.dense.weight', 'model.bert_model.encoder.layer.26.intermediate.dense.bias', 'model.bert_model.encoder.layer.26.output.dense.weight', 'model.bert_model.encoder.layer.26.output.dense.bias', 'model.bert_model.encoder.layer.26.output.LayerNorm.weight', 'model.bert_model.encoder.layer.26.output.LayerNorm.bias', 'model.bert_model.encoder.layer.27.attention.self.query.weight', 'model.bert_model.encoder.layer.27.attention.self.query.bias', 'model.bert_model.encoder.layer.27.attention.self.key.weight', 'model.bert_model.encoder.layer.27.attention.self.key.bias', 'model.bert_model.encoder.layer.27.attention.self.value.weight', 'model.bert_model.encoder.layer.27.attention.self.value.bias', 'model.bert_model.encoder.layer.27.attention.output.dense.weight', 'model.bert_model.encoder.layer.27.attention.output.dense.bias', 'model.bert_model.encoder.layer.27.attention.output.LayerNorm.weight', 'model.bert_model.encoder.layer.27.attention.output.LayerNorm.bias', 'model.bert_model.encoder.layer.27.intermediate.dense.weight', 'model.bert_model.encoder.layer.27.intermediate.dense.bias', 'model.bert_model.encoder.layer.27.output.dense.weight', 'model.bert_model.encoder.layer.27.output.dense.bias', 'model.bert_model.encoder.layer.27.output.LayerNorm.weight', 'model.bert_model.encoder.layer.27.output.LayerNorm.bias', 'model.bert_model.encoder.layer.28.attention.self.query.weight', 'model.bert_model.encoder.layer.28.attention.self.query.bias', 'model.bert_model.encoder.layer.28.attention.self.key.weight', 'model.bert_model.encoder.layer.28.attention.self.key.bias', 'model.bert_model.encoder.layer.28.attention.self.value.weight', 'model.bert_model.encoder.layer.28.attention.self.value.bias', 'model.bert_model.encoder.layer.28.attention.output.dense.weight', 'model.bert_model.encoder.layer.28.attention.output.dense.bias', 'model.bert_model.encoder.layer.28.attention.output.LayerNorm.weight', 'model.bert_model.encoder.layer.28.attention.output.LayerNorm.bias', 'model.bert_model.encoder.layer.28.intermediate.dense.weight', 'model.bert_model.encoder.layer.28.intermediate.dense.bias', 'model.bert_model.encoder.layer.28.output.dense.weight', 'model.bert_model.encoder.layer.28.output.dense.bias', 'model.bert_model.encoder.layer.28.output.LayerNorm.weight', 'model.bert_model.encoder.layer.28.output.LayerNorm.bias', 'model.bert_model.encoder.layer.29.attention.self.query.weight', 'model.bert_model.encoder.layer.29.attention.self.query.bias', 'model.bert_model.encoder.layer.29.attention.self.key.weight', 'model.bert_model.encoder.layer.29.attention.self.key.bias', 'model.bert_model.encoder.layer.29.attention.self.value.weight', 'model.bert_model.encoder.layer.29.attention.self.value.bias', 'model.bert_model.encoder.layer.29.attention.output.dense.weight', 'model.bert_model.encoder.layer.29.attention.output.dense.bias', 'model.bert_model.encoder.layer.29.attention.output.LayerNorm.weight', 'model.bert_model.encoder.layer.29.attention.output.LayerNorm.bias', 'model.bert_model.encoder.layer.29.intermediate.dense.weight', 'model.bert_model.encoder.layer.29.intermediate.dense.bias', 'model.bert_model.encoder.layer.29.output.dense.weight', 'model.bert_model.encoder.layer.29.output.dense.bias', 'model.bert_model.encoder.layer.29.output.LayerNorm.weight', 'model.bert_model.encoder.layer.29.output.LayerNorm.bias', 'model.bert_model.pooler.dense.weight', 'model.bert_model.pooler.dense.bias', 'model.gearnet.layers.0.batch_norm.weight', 'model.gearnet.layers.0.batch_norm.bias', 'model.gearnet.layers.0.batch_norm.running_mean', 'model.gearnet.layers.0.batch_norm.running_var', 'model.gearnet.layers.0.batch_norm.num_batches_tracked', 'model.gearnet.layers.0.self_loop.weight', 'model.gearnet.layers.0.self_loop.bias', 'model.gearnet.layers.0.linear.weight', 'model.gearnet.layers.0.linear.bias', 'model.gearnet.layers.1.batch_norm.weight', 'model.gearnet.layers.1.batch_norm.bias', 'model.gearnet.layers.1.batch_norm.running_mean', 'model.gearnet.layers.1.batch_norm.running_var', 'model.gearnet.layers.1.batch_norm.num_batches_tracked', 'model.gearnet.layers.1.self_loop.weight', 'model.gearnet.layers.1.self_loop.bias', 'model.gearnet.layers.1.linear.weight', 'model.gearnet.layers.1.linear.bias', 'model.gearnet.layers.2.batch_norm.weight', 'model.gearnet.layers.2.batch_norm.bias', 'model.gearnet.layers.2.batch_norm.running_mean', 'model.gearnet.layers.2.batch_norm.running_var', 'model.gearnet.layers.2.batch_norm.num_batches_tracked', 'model.gearnet.layers.2.self_loop.weight', 'model.gearnet.layers.2.self_loop.bias', 'model.gearnet.layers.2.linear.weight', 'model.gearnet.layers.2.linear.bias', 'model.gearnet.layers.3.batch_norm.weight', 'model.gearnet.layers.3.batch_norm.bias', 'model.gearnet.layers.3.batch_norm.running_mean', 'model.gearnet.layers.3.batch_norm.running_var', 'model.gearnet.layers.3.batch_norm.num_batches_tracked', 'model.gearnet.layers.3.self_loop.weight', 'model.gearnet.layers.3.self_loop.bias', 'model.gearnet.layers.3.linear.weight', 'model.gearnet.layers.3.linear.bias', 'model.gearnet.edge_layers.0.batch_norm.weight', 'model.gearnet.edge_layers.0.batch_norm.bias', 'model.gearnet.edge_layers.0.batch_norm.running_mean', 'model.gearnet.edge_layers.0.batch_norm.running_var', 'model.gearnet.edge_layers.0.batch_norm.num_batches_tracked', 'model.gearnet.edge_layers.0.self_loop.weight', 'model.gearnet.edge_layers.0.self_loop.bias', 'model.gearnet.edge_layers.0.linear.weight', 'model.gearnet.edge_layers.0.linear.bias', 'model.gearnet.edge_layers.1.batch_norm.weight', 'model.gearnet.edge_layers.1.batch_norm.bias', 'model.gearnet.edge_layers.1.batch_norm.running_mean', 'model.gearnet.edge_layers.1.batch_norm.running_var', 'model.gearnet.edge_layers.1.batch_norm.num_batches_tracked', 'model.gearnet.edge_layers.1.self_loop.weight', 'model.gearnet.edge_layers.1.self_loop.bias', 'model.gearnet.edge_layers.1.linear.weight', 'model.gearnet.edge_layers.1.linear.bias', 'model.gearnet.edge_layers.2.batch_norm.weight', 'model.gearnet.edge_layers.2.batch_norm.bias', 'model.gearnet.edge_layers.2.batch_norm.running_mean', 'model.gearnet.edge_layers.2.batch_norm.running_var', 'model.gearnet.edge_layers.2.batch_norm.num_batches_tracked', 'model.gearnet.edge_layers.2.self_loop.weight', 'model.gearnet.edge_layers.2.self_loop.bias', 'model.gearnet.edge_layers.2.linear.weight', 'model.gearnet.edge_layers.2.linear.bias', 'model.gearnet.edge_layers.3.batch_norm.weight', 'model.gearnet.edge_layers.3.batch_norm.bias', 'model.gearnet.edge_layers.3.batch_norm.running_mean', 'model.gearnet.edge_layers.3.batch_norm.running_var', 'model.gearnet.edge_layers.3.batch_norm.num_batches_tracked', 'model.gearnet.edge_layers.3.self_loop.weight', 'model.gearnet.edge_layers.3.self_loop.bias', 'model.gearnet.edge_layers.3.linear.weight', 'model.gearnet.edge_layers.3.linear.bias', 'model.gearnet.batch_norms.0.weight', 'model.gearnet.batch_norms.0.bias', 'model.gearnet.batch_norms.0.running_mean', 'model.gearnet.batch_norms.0.running_var', 'model.gearnet.batch_norms.0.num_batches_tracked', 'model.gearnet.batch_norms.1.weight', 'model.gearnet.batch_norms.1.bias', 'model.gearnet.batch_norms.1.running_mean', 'model.gearnet.batch_norms.1.running_var', 'model.gearnet.batch_norms.1.num_batches_tracked', 'model.gearnet.batch_norms.2.weight', 'model.gearnet.batch_norms.2.bias', 'model.gearnet.batch_norms.2.running_mean', 'model.gearnet.batch_norms.2.running_var', 'model.gearnet.batch_norms.2.num_batches_tracked', 'model.gearnet.batch_norms.3.weight', 'model.gearnet.batch_norms.3.bias', 'model.gearnet.batch_norms.3.running_mean', 'model.gearnet.batch_norms.3.running_var', 'model.gearnet.batch_norms.3.num_batches_tracked', 'mlp.layers.0.weight', 'mlp.layers.0.bias', 'mlp.layers.1.weight', 'mlp.layers.1.bias'])"
      ]
     },
     "execution_count": 4,
     "metadata": {},
     "output_type": "execute_result"
    }
   ],
   "source": [
    "pipeline.task.state_dict().keys()"
   ]
  },
  {
   "cell_type": "code",
   "execution_count": 3,
   "metadata": {},
   "outputs": [
    {
     "name": "stdout",
     "output_type": "stream",
     "text": [
      "15:48:15   >>>>>>>>>>>>>>>>>>>>>>>>>>>>>>\n",
      "15:48:15   Evaluate on test\n",
      "15:48:17   ------------------------------\n",
      "15:48:17   accuracy: 0.948703\n",
      "15:48:17   mcc: 0.432289\n",
      "15:48:17   micro_auroc: 0.904497\n",
      "15:48:17   precision: 0.505814\n",
      "15:48:17   sensitivity: 0.416268\n",
      "15:48:17   specificity: 0.977786\n"
     ]
    },
    {
     "data": {
      "text/plain": [
       "{'sensitivity': 0.41626793146133423,\n",
       " 'specificity': 0.9777855277061462,\n",
       " 'accuracy': 0.9487031102180481,\n",
       " 'precision': 0.5058139562606812,\n",
       " 'mcc': 0.4322891935934685,\n",
       " 'micro_auroc': 0.9044967293739319}"
      ]
     },
     "execution_count": 3,
     "metadata": {},
     "output_type": "execute_result"
    }
   ],
   "source": [
    "pipeline.evaluate()"
   ]
  },
  {
   "cell_type": "code",
   "execution_count": 5,
   "metadata": {},
   "outputs": [],
   "source": [
    "import torch\n",
    "torch.save({k: v for k, v in pipeline.task.state_dict().items() if (not k.startswith('model.bert_model.encoder.layer') or k.startswith('model.bert_model.encoder.layer.29'))\n",
    "    },f'rus_pipeline_0_0.432289.pth')\n"
   ]
  },
  {
   "cell_type": "code",
   "execution_count": 25,
   "metadata": {},
   "outputs": [
    {
     "name": "stdout",
     "output_type": "stream",
     "text": [
      "14:46:54   >>>>>>>>>>>>>>>>>>>>>>>>>>>>>>\n",
      "14:46:54   Evaluate on test\n",
      "14:46:56   ------------------------------\n",
      "14:46:56   accuracy: 0.935239\n",
      "14:46:56   mcc: 0.424913\n",
      "14:46:56   micro_auroc: 0.899478\n",
      "14:46:56   precision: 0.403206\n",
      "14:46:56   sensitivity: 0.521531\n",
      "14:46:56   specificity: 0.957836\n"
     ]
    },
    {
     "data": {
      "text/plain": [
       "{'sensitivity': 0.5215311050415039,\n",
       " 'specificity': 0.9578360319137573,\n",
       " 'accuracy': 0.9352387189865112,\n",
       " 'precision': 0.403205931186676,\n",
       " 'mcc': 0.4249134928943023,\n",
       " 'micro_auroc': 0.899478018283844}"
      ]
     },
     "execution_count": 25,
     "metadata": {},
     "output_type": "execute_result"
    }
   ],
   "source": [
    "pipeline.evaluate()"
   ]
  },
  {
   "cell_type": "code",
   "execution_count": null,
   "metadata": {},
   "outputs": [],
   "source": []
  },
  {
   "cell_type": "code",
   "execution_count": 21,
   "metadata": {},
   "outputs": [
    {
     "data": {
      "text/plain": [
       "['gearnet.layers.0.batch_norm.weight',\n",
       " 'gearnet.layers.0.batch_norm.bias',\n",
       " 'gearnet.layers.0.batch_norm.running_mean',\n",
       " 'gearnet.layers.0.batch_norm.running_var',\n",
       " 'gearnet.layers.0.batch_norm.num_batches_tracked',\n",
       " 'gearnet.layers.0.self_loop.weight',\n",
       " 'gearnet.layers.0.self_loop.bias',\n",
       " 'gearnet.layers.0.linear.weight',\n",
       " 'gearnet.layers.0.linear.bias',\n",
       " 'gearnet.layers.1.batch_norm.weight',\n",
       " 'gearnet.layers.1.batch_norm.bias',\n",
       " 'gearnet.layers.1.batch_norm.running_mean',\n",
       " 'gearnet.layers.1.batch_norm.running_var',\n",
       " 'gearnet.layers.1.batch_norm.num_batches_tracked',\n",
       " 'gearnet.layers.1.self_loop.weight',\n",
       " 'gearnet.layers.1.self_loop.bias',\n",
       " 'gearnet.layers.1.linear.weight',\n",
       " 'gearnet.layers.1.linear.bias',\n",
       " 'gearnet.layers.2.batch_norm.weight',\n",
       " 'gearnet.layers.2.batch_norm.bias',\n",
       " 'gearnet.layers.2.batch_norm.running_mean',\n",
       " 'gearnet.layers.2.batch_norm.running_var',\n",
       " 'gearnet.layers.2.batch_norm.num_batches_tracked',\n",
       " 'gearnet.layers.2.self_loop.weight',\n",
       " 'gearnet.layers.2.self_loop.bias',\n",
       " 'gearnet.layers.2.linear.weight',\n",
       " 'gearnet.layers.2.linear.bias',\n",
       " 'gearnet.layers.3.batch_norm.weight',\n",
       " 'gearnet.layers.3.batch_norm.bias',\n",
       " 'gearnet.layers.3.batch_norm.running_mean',\n",
       " 'gearnet.layers.3.batch_norm.running_var',\n",
       " 'gearnet.layers.3.batch_norm.num_batches_tracked',\n",
       " 'gearnet.layers.3.self_loop.weight',\n",
       " 'gearnet.layers.3.self_loop.bias',\n",
       " 'gearnet.layers.3.linear.weight',\n",
       " 'gearnet.layers.3.linear.bias',\n",
       " 'gearnet.edge_layers.0.batch_norm.weight',\n",
       " 'gearnet.edge_layers.0.batch_norm.bias',\n",
       " 'gearnet.edge_layers.0.batch_norm.running_mean',\n",
       " 'gearnet.edge_layers.0.batch_norm.running_var',\n",
       " 'gearnet.edge_layers.0.batch_norm.num_batches_tracked',\n",
       " 'gearnet.edge_layers.0.self_loop.weight',\n",
       " 'gearnet.edge_layers.0.self_loop.bias',\n",
       " 'gearnet.edge_layers.0.linear.weight',\n",
       " 'gearnet.edge_layers.0.linear.bias',\n",
       " 'gearnet.edge_layers.1.batch_norm.weight',\n",
       " 'gearnet.edge_layers.1.batch_norm.bias',\n",
       " 'gearnet.edge_layers.1.batch_norm.running_mean',\n",
       " 'gearnet.edge_layers.1.batch_norm.running_var',\n",
       " 'gearnet.edge_layers.1.batch_norm.num_batches_tracked',\n",
       " 'gearnet.edge_layers.1.self_loop.weight',\n",
       " 'gearnet.edge_layers.1.self_loop.bias',\n",
       " 'gearnet.edge_layers.1.linear.weight',\n",
       " 'gearnet.edge_layers.1.linear.bias',\n",
       " 'gearnet.edge_layers.2.batch_norm.weight',\n",
       " 'gearnet.edge_layers.2.batch_norm.bias',\n",
       " 'gearnet.edge_layers.2.batch_norm.running_mean',\n",
       " 'gearnet.edge_layers.2.batch_norm.running_var',\n",
       " 'gearnet.edge_layers.2.batch_norm.num_batches_tracked',\n",
       " 'gearnet.edge_layers.2.self_loop.weight',\n",
       " 'gearnet.edge_layers.2.self_loop.bias',\n",
       " 'gearnet.edge_layers.2.linear.weight',\n",
       " 'gearnet.edge_layers.2.linear.bias',\n",
       " 'gearnet.edge_layers.3.batch_norm.weight',\n",
       " 'gearnet.edge_layers.3.batch_norm.bias',\n",
       " 'gearnet.edge_layers.3.batch_norm.running_mean',\n",
       " 'gearnet.edge_layers.3.batch_norm.running_var',\n",
       " 'gearnet.edge_layers.3.batch_norm.num_batches_tracked',\n",
       " 'gearnet.edge_layers.3.self_loop.weight',\n",
       " 'gearnet.edge_layers.3.self_loop.bias',\n",
       " 'gearnet.edge_layers.3.linear.weight',\n",
       " 'gearnet.edge_layers.3.linear.bias',\n",
       " 'gearnet.batch_norms.0.weight',\n",
       " 'gearnet.batch_norms.0.bias',\n",
       " 'gearnet.batch_norms.0.running_mean',\n",
       " 'gearnet.batch_norms.0.running_var',\n",
       " 'gearnet.batch_norms.0.num_batches_tracked',\n",
       " 'gearnet.batch_norms.1.weight',\n",
       " 'gearnet.batch_norms.1.bias',\n",
       " 'gearnet.batch_norms.1.running_mean',\n",
       " 'gearnet.batch_norms.1.running_var',\n",
       " 'gearnet.batch_norms.1.num_batches_tracked',\n",
       " 'gearnet.batch_norms.2.weight',\n",
       " 'gearnet.batch_norms.2.bias',\n",
       " 'gearnet.batch_norms.2.running_mean',\n",
       " 'gearnet.batch_norms.2.running_var',\n",
       " 'gearnet.batch_norms.2.num_batches_tracked',\n",
       " 'gearnet.batch_norms.3.weight',\n",
       " 'gearnet.batch_norms.3.bias',\n",
       " 'gearnet.batch_norms.3.running_mean',\n",
       " 'gearnet.batch_norms.3.running_var',\n",
       " 'gearnet.batch_norms.3.num_batches_tracked']"
      ]
     },
     "execution_count": 21,
     "metadata": {},
     "output_type": "execute_result"
    }
   ],
   "source": [
    "[i for i in pipeline.model.state_dict().keys() if i.startswith('gearnet')]"
   ]
  }
 ],
 "metadata": {
  "kernelspec": {
   "display_name": "jc",
   "language": "python",
   "name": "python3"
  },
  "language_info": {
   "codemirror_mode": {
    "name": "ipython",
    "version": 3
   },
   "file_extension": ".py",
   "mimetype": "text/x-python",
   "name": "python",
   "nbconvert_exporter": "python",
   "pygments_lexer": "ipython3",
   "version": "3.9.17"
  },
  "orig_nbformat": 4
 },
 "nbformat": 4,
 "nbformat_minor": 2
}
