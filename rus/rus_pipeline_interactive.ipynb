{
 "cells": [
  {
   "cell_type": "code",
   "execution_count": 1,
   "metadata": {},
   "outputs": [
    {
     "name": "stdout",
     "output_type": "stream",
     "text": [
      "get dataset atpbind3d\n",
      "Initialize RUS: None\n",
      "train samples: 302, valid samples: 76, test samples: 41\n",
      "1m8s {'sensitivity': 0.3461, 'specificity': 0.9934, 'accuracy': 0.9599, 'precision': 0.7406, 'mcc': 0.4895, 'micro_auroc': 0.9282, 'train_bce': 0.31, 'valid_bce': 0.1256, 'valid_mcc': 0.5305}\n",
      "1m7s {'sensitivity': 0.6874, 'specificity': 0.9775, 'accuracy': 0.9625, 'precision': 0.6255, 'mcc': 0.636, 'micro_auroc': 0.9514, 'train_bce': 0.085, 'valid_bce': 0.1035, 'valid_mcc': 0.5978}\n",
      "1m7s {'sensitivity': 0.4402, 'specificity': 0.9954, 'accuracy': 0.9666, 'precision': 0.8389, 'mcc': 0.5937, 'micro_auroc': 0.9229, 'train_bce': 0.0518, 'valid_bce': 0.1293, 'valid_mcc': 0.6475}\n",
      "1m7s {'sensitivity': 0.5183, 'specificity': 0.992, 'accuracy': 0.9675, 'precision': 0.7794, 'mcc': 0.6201, 'micro_auroc': 0.9262, 'train_bce': 0.0352, 'valid_bce': 0.1185, 'valid_mcc': 0.6159}\n"
     ]
    },
    {
     "ename": "KeyboardInterrupt",
     "evalue": "",
     "output_type": "error",
     "traceback": [
      "\u001b[0;31m---------------------------------------------------------------------------\u001b[0m",
      "\u001b[0;31mKeyboardInterrupt\u001b[0m                         Traceback (most recent call last)",
      "Cell \u001b[0;32mIn[1], line 22\u001b[0m\n\u001b[1;32m      3\u001b[0m \u001b[39mdef\u001b[39;00m \u001b[39mmain\u001b[39m():\n\u001b[1;32m      4\u001b[0m     run_exp_pure(\n\u001b[1;32m      5\u001b[0m         bert_freeze_layer\u001b[39m=\u001b[39m\u001b[39m30\u001b[39m,\n\u001b[1;32m      6\u001b[0m         pretrained_layers\u001b[39m=\u001b[39m\u001b[39m4\u001b[39m,\n\u001b[0;32m   (...)\u001b[0m\n\u001b[1;32m     19\u001b[0m         gpu\u001b[39m=\u001b[39m\u001b[39m1\u001b[39m,\n\u001b[1;32m     20\u001b[0m     )\n\u001b[0;32m---> 22\u001b[0m main()\n",
      "Cell \u001b[0;32mIn[1], line 4\u001b[0m, in \u001b[0;36mmain\u001b[0;34m()\u001b[0m\n\u001b[1;32m      3\u001b[0m \u001b[39mdef\u001b[39;00m \u001b[39mmain\u001b[39m():\n\u001b[0;32m----> 4\u001b[0m     run_exp_pure(\n\u001b[1;32m      5\u001b[0m         bert_freeze_layer\u001b[39m=\u001b[39;49m\u001b[39m30\u001b[39;49m,\n\u001b[1;32m      6\u001b[0m         pretrained_layers\u001b[39m=\u001b[39;49m\u001b[39m4\u001b[39;49m,\n\u001b[1;32m      7\u001b[0m         gearnet_freeze_layer\u001b[39m=\u001b[39;49m\u001b[39m0\u001b[39;49m,\n\u001b[1;32m      8\u001b[0m         gearnet_hidden_dim_size\u001b[39m=\u001b[39;49m\u001b[39m1024\u001b[39;49m,\n\u001b[1;32m      9\u001b[0m         lr\u001b[39m=\u001b[39;49m\u001b[39m1e-3\u001b[39;49m,\n\u001b[1;32m     10\u001b[0m         batch_size\u001b[39m=\u001b[39;49m\u001b[39m4\u001b[39;49m,\n\u001b[1;32m     11\u001b[0m         patience\u001b[39m=\u001b[39;49m\u001b[39m5\u001b[39;49m,\n\u001b[1;32m     12\u001b[0m         lr_half_epoch\u001b[39m=\u001b[39;49m\u001b[39m0\u001b[39;49m,\n\u001b[1;32m     13\u001b[0m         lm_type\u001b[39m=\u001b[39;49m\u001b[39m'\u001b[39;49m\u001b[39mesm-t33\u001b[39;49m\u001b[39m'\u001b[39;49m,\n\u001b[1;32m     14\u001b[0m         mlp_lr_ratio\u001b[39m=\u001b[39;49m\u001b[39m1\u001b[39;49m,\n\u001b[1;32m     15\u001b[0m         use_rus\u001b[39m=\u001b[39;49m\u001b[39mFalse\u001b[39;49;00m,\n\u001b[1;32m     16\u001b[0m         seed\u001b[39m=\u001b[39;49m\u001b[39m0\u001b[39;49m,\n\u001b[1;32m     17\u001b[0m         pretrained_weight_key\u001b[39m=\u001b[39;49m\u001b[39mNone\u001b[39;49;00m,\n\u001b[1;32m     18\u001b[0m         bce_weight\u001b[39m=\u001b[39;49m\u001b[39m1\u001b[39;49m,\n\u001b[1;32m     19\u001b[0m         gpu\u001b[39m=\u001b[39;49m\u001b[39m1\u001b[39;49m,\n\u001b[1;32m     20\u001b[0m     )\n",
      "File \u001b[0;32m~/atpbind/rus/rus_pipeline.py:88\u001b[0m, in \u001b[0;36mrun_exp_pure\u001b[0;34m(bert_freeze_layer, pretrained_layers, pretrained_weight_key, gearnet_freeze_layer, gearnet_hidden_dim_size, lr, batch_size, patience, lr_half_epoch, seed, mlp_lr_ratio, lm_type, bce_weight, rus_rate, rus_by, rus_noise_rate, use_rus, gpu)\u001b[0m\n\u001b[1;32m     85\u001b[0m     scheduler \u001b[39m=\u001b[39m ExponentialLR(gamma\u001b[39m=\u001b[39m\u001b[39m0.5\u001b[39m\u001b[39m*\u001b[39m\u001b[39m*\u001b[39m(\u001b[39m1\u001b[39m\u001b[39m/\u001b[39mlr_half_epoch), optimizer\u001b[39m=\u001b[39mpipeline\u001b[39m.\u001b[39msolver\u001b[39m.\u001b[39moptimizer)\n\u001b[1;32m     86\u001b[0m     pipeline\u001b[39m.\u001b[39msolver\u001b[39m.\u001b[39mscheduler \u001b[39m=\u001b[39m scheduler\n\u001b[0;32m---> 88\u001b[0m train_record, state_dict \u001b[39m=\u001b[39m pipeline\u001b[39m.\u001b[39;49mtrain_until_fit(\n\u001b[1;32m     89\u001b[0m     patience\u001b[39m=\u001b[39;49mpatience, \n\u001b[1;32m     90\u001b[0m     return_state_dict\u001b[39m=\u001b[39;49m\u001b[39mTrue\u001b[39;49;00m\n\u001b[1;32m     91\u001b[0m )\n\u001b[1;32m     92\u001b[0m \u001b[39mreturn\u001b[39;00m (train_record, state_dict, pipeline)\n",
      "File \u001b[0;32m~/atpbind/lib/pipeline.py:173\u001b[0m, in \u001b[0;36mPipeline.train_until_fit\u001b[0;34m(self, patience, early_stop_metric, return_state_dict)\u001b[0m\n\u001b[1;32m    171\u001b[0m cm \u001b[39m=\u001b[39m contextlib\u001b[39m.\u001b[39mnullcontext() \u001b[39mif\u001b[39;00m \u001b[39mself\u001b[39m\u001b[39m.\u001b[39mverbose \u001b[39melse\u001b[39;00m DisableLogger()\n\u001b[1;32m    172\u001b[0m \u001b[39mwith\u001b[39;00m cm:\n\u001b[0;32m--> 173\u001b[0m     \u001b[39mself\u001b[39;49m\u001b[39m.\u001b[39;49mtrain(num_epoch\u001b[39m=\u001b[39;49m\u001b[39m1\u001b[39;49m)\n\u001b[1;32m    175\u001b[0m     \u001b[39m# record\u001b[39;00m\n\u001b[1;32m    176\u001b[0m     cur_result \u001b[39m=\u001b[39m \u001b[39mself\u001b[39m\u001b[39m.\u001b[39mevaluate()\n",
      "File \u001b[0;32m~/atpbind/lib/pipeline.py:159\u001b[0m, in \u001b[0;36mPipeline.train\u001b[0;34m(self, num_epoch)\u001b[0m\n\u001b[1;32m    158\u001b[0m \u001b[39mdef\u001b[39;00m \u001b[39mtrain\u001b[39m(\u001b[39mself\u001b[39m, num_epoch):\n\u001b[0;32m--> 159\u001b[0m     \u001b[39mreturn\u001b[39;00m \u001b[39mself\u001b[39;49m\u001b[39m.\u001b[39;49msolver\u001b[39m.\u001b[39;49mtrain(num_epoch\u001b[39m=\u001b[39;49mnum_epoch)\n",
      "File \u001b[0;32m~/miniconda3/envs/jc/lib/python3.9/site-packages/torchdrug/core/engine.py:155\u001b[0m, in \u001b[0;36mEngine.train\u001b[0;34m(self, num_epoch, batch_per_epoch)\u001b[0m\n\u001b[1;32m    152\u001b[0m \u001b[39mif\u001b[39;00m \u001b[39mself\u001b[39m\u001b[39m.\u001b[39mdevice\u001b[39m.\u001b[39mtype \u001b[39m==\u001b[39m \u001b[39m\"\u001b[39m\u001b[39mcuda\u001b[39m\u001b[39m\"\u001b[39m:\n\u001b[1;32m    153\u001b[0m     batch \u001b[39m=\u001b[39m utils\u001b[39m.\u001b[39mcuda(batch, device\u001b[39m=\u001b[39m\u001b[39mself\u001b[39m\u001b[39m.\u001b[39mdevice)\n\u001b[0;32m--> 155\u001b[0m loss, metric \u001b[39m=\u001b[39m model(batch)\n\u001b[1;32m    156\u001b[0m \u001b[39mif\u001b[39;00m \u001b[39mnot\u001b[39;00m loss\u001b[39m.\u001b[39mrequires_grad:\n\u001b[1;32m    157\u001b[0m     \u001b[39mraise\u001b[39;00m \u001b[39mRuntimeError\u001b[39;00m(\u001b[39m\"\u001b[39m\u001b[39mLoss doesn\u001b[39m\u001b[39m'\u001b[39m\u001b[39mt require grad. Did you define any loss in the task?\u001b[39m\u001b[39m\"\u001b[39m)\n",
      "File \u001b[0;32m~/miniconda3/envs/jc/lib/python3.9/site-packages/torch/nn/modules/module.py:1194\u001b[0m, in \u001b[0;36mModule._call_impl\u001b[0;34m(self, *input, **kwargs)\u001b[0m\n\u001b[1;32m   1190\u001b[0m \u001b[39m# If we don't have any hooks, we want to skip the rest of the logic in\u001b[39;00m\n\u001b[1;32m   1191\u001b[0m \u001b[39m# this function, and just call forward.\u001b[39;00m\n\u001b[1;32m   1192\u001b[0m \u001b[39mif\u001b[39;00m \u001b[39mnot\u001b[39;00m (\u001b[39mself\u001b[39m\u001b[39m.\u001b[39m_backward_hooks \u001b[39mor\u001b[39;00m \u001b[39mself\u001b[39m\u001b[39m.\u001b[39m_forward_hooks \u001b[39mor\u001b[39;00m \u001b[39mself\u001b[39m\u001b[39m.\u001b[39m_forward_pre_hooks \u001b[39mor\u001b[39;00m _global_backward_hooks\n\u001b[1;32m   1193\u001b[0m         \u001b[39mor\u001b[39;00m _global_forward_hooks \u001b[39mor\u001b[39;00m _global_forward_pre_hooks):\n\u001b[0;32m-> 1194\u001b[0m     \u001b[39mreturn\u001b[39;00m forward_call(\u001b[39m*\u001b[39;49m\u001b[39minput\u001b[39;49m, \u001b[39m*\u001b[39;49m\u001b[39m*\u001b[39;49mkwargs)\n\u001b[1;32m   1195\u001b[0m \u001b[39m# Do not call functions when jit is used\u001b[39;00m\n\u001b[1;32m   1196\u001b[0m full_backward_hooks, non_full_backward_hooks \u001b[39m=\u001b[39m [], []\n",
      "File \u001b[0;32m~/atpbind/lib/tasks.py:94\u001b[0m, in \u001b[0;36mNodePropertyPrediction.forward\u001b[0;34m(self, batch)\u001b[0m\n\u001b[1;32m     91\u001b[0m all_loss \u001b[39m=\u001b[39m torch\u001b[39m.\u001b[39mtensor(\u001b[39m0\u001b[39m, dtype\u001b[39m=\u001b[39mtorch\u001b[39m.\u001b[39mfloat32, device\u001b[39m=\u001b[39m\u001b[39mself\u001b[39m\u001b[39m.\u001b[39mdevice)\u001b[39m.\u001b[39mview(\u001b[39m1\u001b[39m)\n\u001b[1;32m     92\u001b[0m metric \u001b[39m=\u001b[39m {}\n\u001b[0;32m---> 94\u001b[0m pred, target \u001b[39m=\u001b[39m \u001b[39mself\u001b[39;49m\u001b[39m.\u001b[39;49mpredict_and_target(batch, all_loss, metric)\n\u001b[1;32m     95\u001b[0m labeled \u001b[39m=\u001b[39m \u001b[39m~\u001b[39mtorch\u001b[39m.\u001b[39misnan(target[\u001b[39m\"\u001b[39m\u001b[39mlabel\u001b[39m\u001b[39m\"\u001b[39m]) \u001b[39m&\u001b[39m target[\u001b[39m\"\u001b[39m\u001b[39mmask\u001b[39m\u001b[39m\"\u001b[39m]\n\u001b[1;32m     97\u001b[0m \u001b[39mfor\u001b[39;00m criterion, weight \u001b[39min\u001b[39;00m \u001b[39mself\u001b[39m\u001b[39m.\u001b[39mcriterion\u001b[39m.\u001b[39mitems():\n",
      "File \u001b[0;32m~/miniconda3/envs/jc/lib/python3.9/site-packages/torchdrug/tasks/task.py:30\u001b[0m, in \u001b[0;36mTask.predict_and_target\u001b[0;34m(self, batch, all_loss, metric)\u001b[0m\n\u001b[1;32m     29\u001b[0m \u001b[39mdef\u001b[39;00m \u001b[39mpredict_and_target\u001b[39m(\u001b[39mself\u001b[39m, batch, all_loss\u001b[39m=\u001b[39m\u001b[39mNone\u001b[39;00m, metric\u001b[39m=\u001b[39m\u001b[39mNone\u001b[39;00m):\n\u001b[0;32m---> 30\u001b[0m     \u001b[39mreturn\u001b[39;00m \u001b[39mself\u001b[39;49m\u001b[39m.\u001b[39;49mpredict(batch, all_loss, metric), \u001b[39mself\u001b[39m\u001b[39m.\u001b[39mtarget(batch)\n",
      "File \u001b[0;32m~/atpbind/lib/tasks.py:71\u001b[0m, in \u001b[0;36mNodePropertyPrediction.predict\u001b[0;34m(self, batch, all_loss, metric)\u001b[0m\n\u001b[1;32m     69\u001b[0m \u001b[39mif\u001b[39;00m \u001b[39m'\u001b[39m\u001b[39msparse\u001b[39m\u001b[39m'\u001b[39m \u001b[39min\u001b[39;00m node_feature\u001b[39m.\u001b[39mtype():\n\u001b[1;32m     70\u001b[0m     node_feature \u001b[39m=\u001b[39m node_feature\u001b[39m.\u001b[39mto_dense()\n\u001b[0;32m---> 71\u001b[0m output \u001b[39m=\u001b[39m \u001b[39mself\u001b[39;49m\u001b[39m.\u001b[39;49mmodel(graph, node_feature, all_loss\u001b[39m=\u001b[39;49mall_loss, metric\u001b[39m=\u001b[39;49mmetric)\n\u001b[1;32m     72\u001b[0m \u001b[39mif\u001b[39;00m \u001b[39mself\u001b[39m\u001b[39m.\u001b[39mview \u001b[39min\u001b[39;00m [\u001b[39m\"\u001b[39m\u001b[39mnode\u001b[39m\u001b[39m\"\u001b[39m, \u001b[39m\"\u001b[39m\u001b[39matom\u001b[39m\u001b[39m\"\u001b[39m]:\n\u001b[1;32m     73\u001b[0m     output_feature \u001b[39m=\u001b[39m output[\u001b[39m\"\u001b[39m\u001b[39mnode_feature\u001b[39m\u001b[39m\"\u001b[39m]\n",
      "File \u001b[0;32m~/miniconda3/envs/jc/lib/python3.9/site-packages/torch/nn/modules/module.py:1194\u001b[0m, in \u001b[0;36mModule._call_impl\u001b[0;34m(self, *input, **kwargs)\u001b[0m\n\u001b[1;32m   1190\u001b[0m \u001b[39m# If we don't have any hooks, we want to skip the rest of the logic in\u001b[39;00m\n\u001b[1;32m   1191\u001b[0m \u001b[39m# this function, and just call forward.\u001b[39;00m\n\u001b[1;32m   1192\u001b[0m \u001b[39mif\u001b[39;00m \u001b[39mnot\u001b[39;00m (\u001b[39mself\u001b[39m\u001b[39m.\u001b[39m_backward_hooks \u001b[39mor\u001b[39;00m \u001b[39mself\u001b[39m\u001b[39m.\u001b[39m_forward_hooks \u001b[39mor\u001b[39;00m \u001b[39mself\u001b[39m\u001b[39m.\u001b[39m_forward_pre_hooks \u001b[39mor\u001b[39;00m _global_backward_hooks\n\u001b[1;32m   1193\u001b[0m         \u001b[39mor\u001b[39;00m _global_forward_hooks \u001b[39mor\u001b[39;00m _global_forward_pre_hooks):\n\u001b[0;32m-> 1194\u001b[0m     \u001b[39mreturn\u001b[39;00m forward_call(\u001b[39m*\u001b[39;49m\u001b[39minput\u001b[39;49m, \u001b[39m*\u001b[39;49m\u001b[39m*\u001b[39;49mkwargs)\n\u001b[1;32m   1195\u001b[0m \u001b[39m# Do not call functions when jit is used\u001b[39;00m\n\u001b[1;32m   1196\u001b[0m full_backward_hooks, non_full_backward_hooks \u001b[39m=\u001b[39m [], []\n",
      "File \u001b[0;32m~/atpbind/lib/custom_models.py:94\u001b[0m, in \u001b[0;36mLMGearNetModel.forward\u001b[0;34m(self, graph, _, all_loss, metric)\u001b[0m\n\u001b[1;32m     91\u001b[0m lm_output \u001b[39m=\u001b[39m torch\u001b[39m.\u001b[39mcat(lm_residue_feature)\n\u001b[1;32m     93\u001b[0m \u001b[39m# print(f'lm_output shape: {lm_output.shape}')\u001b[39;00m\n\u001b[0;32m---> 94\u001b[0m gearnet_output \u001b[39m=\u001b[39m \u001b[39mself\u001b[39;49m\u001b[39m.\u001b[39;49mgearnet(graph, lm_output)\n\u001b[1;32m     95\u001b[0m \u001b[39mreturn\u001b[39;00m gearnet_output\n",
      "File \u001b[0;32m~/miniconda3/envs/jc/lib/python3.9/site-packages/torch/nn/modules/module.py:1194\u001b[0m, in \u001b[0;36mModule._call_impl\u001b[0;34m(self, *input, **kwargs)\u001b[0m\n\u001b[1;32m   1190\u001b[0m \u001b[39m# If we don't have any hooks, we want to skip the rest of the logic in\u001b[39;00m\n\u001b[1;32m   1191\u001b[0m \u001b[39m# this function, and just call forward.\u001b[39;00m\n\u001b[1;32m   1192\u001b[0m \u001b[39mif\u001b[39;00m \u001b[39mnot\u001b[39;00m (\u001b[39mself\u001b[39m\u001b[39m.\u001b[39m_backward_hooks \u001b[39mor\u001b[39;00m \u001b[39mself\u001b[39m\u001b[39m.\u001b[39m_forward_hooks \u001b[39mor\u001b[39;00m \u001b[39mself\u001b[39m\u001b[39m.\u001b[39m_forward_pre_hooks \u001b[39mor\u001b[39;00m _global_backward_hooks\n\u001b[1;32m   1193\u001b[0m         \u001b[39mor\u001b[39;00m _global_forward_hooks \u001b[39mor\u001b[39;00m _global_forward_pre_hooks):\n\u001b[0;32m-> 1194\u001b[0m     \u001b[39mreturn\u001b[39;00m forward_call(\u001b[39m*\u001b[39;49m\u001b[39minput\u001b[39;49m, \u001b[39m*\u001b[39;49m\u001b[39m*\u001b[39;49mkwargs)\n\u001b[1;32m   1195\u001b[0m \u001b[39m# Do not call functions when jit is used\u001b[39;00m\n\u001b[1;32m   1196\u001b[0m full_backward_hooks, non_full_backward_hooks \u001b[39m=\u001b[39m [], []\n",
      "File \u001b[0;32m~/miniconda3/envs/jc/lib/python3.9/site-packages/torchdrug/models/gearnet.py:91\u001b[0m, in \u001b[0;36mGeometryAwareRelationalGraphNeuralNetwork.forward\u001b[0;34m(self, graph, input, all_loss, metric)\u001b[0m\n\u001b[1;32m     89\u001b[0m layer_input \u001b[39m=\u001b[39m \u001b[39minput\u001b[39m\n\u001b[1;32m     90\u001b[0m \u001b[39mif\u001b[39;00m \u001b[39mself\u001b[39m\u001b[39m.\u001b[39mnum_angle_bin:\n\u001b[0;32m---> 91\u001b[0m     line_graph \u001b[39m=\u001b[39m \u001b[39mself\u001b[39;49m\u001b[39m.\u001b[39;49mspatial_line_graph(graph)\n\u001b[1;32m     92\u001b[0m     edge_input \u001b[39m=\u001b[39m line_graph\u001b[39m.\u001b[39mnode_feature\u001b[39m.\u001b[39mfloat()\n\u001b[1;32m     94\u001b[0m \u001b[39mfor\u001b[39;00m i \u001b[39min\u001b[39;00m \u001b[39mrange\u001b[39m(\u001b[39mlen\u001b[39m(\u001b[39mself\u001b[39m\u001b[39m.\u001b[39mlayers)):\n",
      "File \u001b[0;32m~/miniconda3/envs/jc/lib/python3.9/site-packages/torch/nn/modules/module.py:1194\u001b[0m, in \u001b[0;36mModule._call_impl\u001b[0;34m(self, *input, **kwargs)\u001b[0m\n\u001b[1;32m   1190\u001b[0m \u001b[39m# If we don't have any hooks, we want to skip the rest of the logic in\u001b[39;00m\n\u001b[1;32m   1191\u001b[0m \u001b[39m# this function, and just call forward.\u001b[39;00m\n\u001b[1;32m   1192\u001b[0m \u001b[39mif\u001b[39;00m \u001b[39mnot\u001b[39;00m (\u001b[39mself\u001b[39m\u001b[39m.\u001b[39m_backward_hooks \u001b[39mor\u001b[39;00m \u001b[39mself\u001b[39m\u001b[39m.\u001b[39m_forward_hooks \u001b[39mor\u001b[39;00m \u001b[39mself\u001b[39m\u001b[39m.\u001b[39m_forward_pre_hooks \u001b[39mor\u001b[39;00m _global_backward_hooks\n\u001b[1;32m   1193\u001b[0m         \u001b[39mor\u001b[39;00m _global_forward_hooks \u001b[39mor\u001b[39;00m _global_forward_pre_hooks):\n\u001b[0;32m-> 1194\u001b[0m     \u001b[39mreturn\u001b[39;00m forward_call(\u001b[39m*\u001b[39;49m\u001b[39minput\u001b[39;49m, \u001b[39m*\u001b[39;49m\u001b[39m*\u001b[39;49mkwargs)\n\u001b[1;32m   1195\u001b[0m \u001b[39m# Do not call functions when jit is used\u001b[39;00m\n\u001b[1;32m   1196\u001b[0m full_backward_hooks, non_full_backward_hooks \u001b[39m=\u001b[39m [], []\n",
      "File \u001b[0;32m~/miniconda3/envs/jc/lib/python3.9/site-packages/torchdrug/layers/geometry/graph.py:164\u001b[0m, in \u001b[0;36mSpatialLineGraph.forward\u001b[0;34m(self, graph)\u001b[0m\n\u001b[1;32m    153\u001b[0m \u001b[39mdef\u001b[39;00m \u001b[39mforward\u001b[39m(\u001b[39mself\u001b[39m, graph):\n\u001b[1;32m    154\u001b[0m \u001b[39m    \u001b[39m\u001b[39m\"\"\"\u001b[39;00m\n\u001b[1;32m    155\u001b[0m \u001b[39m    Generate the spatial line graph of the input graph.\u001b[39;00m\n\u001b[1;32m    156\u001b[0m \u001b[39m    The edge types are decided by the angles between two adjacent edges in the input graph.\u001b[39;00m\n\u001b[0;32m   (...)\u001b[0m\n\u001b[1;32m    162\u001b[0m \u001b[39m        graph (PackedGraph): the spatial line graph\u001b[39;00m\n\u001b[1;32m    163\u001b[0m \u001b[39m    \"\"\"\u001b[39;00m\n\u001b[0;32m--> 164\u001b[0m     line_graph \u001b[39m=\u001b[39m graph\u001b[39m.\u001b[39;49mline_graph()\n\u001b[1;32m    165\u001b[0m     node_in, node_out \u001b[39m=\u001b[39m graph\u001b[39m.\u001b[39medge_list[:, :\u001b[39m2\u001b[39m]\u001b[39m.\u001b[39mt()\n\u001b[1;32m    166\u001b[0m     edge_in, edge_out \u001b[39m=\u001b[39m line_graph\u001b[39m.\u001b[39medge_list\u001b[39m.\u001b[39mt()\n",
      "File \u001b[0;32m~/miniconda3/envs/jc/lib/python3.9/site-packages/torchdrug/data/graph.py:1653\u001b[0m, in \u001b[0;36mPackedGraph.line_graph\u001b[0;34m(self)\u001b[0m\n\u001b[1;32m   1641\u001b[0m \u001b[39m\u001b[39m\u001b[39m\"\"\"\u001b[39;00m\n\u001b[1;32m   1642\u001b[0m \u001b[39mConstruct a packed line graph of this packed graph.\u001b[39;00m\n\u001b[1;32m   1643\u001b[0m \u001b[39mThe node features of the line graphs are inherited from the edge features of the original graphs.\u001b[39;00m\n\u001b[0;32m   (...)\u001b[0m\n\u001b[1;32m   1650\u001b[0m \u001b[39m    PackedGraph\u001b[39;00m\n\u001b[1;32m   1651\u001b[0m \u001b[39m\"\"\"\u001b[39;00m\n\u001b[1;32m   1652\u001b[0m node_in, node_out \u001b[39m=\u001b[39m \u001b[39mself\u001b[39m\u001b[39m.\u001b[39medge_list\u001b[39m.\u001b[39mt()[:\u001b[39m2\u001b[39m]\n\u001b[0;32m-> 1653\u001b[0m edge_index \u001b[39m=\u001b[39m torch\u001b[39m.\u001b[39;49marange(\u001b[39mself\u001b[39;49m\u001b[39m.\u001b[39;49mnum_edge, device\u001b[39m=\u001b[39;49m\u001b[39mself\u001b[39;49m\u001b[39m.\u001b[39;49mdevice)\n\u001b[1;32m   1654\u001b[0m edge_in \u001b[39m=\u001b[39m edge_index[node_out\u001b[39m.\u001b[39margsort()]\n\u001b[1;32m   1655\u001b[0m edge_out \u001b[39m=\u001b[39m edge_index[node_in\u001b[39m.\u001b[39margsort()]\n",
      "\u001b[0;31mKeyboardInterrupt\u001b[0m: "
     ]
    }
   ],
   "source": [
    "from rus_pipeline import run_exp_pure\n",
    "\n",
    "def main():\n",
    "    run_exp_pure(\n",
    "        bert_freeze_layer=30,\n",
    "        pretrained_layers=4,\n",
    "        gearnet_freeze_layer=0,\n",
    "        gearnet_hidden_dim_size=1024,\n",
    "        lr=1e-3,\n",
    "        batch_size=4,\n",
    "        patience=5,\n",
    "        lr_half_epoch=0,\n",
    "        lm_type='esm-t33',\n",
    "        mlp_lr_ratio=1,\n",
    "        use_rus=False,\n",
    "        seed=0,\n",
    "        pretrained_weight_key=None,\n",
    "        bce_weight=1,\n",
    "        gpu=1,\n",
    "    )\n",
    "\n",
    "main()"
   ]
  },
  {
   "cell_type": "code",
   "execution_count": 1,
   "metadata": {},
   "outputs": [
    {
     "data": {
      "application/vnd.jupyter.widget-view+json": {
       "model_id": "4fd06b54165d48f8b9d960fc49a8e180",
       "version_major": 2,
       "version_minor": 0
      },
      "text/plain": [
       "Loading checkpoint shards:   0%|          | 0/2 [00:00<?, ?it/s]"
      ]
     },
     "metadata": {},
     "output_type": "display_data"
    },
    {
     "name": "stdout",
     "output_type": "stream",
     "text": [
      "get dataset atpbind3d\n",
      "Initialize RUS: None\n",
      "train samples: 302, valid samples: 76, test samples: 41\n",
      "2m10s {'sensitivity': 0.6029, 'specificity': 0.8626, 'accuracy': 0.8492, 'precision': 0.1934, 'mcc': 0.2803, 'micro_auroc': 0.8581, 'train_bce': 0.1934, 'valid_bce': 0.1886, 'valid_mcc': 0.4116}\n"
     ]
    },
    {
     "ename": "OutOfMemoryError",
     "evalue": "CUDA out of memory. Tried to allocate 100.00 MiB (GPU 1; 23.70 GiB total capacity; 22.28 GiB already allocated; 36.69 MiB free; 22.52 GiB reserved in total by PyTorch) If reserved memory is >> allocated memory try setting max_split_size_mb to avoid fragmentation.  See documentation for Memory Management and PYTORCH_CUDA_ALLOC_CONF",
     "output_type": "error",
     "traceback": [
      "\u001b[0;31m---------------------------------------------------------------------------\u001b[0m",
      "\u001b[0;31mOutOfMemoryError\u001b[0m                          Traceback (most recent call last)",
      "Cell \u001b[0;32mIn[1], line 25\u001b[0m\n\u001b[1;32m      6\u001b[0m \u001b[39mdef\u001b[39;00m \u001b[39mmain\u001b[39m():\n\u001b[1;32m      7\u001b[0m     run_exp_pure(\n\u001b[1;32m      8\u001b[0m         pretrained_layers\u001b[39m=\u001b[39m\u001b[39m4\u001b[39m,\n\u001b[1;32m      9\u001b[0m         gearnet_freeze_layer\u001b[39m=\u001b[39m\u001b[39m0\u001b[39m,\n\u001b[0;32m   (...)\u001b[0m\n\u001b[1;32m     22\u001b[0m         gpu\u001b[39m=\u001b[39m\u001b[39m1\u001b[39m,\n\u001b[1;32m     23\u001b[0m     )\n\u001b[0;32m---> 25\u001b[0m main()\n",
      "Cell \u001b[0;32mIn[1], line 7\u001b[0m, in \u001b[0;36mmain\u001b[0;34m()\u001b[0m\n\u001b[1;32m      6\u001b[0m \u001b[39mdef\u001b[39;00m \u001b[39mmain\u001b[39m():\n\u001b[0;32m----> 7\u001b[0m     run_exp_pure(\n\u001b[1;32m      8\u001b[0m         pretrained_layers\u001b[39m=\u001b[39;49m\u001b[39m4\u001b[39;49m,\n\u001b[1;32m      9\u001b[0m         gearnet_freeze_layer\u001b[39m=\u001b[39;49m\u001b[39m0\u001b[39;49m,\n\u001b[1;32m     10\u001b[0m         gearnet_hidden_dim_size\u001b[39m=\u001b[39;49m\u001b[39m768\u001b[39;49m,\n\u001b[1;32m     11\u001b[0m         lr\u001b[39m=\u001b[39;49m\u001b[39m1e-3\u001b[39;49m,\n\u001b[1;32m     12\u001b[0m         batch_size\u001b[39m=\u001b[39;49m\u001b[39m1\u001b[39;49m,\n\u001b[1;32m     13\u001b[0m         patience\u001b[39m=\u001b[39;49m\u001b[39m5\u001b[39;49m,\n\u001b[1;32m     14\u001b[0m         lr_half_epoch\u001b[39m=\u001b[39;49m\u001b[39m0\u001b[39;49m,\n\u001b[1;32m     15\u001b[0m         lm_type\u001b[39m=\u001b[39;49m\u001b[39m'\u001b[39;49m\u001b[39mesm-t36\u001b[39;49m\u001b[39m'\u001b[39;49m,\n\u001b[1;32m     16\u001b[0m         bert_freeze_layer\u001b[39m=\u001b[39;49m\u001b[39m33\u001b[39;49m,\n\u001b[1;32m     17\u001b[0m         mlp_lr_ratio\u001b[39m=\u001b[39;49m\u001b[39m1\u001b[39;49m,\n\u001b[1;32m     18\u001b[0m         use_rus\u001b[39m=\u001b[39;49m\u001b[39mFalse\u001b[39;49;00m,\n\u001b[1;32m     19\u001b[0m         seed\u001b[39m=\u001b[39;49m\u001b[39m0\u001b[39;49m,\n\u001b[1;32m     20\u001b[0m         pretrained_weight_key\u001b[39m=\u001b[39;49m\u001b[39mNone\u001b[39;49;00m,\n\u001b[1;32m     21\u001b[0m         bce_weight\u001b[39m=\u001b[39;49m\u001b[39m1\u001b[39;49m,\n\u001b[1;32m     22\u001b[0m         gpu\u001b[39m=\u001b[39;49m\u001b[39m1\u001b[39;49m,\n\u001b[1;32m     23\u001b[0m     )\n",
      "File \u001b[0;32m~/atpbind/rus/rus_pipeline.py:89\u001b[0m, in \u001b[0;36mrun_exp_pure\u001b[0;34m(bert_freeze_layer, pretrained_layers, pretrained_weight_key, gearnet_freeze_layer, gearnet_hidden_dim_size, lr, batch_size, patience, lr_half_epoch, seed, mlp_lr_ratio, lm_type, bce_weight, rus_rate, rus_by, rus_noise_rate, use_rus, gpu)\u001b[0m\n\u001b[1;32m     86\u001b[0m     scheduler \u001b[39m=\u001b[39m ExponentialLR(gamma\u001b[39m=\u001b[39m\u001b[39m0.5\u001b[39m\u001b[39m*\u001b[39m\u001b[39m*\u001b[39m(\u001b[39m1\u001b[39m\u001b[39m/\u001b[39mlr_half_epoch), optimizer\u001b[39m=\u001b[39mpipeline\u001b[39m.\u001b[39msolver\u001b[39m.\u001b[39moptimizer)\n\u001b[1;32m     87\u001b[0m     pipeline\u001b[39m.\u001b[39msolver\u001b[39m.\u001b[39mscheduler \u001b[39m=\u001b[39m scheduler\n\u001b[0;32m---> 89\u001b[0m train_record, state_dict \u001b[39m=\u001b[39m pipeline\u001b[39m.\u001b[39;49mtrain_until_fit(\n\u001b[1;32m     90\u001b[0m     patience\u001b[39m=\u001b[39;49mpatience, \n\u001b[1;32m     91\u001b[0m     return_state_dict\u001b[39m=\u001b[39;49m\u001b[39mTrue\u001b[39;49;00m\n\u001b[1;32m     92\u001b[0m )\n\u001b[1;32m     93\u001b[0m \u001b[39mreturn\u001b[39;00m (train_record, state_dict, pipeline)\n",
      "File \u001b[0;32m~/atpbind/lib/pipeline.py:194\u001b[0m, in \u001b[0;36mPipeline.train_until_fit\u001b[0;34m(self, patience, early_stop_metric, return_state_dict)\u001b[0m\n\u001b[1;32m    192\u001b[0m \u001b[39mif\u001b[39;00m return_state_dict \u001b[39mand\u001b[39;00m should_replace_best_metric:\n\u001b[1;32m    193\u001b[0m     best_metric \u001b[39m=\u001b[39m cur_result[early_stop_metric]\n\u001b[0;32m--> 194\u001b[0m     best_state_dict \u001b[39m=\u001b[39m deepcopy(\u001b[39mself\u001b[39;49m\u001b[39m.\u001b[39;49mtask\u001b[39m.\u001b[39;49mstate_dict())\n\u001b[1;32m    195\u001b[0m best_index \u001b[39m=\u001b[39m np\u001b[39m.\u001b[39margmax([record[early_stop_metric] \u001b[39mfor\u001b[39;00m record \u001b[39min\u001b[39;00m train_record]) \u001b[39mif\u001b[39;00m early_stop_metric \u001b[39m==\u001b[39m \u001b[39m'\u001b[39m\u001b[39mvalid_mcc\u001b[39m\u001b[39m'\u001b[39m \u001b[39melse\u001b[39;00m np\u001b[39m.\u001b[39margmin([record[early_stop_metric] \u001b[39mfor\u001b[39;00m record \u001b[39min\u001b[39;00m train_record])\n\u001b[1;32m    196\u001b[0m \u001b[39mif\u001b[39;00m best_index \u001b[39m<\u001b[39m \u001b[39mlen\u001b[39m(train_record) \u001b[39m-\u001b[39m patience:\n",
      "File \u001b[0;32m~/miniconda3/envs/jc/lib/python3.9/copy.py:172\u001b[0m, in \u001b[0;36mdeepcopy\u001b[0;34m(x, memo, _nil)\u001b[0m\n\u001b[1;32m    170\u001b[0m                 y \u001b[39m=\u001b[39m x\n\u001b[1;32m    171\u001b[0m             \u001b[39melse\u001b[39;00m:\n\u001b[0;32m--> 172\u001b[0m                 y \u001b[39m=\u001b[39m _reconstruct(x, memo, \u001b[39m*\u001b[39;49mrv)\n\u001b[1;32m    174\u001b[0m \u001b[39m# If is its own copy, don't memoize.\u001b[39;00m\n\u001b[1;32m    175\u001b[0m \u001b[39mif\u001b[39;00m y \u001b[39mis\u001b[39;00m \u001b[39mnot\u001b[39;00m x:\n",
      "File \u001b[0;32m~/miniconda3/envs/jc/lib/python3.9/copy.py:296\u001b[0m, in \u001b[0;36m_reconstruct\u001b[0;34m(x, memo, func, args, state, listiter, dictiter, deepcopy)\u001b[0m\n\u001b[1;32m    294\u001b[0m     \u001b[39mfor\u001b[39;00m key, value \u001b[39min\u001b[39;00m dictiter:\n\u001b[1;32m    295\u001b[0m         key \u001b[39m=\u001b[39m deepcopy(key, memo)\n\u001b[0;32m--> 296\u001b[0m         value \u001b[39m=\u001b[39m deepcopy(value, memo)\n\u001b[1;32m    297\u001b[0m         y[key] \u001b[39m=\u001b[39m value\n\u001b[1;32m    298\u001b[0m \u001b[39melse\u001b[39;00m:\n",
      "File \u001b[0;32m~/miniconda3/envs/jc/lib/python3.9/copy.py:153\u001b[0m, in \u001b[0;36mdeepcopy\u001b[0;34m(x, memo, _nil)\u001b[0m\n\u001b[1;32m    151\u001b[0m copier \u001b[39m=\u001b[39m \u001b[39mgetattr\u001b[39m(x, \u001b[39m\"\u001b[39m\u001b[39m__deepcopy__\u001b[39m\u001b[39m\"\u001b[39m, \u001b[39mNone\u001b[39;00m)\n\u001b[1;32m    152\u001b[0m \u001b[39mif\u001b[39;00m copier \u001b[39mis\u001b[39;00m \u001b[39mnot\u001b[39;00m \u001b[39mNone\u001b[39;00m:\n\u001b[0;32m--> 153\u001b[0m     y \u001b[39m=\u001b[39m copier(memo)\n\u001b[1;32m    154\u001b[0m \u001b[39melse\u001b[39;00m:\n\u001b[1;32m    155\u001b[0m     reductor \u001b[39m=\u001b[39m dispatch_table\u001b[39m.\u001b[39mget(\u001b[39mcls\u001b[39m)\n",
      "File \u001b[0;32m~/miniconda3/envs/jc/lib/python3.9/site-packages/torch/_tensor.py:135\u001b[0m, in \u001b[0;36mTensor.__deepcopy__\u001b[0;34m(self, memo)\u001b[0m\n\u001b[1;32m    126\u001b[0m         \u001b[39mraise\u001b[39;00m \u001b[39mRuntimeError\u001b[39;00m(\n\u001b[1;32m    127\u001b[0m             \u001b[39m\"\u001b[39m\u001b[39mThe default implementation of __deepcopy__() for wrapper subclasses \u001b[39m\u001b[39m\"\u001b[39m\n\u001b[1;32m    128\u001b[0m             \u001b[39m\"\u001b[39m\u001b[39monly works for subclass types that implement clone() and for which \u001b[39m\u001b[39m\"\u001b[39m\n\u001b[0;32m   (...)\u001b[0m\n\u001b[1;32m    132\u001b[0m             \u001b[39m\"\u001b[39m\u001b[39mdifferent type.\u001b[39m\u001b[39m\"\u001b[39m\n\u001b[1;32m    133\u001b[0m         )\n\u001b[1;32m    134\u001b[0m \u001b[39melse\u001b[39;00m:\n\u001b[0;32m--> 135\u001b[0m     new_storage \u001b[39m=\u001b[39m \u001b[39mself\u001b[39;49m\u001b[39m.\u001b[39;49mstorage()\u001b[39m.\u001b[39;49m__deepcopy__(memo)\n\u001b[1;32m    136\u001b[0m     \u001b[39mif\u001b[39;00m \u001b[39mself\u001b[39m\u001b[39m.\u001b[39mis_quantized:\n\u001b[1;32m    137\u001b[0m         \u001b[39m# quantizer_params can be different type based on torch attribute\u001b[39;00m\n\u001b[1;32m    138\u001b[0m         quantizer_params: Union[\n\u001b[1;32m    139\u001b[0m             Tuple[torch\u001b[39m.\u001b[39mqscheme, \u001b[39mfloat\u001b[39m, \u001b[39mint\u001b[39m],\n\u001b[1;32m    140\u001b[0m             Tuple[torch\u001b[39m.\u001b[39mqscheme, Tensor, Tensor, \u001b[39mint\u001b[39m],\n\u001b[1;32m    141\u001b[0m         ]\n",
      "File \u001b[0;32m~/miniconda3/envs/jc/lib/python3.9/site-packages/torch/storage.py:597\u001b[0m, in \u001b[0;36mTypedStorage.__deepcopy__\u001b[0;34m(self, memo)\u001b[0m\n\u001b[1;32m    596\u001b[0m \u001b[39mdef\u001b[39;00m \u001b[39m__deepcopy__\u001b[39m(\u001b[39mself\u001b[39m, memo):\n\u001b[0;32m--> 597\u001b[0m     \u001b[39mreturn\u001b[39;00m \u001b[39mself\u001b[39m\u001b[39m.\u001b[39m_new_wrapped_storage(copy\u001b[39m.\u001b[39;49mdeepcopy(\u001b[39mself\u001b[39;49m\u001b[39m.\u001b[39;49m_storage, memo))\n",
      "File \u001b[0;32m~/miniconda3/envs/jc/lib/python3.9/copy.py:153\u001b[0m, in \u001b[0;36mdeepcopy\u001b[0;34m(x, memo, _nil)\u001b[0m\n\u001b[1;32m    151\u001b[0m copier \u001b[39m=\u001b[39m \u001b[39mgetattr\u001b[39m(x, \u001b[39m\"\u001b[39m\u001b[39m__deepcopy__\u001b[39m\u001b[39m\"\u001b[39m, \u001b[39mNone\u001b[39;00m)\n\u001b[1;32m    152\u001b[0m \u001b[39mif\u001b[39;00m copier \u001b[39mis\u001b[39;00m \u001b[39mnot\u001b[39;00m \u001b[39mNone\u001b[39;00m:\n\u001b[0;32m--> 153\u001b[0m     y \u001b[39m=\u001b[39m copier(memo)\n\u001b[1;32m    154\u001b[0m \u001b[39melse\u001b[39;00m:\n\u001b[1;32m    155\u001b[0m     reductor \u001b[39m=\u001b[39m dispatch_table\u001b[39m.\u001b[39mget(\u001b[39mcls\u001b[39m)\n",
      "File \u001b[0;32m~/miniconda3/envs/jc/lib/python3.9/site-packages/torch/storage.py:97\u001b[0m, in \u001b[0;36m_StorageBase.__deepcopy__\u001b[0;34m(self, memo)\u001b[0m\n\u001b[1;32m     95\u001b[0m \u001b[39mif\u001b[39;00m \u001b[39mself\u001b[39m\u001b[39m.\u001b[39m_cdata \u001b[39min\u001b[39;00m memo:\n\u001b[1;32m     96\u001b[0m     \u001b[39mreturn\u001b[39;00m memo[\u001b[39mself\u001b[39m\u001b[39m.\u001b[39m_cdata]\n\u001b[0;32m---> 97\u001b[0m new_storage \u001b[39m=\u001b[39m \u001b[39mself\u001b[39;49m\u001b[39m.\u001b[39;49mclone()\n\u001b[1;32m     98\u001b[0m memo[\u001b[39mself\u001b[39m\u001b[39m.\u001b[39m_cdata] \u001b[39m=\u001b[39m new_storage\n\u001b[1;32m     99\u001b[0m \u001b[39mreturn\u001b[39;00m new_storage\n",
      "File \u001b[0;32m~/miniconda3/envs/jc/lib/python3.9/site-packages/torch/storage.py:111\u001b[0m, in \u001b[0;36m_StorageBase.clone\u001b[0;34m(self)\u001b[0m\n\u001b[1;32m    109\u001b[0m \u001b[39mdef\u001b[39;00m \u001b[39mclone\u001b[39m(\u001b[39mself\u001b[39m):\n\u001b[1;32m    110\u001b[0m \u001b[39m    \u001b[39m\u001b[39m\"\"\"Returns a copy of this storage\"\"\"\u001b[39;00m\n\u001b[0;32m--> 111\u001b[0m     \u001b[39mreturn\u001b[39;00m \u001b[39mtype\u001b[39;49m(\u001b[39mself\u001b[39;49m)(\u001b[39mself\u001b[39;49m\u001b[39m.\u001b[39;49mnbytes(), device\u001b[39m=\u001b[39;49m\u001b[39mself\u001b[39;49m\u001b[39m.\u001b[39;49mdevice)\u001b[39m.\u001b[39mcopy_(\u001b[39mself\u001b[39m)\n",
      "\u001b[0;31mOutOfMemoryError\u001b[0m: CUDA out of memory. Tried to allocate 100.00 MiB (GPU 1; 23.70 GiB total capacity; 22.28 GiB already allocated; 36.69 MiB free; 22.52 GiB reserved in total by PyTorch) If reserved memory is >> allocated memory try setting max_split_size_mb to avoid fragmentation.  See documentation for Memory Management and PYTORCH_CUDA_ALLOC_CONF"
     ]
    }
   ],
   "source": [
    "from rus_pipeline import run_exp_pure\n",
    "import torch\n",
    "import gc\n",
    "gc.collect()\n",
    "torch.cuda.empty_cache()\n",
    "def main():\n",
    "    run_exp_pure(\n",
    "        pretrained_layers=4,\n",
    "        gearnet_freeze_layer=0,\n",
    "        gearnet_hidden_dim_size=768,\n",
    "        lr=1e-3,\n",
    "        batch_size=1,\n",
    "        patience=5,\n",
    "        lr_half_epoch=0,\n",
    "        lm_type='esm-t36',\n",
    "        bert_freeze_layer=33,\n",
    "        mlp_lr_ratio=1,\n",
    "        use_rus=False,\n",
    "        seed=0,\n",
    "        pretrained_weight_key=None,\n",
    "        bce_weight=1,\n",
    "        gpu=1,\n",
    "    )\n",
    "\n",
    "main()"
   ]
  }
 ],
 "metadata": {
  "kernelspec": {
   "display_name": "jc",
   "language": "python",
   "name": "python3"
  },
  "language_info": {
   "codemirror_mode": {
    "name": "ipython",
    "version": 3
   },
   "file_extension": ".py",
   "mimetype": "text/x-python",
   "name": "python",
   "nbconvert_exporter": "python",
   "pygments_lexer": "ipython3",
   "version": "3.9.17"
  },
  "orig_nbformat": 4
 },
 "nbformat": 4,
 "nbformat_minor": 2
}
