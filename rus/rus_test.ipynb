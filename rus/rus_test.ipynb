{
 "cells": [
  {
   "cell_type": "code",
   "execution_count": 1,
   "metadata": {},
   "outputs": [
    {
     "name": "stdout",
     "output_type": "stream",
     "text": [
      "get dataset atpbind3d-minimal\n",
      "Split num:  [4, 1, 5]\n",
      "get item 0\n"
     ]
    },
    {
     "ename": "ValueError",
     "evalue": "Expect residue attribute `target` to have shape (350, *), but found torch.Size([566, 1])",
     "output_type": "error",
     "traceback": [
      "\u001b[0;31m---------------------------------------------------------------------------\u001b[0m",
      "\u001b[0;31mValueError\u001b[0m                                Traceback (most recent call last)",
      "Cell \u001b[0;32mIn[1], line 7\u001b[0m\n\u001b[1;32m      5\u001b[0m \u001b[39mimport\u001b[39;00m \u001b[39mtorch\u001b[39;00m\n\u001b[1;32m      6\u001b[0m GPU \u001b[39m=\u001b[39m \u001b[39m0\u001b[39m\n\u001b[0;32m----> 7\u001b[0m pipeline \u001b[39m=\u001b[39m Pipeline(\n\u001b[1;32m      8\u001b[0m     model\u001b[39m=\u001b[39;49m\u001b[39m'\u001b[39;49m\u001b[39mlm-gearnet\u001b[39;49m\u001b[39m'\u001b[39;49m,\n\u001b[1;32m      9\u001b[0m     dataset\u001b[39m=\u001b[39;49m\u001b[39m'\u001b[39;49m\u001b[39matpbind3d-minimal\u001b[39;49m\u001b[39m'\u001b[39;49m,\n\u001b[1;32m     10\u001b[0m     gpus\u001b[39m=\u001b[39;49m[GPU],\n\u001b[1;32m     11\u001b[0m     model_kwargs\u001b[39m=\u001b[39;49m{\n\u001b[1;32m     12\u001b[0m         \u001b[39m'\u001b[39;49m\u001b[39mgpu\u001b[39;49m\u001b[39m'\u001b[39;49m: \u001b[39m0\u001b[39;49m,\n\u001b[1;32m     13\u001b[0m         \u001b[39m'\u001b[39;49m\u001b[39mgearnet_hidden_dim_size\u001b[39;49m\u001b[39m'\u001b[39;49m: \u001b[39m512\u001b[39;49m,\n\u001b[1;32m     14\u001b[0m         \u001b[39m'\u001b[39;49m\u001b[39mgearnet_hidden_dim_count\u001b[39;49m\u001b[39m'\u001b[39;49m: \u001b[39m4\u001b[39;49m,\n\u001b[1;32m     15\u001b[0m         \u001b[39m'\u001b[39;49m\u001b[39mbert_freeze\u001b[39;49m\u001b[39m'\u001b[39;49m: \u001b[39mFalse\u001b[39;49;00m,\n\u001b[1;32m     16\u001b[0m         \u001b[39m'\u001b[39;49m\u001b[39mbert_freeze_layer_count\u001b[39;49m\u001b[39m'\u001b[39;49m: \u001b[39m29\u001b[39;49m,\n\u001b[1;32m     17\u001b[0m     }\n\u001b[1;32m     18\u001b[0m )\n\u001b[1;32m     20\u001b[0m state_dict \u001b[39m=\u001b[39m torch\u001b[39m.\u001b[39mload(\u001b[39m'\u001b[39m\u001b[39m../lmg_29_4_512_0.58736.pth\u001b[39m\u001b[39m'\u001b[39m, map_location\u001b[39m=\u001b[39m\u001b[39mf\u001b[39m\u001b[39m'\u001b[39m\u001b[39mcuda:\u001b[39m\u001b[39m{\u001b[39;00mGPU\u001b[39m}\u001b[39;00m\u001b[39m'\u001b[39m)\n\u001b[1;32m     21\u001b[0m pipeline\u001b[39m.\u001b[39mmodel\u001b[39m.\u001b[39mload_state_dict(state_dict)\n",
      "File \u001b[0;32m~/atpbind/lib/pipeline.py:92\u001b[0m, in \u001b[0;36mPipeline.__init__\u001b[0;34m(self, model, dataset, gpus, model_kwargs, optimizer_kwargs, graph_knn_k, graph_spatial_radius, graph_sequential_max_distance, batch_size, bce_weight, verbose)\u001b[0m\n\u001b[1;32m     89\u001b[0m     \u001b[39melif\u001b[39;00m model \u001b[39m==\u001b[39m \u001b[39m'\u001b[39m\u001b[39mcnn\u001b[39m\u001b[39m'\u001b[39m:\n\u001b[1;32m     90\u001b[0m         \u001b[39mself\u001b[39m\u001b[39m.\u001b[39mmodel \u001b[39m=\u001b[39m models\u001b[39m.\u001b[39mProteinCNN(\u001b[39m*\u001b[39m\u001b[39m*\u001b[39mmodel_kwargs)\n\u001b[0;32m---> 92\u001b[0m \u001b[39mself\u001b[39m\u001b[39m.\u001b[39mtrain_set, \u001b[39mself\u001b[39m\u001b[39m.\u001b[39mvalid_set, \u001b[39mself\u001b[39m\u001b[39m.\u001b[39mtest_set \u001b[39m=\u001b[39m get_dataset(dataset)\n\u001b[1;32m     94\u001b[0m \u001b[39mif\u001b[39;00m dataset \u001b[39m==\u001b[39m \u001b[39m'\u001b[39m\u001b[39matpbind\u001b[39m\u001b[39m'\u001b[39m:\n\u001b[1;32m     95\u001b[0m     \u001b[39mself\u001b[39m\u001b[39m.\u001b[39mtask \u001b[39m=\u001b[39m NodePropertyPrediction(\n\u001b[1;32m     96\u001b[0m         \u001b[39mself\u001b[39m\u001b[39m.\u001b[39mmodel, \n\u001b[1;32m     97\u001b[0m         normalization\u001b[39m=\u001b[39m\u001b[39mFalse\u001b[39;00m,\n\u001b[0;32m   (...)\u001b[0m\n\u001b[1;32m    100\u001b[0m         bce_weight\u001b[39m=\u001b[39mtorch\u001b[39m.\u001b[39mtensor([bce_weight], device\u001b[39m=\u001b[39mtorch\u001b[39m.\u001b[39mdevice(\u001b[39mf\u001b[39m\u001b[39m'\u001b[39m\u001b[39mcuda:\u001b[39m\u001b[39m{\u001b[39;00m\u001b[39mself\u001b[39m\u001b[39m.\u001b[39mgpus[\u001b[39m0\u001b[39m]\u001b[39m}\u001b[39;00m\u001b[39m'\u001b[39m)),\n\u001b[1;32m    101\u001b[0m     )\n",
      "File \u001b[0;32m~/atpbind/lib/pipeline.py:50\u001b[0m, in \u001b[0;36mget_dataset\u001b[0;34m(dataset)\u001b[0m\n\u001b[1;32m     47\u001b[0m \u001b[39melif\u001b[39;00m dataset \u001b[39m==\u001b[39m \u001b[39m'\u001b[39m\u001b[39matpbind3d-minimal\u001b[39m\u001b[39m'\u001b[39m:\n\u001b[1;32m     48\u001b[0m     dataset \u001b[39m=\u001b[39m ATPBind3D(transform\u001b[39m=\u001b[39mtransform, limit\u001b[39m=\u001b[39m\u001b[39m5\u001b[39m)\n\u001b[0;32m---> 50\u001b[0m train_set, valid_set, test_set \u001b[39m=\u001b[39m dataset\u001b[39m.\u001b[39;49msplit()\n\u001b[1;32m     51\u001b[0m \u001b[39mprint\u001b[39m(\u001b[39m\"\u001b[39m\u001b[39mtrain samples: \u001b[39m\u001b[39m%d\u001b[39;00m\u001b[39m, valid samples: \u001b[39m\u001b[39m%d\u001b[39;00m\u001b[39m, test samples: \u001b[39m\u001b[39m%d\u001b[39;00m\u001b[39m\"\u001b[39m \u001b[39m%\u001b[39m\n\u001b[1;32m     52\u001b[0m       (\u001b[39mlen\u001b[39m(train_set), \u001b[39mlen\u001b[39m(valid_set), \u001b[39mlen\u001b[39m(test_set)))\n\u001b[1;32m     54\u001b[0m \u001b[39mreturn\u001b[39;00m train_set, valid_set, test_set\n",
      "File \u001b[0;32m~/atpbind/lib/datasets.py:191\u001b[0m, in \u001b[0;36mATPBind3D.split\u001b[0;34m(self, keys)\u001b[0m\n\u001b[1;32m    186\u001b[0m \u001b[39mwith\u001b[39;00m graph\u001b[39m.\u001b[39mresidue():\n\u001b[1;32m    187\u001b[0m     target \u001b[39m=\u001b[39m torch\u001b[39m.\u001b[39mas_tensor(\n\u001b[1;32m    188\u001b[0m         \u001b[39mself\u001b[39m\u001b[39m.\u001b[39mtargets[\u001b[39m\"\u001b[39m\u001b[39mbinding\u001b[39m\u001b[39m\"\u001b[39m][offset \u001b[39m+\u001b[39m i],\n\u001b[1;32m    189\u001b[0m         dtype\u001b[39m=\u001b[39mtorch\u001b[39m.\u001b[39mlong\n\u001b[1;32m    190\u001b[0m     )\u001b[39m.\u001b[39mview(\u001b[39m-\u001b[39m\u001b[39m1\u001b[39m, \u001b[39m1\u001b[39m)\n\u001b[0;32m--> 191\u001b[0m     graph\u001b[39m.\u001b[39;49mtarget \u001b[39m=\u001b[39m target\n\u001b[1;32m    192\u001b[0m     mask \u001b[39m=\u001b[39m torch\u001b[39m.\u001b[39mones_like(target)\u001b[39m.\u001b[39mbool()\n\u001b[1;32m    193\u001b[0m     graph\u001b[39m.\u001b[39mmask \u001b[39m=\u001b[39m mask\n",
      "File \u001b[0;32m~/miniconda3/envs/jc/lib/python3.9/site-packages/torchdrug/data/protein.py:157\u001b[0m, in \u001b[0;36mProtein.__setattr__\u001b[0;34m(self, key, value)\u001b[0m\n\u001b[1;32m    155\u001b[0m \u001b[39mif\u001b[39;00m key \u001b[39m==\u001b[39m \u001b[39m\"\u001b[39m\u001b[39mview\u001b[39m\u001b[39m\"\u001b[39m \u001b[39mand\u001b[39;00m value \u001b[39mnot\u001b[39;00m \u001b[39min\u001b[39;00m [\u001b[39m\"\u001b[39m\u001b[39matom\u001b[39m\u001b[39m\"\u001b[39m, \u001b[39m\"\u001b[39m\u001b[39mresidue\u001b[39m\u001b[39m\"\u001b[39m]:\n\u001b[1;32m    156\u001b[0m     \u001b[39mraise\u001b[39;00m \u001b[39mValueError\u001b[39;00m(\u001b[39m\"\u001b[39m\u001b[39mExpect `view` to be either `atom` or `residue`, but found `\u001b[39m\u001b[39m%s\u001b[39;00m\u001b[39m`\u001b[39m\u001b[39m\"\u001b[39m \u001b[39m%\u001b[39m value)\n\u001b[0;32m--> 157\u001b[0m \u001b[39mreturn\u001b[39;00m \u001b[39msuper\u001b[39;49m(Protein, \u001b[39mself\u001b[39;49m)\u001b[39m.\u001b[39;49m\u001b[39m__setattr__\u001b[39;49m(key, value)\n",
      "File \u001b[0;32m~/miniconda3/envs/jc/lib/python3.9/site-packages/torchdrug/data/graph.py:159\u001b[0m, in \u001b[0;36mGraph.__setattr__\u001b[0;34m(self, key, value)\u001b[0m\n\u001b[1;32m    157\u001b[0m \u001b[39mdef\u001b[39;00m \u001b[39m__setattr__\u001b[39m(\u001b[39mself\u001b[39m, key, value):\n\u001b[1;32m    158\u001b[0m     \u001b[39mif\u001b[39;00m \u001b[39mhasattr\u001b[39m(\u001b[39mself\u001b[39m, \u001b[39m\"\u001b[39m\u001b[39mmeta_dict\u001b[39m\u001b[39m\"\u001b[39m):\n\u001b[0;32m--> 159\u001b[0m         \u001b[39mself\u001b[39;49m\u001b[39m.\u001b[39;49m_check_attribute(key, value)\n\u001b[1;32m    160\u001b[0m     \u001b[39msuper\u001b[39m(Graph, \u001b[39mself\u001b[39m)\u001b[39m.\u001b[39m\u001b[39m__setattr__\u001b[39m(key, value)\n",
      "File \u001b[0;32m~/miniconda3/envs/jc/lib/python3.9/site-packages/torchdrug/data/protein.py:137\u001b[0m, in \u001b[0;36mProtein._check_attribute\u001b[0;34m(self, key, value)\u001b[0m\n\u001b[1;32m    135\u001b[0m \u001b[39mif\u001b[39;00m \u001b[39mtype\u001b[39m \u001b[39m==\u001b[39m \u001b[39m\"\u001b[39m\u001b[39mresidue\u001b[39m\u001b[39m\"\u001b[39m:\n\u001b[1;32m    136\u001b[0m     \u001b[39mif\u001b[39;00m \u001b[39mlen\u001b[39m(value) \u001b[39m!=\u001b[39m \u001b[39mself\u001b[39m\u001b[39m.\u001b[39mnum_residue:\n\u001b[0;32m--> 137\u001b[0m         \u001b[39mraise\u001b[39;00m \u001b[39mValueError\u001b[39;00m(\u001b[39m\"\u001b[39m\u001b[39mExpect residue attribute `\u001b[39m\u001b[39m%s\u001b[39;00m\u001b[39m` to have shape (\u001b[39m\u001b[39m%d\u001b[39;00m\u001b[39m, *), but found \u001b[39m\u001b[39m%s\u001b[39;00m\u001b[39m\"\u001b[39m \u001b[39m%\u001b[39m\n\u001b[1;32m    138\u001b[0m                          (key, \u001b[39mself\u001b[39m\u001b[39m.\u001b[39mnum_residue, value\u001b[39m.\u001b[39mshape))\n\u001b[1;32m    139\u001b[0m \u001b[39melif\u001b[39;00m \u001b[39mtype\u001b[39m \u001b[39m==\u001b[39m \u001b[39m\"\u001b[39m\u001b[39mresidue reference\u001b[39m\u001b[39m\"\u001b[39m:\n\u001b[1;32m    140\u001b[0m     is_valid \u001b[39m=\u001b[39m (value \u001b[39m>\u001b[39m\u001b[39m=\u001b[39m \u001b[39m-\u001b[39m\u001b[39m1\u001b[39m) \u001b[39m&\u001b[39m (value \u001b[39m<\u001b[39m \u001b[39mself\u001b[39m\u001b[39m.\u001b[39mnum_residue)\n",
      "\u001b[0;31mValueError\u001b[0m: Expect residue attribute `target` to have shape (350, *), but found torch.Size([566, 1])"
     ]
    }
   ],
   "source": [
    "import sys, os\n",
    "sys.path.insert(0, os.path.abspath('..'))\n",
    "\n",
    "from lib.pipeline import Pipeline\n",
    "import torch\n",
    "GPU = 0\n",
    "pipeline = Pipeline(\n",
    "    model='lm-gearnet',\n",
    "    dataset='atpbind3d-minimal',\n",
    "    gpus=[GPU],\n",
    "    model_kwargs={\n",
    "        'gpu': 0,\n",
    "        'gearnet_hidden_dim_size': 512,\n",
    "        'gearnet_hidden_dim_count': 4,\n",
    "        'bert_freeze': False,\n",
    "        'bert_freeze_layer_count': 29,\n",
    "    }\n",
    ")\n",
    "\n",
    "state_dict = torch.load('../lmg_29_4_512_0.58736.pth', map_location=f'cuda:{GPU}')\n",
    "pipeline.model.load_state_dict(state_dict)\n"
   ]
  },
  {
   "cell_type": "code",
   "execution_count": null,
   "metadata": {},
   "outputs": [
    {
     "name": "stdout",
     "output_type": "stream",
     "text": [
      "get item 0\n"
     ]
    },
    {
     "data": {
      "text/plain": [
       "torch.Size([350, 1])"
      ]
     },
     "execution_count": 2,
     "metadata": {},
     "output_type": "execute_result"
    }
   ],
   "source": [
    "# single pass의 경우 prediction과 loss가 어떻게 나오는지 확인?\n",
    "from torchdrug import data, utils\n",
    "dataloader = data.DataLoader([pipeline.train_set[0]], batch_size=1, shuffle=False)\n",
    "batch = utils.cuda(next(iter(dataloader)), device=torch.device('cuda:{}'.format(GPU)))\n",
    "pred, target = pipeline.task.predict_and_target(batch)\n",
    "pred.shape"
   ]
  },
  {
   "cell_type": "code",
   "execution_count": null,
   "metadata": {},
   "outputs": [
    {
     "name": "stdout",
     "output_type": "stream",
     "text": [
      "[315, 316, 317, 321, 322, 324, 333, 335]\n"
     ]
    }
   ],
   "source": [
    "target_index = [i+1 for i, item in enumerate(target['label']) if item.item() == 1]\n",
    "print(target_index)"
   ]
  },
  {
   "cell_type": "code",
   "execution_count": null,
   "metadata": {},
   "outputs": [
    {
     "name": "stdout",
     "output_type": "stream",
     "text": [
      "tensor([[-0.1920],\n",
      "        [ 0.1383],\n",
      "        [-0.2469],\n",
      "        [ 0.1761],\n",
      "        [-0.0894],\n",
      "        [ 0.1021],\n",
      "        [ 0.0327],\n",
      "        [-0.0528],\n",
      "        [-0.0554],\n",
      "        [ 0.2078],\n",
      "        [ 0.1084],\n",
      "        [ 0.2347],\n",
      "        [-0.0943],\n",
      "        [ 0.0247],\n",
      "        [-0.1133],\n",
      "        [-0.3579],\n",
      "        [-0.1789],\n",
      "        [-0.2484],\n",
      "        [ 0.0170],\n",
      "        [-0.0496]], device='cuda:0', grad_fn=<SliceBackward0>)\n"
     ]
    }
   ],
   "source": [
    "print(pred[310:330])"
   ]
  },
  {
   "cell_type": "code",
   "execution_count": null,
   "metadata": {},
   "outputs": [
    {
     "name": "stdout",
     "output_type": "stream",
     "text": [
      "tensor([[0.],\n",
      "        [0.],\n",
      "        [0.],\n",
      "        [0.],\n",
      "        [1.],\n",
      "        [1.],\n",
      "        [1.],\n",
      "        [0.],\n",
      "        [0.],\n",
      "        [0.],\n",
      "        [1.],\n",
      "        [1.],\n",
      "        [0.],\n",
      "        [1.],\n",
      "        [0.],\n",
      "        [0.],\n",
      "        [0.],\n",
      "        [0.],\n",
      "        [0.],\n",
      "        [0.]], device='cuda:0')\n"
     ]
    }
   ],
   "source": [
    "print(target['label'].float()[310:330])"
   ]
  },
  {
   "cell_type": "code",
   "execution_count": null,
   "metadata": {},
   "outputs": [
    {
     "name": "stdout",
     "output_type": "stream",
     "text": [
      "get item 4\n"
     ]
    },
    {
     "data": {
      "text/plain": [
       "{'best_mcc': 0.0018134073025168724, 'best_threshold': 0.30000000000000027}"
      ]
     },
     "execution_count": 6,
     "metadata": {},
     "output_type": "execute_result"
    }
   ],
   "source": [
    "pipeline.calculate_best_mcc_and_threshold()"
   ]
  },
  {
   "cell_type": "code",
   "execution_count": null,
   "metadata": {},
   "outputs": [
    {
     "data": {
      "text/plain": [
       "tensor([[0.6514],\n",
       "        [0.7210],\n",
       "        [0.7564],\n",
       "        [0.7950],\n",
       "        [0.8091],\n",
       "        [0.6705],\n",
       "        [0.7236],\n",
       "        [0.7576],\n",
       "        [0.7934],\n",
       "        [0.6160],\n",
       "        [0.6972],\n",
       "        [0.8441],\n",
       "        [0.7898],\n",
       "        [0.7273],\n",
       "        [0.7017],\n",
       "        [0.7419],\n",
       "        [0.7049],\n",
       "        [0.7446],\n",
       "        [0.8527],\n",
       "        [0.6859],\n",
       "        [0.7753],\n",
       "        [0.7505],\n",
       "        [0.6396],\n",
       "        [0.6227],\n",
       "        [0.5798],\n",
       "        [0.7367],\n",
       "        [0.7874],\n",
       "        [0.6646],\n",
       "        [0.6835],\n",
       "        [0.8143],\n",
       "        [0.6852],\n",
       "        [0.6774],\n",
       "        [0.7420],\n",
       "        [0.6523],\n",
       "        [0.7458],\n",
       "        [0.6750],\n",
       "        [0.8594],\n",
       "        [0.7974],\n",
       "        [0.9411],\n",
       "        [0.7921],\n",
       "        [0.7792],\n",
       "        [0.8310],\n",
       "        [0.8617],\n",
       "        [0.6746],\n",
       "        [0.7339],\n",
       "        [0.7546],\n",
       "        [0.8546],\n",
       "        [0.6732],\n",
       "        [0.7331],\n",
       "        [0.6850],\n",
       "        [0.7856],\n",
       "        [0.7676],\n",
       "        [0.7071],\n",
       "        [0.8031],\n",
       "        [0.7337],\n",
       "        [0.8480],\n",
       "        [0.7778],\n",
       "        [0.8106],\n",
       "        [0.8296],\n",
       "        [0.7902],\n",
       "        [0.6645],\n",
       "        [0.7483],\n",
       "        [0.7859],\n",
       "        [0.9128],\n",
       "        [0.7641],\n",
       "        [0.7982],\n",
       "        [0.8412],\n",
       "        [0.6772],\n",
       "        [0.8197],\n",
       "        [0.6868],\n",
       "        [0.6552],\n",
       "        [0.8016],\n",
       "        [0.6330],\n",
       "        [0.8267],\n",
       "        [0.6321],\n",
       "        [0.7576],\n",
       "        [0.7307],\n",
       "        [0.7256],\n",
       "        [0.6757],\n",
       "        [0.6881],\n",
       "        [0.8598],\n",
       "        [0.7333],\n",
       "        [0.7140],\n",
       "        [0.6055],\n",
       "        [0.7123],\n",
       "        [0.7233],\n",
       "        [0.7883],\n",
       "        [0.7468],\n",
       "        [0.7501],\n",
       "        [0.7416],\n",
       "        [0.8061],\n",
       "        [0.9178],\n",
       "        [0.4945],\n",
       "        [0.5691],\n",
       "        [0.6506],\n",
       "        [0.6591],\n",
       "        [0.6260],\n",
       "        [0.6540],\n",
       "        [0.6211],\n",
       "        [0.7679],\n",
       "        [0.6022],\n",
       "        [0.6626],\n",
       "        [0.7403],\n",
       "        [0.6356],\n",
       "        [0.8998],\n",
       "        [0.6782],\n",
       "        [0.6293],\n",
       "        [0.6890],\n",
       "        [0.6507],\n",
       "        [0.7682],\n",
       "        [0.7367],\n",
       "        [0.7728],\n",
       "        [0.6912],\n",
       "        [0.6578],\n",
       "        [0.7462],\n",
       "        [0.7054],\n",
       "        [0.6608],\n",
       "        [0.6760],\n",
       "        [0.6550],\n",
       "        [0.6585],\n",
       "        [0.7777],\n",
       "        [0.7986],\n",
       "        [0.6696],\n",
       "        [0.7381],\n",
       "        [0.6117],\n",
       "        [0.6876],\n",
       "        [0.8024],\n",
       "        [0.8455],\n",
       "        [0.6200],\n",
       "        [0.7284],\n",
       "        [0.6484],\n",
       "        [0.7803],\n",
       "        [0.7166],\n",
       "        [0.7938],\n",
       "        [0.7430],\n",
       "        [0.7767],\n",
       "        [0.6293],\n",
       "        [0.5518],\n",
       "        [0.6374],\n",
       "        [0.6454],\n",
       "        [0.6679],\n",
       "        [0.7662],\n",
       "        [0.6404],\n",
       "        [0.6238],\n",
       "        [0.7576],\n",
       "        [0.7013],\n",
       "        [0.6353],\n",
       "        [0.7765],\n",
       "        [0.6889],\n",
       "        [0.8591],\n",
       "        [0.8117],\n",
       "        [0.7801],\n",
       "        [0.8159],\n",
       "        [0.7849],\n",
       "        [0.7228],\n",
       "        [0.7628],\n",
       "        [0.8002],\n",
       "        [0.9124],\n",
       "        [0.7889],\n",
       "        [0.6805],\n",
       "        [0.8255],\n",
       "        [0.8517],\n",
       "        [0.8908],\n",
       "        [0.6192],\n",
       "        [0.7862],\n",
       "        [0.9486],\n",
       "        [0.8259],\n",
       "        [0.6318],\n",
       "        [0.9358],\n",
       "        [0.6537],\n",
       "        [0.8010],\n",
       "        [0.8252],\n",
       "        [0.7500],\n",
       "        [0.7020],\n",
       "        [0.8328],\n",
       "        [0.7628],\n",
       "        [0.7422],\n",
       "        [0.6365],\n",
       "        [0.9382],\n",
       "        [0.7526],\n",
       "        [0.6816],\n",
       "        [0.6815],\n",
       "        [0.7607],\n",
       "        [0.7753],\n",
       "        [0.7514],\n",
       "        [0.8035],\n",
       "        [0.7952],\n",
       "        [0.8345],\n",
       "        [0.7383],\n",
       "        [0.6712],\n",
       "        [0.8812],\n",
       "        [0.5818],\n",
       "        [0.6897],\n",
       "        [0.7135],\n",
       "        [0.6591],\n",
       "        [0.4734],\n",
       "        [0.5781],\n",
       "        [0.5633],\n",
       "        [0.7019],\n",
       "        [0.7480],\n",
       "        [0.5807],\n",
       "        [0.5832],\n",
       "        [0.6984],\n",
       "        [0.6166],\n",
       "        [0.6526],\n",
       "        [0.8030],\n",
       "        [0.6968],\n",
       "        [0.7052],\n",
       "        [0.5973],\n",
       "        [0.6161],\n",
       "        [0.5849],\n",
       "        [0.8723],\n",
       "        [0.6670],\n",
       "        [0.8006],\n",
       "        [0.6213],\n",
       "        [0.7621],\n",
       "        [0.8081],\n",
       "        [0.7704],\n",
       "        [0.7986],\n",
       "        [0.7170],\n",
       "        [0.6642],\n",
       "        [0.6569],\n",
       "        [0.6012],\n",
       "        [0.6069],\n",
       "        [0.7862],\n",
       "        [0.6794],\n",
       "        [0.7610],\n",
       "        [0.7668],\n",
       "        [0.7949],\n",
       "        [0.7748],\n",
       "        [0.6452],\n",
       "        [0.7104],\n",
       "        [0.7858],\n",
       "        [0.6483],\n",
       "        [0.7586],\n",
       "        [0.7651],\n",
       "        [0.6472],\n",
       "        [0.7296],\n",
       "        [0.7533],\n",
       "        [0.6057],\n",
       "        [0.7217],\n",
       "        [0.7738],\n",
       "        [0.7383],\n",
       "        [0.7552],\n",
       "        [0.8084],\n",
       "        [0.7313],\n",
       "        [0.8199],\n",
       "        [0.7265],\n",
       "        [0.8107],\n",
       "        [0.9277],\n",
       "        [0.7869],\n",
       "        [0.7558],\n",
       "        [0.6939],\n",
       "        [0.7248],\n",
       "        [0.5484],\n",
       "        [0.7202],\n",
       "        [0.8235],\n",
       "        [0.7540],\n",
       "        [0.6497],\n",
       "        [0.6609],\n",
       "        [0.4835],\n",
       "        [0.5899],\n",
       "        [0.7240],\n",
       "        [0.5567],\n",
       "        [0.5780],\n",
       "        [0.7566],\n",
       "        [0.8869],\n",
       "        [0.6442],\n",
       "        [0.6477],\n",
       "        [0.7654],\n",
       "        [0.7379],\n",
       "        [0.8035],\n",
       "        [0.7492],\n",
       "        [0.7810],\n",
       "        [0.6827],\n",
       "        [0.8845],\n",
       "        [0.7817],\n",
       "        [0.8032],\n",
       "        [0.7675],\n",
       "        [0.8375],\n",
       "        [0.8662],\n",
       "        [0.7893],\n",
       "        [0.6885],\n",
       "        [0.8291],\n",
       "        [0.6310],\n",
       "        [0.6891],\n",
       "        [0.7718],\n",
       "        [0.5433],\n",
       "        [0.7492],\n",
       "        [0.7291],\n",
       "        [0.8079],\n",
       "        [1.0614],\n",
       "        [0.8031],\n",
       "        [0.7073],\n",
       "        [0.9367],\n",
       "        [0.9590],\n",
       "        [0.5885],\n",
       "        [0.6474],\n",
       "        [0.7609],\n",
       "        [0.7370],\n",
       "        [0.7344],\n",
       "        [0.6392],\n",
       "        [0.7669],\n",
       "        [0.8214],\n",
       "        [0.8610],\n",
       "        [0.8282],\n",
       "        [0.7284],\n",
       "        [0.8958],\n",
       "        [0.6336],\n",
       "        [0.7423],\n",
       "        [0.6018],\n",
       "        [0.7647],\n",
       "        [0.5773],\n",
       "        [0.7851],\n",
       "        [0.7388],\n",
       "        [0.6434],\n",
       "        [0.6769],\n",
       "        [0.6671],\n",
       "        [0.6658],\n",
       "        [0.8024],\n",
       "        [0.6404],\n",
       "        [0.5827],\n",
       "        [0.6471],\n",
       "        [0.6809],\n",
       "        [0.6381],\n",
       "        [0.5301],\n",
       "        [0.6077],\n",
       "        [0.5766],\n",
       "        [0.7017],\n",
       "        [0.6687],\n",
       "        [0.8148],\n",
       "        [0.6474],\n",
       "        [0.6679],\n",
       "        [0.6392],\n",
       "        [0.6119],\n",
       "        [0.6061],\n",
       "        [0.6994],\n",
       "        [0.7550],\n",
       "        [0.8115],\n",
       "        [0.6539],\n",
       "        [0.7851],\n",
       "        [0.7646],\n",
       "        [0.6838],\n",
       "        [0.7316],\n",
       "        [0.8001],\n",
       "        [0.7555],\n",
       "        [0.6849],\n",
       "        [0.8203],\n",
       "        [0.7051],\n",
       "        [0.6464]], device='cuda:0',\n",
       "       grad_fn=<BinaryCrossEntropyWithLogitsBackward0>)"
      ]
     },
     "execution_count": 7,
     "metadata": {},
     "output_type": "execute_result"
    }
   ],
   "source": [
    "from torch.nn import functional as F\n",
    "loss = F.binary_cross_entropy_with_logits(pred, target[\"label\"].float(), reduction=\"none\")\n",
    "loss"
   ]
  },
  {
   "cell_type": "code",
   "execution_count": null,
   "metadata": {},
   "outputs": [
    {
     "name": "stdout",
     "output_type": "stream",
     "text": [
      "negative_prob: 0.25\n"
     ]
    },
    {
     "data": {
      "text/plain": [
       "tensor([False, False,  True,  True,  True,  True, False,  True, False, False])"
      ]
     },
     "execution_count": 8,
     "metadata": {},
     "output_type": "execute_result"
    }
   ],
   "source": [
    "import torch\n",
    "\n",
    "def generate_random_undersampling_mask(target):\n",
    "    # Count the number of positive samples\n",
    "    n_positives = torch.sum(target > 0)\n",
    "\n",
    "    # Compute the probability to get equal number of negative samples\n",
    "    negative_prob = 0.1\n",
    "\n",
    "    print(f'negative_prob: {negative_prob}')\n",
    "    torch.random.manual_seed(4)\n",
    "\n",
    "    # Generate random numbers between 0 and 1\n",
    "    random_tensor = torch.rand(target.size())\n",
    "\n",
    "    # Create a mask where the values are 1 if the target is positive or if the random number is lower than the computed probability\n",
    "    mask = ((target > 0) + (random_tensor < negative_prob))\n",
    "\n",
    "    return mask\n",
    "\n",
    "generate_random_undersampling_mask(torch.tensor([0, 0, 0, 0, 0, 1, 0, 1, 0, 0]))\n"
   ]
  },
  {
   "cell_type": "code",
   "execution_count": null,
   "metadata": {},
   "outputs": [
    {
     "name": "stdout",
     "output_type": "stream",
     "text": [
      "negative_prob: 0.023391813039779663\n"
     ]
    }
   ],
   "source": [
    "batch['graph'].mask = generate_random_undersampling_mask(batch['graph'].target.to('cpu')).to(f'cuda:{GPU}')"
   ]
  },
  {
   "cell_type": "code",
   "execution_count": null,
   "metadata": {},
   "outputs": [
    {
     "data": {
      "text/plain": [
       "tensor([0.7275], device='cuda:0', grad_fn=<DivBackward0>)"
      ]
     },
     "execution_count": 10,
     "metadata": {},
     "output_type": "execute_result"
    }
   ],
   "source": [
    "from torchdrug.layers import functional\n",
    "loss_all = functional.masked_mean(loss, torch.ones_like(loss).bool(), dim=0)\n",
    "loss_all"
   ]
  },
  {
   "cell_type": "code",
   "execution_count": null,
   "metadata": {},
   "outputs": [
    {
     "data": {
      "text/plain": [
       "tensor([0.6944], device='cuda:0', grad_fn=<DivBackward0>)"
      ]
     },
     "execution_count": 11,
     "metadata": {},
     "output_type": "execute_result"
    }
   ],
   "source": [
    "loss_rus = functional.masked_mean(loss, batch['graph'].mask, dim=0)\n",
    "loss_rus"
   ]
  },
  {
   "cell_type": "code",
   "execution_count": null,
   "metadata": {},
   "outputs": [],
   "source": [
    "all_loss = torch.tensor(0, dtype=torch.float32, device=f'cuda:{GPU}').view(1)"
   ]
  },
  {
   "cell_type": "code",
   "execution_count": null,
   "metadata": {},
   "outputs": [
    {
     "name": "stdout",
     "output_type": "stream",
     "text": [
      "get item 5\n"
     ]
    },
    {
     "data": {
      "text/plain": [
       "{'graph': Protein(num_atom=1400, num_bond=2796, num_residue=350)}"
      ]
     },
     "execution_count": 16,
     "metadata": {},
     "output_type": "execute_result"
    }
   ],
   "source": [
    "pipeline.test_set[0]"
   ]
  }
 ],
 "metadata": {
  "kernelspec": {
   "display_name": "jc",
   "language": "python",
   "name": "python3"
  },
  "language_info": {
   "codemirror_mode": {
    "name": "ipython",
    "version": 3
   },
   "file_extension": ".py",
   "mimetype": "text/x-python",
   "name": "python",
   "nbconvert_exporter": "python",
   "pygments_lexer": "ipython3",
   "version": "3.9.17"
  },
  "orig_nbformat": 4
 },
 "nbformat": 4,
 "nbformat_minor": 2
}
