{
 "cells": [
  {
   "cell_type": "code",
   "execution_count": 4,
   "metadata": {},
   "outputs": [],
   "source": [
    "import sys, os\n",
    "sys.path.insert(0, os.path.abspath('..'))\n",
    "from lib.pipeline import Pipeline\n",
    "from lib.disable_logger import DisableLogger\n",
    "import torch\n",
    "\n",
    "GPU = 1\n",
    "\n",
    "pipeline = Pipeline(\n",
    "    model='lm-gearnet',\n",
    "    dataset='atpbind3d',\n",
    "    task='mean-ensemble',\n",
    "    gpus=[GPU],\n",
    "    model_kwargs={\n",
    "        'gpu': GPU,\n",
    "        'gearnet_hidden_dim_size': 512,\n",
    "        'gearnet_hidden_dim_count': 4,\n",
    "        'bert_freeze': False,\n",
    "        'bert_freeze_layer_count': 29,\n",
    "    },\n",
    "    optimizer_kwargs={\n",
    "        'lr': 5e-4,\n",
    "    },\n",
    "    task_kwargs={\n",
    "        'state_dict_files': [],\n",
    "    },\n",
    "    bce_weight=1,\n",
    "    batch_size=16,\n",
    ")"
   ]
  },
  {
   "cell_type": "code",
   "execution_count": 5,
   "metadata": {},
   "outputs": [
    {
     "name": "stdout",
     "output_type": "stream",
     "text": [
      "{'sensitivity': 0.5725677609443665, 'specificity': 0.9893718957901001, 'accuracy': 0.967784583568573, 'precision': 0.7463617324829102, 'mcc': 0.637538591910511, 'micro_auroc': 0.9402536749839783}\n"
     ]
    }
   ],
   "source": [
    "state_dict_files_5 = [\n",
    "    'rus_5_0_0.6151.pth',\n",
    "    'rus_5_1_0.6221.pth',\n",
    "    'rus_5_2_0.6193.pth',\n",
    "    'rus_5_3_0.6266.pth',\n",
    "    'rus_5_4_0.6052.pth',\n",
    "    'rus_5_5_0.6085.pth',\n",
    "    'rus_5_6_0.5986.pth',\n",
    "    'rus_5_7_0.6108.pth',\n",
    "    'rus_5_8_0.6046.pth',\n",
    "    'rus_5_9_0.6080.pth',\n",
    "]\n",
    "\n",
    "with DisableLogger():\n",
    "    pipeline.task.state_dict_files = state_dict_files_5\n",
    "    print(pipeline.evaluate())"
   ]
  },
  {
   "cell_type": "code",
   "execution_count": 4,
   "metadata": {},
   "outputs": [
    {
     "name": "stdout",
     "output_type": "stream",
     "text": [
      "{'sensitivity': 0.5693780183792114, 'specificity': 0.9895461201667786, 'accuracy': 0.967784583568573, 'precision': 0.74842768907547, 'mcc': 0.6366610392623603, 'micro_auroc': 0.9433506727218628}\n"
     ]
    }
   ],
   "source": [
    "state_dict_files_10 = [\n",
    "    'rus_10_0_0.59580.pth',\n",
    "    'rus_10_1_0.59290.pth',\n",
    "    'rus_10_2_0.6494.pth',\n",
    "    'rus_10_3_0.6114.pth',\n",
    "    'rus_10_4_0.59780.pth',\n",
    "    'rus_10_5_0.6173.pth',\n",
    "    'rus_10_6_0.6152.pth',\n",
    "    'rus_10_7_0.6091.pth',\n",
    "    'rus_10_8_0.5989.pth',\n",
    "    'rus_10_9_0.5892.pth',\n",
    "]\n",
    "\n",
    "\n",
    "with DisableLogger():\n",
    "    pipeline.task.state_dict_files = state_dict_files_10\n",
    "    print(pipeline.evaluate())"
   ]
  },
  {
   "cell_type": "code",
   "execution_count": 5,
   "metadata": {},
   "outputs": [
    {
     "name": "stdout",
     "output_type": "stream",
     "text": [
      "{'sensitivity': 0.5534290075302124, 'specificity': 0.9899817109107971, 'accuracy': 0.9673715233802795, 'precision': 0.7510822415351868, 'mcc': 0.6285530296658867, 'micro_auroc': 0.9351375102996826}\n"
     ]
    }
   ],
   "source": [
    "state_dict_files_15 = [\n",
    "    'rus_15_0_0.5936.pth',\n",
    "    'rus_15_1_0.6274.pth',\n",
    "    'rus_15_2_0.6004.pth',\n",
    "    'rus_15_3_0.6200.pth',\n",
    "    'rus_15_4_0.6215.pth',\n",
    "    'rus_15_5_0.6085.pth',\n",
    "    'rus_15_6_0.6096.pth',\n",
    "    'rus_15_7_0.6098.pth',\n",
    "    'rus_15_8_0.6186.pth',\n",
    "    'rus_15_9_0.6188.pth',\n",
    "]\n",
    "\n",
    "with DisableLogger():\n",
    "    pipeline.task.state_dict_files = state_dict_files_15\n",
    "    print(pipeline.evaluate())"
   ]
  },
  {
   "cell_type": "code",
   "execution_count": 9,
   "metadata": {},
   "outputs": [
    {
     "data": {
      "text/plain": [
       "{'sensitivity': 0.6028708219528198,\n",
       " 'specificity': 0.988152265548706,\n",
       " 'accuracy': 0.9681975841522217,\n",
       " 'precision': 0.7354085445404053,\n",
       " 'mcc': 0.6495752989607508,\n",
       " 'micro_auroc': 0.9434273838996887}"
      ]
     },
     "execution_count": 9,
     "metadata": {},
     "output_type": "execute_result"
    }
   ],
   "source": [
    "with DisableLogger():\n",
    "    pipeline.task.state_dict_files = state_dict_files_5 + state_dict_files_10\n",
    "    res = pipeline.evaluate()\n",
    "res\n"
   ]
  },
  {
   "cell_type": "code",
   "execution_count": 10,
   "metadata": {},
   "outputs": [
    {
     "data": {
      "text/plain": [
       "{'sensitivity': 0.5693780183792114,\n",
       " 'specificity': 0.9905915260314941,\n",
       " 'accuracy': 0.9687758088111877,\n",
       " 'precision': 0.7677419185638428,\n",
       " 'mcc': 0.6456966813369992,\n",
       " 'micro_auroc': 0.9421370625495911}"
      ]
     },
     "execution_count": 10,
     "metadata": {},
     "output_type": "execute_result"
    }
   ],
   "source": [
    "with DisableLogger():\n",
    "    pipeline.task.state_dict_files = state_dict_files_5 + state_dict_files_10 + state_dict_files_15\n",
    "    res = pipeline.evaluate()\n",
    "res"
   ]
  },
  {
   "cell_type": "code",
   "execution_count": 3,
   "metadata": {},
   "outputs": [
    {
     "name": "stdout",
     "output_type": "stream",
     "text": [
      "{'sensitivity': 0.5917065143585205, 'specificity': 0.9880651831626892, 'accuracy': 0.9675367474555969, 'precision': 0.7303149700164795, 'mcc': 0.6407954270209901, 'micro_auroc': 0.9395251274108887}\n"
     ]
    }
   ],
   "source": [
    "state_dict_files_5_new = [\n",
    "    'rus_5_0_0.6151.pth',\n",
    "    'rus_5_1_0.6221.pth',\n",
    "    'rus_5_2_0.6193.pth',\n",
    "    'rus_5_3_0.6266.pth',\n",
    "    'rus_5_4_0.6052.pth',\n",
    "    'rus_5_5_0.6085.pth',\n",
    "    'rus_5_6_0.5986.pth',\n",
    "    'rus_5_7_0.6108.pth',\n",
    "    'rus_5_8_0.6046.pth',\n",
    "    'rus_5_9_0.6080.pth',\n",
    "    'rus_5_10_0.6089.pth',\n",
    "    'rus_5_11_0.6174.pth',\n",
    "]\n",
    "\n",
    "with DisableLogger():\n",
    "    pipeline.task.state_dict_files = state_dict_files_5_new\n",
    "    print(pipeline.evaluate())"
   ]
  }
 ],
 "metadata": {
  "kernelspec": {
   "display_name": "jc",
   "language": "python",
   "name": "python3"
  },
  "language_info": {
   "codemirror_mode": {
    "name": "ipython",
    "version": 3
   },
   "file_extension": ".py",
   "mimetype": "text/x-python",
   "name": "python",
   "nbconvert_exporter": "python",
   "pygments_lexer": "ipython3",
   "version": "3.9.17"
  },
  "orig_nbformat": 4
 },
 "nbformat": 4,
 "nbformat_minor": 2
}
