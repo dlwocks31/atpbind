{
 "cells": [
  {
   "cell_type": "code",
   "execution_count": 1,
   "metadata": {},
   "outputs": [
    {
     "name": "stdout",
     "output_type": "stream",
     "text": [
      "get dataset atpbind3d\n",
      "Split num:  [337, 41, 41]\n",
      "train samples: 337, valid samples: 41, test samples: 41\n",
      "16:37:44   >>>>>>>>>>>>>>>>>>>>>>>>>>>>>>\n",
      "16:37:44   Evaluate on test\n",
      "16:38:26   ------------------------------\n",
      "16:38:26   accuracy: 0.967785\n",
      "16:38:26   mcc: 0.636661\n",
      "16:38:26   micro_auroc: 0.943351\n",
      "16:38:26   precision: 0.748428\n",
      "16:38:26   sensitivity: 0.569378\n",
      "16:38:26   specificity: 0.989546\n"
     ]
    },
    {
     "data": {
      "text/plain": [
       "{'sensitivity': 0.5693780183792114,\n",
       " 'specificity': 0.9895461201667786,\n",
       " 'accuracy': 0.967784583568573,\n",
       " 'precision': 0.74842768907547,\n",
       " 'mcc': 0.6366610392623603,\n",
       " 'micro_auroc': 0.9433506727218628}"
      ]
     },
     "execution_count": 1,
     "metadata": {},
     "output_type": "execute_result"
    }
   ],
   "source": [
    "import sys, os\n",
    "sys.path.insert(0, os.path.abspath('..'))\n",
    "from lib.pipeline import Pipeline\n",
    "import torch\n",
    "\n",
    "GPU = 0\n",
    "\n",
    "state_dict_files_5 = [\n",
    "    'rus_5_0_0.60780.pth',\n",
    "    'rus_5_1_0.58710.pth',\n",
    "    'rus_5_2_0.58590.pth',\n",
    "    'rus_5_3_0.59930.pth',\n",
    "    'rus_5_4_0.59060.pth',\n",
    "    'rus_5_5_0.59700.pth',\n",
    "    'rus_5_6_0.59040.pth',\n",
    "    'rus_5_7_0.59500.pth',\n",
    "    'rus_5_8_0.58920.pth',\n",
    "    'rus_5_9_0.58620.pth',\n",
    "]\n",
    "\n",
    "state_dict_files_10 = [\n",
    "    'rus_10_0_0.59580.pth',\n",
    "    'rus_10_1_0.59290.pth',\n",
    "    'rus_10_2_0.59320.pth',\n",
    "    'rus_10_3_0.60280.pth',\n",
    "    'rus_10_4_0.59780.pth',\n",
    "    'rus_10_5_0.59620.pth',\n",
    "    'rus_10_6_0.60070.pth',\n",
    "    'rus_10_7_0.57900.pth',\n",
    "    'rus_10_8_0.59510.pth',\n",
    "    'rus_10_9_0.58330.pth',\n",
    "]\n",
    "\n",
    "pipeline = Pipeline(\n",
    "    model='lm-gearnet',\n",
    "    dataset='atpbind3d',\n",
    "    task='mean-ensemble',\n",
    "    gpus=[GPU],\n",
    "    model_kwargs={\n",
    "        'gpu': GPU,\n",
    "        'gearnet_hidden_dim_size': 512,\n",
    "        'gearnet_hidden_dim_count': 4,\n",
    "        'bert_freeze': False,\n",
    "        'bert_freeze_layer_count': 29,\n",
    "    },\n",
    "    optimizer_kwargs={\n",
    "        'lr': 5e-4,\n",
    "    },\n",
    "    task_kwargs={\n",
    "        'state_dict_files': state_dict_files_10,\n",
    "    },\n",
    "    bce_weight=1,\n",
    "    batch_size=4,\n",
    ")\n",
    "\n",
    "pipeline.evaluate()"
   ]
  },
  {
   "cell_type": "code",
   "execution_count": 2,
   "metadata": {},
   "outputs": [
    {
     "name": "stdout",
     "output_type": "stream",
     "text": [
      "16:40:04   >>>>>>>>>>>>>>>>>>>>>>>>>>>>>>\n",
      "16:40:04   Evaluate on test\n",
      "16:40:46   ------------------------------\n",
      "16:40:46   accuracy: 0.967785\n",
      "16:40:46   mcc: 0.637539\n",
      "16:40:46   micro_auroc: 0.940254\n",
      "16:40:46   precision: 0.746362\n",
      "16:40:46   sensitivity: 0.572568\n",
      "16:40:46   specificity: 0.989372\n"
     ]
    },
    {
     "data": {
      "text/plain": [
       "{'sensitivity': 0.5725677609443665,\n",
       " 'specificity': 0.9893718957901001,\n",
       " 'accuracy': 0.967784583568573,\n",
       " 'precision': 0.7463617324829102,\n",
       " 'mcc': 0.637538591910511,\n",
       " 'micro_auroc': 0.9402540922164917}"
      ]
     },
     "execution_count": 2,
     "metadata": {},
     "output_type": "execute_result"
    }
   ],
   "source": [
    "pipeline.task.state_dict_files = state_dict_files_5\n",
    "\n",
    "pipeline.evaluate()"
   ]
  }
 ],
 "metadata": {
  "kernelspec": {
   "display_name": "jc",
   "language": "python",
   "name": "python3"
  },
  "language_info": {
   "codemirror_mode": {
    "name": "ipython",
    "version": 3
   },
   "file_extension": ".py",
   "mimetype": "text/x-python",
   "name": "python",
   "nbconvert_exporter": "python",
   "pygments_lexer": "ipython3",
   "version": "3.9.17"
  },
  "orig_nbformat": 4
 },
 "nbformat": 4,
 "nbformat_minor": 2
}
