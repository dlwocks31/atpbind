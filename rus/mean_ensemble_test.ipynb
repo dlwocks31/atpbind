{
 "cells": [
  {
   "cell_type": "code",
   "execution_count": 1,
   "metadata": {},
   "outputs": [
    {
     "name": "stdout",
     "output_type": "stream",
     "text": [
      "get dataset atpbind3d\n",
      "Split num:  [337, 41, 41]\n",
      "train samples: 337, valid samples: 41, test samples: 41\n"
     ]
    }
   ],
   "source": [
    "import sys, os\n",
    "sys.path.insert(0, os.path.abspath('..'))\n",
    "from lib.pipeline import Pipeline\n",
    "from lib.disable_logger import DisableLogger\n",
    "import torch\n",
    "GPU = 1\n",
    "\n",
    "pipeline = Pipeline(\n",
    "    model='lm-gearnet',\n",
    "    dataset='atpbind3d',\n",
    "    task='mean-ensemble',\n",
    "    gpus=[GPU],\n",
    "    model_kwargs={\n",
    "        'gpu': GPU,\n",
    "        'gearnet_hidden_dim_size': 512,\n",
    "        'gearnet_hidden_dim_count': 4,\n",
    "        'bert_freeze': False,\n",
    "        'bert_freeze_layer_count': 29,\n",
    "    },\n",
    "    optimizer_kwargs={\n",
    "        'lr': 5e-4,\n",
    "    },\n",
    "    task_kwargs={\n",
    "        'state_dict_files': [],\n",
    "    },\n",
    "    bce_weight=1,\n",
    "    batch_size=24,\n",
    ")\n",
    "\n",
    "torch.cuda.empty_cache()"
   ]
  },
  {
   "cell_type": "code",
   "execution_count": 3,
   "metadata": {},
   "outputs": [
    {
     "data": {
      "text/plain": [
       "{'sensitivity': 0.5422647595405579,\n",
       " 'specificity': 0.9911141991615295,\n",
       " 'accuracy': 0.9678671956062317,\n",
       " 'precision': 0.7692307829856873,\n",
       " 'mcc': 0.630212175762319,\n",
       " 'micro_auroc': 0.9402540922164917}"
      ]
     },
     "execution_count": 3,
     "metadata": {},
     "output_type": "execute_result"
    }
   ],
   "source": [
    "state_dict_files_5 = [\n",
    "    'rus_5_0_0.6151.pth',\n",
    "    'rus_5_1_0.6221.pth',\n",
    "    'rus_5_2_0.6193.pth',\n",
    "    'rus_5_3_0.6266.pth',\n",
    "    'rus_5_4_0.6052.pth',\n",
    "    'rus_5_5_0.6085.pth',\n",
    "    'rus_5_6_0.5986.pth',\n",
    "    'rus_5_7_0.6108.pth',\n",
    "    'rus_5_8_0.6046.pth',\n",
    "    'rus_5_9_0.6080.pth',\n",
    "]\n",
    "\n",
    "with DisableLogger():\n",
    "    pipeline.task.state_dict_files = state_dict_files_5\n",
    "    res = pipeline.evaluate()\n",
    "res"
   ]
  },
  {
   "cell_type": "code",
   "execution_count": 2,
   "metadata": {},
   "outputs": [
    {
     "ename": "FileNotFoundError",
     "evalue": "[Errno 2] No such file or directory: 'rus_5_20_0.6435.pthrus_5_21_0.6211.pthrus_5_22_0.6401.pthrus_5_23_0.6570.pthrus_5_24_0.6322.pthrus_5_25_0.6327.pthrus_5_26_0.6214.pthrus_5_27_0.6361.pthrus_5_28_0.6372.pthrus_5_29_0.6229.pth'",
     "output_type": "error",
     "traceback": [
      "\u001b[0;31m---------------------------------------------------------------------------\u001b[0m",
      "\u001b[0;31mFileNotFoundError\u001b[0m                         Traceback (most recent call last)",
      "Cell \u001b[0;32mIn[2], line 16\u001b[0m\n\u001b[1;32m     14\u001b[0m \u001b[39mwith\u001b[39;00m DisableLogger():\n\u001b[1;32m     15\u001b[0m     pipeline\u001b[39m.\u001b[39mtask\u001b[39m.\u001b[39mstate_dict_files \u001b[39m=\u001b[39m state_dict_files_5_20\n\u001b[0;32m---> 16\u001b[0m     res \u001b[39m=\u001b[39m pipeline\u001b[39m.\u001b[39;49mevaluate()\n\u001b[1;32m     17\u001b[0m res\n",
      "File \u001b[0;32m~/atpbind/lib/pipeline.py:270\u001b[0m, in \u001b[0;36mPipeline.evaluate\u001b[0;34m(self, verbose, threshold)\u001b[0m\n\u001b[1;32m    268\u001b[0m \u001b[39melse\u001b[39;00m:\n\u001b[1;32m    269\u001b[0m     \u001b[39mself\u001b[39m\u001b[39m.\u001b[39mtask\u001b[39m.\u001b[39mthreshold \u001b[39m=\u001b[39m threshold\n\u001b[0;32m--> 270\u001b[0m \u001b[39mreturn\u001b[39;00m dict_tensor_to_num(\u001b[39mself\u001b[39;49m\u001b[39m.\u001b[39;49msolver\u001b[39m.\u001b[39;49mevaluate(\u001b[39m\"\u001b[39;49m\u001b[39mtest\u001b[39;49m\u001b[39m\"\u001b[39;49m))\n",
      "File \u001b[0;32m~/miniconda3/envs/jc/lib/python3.9/site-packages/torch/autograd/grad_mode.py:27\u001b[0m, in \u001b[0;36m_DecoratorContextManager.__call__.<locals>.decorate_context\u001b[0;34m(*args, **kwargs)\u001b[0m\n\u001b[1;32m     24\u001b[0m \u001b[39m@functools\u001b[39m\u001b[39m.\u001b[39mwraps(func)\n\u001b[1;32m     25\u001b[0m \u001b[39mdef\u001b[39;00m \u001b[39mdecorate_context\u001b[39m(\u001b[39m*\u001b[39margs, \u001b[39m*\u001b[39m\u001b[39m*\u001b[39mkwargs):\n\u001b[1;32m     26\u001b[0m     \u001b[39mwith\u001b[39;00m \u001b[39mself\u001b[39m\u001b[39m.\u001b[39mclone():\n\u001b[0;32m---> 27\u001b[0m         \u001b[39mreturn\u001b[39;00m func(\u001b[39m*\u001b[39;49margs, \u001b[39m*\u001b[39;49m\u001b[39m*\u001b[39;49mkwargs)\n",
      "File \u001b[0;32m~/miniconda3/envs/jc/lib/python3.9/site-packages/torchdrug/core/engine.py:206\u001b[0m, in \u001b[0;36mEngine.evaluate\u001b[0;34m(self, split, log)\u001b[0m\n\u001b[1;32m    203\u001b[0m \u001b[39mif\u001b[39;00m \u001b[39mself\u001b[39m\u001b[39m.\u001b[39mdevice\u001b[39m.\u001b[39mtype \u001b[39m==\u001b[39m \u001b[39m\"\u001b[39m\u001b[39mcuda\u001b[39m\u001b[39m\"\u001b[39m:\n\u001b[1;32m    204\u001b[0m     batch \u001b[39m=\u001b[39m utils\u001b[39m.\u001b[39mcuda(batch, device\u001b[39m=\u001b[39m\u001b[39mself\u001b[39m\u001b[39m.\u001b[39mdevice)\n\u001b[0;32m--> 206\u001b[0m pred, target \u001b[39m=\u001b[39m model\u001b[39m.\u001b[39;49mpredict_and_target(batch)\n\u001b[1;32m    207\u001b[0m preds\u001b[39m.\u001b[39mappend(pred)\n\u001b[1;32m    208\u001b[0m targets\u001b[39m.\u001b[39mappend(target)\n",
      "File \u001b[0;32m~/miniconda3/envs/jc/lib/python3.9/site-packages/torchdrug/tasks/task.py:30\u001b[0m, in \u001b[0;36mTask.predict_and_target\u001b[0;34m(self, batch, all_loss, metric)\u001b[0m\n\u001b[1;32m     29\u001b[0m \u001b[39mdef\u001b[39;00m \u001b[39mpredict_and_target\u001b[39m(\u001b[39mself\u001b[39m, batch, all_loss\u001b[39m=\u001b[39m\u001b[39mNone\u001b[39;00m, metric\u001b[39m=\u001b[39m\u001b[39mNone\u001b[39;00m):\n\u001b[0;32m---> 30\u001b[0m     \u001b[39mreturn\u001b[39;00m \u001b[39mself\u001b[39;49m\u001b[39m.\u001b[39;49mpredict(batch, all_loss, metric), \u001b[39mself\u001b[39m\u001b[39m.\u001b[39mtarget(batch)\n",
      "File \u001b[0;32m~/atpbind/lib/tasks.py:192\u001b[0m, in \u001b[0;36mMeanEnsembleNodePropertyPrediction.predict\u001b[0;34m(self, batch, all_loss, metric)\u001b[0m\n\u001b[1;32m    190\u001b[0m mean_prediction \u001b[39m=\u001b[39m \u001b[39mNone\u001b[39;00m\n\u001b[1;32m    191\u001b[0m \u001b[39mfor\u001b[39;00m model_file \u001b[39min\u001b[39;00m \u001b[39mself\u001b[39m\u001b[39m.\u001b[39mstate_dict_files:\n\u001b[0;32m--> 192\u001b[0m     \u001b[39mself\u001b[39m\u001b[39m.\u001b[39mload_state_dict(torch\u001b[39m.\u001b[39;49mload(model_file, map_location\u001b[39m=\u001b[39;49m\u001b[39mself\u001b[39;49m\u001b[39m.\u001b[39;49mdevice), strict\u001b[39m=\u001b[39m\u001b[39mFalse\u001b[39;00m)\n\u001b[1;32m    193\u001b[0m     current_prediction \u001b[39m=\u001b[39m \u001b[39msuper\u001b[39m(MeanEnsembleNodePropertyPrediction, \u001b[39mself\u001b[39m)\u001b[39m.\u001b[39mpredict(batch, all_loss, metric)\n\u001b[1;32m    194\u001b[0m     \u001b[39mif\u001b[39;00m mean_prediction \u001b[39mis\u001b[39;00m \u001b[39mNone\u001b[39;00m:\n",
      "File \u001b[0;32m~/miniconda3/envs/jc/lib/python3.9/site-packages/torch/serialization.py:771\u001b[0m, in \u001b[0;36mload\u001b[0;34m(f, map_location, pickle_module, weights_only, **pickle_load_args)\u001b[0m\n\u001b[1;32m    768\u001b[0m \u001b[39mif\u001b[39;00m \u001b[39m'\u001b[39m\u001b[39mencoding\u001b[39m\u001b[39m'\u001b[39m \u001b[39mnot\u001b[39;00m \u001b[39min\u001b[39;00m pickle_load_args\u001b[39m.\u001b[39mkeys():\n\u001b[1;32m    769\u001b[0m     pickle_load_args[\u001b[39m'\u001b[39m\u001b[39mencoding\u001b[39m\u001b[39m'\u001b[39m] \u001b[39m=\u001b[39m \u001b[39m'\u001b[39m\u001b[39mutf-8\u001b[39m\u001b[39m'\u001b[39m\n\u001b[0;32m--> 771\u001b[0m \u001b[39mwith\u001b[39;00m _open_file_like(f, \u001b[39m'\u001b[39;49m\u001b[39mrb\u001b[39;49m\u001b[39m'\u001b[39;49m) \u001b[39mas\u001b[39;00m opened_file:\n\u001b[1;32m    772\u001b[0m     \u001b[39mif\u001b[39;00m _is_zipfile(opened_file):\n\u001b[1;32m    773\u001b[0m         \u001b[39m# The zipfile reader is going to advance the current file position.\u001b[39;00m\n\u001b[1;32m    774\u001b[0m         \u001b[39m# If we want to actually tail call to torch.jit.load, we need to\u001b[39;00m\n\u001b[1;32m    775\u001b[0m         \u001b[39m# reset back to the original position.\u001b[39;00m\n\u001b[1;32m    776\u001b[0m         orig_position \u001b[39m=\u001b[39m opened_file\u001b[39m.\u001b[39mtell()\n",
      "File \u001b[0;32m~/miniconda3/envs/jc/lib/python3.9/site-packages/torch/serialization.py:270\u001b[0m, in \u001b[0;36m_open_file_like\u001b[0;34m(name_or_buffer, mode)\u001b[0m\n\u001b[1;32m    268\u001b[0m \u001b[39mdef\u001b[39;00m \u001b[39m_open_file_like\u001b[39m(name_or_buffer, mode):\n\u001b[1;32m    269\u001b[0m     \u001b[39mif\u001b[39;00m _is_path(name_or_buffer):\n\u001b[0;32m--> 270\u001b[0m         \u001b[39mreturn\u001b[39;00m _open_file(name_or_buffer, mode)\n\u001b[1;32m    271\u001b[0m     \u001b[39melse\u001b[39;00m:\n\u001b[1;32m    272\u001b[0m         \u001b[39mif\u001b[39;00m \u001b[39m'\u001b[39m\u001b[39mw\u001b[39m\u001b[39m'\u001b[39m \u001b[39min\u001b[39;00m mode:\n",
      "File \u001b[0;32m~/miniconda3/envs/jc/lib/python3.9/site-packages/torch/serialization.py:251\u001b[0m, in \u001b[0;36m_open_file.__init__\u001b[0;34m(self, name, mode)\u001b[0m\n\u001b[1;32m    250\u001b[0m \u001b[39mdef\u001b[39;00m \u001b[39m__init__\u001b[39m(\u001b[39mself\u001b[39m, name, mode):\n\u001b[0;32m--> 251\u001b[0m     \u001b[39msuper\u001b[39m(_open_file, \u001b[39mself\u001b[39m)\u001b[39m.\u001b[39m\u001b[39m__init__\u001b[39m(\u001b[39mopen\u001b[39;49m(name, mode))\n",
      "\u001b[0;31mFileNotFoundError\u001b[0m: [Errno 2] No such file or directory: 'rus_5_20_0.6435.pthrus_5_21_0.6211.pthrus_5_22_0.6401.pthrus_5_23_0.6570.pthrus_5_24_0.6322.pthrus_5_25_0.6327.pthrus_5_26_0.6214.pthrus_5_27_0.6361.pthrus_5_28_0.6372.pthrus_5_29_0.6229.pth'"
     ]
    }
   ],
   "source": [
    "state_dict_files_5_20 = [\n",
    "    'rus_5_20_0.6435.pth',\n",
    "    'rus_5_21_0.6211.pth',\n",
    "    'rus_5_22_0.6401.pth',\n",
    "    'rus_5_23_0.6570.pth',\n",
    "    'rus_5_24_0.6322.pth',\n",
    "    'rus_5_25_0.6327.pth',\n",
    "    'rus_5_26_0.6214.pth',\n",
    "    'rus_5_27_0.6361.pth',\n",
    "    'rus_5_28_0.6372.pth',\n",
    "    'rus_5_29_0.6229.pth',\n",
    "]\n",
    "\n",
    "with DisableLogger():\n",
    "    pipeline.task.state_dict_files = state_dict_files_5_20\n",
    "    res = pipeline.evaluate()\n",
    "res\n"
   ]
  },
  {
   "cell_type": "code",
   "execution_count": 2,
   "metadata": {},
   "outputs": [
    {
     "name": "stdout",
     "output_type": "stream",
     "text": [
      "threshold: {'best_mcc': 0.6556262597321062, 'best_threshold': -0.6999999999999997}\n",
      "\n"
     ]
    },
    {
     "data": {
      "text/plain": [
       "{'sensitivity': 0.5725677609443665,\n",
       " 'specificity': 0.9893718957901001,\n",
       " 'accuracy': 0.967784583568573,\n",
       " 'precision': 0.7463617324829102,\n",
       " 'mcc': 0.637538591910511,\n",
       " 'micro_auroc': 0.9402540922164917}"
      ]
     },
     "execution_count": 2,
     "metadata": {},
     "output_type": "execute_result"
    }
   ],
   "source": [
    "state_dict_files_5 = [\n",
    "    'rus_5_0_0.6151.pth',\n",
    "    'rus_5_1_0.6221.pth',\n",
    "    'rus_5_2_0.6193.pth',\n",
    "    'rus_5_3_0.6266.pth',\n",
    "    'rus_5_4_0.6052.pth',\n",
    "    'rus_5_5_0.6085.pth',\n",
    "    'rus_5_6_0.5986.pth',\n",
    "    'rus_5_7_0.6108.pth',\n",
    "    'rus_5_8_0.6046.pth',\n",
    "    'rus_5_9_0.6080.pth',\n",
    "]\n",
    "\n",
    "with DisableLogger():\n",
    "    pipeline.task.state_dict_files = state_dict_files_5\n",
    "    res = pipeline.evaluate(threshold='auto', verbose=True)\n",
    "res"
   ]
  },
  {
   "cell_type": "code",
   "execution_count": 7,
   "metadata": {},
   "outputs": [
    {
     "data": {
      "text/plain": [
       "{'sensitivity': 0.5677831172943115,\n",
       " 'specificity': 0.9899817109107971,\n",
       " 'accuracy': 0.968114972114563,\n",
       " 'precision': 0.7558386325836182,\n",
       " 'mcc': 0.6392095483443275,\n",
       " 'micro_auroc': 0.9433506727218628}"
      ]
     },
     "execution_count": 7,
     "metadata": {},
     "output_type": "execute_result"
    }
   ],
   "source": [
    "state_dict_files_10 = [\n",
    "    'rus_10_0_0.59580.pth',\n",
    "    'rus_10_1_0.59290.pth',\n",
    "    'rus_10_2_0.6494.pth',\n",
    "    'rus_10_3_0.6114.pth',\n",
    "    'rus_10_4_0.59780.pth',\n",
    "    'rus_10_5_0.6173.pth',\n",
    "    'rus_10_6_0.6152.pth',\n",
    "    'rus_10_7_0.6091.pth',\n",
    "    'rus_10_8_0.5989.pth',\n",
    "    'rus_10_9_0.5892.pth',\n",
    "]\n",
    "\n",
    "\n",
    "with DisableLogger():\n",
    "    pipeline.task.state_dict_files = state_dict_files_10\n",
    "    res = pipeline.evaluate()\n",
    "\n",
    "res"
   ]
  },
  {
   "cell_type": "code",
   "execution_count": 5,
   "metadata": {},
   "outputs": [
    {
     "data": {
      "text/plain": [
       "{'sensitivity': 0.4864433705806732,\n",
       " 'specificity': 0.9930307269096375,\n",
       " 'accuracy': 0.9667932987213135,\n",
       " 'precision': 0.7922077775001526,\n",
       " 'mcc': 0.6055336512444388,\n",
       " 'micro_auroc': 0.9351373910903931}"
      ]
     },
     "execution_count": 5,
     "metadata": {},
     "output_type": "execute_result"
    }
   ],
   "source": [
    "state_dict_files_15 = [\n",
    "    'rus_15_0_0.5936.pth',\n",
    "    'rus_15_1_0.6274.pth',\n",
    "    'rus_15_2_0.6004.pth',\n",
    "    'rus_15_3_0.6200.pth',\n",
    "    'rus_15_4_0.6215.pth',\n",
    "    'rus_15_5_0.6085.pth',\n",
    "    'rus_15_6_0.6096.pth',\n",
    "    'rus_15_7_0.6098.pth',\n",
    "    'rus_15_8_0.6186.pth',\n",
    "    'rus_15_9_0.6188.pth',\n",
    "]\n",
    "\n",
    "with DisableLogger():\n",
    "    pipeline.task.state_dict_files = state_dict_files_15\n",
    "    res = pipeline.evaluate()\n",
    "\n",
    "res"
   ]
  },
  {
   "cell_type": "code",
   "execution_count": 9,
   "metadata": {},
   "outputs": [
    {
     "data": {
      "text/plain": [
       "{'sensitivity': 0.5566188097000122,\n",
       " 'specificity': 0.9911141991615295,\n",
       " 'accuracy': 0.9686105847358704,\n",
       " 'precision': 0.7738358974456787,\n",
       " 'mcc': 0.6409295839955366,\n",
       " 'micro_auroc': 0.9434270858764648}"
      ]
     },
     "execution_count": 9,
     "metadata": {},
     "output_type": "execute_result"
    }
   ],
   "source": [
    "with DisableLogger():\n",
    "    pipeline.task.state_dict_files = state_dict_files_5 + state_dict_files_10\n",
    "    res = pipeline.evaluate()\n",
    "res\n"
   ]
  },
  {
   "cell_type": "code",
   "execution_count": 11,
   "metadata": {},
   "outputs": [
    {
     "name": "stdout",
     "output_type": "stream",
     "text": [
      "threshold: {'best_mcc': 0.6614176215124834, 'best_threshold': -0.8999999999999999}\n",
      "\n"
     ]
    },
    {
     "data": {
      "text/plain": [
       "{'sensitivity': 0.6028708219528198,\n",
       " 'specificity': 0.988152265548706,\n",
       " 'accuracy': 0.9681975841522217,\n",
       " 'precision': 0.7354085445404053,\n",
       " 'mcc': 0.6495752989607508,\n",
       " 'micro_auroc': 0.9434270858764648}"
      ]
     },
     "execution_count": 11,
     "metadata": {},
     "output_type": "execute_result"
    }
   ],
   "source": [
    "with DisableLogger():\n",
    "    pipeline.task.state_dict_files = state_dict_files_5 + state_dict_files_10\n",
    "    res = pipeline.evaluate(threshold='auto', verbose=True)\n",
    "res\n"
   ]
  },
  {
   "cell_type": "code",
   "execution_count": 12,
   "metadata": {},
   "outputs": [
    {
     "data": {
      "text/plain": [
       "{'sensitivity': 0.5311004519462585,\n",
       " 'specificity': 0.9919853806495667,\n",
       " 'accuracy': 0.968114972114563,\n",
       " 'precision': 0.7835294008255005,\n",
       " 'mcc': 0.6298313699130325,\n",
       " 'micro_auroc': 0.9421367645263672}"
      ]
     },
     "execution_count": 12,
     "metadata": {},
     "output_type": "execute_result"
    }
   ],
   "source": [
    "with DisableLogger():\n",
    "    pipeline.task.state_dict_files = state_dict_files_5 + state_dict_files_10 + state_dict_files_15\n",
    "    res = pipeline.evaluate()\n",
    "res"
   ]
  },
  {
   "cell_type": "code",
   "execution_count": 13,
   "metadata": {},
   "outputs": [
    {
     "name": "stdout",
     "output_type": "stream",
     "text": [
      "threshold: {'best_mcc': 0.6623866009432018, 'best_threshold': -0.6999999999999997}\n",
      "\n"
     ]
    },
    {
     "data": {
      "text/plain": [
       "{'sensitivity': 0.5693780183792114,\n",
       " 'specificity': 0.9905915260314941,\n",
       " 'accuracy': 0.9687758088111877,\n",
       " 'precision': 0.7677419185638428,\n",
       " 'mcc': 0.6456966813369992,\n",
       " 'micro_auroc': 0.9421366453170776}"
      ]
     },
     "execution_count": 13,
     "metadata": {},
     "output_type": "execute_result"
    }
   ],
   "source": [
    "with DisableLogger():\n",
    "    pipeline.task.state_dict_files = state_dict_files_5 + state_dict_files_10 + state_dict_files_15\n",
    "    res = pipeline.evaluate(threshold='auto', verbose=True)\n",
    "res"
   ]
  },
  {
   "cell_type": "code",
   "execution_count": 14,
   "metadata": {},
   "outputs": [
    {
     "data": {
      "text/plain": [
       "{'sensitivity': 0.5502392053604126,\n",
       " 'specificity': 0.9917240142822266,\n",
       " 'accuracy': 0.9688584208488464,\n",
       " 'precision': 0.7840909361839294,\n",
       " 'mcc': 0.6417536010596256,\n",
       " 'micro_auroc': 0.9407066702842712}"
      ]
     },
     "execution_count": 14,
     "metadata": {},
     "output_type": "execute_result"
    }
   ],
   "source": [
    "state_dict_files_5_new = [\n",
    "    'rus_5_0_0.6151.pth',\n",
    "    'rus_5_1_0.6221.pth',\n",
    "    'rus_5_2_0.6193.pth',\n",
    "    'rus_5_3_0.6266.pth',\n",
    "    'rus_5_4_0.6052.pth',\n",
    "    'rus_5_5_0.6085.pth',\n",
    "    'rus_5_6_0.5986.pth',\n",
    "    'rus_5_7_0.6108.pth',\n",
    "    'rus_5_8_0.6046.pth',\n",
    "    'rus_5_9_0.6080.pth',\n",
    "    'rus_5_10_0.6089.pth',\n",
    "    'rus_5_11_0.6174.pth',\n",
    "    'rus_5_12_0.6239.pth',\n",
    "    'rus_5_13_0.6337.pth',\n",
    "    'rus_5_14_0.6144.pth',\n",
    "    'rus_5_15_0.5990.pth',\n",
    "    'rus_5_16_0.5824.pth',\n",
    "    'rus_5_17_0.6237.pth',\n",
    "    'rus_5_18_0.6112.pth',\n",
    "    'rus_5_19_0.6090.pth',\n",
    "]\n",
    "\n",
    "with DisableLogger():\n",
    "    pipeline.task.state_dict_files = state_dict_files_5_new\n",
    "    res = pipeline.evaluate()\n",
    "\n",
    "res"
   ]
  },
  {
   "cell_type": "code",
   "execution_count": 3,
   "metadata": {},
   "outputs": [
    {
     "name": "stdout",
     "output_type": "stream",
     "text": [
      "threshold: {'best_mcc': 0.6553472253500954, 'best_threshold': -0.3999999999999999}\n",
      "\n"
     ]
    },
    {
     "data": {
      "text/plain": [
       "{'sensitivity': 0.5614035129547119,\n",
       " 'specificity': 0.9902430772781372,\n",
       " 'accuracy': 0.9680323600769043,\n",
       " 'precision': 0.7586206793785095,\n",
       " 'mcc': 0.6367572903013485,\n",
       " 'micro_auroc': 0.9396817088127136}"
      ]
     },
     "execution_count": 3,
     "metadata": {},
     "output_type": "execute_result"
    }
   ],
   "source": [
    "state_dict_files_5_new = [\n",
    "    'rus_5_0_0.6151.pth',\n",
    "    'rus_5_1_0.6221.pth',\n",
    "    'rus_5_2_0.6193.pth',\n",
    "    'rus_5_3_0.6266.pth',\n",
    "    'rus_5_4_0.6052.pth',\n",
    "    'rus_5_5_0.6085.pth',\n",
    "    'rus_5_6_0.5986.pth',\n",
    "    'rus_5_7_0.6108.pth',\n",
    "    'rus_5_8_0.6046.pth',\n",
    "    'rus_5_9_0.6080.pth',\n",
    "    'rus_5_10_0.6089.pth',\n",
    "    'rus_5_11_0.6174.pth',\n",
    "    'rus_5_12_0.6239.pth',\n",
    "    'rus_5_13_0.6337.pth',\n",
    "    'rus_5_14_0.6144.pth',\n",
    "    'rus_5_15_0.6066.pth',\n",
    "    'rus_5_16_0.5824.pth',\n",
    "    'rus_5_17_0.6237.pth',\n",
    "    'rus_5_18_0.6112.pth',\n",
    "    'rus_5_19_0.6090.pth',\n",
    "]\n",
    "\n",
    "with DisableLogger():\n",
    "    pipeline.task.state_dict_files = state_dict_files_5_new\n",
    "    res = pipeline.evaluate(threshold='auto', verbose=True)\n",
    "\n",
    "res"
   ]
  },
  {
   "cell_type": "code",
   "execution_count": 5,
   "metadata": {},
   "outputs": [
    {
     "data": {
      "text/plain": [
       "{'sensitivity': 0.5454545617103577,\n",
       " 'specificity': 0.9916369318962097,\n",
       " 'accuracy': 0.9685280323028564,\n",
       " 'precision': 0.7808219194412231,\n",
       " 'mcc': 0.6373804959992757,\n",
       " 'micro_auroc': 0.9396817088127136}"
      ]
     },
     "execution_count": 5,
     "metadata": {},
     "output_type": "execute_result"
    }
   ],
   "source": [
    "with DisableLogger():\n",
    "    pipeline.task.state_dict_files = state_dict_files_5_new\n",
    "    res = pipeline.evaluate()\n",
    "res"
   ]
  },
  {
   "cell_type": "code",
   "execution_count": 16,
   "metadata": {},
   "outputs": [
    {
     "data": {
      "text/plain": [
       "{'sensitivity': 0.5502392053604126,\n",
       " 'specificity': 0.9911141991615295,\n",
       " 'accuracy': 0.9682801961898804,\n",
       " 'precision': 0.7718120813369751,\n",
       " 'mcc': 0.6361833356155675,\n",
       " 'micro_auroc': 0.9427580833435059}"
      ]
     },
     "execution_count": 16,
     "metadata": {},
     "output_type": "execute_result"
    }
   ],
   "source": [
    "with DisableLogger():\n",
    "    pipeline.task.state_dict_files = state_dict_files_5_new + state_dict_files_10\n",
    "    res = pipeline.evaluate()\n",
    "\n",
    "res"
   ]
  },
  {
   "cell_type": "code",
   "execution_count": 17,
   "metadata": {},
   "outputs": [
    {
     "name": "stdout",
     "output_type": "stream",
     "text": [
      "threshold: {'best_mcc': 0.6592559265163181, 'best_threshold': -0.8999999999999999}\n",
      "\n"
     ]
    },
    {
     "data": {
      "text/plain": [
       "{'sensitivity': 0.59968101978302,\n",
       " 'specificity': 0.9882394075393677,\n",
       " 'accuracy': 0.968114972114563,\n",
       " 'precision': 0.7358121275901794,\n",
       " 'mcc': 0.6479753908165176,\n",
       " 'micro_auroc': 0.9427580833435059}"
      ]
     },
     "execution_count": 17,
     "metadata": {},
     "output_type": "execute_result"
    }
   ],
   "source": [
    "with DisableLogger():\n",
    "    pipeline.task.state_dict_files = state_dict_files_5_new + state_dict_files_10\n",
    "    res = pipeline.evaluate(threshold='auto', verbose=True)\n",
    "\n",
    "res"
   ]
  },
  {
   "cell_type": "code",
   "execution_count": 8,
   "metadata": {},
   "outputs": [
    {
     "name": "stdout",
     "output_type": "stream",
     "text": [
      "threshold: {'best_mcc': 0.6574639477195364, 'best_threshold': -0.7999999999999998}\n",
      "\n"
     ]
    },
    {
     "data": {
      "text/plain": [
       "{'sensitivity': 0.5885167717933655,\n",
       " 'specificity': 0.9887620806694031,\n",
       " 'accuracy': 0.9680323600769043,\n",
       " 'precision': 0.740963876247406,\n",
       " 'mcc': 0.6441367257609167,\n",
       " 'micro_auroc': 0.9421606659889221}"
      ]
     },
     "execution_count": 8,
     "metadata": {},
     "output_type": "execute_result"
    }
   ],
   "source": [
    "with DisableLogger():\n",
    "    pipeline.task.state_dict_files = state_dict_files_5_new + state_dict_files_10\n",
    "    res = pipeline.evaluate(threshold='auto', verbose=True)\n",
    "\n",
    "res"
   ]
  }
 ],
 "metadata": {
  "kernelspec": {
   "display_name": "jc",
   "language": "python",
   "name": "python3"
  },
  "language_info": {
   "codemirror_mode": {
    "name": "ipython",
    "version": 3
   },
   "file_extension": ".py",
   "mimetype": "text/x-python",
   "name": "python",
   "nbconvert_exporter": "python",
   "pygments_lexer": "ipython3",
   "version": "3.9.17"
  },
  "orig_nbformat": 4
 },
 "nbformat": 4,
 "nbformat_minor": 2
}
