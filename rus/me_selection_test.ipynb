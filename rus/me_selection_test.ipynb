{
 "cells": [
  {
   "cell_type": "markdown",
   "metadata": {},
   "source": []
  },
  {
   "cell_type": "code",
   "execution_count": 5,
   "metadata": {},
   "outputs": [],
   "source": [
    "import sys, os\n",
    "sys.path.insert(0, os.path.abspath('..'))"
   ]
  },
  {
   "cell_type": "code",
   "execution_count": 3,
   "metadata": {},
   "outputs": [
    {
     "name": "stdout",
     "output_type": "stream",
     "text": [
      "get dataset atpbind3d\n",
      "Split num:  [337, 41, 41]\n",
      "train samples: 337, valid samples: 41, test samples: 41\n"
     ]
    }
   ],
   "source": [
    "# from lib.pipeline import Pipeline\n",
    "# import numpy as np\n",
    "# import matplotlib.pyplot as plt\n",
    "# import torch\n",
    "# from torchdrug import utils, data\n",
    "# from lib.disable_logger import DisableLogger\n",
    "# GPU = 1\n",
    "\n",
    "# device = f'cuda:{GPU}'\n",
    "# pipeline = Pipeline(\n",
    "#     model='lm-gearnet',\n",
    "#     dataset='atpbind3d',\n",
    "#     gpus=[GPU],\n",
    "#     model_kwargs={\n",
    "#         'gpu': GPU,\n",
    "#         'gearnet_hidden_dim_size': 512,\n",
    "#         'gearnet_hidden_dim_count': 4,\n",
    "#         'bert_freeze': False,\n",
    "#         'bert_freeze_layer_count': 29,\n",
    "#     },\n",
    "#     batch_size=16,\n",
    "# )"
   ]
  },
  {
   "cell_type": "code",
   "execution_count": 4,
   "metadata": {},
   "outputs": [
    {
     "name": "stdout",
     "output_type": "stream",
     "text": [
      "processing protein 10 / 41\n",
      "processing protein 20 / 41\n",
      "processing protein 30 / 41\n",
      "processing protein 40 / 41\n",
      "processing protein 10 / 41\n",
      "processing protein 20 / 41\n",
      "processing protein 30 / 41\n",
      "processing protein 40 / 41\n"
     ]
    }
   ],
   "source": [
    "# import pandas as pd\n",
    "# df = pd.DataFrame()\n",
    "\n",
    "# def create_pred_dataframe(pipeline, dataset, weights):\n",
    "#     weights_loaded = [\n",
    "#         torch.load(weight, map_location='cpu') for weight in weights\n",
    "#     ]\n",
    "#     df = pd.DataFrame()\n",
    "#     pipeline.task.eval()\n",
    "#     for protein_index, batch in enumerate(data.DataLoader(dataset, batch_size=1, shuffle=False)):\n",
    "#         batch = utils.cuda(batch, device=device)\n",
    "#         if protein_index % 10 == 9:\n",
    "#             print(f'processing protein {protein_index + 1} / {len(dataset)}')\n",
    "#         label = pipeline.task.target(batch)['label'].flatten()\n",
    "        \n",
    "#         new_data = {\n",
    "#             'protein_index': protein_index,\n",
    "#             'residue_index': list(range(len(label))),\n",
    "#             'target': label.tolist(),\n",
    "#         }\n",
    "#         for i, weight in enumerate(weights_loaded):\n",
    "#             pipeline.task.load_state_dict(utils.cuda(weight, device=device) , strict=False)\n",
    "#             pred = pipeline.task.predict(batch).flatten()\n",
    "#             assert(len(label) == len(pred))\n",
    "#             new_data[f'pred_{i}'] = [round(t, 5) for t in pred.tolist()]\n",
    "#         new_data = pd.DataFrame(new_data)\n",
    "#         df = pd.concat([df, new_data])\n",
    "    \n",
    "#     return df\n",
    "\n",
    "# state_dict_files_5_20 = [\n",
    "#     'rus_5_20_0.6435.pth',\n",
    "#     'rus_5_21_0.6211.pth',\n",
    "#     'rus_5_22_0.6401.pth',\n",
    "#     'rus_5_23_0.6570.pth',\n",
    "#     'rus_5_24_0.6322.pth',\n",
    "#     'rus_5_25_0.6327.pth',\n",
    "#     'rus_5_26_0.6214.pth',\n",
    "#     'rus_5_27_0.6361.pth',\n",
    "#     'rus_5_28_0.6372.pth',\n",
    "#     'rus_5_29_0.6229.pth',\n",
    "# ]\n",
    "\n",
    "# df_valid = create_pred_dataframe(pipeline, dataset=pipeline.valid_set, weights=state_dict_files_5_20)\n",
    "# df_test = create_pred_dataframe(pipeline, dataset=pipeline.test_set, weights=state_dict_files_5_20)\n",
    "\n",
    "# prefix = 'rus_5_20'\n",
    "# df_valid.to_csv(f'{prefix}_valid.csv', index=False)\n",
    "# df_test.to_csv(f'{prefix}_test.csv', index=False)"
   ]
  },
  {
   "cell_type": "code",
   "execution_count": 1,
   "metadata": {},
   "outputs": [],
   "source": [
    "prefix = 'rus_5_20'\n",
    "import pandas as pd\n",
    "df_valid = pd.read_csv(f'{prefix}_valid.csv')\n",
    "df_test = pd.read_csv(f'{prefix}_test.csv'\n",
    "                      )"
   ]
  },
  {
   "cell_type": "code",
   "execution_count": 2,
   "metadata": {},
   "outputs": [
    {
     "data": {
      "text/html": [
       "<div>\n",
       "<style scoped>\n",
       "    .dataframe tbody tr th:only-of-type {\n",
       "        vertical-align: middle;\n",
       "    }\n",
       "\n",
       "    .dataframe tbody tr th {\n",
       "        vertical-align: top;\n",
       "    }\n",
       "\n",
       "    .dataframe thead th {\n",
       "        text-align: right;\n",
       "    }\n",
       "</style>\n",
       "<table border=\"1\" class=\"dataframe\">\n",
       "  <thead>\n",
       "    <tr style=\"text-align: right;\">\n",
       "      <th></th>\n",
       "      <th>protein_index</th>\n",
       "      <th>residue_index</th>\n",
       "      <th>target</th>\n",
       "      <th>pred_0</th>\n",
       "      <th>pred_1</th>\n",
       "      <th>pred_2</th>\n",
       "      <th>pred_3</th>\n",
       "      <th>pred_4</th>\n",
       "      <th>pred_5</th>\n",
       "      <th>pred_6</th>\n",
       "      <th>pred_7</th>\n",
       "      <th>pred_8</th>\n",
       "      <th>pred_9</th>\n",
       "    </tr>\n",
       "  </thead>\n",
       "  <tbody>\n",
       "    <tr>\n",
       "      <th>0</th>\n",
       "      <td>0</td>\n",
       "      <td>0</td>\n",
       "      <td>0</td>\n",
       "      <td>-19.54246</td>\n",
       "      <td>-13.67023</td>\n",
       "      <td>-8.73524</td>\n",
       "      <td>-12.06873</td>\n",
       "      <td>-11.25087</td>\n",
       "      <td>-16.23873</td>\n",
       "      <td>-8.78210</td>\n",
       "      <td>-10.09841</td>\n",
       "      <td>-12.99963</td>\n",
       "      <td>-13.35773</td>\n",
       "    </tr>\n",
       "    <tr>\n",
       "      <th>1</th>\n",
       "      <td>0</td>\n",
       "      <td>1</td>\n",
       "      <td>0</td>\n",
       "      <td>-9.61697</td>\n",
       "      <td>-15.02601</td>\n",
       "      <td>-16.32852</td>\n",
       "      <td>-11.16953</td>\n",
       "      <td>-10.88497</td>\n",
       "      <td>-15.03135</td>\n",
       "      <td>-6.66089</td>\n",
       "      <td>-13.26890</td>\n",
       "      <td>-12.23049</td>\n",
       "      <td>-17.15543</td>\n",
       "    </tr>\n",
       "    <tr>\n",
       "      <th>2</th>\n",
       "      <td>0</td>\n",
       "      <td>2</td>\n",
       "      <td>0</td>\n",
       "      <td>-13.42243</td>\n",
       "      <td>-14.70558</td>\n",
       "      <td>-17.26652</td>\n",
       "      <td>-10.80779</td>\n",
       "      <td>-18.37910</td>\n",
       "      <td>-16.87887</td>\n",
       "      <td>-10.89012</td>\n",
       "      <td>-16.15878</td>\n",
       "      <td>-17.24353</td>\n",
       "      <td>-19.74384</td>\n",
       "    </tr>\n",
       "    <tr>\n",
       "      <th>3</th>\n",
       "      <td>0</td>\n",
       "      <td>3</td>\n",
       "      <td>0</td>\n",
       "      <td>-13.85699</td>\n",
       "      <td>-13.69305</td>\n",
       "      <td>-13.35709</td>\n",
       "      <td>-13.36703</td>\n",
       "      <td>-15.83232</td>\n",
       "      <td>-11.17222</td>\n",
       "      <td>-11.87955</td>\n",
       "      <td>-11.23246</td>\n",
       "      <td>-19.97917</td>\n",
       "      <td>-17.66171</td>\n",
       "    </tr>\n",
       "    <tr>\n",
       "      <th>4</th>\n",
       "      <td>0</td>\n",
       "      <td>4</td>\n",
       "      <td>0</td>\n",
       "      <td>-19.97662</td>\n",
       "      <td>-15.57662</td>\n",
       "      <td>-14.03138</td>\n",
       "      <td>-10.91142</td>\n",
       "      <td>-16.24856</td>\n",
       "      <td>-12.24010</td>\n",
       "      <td>-11.63122</td>\n",
       "      <td>-14.44032</td>\n",
       "      <td>-18.58406</td>\n",
       "      <td>-18.16607</td>\n",
       "    </tr>\n",
       "    <tr>\n",
       "      <th>...</th>\n",
       "      <td>...</td>\n",
       "      <td>...</td>\n",
       "      <td>...</td>\n",
       "      <td>...</td>\n",
       "      <td>...</td>\n",
       "      <td>...</td>\n",
       "      <td>...</td>\n",
       "      <td>...</td>\n",
       "      <td>...</td>\n",
       "      <td>...</td>\n",
       "      <td>...</td>\n",
       "      <td>...</td>\n",
       "      <td>...</td>\n",
       "    </tr>\n",
       "    <tr>\n",
       "      <th>12798</th>\n",
       "      <td>40</td>\n",
       "      <td>278</td>\n",
       "      <td>0</td>\n",
       "      <td>-15.59839</td>\n",
       "      <td>-22.56648</td>\n",
       "      <td>-22.70077</td>\n",
       "      <td>-9.30785</td>\n",
       "      <td>-20.12647</td>\n",
       "      <td>-16.72729</td>\n",
       "      <td>-10.74963</td>\n",
       "      <td>-16.48566</td>\n",
       "      <td>-21.91821</td>\n",
       "      <td>-18.84735</td>\n",
       "    </tr>\n",
       "    <tr>\n",
       "      <th>12799</th>\n",
       "      <td>40</td>\n",
       "      <td>279</td>\n",
       "      <td>0</td>\n",
       "      <td>-10.51355</td>\n",
       "      <td>-6.56192</td>\n",
       "      <td>-9.05338</td>\n",
       "      <td>-5.09147</td>\n",
       "      <td>-11.75112</td>\n",
       "      <td>-16.03059</td>\n",
       "      <td>-4.20212</td>\n",
       "      <td>-9.02839</td>\n",
       "      <td>-13.03310</td>\n",
       "      <td>-8.18919</td>\n",
       "    </tr>\n",
       "    <tr>\n",
       "      <th>12800</th>\n",
       "      <td>40</td>\n",
       "      <td>280</td>\n",
       "      <td>0</td>\n",
       "      <td>-12.51012</td>\n",
       "      <td>-15.76716</td>\n",
       "      <td>-16.08012</td>\n",
       "      <td>-11.96154</td>\n",
       "      <td>-21.22735</td>\n",
       "      <td>-16.56955</td>\n",
       "      <td>-7.79483</td>\n",
       "      <td>-16.10415</td>\n",
       "      <td>-17.89726</td>\n",
       "      <td>-18.64878</td>\n",
       "    </tr>\n",
       "    <tr>\n",
       "      <th>12801</th>\n",
       "      <td>40</td>\n",
       "      <td>281</td>\n",
       "      <td>0</td>\n",
       "      <td>-20.18494</td>\n",
       "      <td>-15.23590</td>\n",
       "      <td>-19.51898</td>\n",
       "      <td>-6.73896</td>\n",
       "      <td>-20.01470</td>\n",
       "      <td>-20.73895</td>\n",
       "      <td>-11.16145</td>\n",
       "      <td>-17.93477</td>\n",
       "      <td>-18.54645</td>\n",
       "      <td>-17.90267</td>\n",
       "    </tr>\n",
       "    <tr>\n",
       "      <th>12802</th>\n",
       "      <td>40</td>\n",
       "      <td>282</td>\n",
       "      <td>0</td>\n",
       "      <td>-16.57955</td>\n",
       "      <td>-20.46128</td>\n",
       "      <td>-13.07997</td>\n",
       "      <td>-12.67720</td>\n",
       "      <td>-20.12826</td>\n",
       "      <td>-21.72590</td>\n",
       "      <td>-12.59357</td>\n",
       "      <td>-17.01142</td>\n",
       "      <td>-15.73206</td>\n",
       "      <td>-16.68734</td>\n",
       "    </tr>\n",
       "  </tbody>\n",
       "</table>\n",
       "<p>12803 rows × 13 columns</p>\n",
       "</div>"
      ],
      "text/plain": [
       "       protein_index  residue_index  target    pred_0    pred_1    pred_2  \\\n",
       "0                  0              0       0 -19.54246 -13.67023  -8.73524   \n",
       "1                  0              1       0  -9.61697 -15.02601 -16.32852   \n",
       "2                  0              2       0 -13.42243 -14.70558 -17.26652   \n",
       "3                  0              3       0 -13.85699 -13.69305 -13.35709   \n",
       "4                  0              4       0 -19.97662 -15.57662 -14.03138   \n",
       "...              ...            ...     ...       ...       ...       ...   \n",
       "12798             40            278       0 -15.59839 -22.56648 -22.70077   \n",
       "12799             40            279       0 -10.51355  -6.56192  -9.05338   \n",
       "12800             40            280       0 -12.51012 -15.76716 -16.08012   \n",
       "12801             40            281       0 -20.18494 -15.23590 -19.51898   \n",
       "12802             40            282       0 -16.57955 -20.46128 -13.07997   \n",
       "\n",
       "         pred_3    pred_4    pred_5    pred_6    pred_7    pred_8    pred_9  \n",
       "0     -12.06873 -11.25087 -16.23873  -8.78210 -10.09841 -12.99963 -13.35773  \n",
       "1     -11.16953 -10.88497 -15.03135  -6.66089 -13.26890 -12.23049 -17.15543  \n",
       "2     -10.80779 -18.37910 -16.87887 -10.89012 -16.15878 -17.24353 -19.74384  \n",
       "3     -13.36703 -15.83232 -11.17222 -11.87955 -11.23246 -19.97917 -17.66171  \n",
       "4     -10.91142 -16.24856 -12.24010 -11.63122 -14.44032 -18.58406 -18.16607  \n",
       "...         ...       ...       ...       ...       ...       ...       ...  \n",
       "12798  -9.30785 -20.12647 -16.72729 -10.74963 -16.48566 -21.91821 -18.84735  \n",
       "12799  -5.09147 -11.75112 -16.03059  -4.20212  -9.02839 -13.03310  -8.18919  \n",
       "12800 -11.96154 -21.22735 -16.56955  -7.79483 -16.10415 -17.89726 -18.64878  \n",
       "12801  -6.73896 -20.01470 -20.73895 -11.16145 -17.93477 -18.54645 -17.90267  \n",
       "12802 -12.67720 -20.12826 -21.72590 -12.59357 -17.01142 -15.73206 -16.68734  \n",
       "\n",
       "[12803 rows x 13 columns]"
      ]
     },
     "execution_count": 2,
     "metadata": {},
     "output_type": "execute_result"
    }
   ],
   "source": [
    "df_valid"
   ]
  },
  {
   "cell_type": "code",
   "execution_count": 3,
   "metadata": {},
   "outputs": [
    {
     "data": {
      "text/plain": [
       "{'sensitivity': 0.5677830940988836,\n",
       " 'specificity': 0.9901559369283038,\n",
       " 'accuracy': 0.9682801916405088,\n",
       " 'precision': 0.7590618336886994,\n",
       " 'mcc': 0.6407160506628494}"
      ]
     },
     "execution_count": 3,
     "metadata": {},
     "output_type": "execute_result"
    }
   ],
   "source": [
    "from sklearn.metrics import confusion_matrix, recall_score, accuracy_score, precision_score, matthews_corrcoef\n",
    "\n",
    "def generate_mean_ensemble_metrics(df, threshold=0):\n",
    "    sum_preds = df[list(filter(lambda a: a.startswith('pred_'), df.columns.tolist()))].sum(axis=1)\n",
    "    final_prediction = (sum_preds > threshold).astype(int)\n",
    "\n",
    "    # Sensitivity (Recall)\n",
    "    sensitivity = recall_score(df['target'], final_prediction)\n",
    "\n",
    "    # Specificity\n",
    "    tn, fp, fn, tp = confusion_matrix(df['target'], final_prediction).ravel()\n",
    "    specificity = tn / (tn + fp)\n",
    "\n",
    "    # Accuracy\n",
    "    accuracy = accuracy_score(df['target'], final_prediction)\n",
    "\n",
    "    # Precision\n",
    "    precision = precision_score(df['target'], final_prediction)\n",
    "    mcc = matthews_corrcoef(df['target'], final_prediction)\n",
    "    return {\n",
    "        \"sensitivity\": sensitivity,\n",
    "        \"specificity\": specificity,\n",
    "        \"accuracy\": accuracy,\n",
    "        \"precision\": precision,\n",
    "        \"mcc\": mcc,\n",
    "    }\n",
    "\n",
    "generate_mean_ensemble_metrics(df_test, threshold=0)"
   ]
  },
  {
   "cell_type": "markdown",
   "metadata": {},
   "source": [
    "# Ensemble all of 10 models\n",
    "\n",
    "MCC: 0.6477"
   ]
  },
  {
   "cell_type": "code",
   "execution_count": 6,
   "metadata": {},
   "outputs": [
    {
     "data": {
      "text/plain": [
       "{'best_threshold': 4.1,\n",
       " 'valid_mcc': 0.6816,\n",
       " 'sensitivity': 0.5582,\n",
       " 'specificity': 0.9917,\n",
       " 'accuracy': 0.9693,\n",
       " 'precision': 0.7865,\n",
       " 'mcc': 0.6477}"
      ]
     },
     "execution_count": 6,
     "metadata": {},
     "output_type": "execute_result"
    }
   ],
   "source": [
    "from lib.utils import round_dict\n",
    "import numpy as np\n",
    "def generate_mean_ensemble_metrics_auto_threshold(df_valid, df_test=None, start=-10, end=10, step=0.1):\n",
    "    thresholds = np.arange(start, end, step)\n",
    "    mcc_values = []\n",
    "\n",
    "    for threshold in thresholds:\n",
    "        metrics = generate_mean_ensemble_metrics(df_valid, threshold=threshold)\n",
    "        mcc_values.append(metrics['mcc'])\n",
    "    \n",
    "    best_threshold = thresholds[np.argmax(mcc_values)]\n",
    "\n",
    "    test_metrics = generate_mean_ensemble_metrics(df_test, threshold=best_threshold) if df_test is not None else {}\n",
    "\n",
    "    return round_dict({\n",
    "        'best_threshold': best_threshold,\n",
    "        'valid_mcc': np.max(mcc_values),\n",
    "        **test_metrics\n",
    "    }, 4)\n",
    "\n",
    "generate_mean_ensemble_metrics_auto_threshold(df_valid, df_test)"
   ]
  },
  {
   "cell_type": "markdown",
   "metadata": {},
   "source": [
    "# Ensemble with 5 model of higher valid_mcc (Current method)\n",
    "\n",
    "MCC: 0.6327"
   ]
  },
  {
   "cell_type": "code",
   "execution_count": 7,
   "metadata": {},
   "outputs": [
    {
     "data": {
      "text/plain": [
       "array([0.6435, 0.6216, 0.6401, 0.657 , 0.6322, 0.6398, 0.6257, 0.6386,\n",
       "       0.6372, 0.6229])"
      ]
     },
     "execution_count": 7,
     "metadata": {},
     "output_type": "execute_result"
    }
   ],
   "source": [
    "valid_mccs = []\n",
    "\n",
    "for i in range(10):\n",
    "    df_single_valid = df_valid[['target', f'pred_{i}']]\n",
    "    df_single_test = df_test[['target', f'pred_{i}']]\n",
    "\n",
    "    valid_mccs.append(generate_mean_ensemble_metrics_auto_threshold(df_single_valid)['valid_mcc'])\n",
    "\n",
    "\n",
    "valid_mccs = np.array(valid_mccs)\n",
    "valid_mccs"
   ]
  },
  {
   "cell_type": "code",
   "execution_count": 33,
   "metadata": {},
   "outputs": [
    {
     "data": {
      "text/plain": [
       "array([7, 5, 2, 0, 3])"
      ]
     },
     "execution_count": 33,
     "metadata": {},
     "output_type": "execute_result"
    }
   ],
   "source": [
    "top_5_indices = np.argsort(valid_mccs)[-5:]\n",
    "top_5_indices"
   ]
  },
  {
   "cell_type": "code",
   "execution_count": 39,
   "metadata": {},
   "outputs": [
    {
     "data": {
      "text/plain": [
       "{'best_threshold': -1.4,\n",
       " 'valid_mcc': 0.6835,\n",
       " 'sensitivity': 0.5901,\n",
       " 'specificity': 0.9872,\n",
       " 'accuracy': 0.9666,\n",
       " 'precision': 0.7157,\n",
       " 'mcc': 0.6327}"
      ]
     },
     "execution_count": 39,
     "metadata": {},
     "output_type": "execute_result"
    }
   ],
   "source": [
    "df_highmcc_valid = df_valid[['target'] + ['pred_' + str(i) for i in top_5_indices]]\n",
    "df_highmcc_test = df_test[['target'] + ['pred_' + str(i) for i in top_5_indices]]\n",
    "\n",
    "\n",
    "generate_mean_ensemble_metrics_auto_threshold(df_highmcc_valid, df_highmcc_test)"
   ]
  },
  {
   "cell_type": "markdown",
   "metadata": {},
   "source": [
    "# Ensemble with 5 model set of maximal prediction difference\n",
    "\n",
    "Does not work: this leads to lower mcc"
   ]
  },
  {
   "cell_type": "code",
   "execution_count": 8,
   "metadata": {},
   "outputs": [],
   "source": [
    "from itertools import combinations\n",
    "from scipy.spatial.distance import cosine\n",
    "from scipy.special import expit\n",
    "\n",
    "pairwise_diff = {}\n",
    "thresholds = [generate_mean_ensemble_metrics_auto_threshold(df_valid[['target', f'pred_{i}']])['best_threshold'] for i in range(10)]\n",
    "for i in range(10):\n",
    "    for j in range(i+1, 10):\n",
    "        pairwise_diff[(i, j)] = ((np.array(df_valid[f'pred_{i}']) > thresholds[i]) != (np.array(df_valid[f'pred_{j}']) > thresholds[j])).sum()\n",
    "        pairwise_diff[(j, i)] = pairwise_diff[(i, j)]"
   ]
  },
  {
   "cell_type": "code",
   "execution_count": 9,
   "metadata": {},
   "outputs": [
    {
     "data": {
      "text/plain": [
       "{(0, 1): 251,\n",
       " (1, 0): 251,\n",
       " (0, 2): 218,\n",
       " (2, 0): 218,\n",
       " (0, 3): 232,\n",
       " (3, 0): 232,\n",
       " (0, 4): 250,\n",
       " (4, 0): 250,\n",
       " (0, 5): 242,\n",
       " (5, 0): 242,\n",
       " (0, 6): 206,\n",
       " (6, 0): 206,\n",
       " (0, 7): 227,\n",
       " (7, 0): 227,\n",
       " (0, 8): 240,\n",
       " (8, 0): 240,\n",
       " (0, 9): 244,\n",
       " (9, 0): 244,\n",
       " (1, 2): 205,\n",
       " (2, 1): 205,\n",
       " (1, 3): 221,\n",
       " (3, 1): 221,\n",
       " (1, 4): 279,\n",
       " (4, 1): 279,\n",
       " (1, 5): 241,\n",
       " (5, 1): 241,\n",
       " (1, 6): 243,\n",
       " (6, 1): 243,\n",
       " (1, 7): 236,\n",
       " (7, 1): 236,\n",
       " (1, 8): 199,\n",
       " (8, 1): 199,\n",
       " (1, 9): 241,\n",
       " (9, 1): 241,\n",
       " (2, 3): 208,\n",
       " (3, 2): 208,\n",
       " (2, 4): 252,\n",
       " (4, 2): 252,\n",
       " (2, 5): 232,\n",
       " (5, 2): 232,\n",
       " (2, 6): 214,\n",
       " (6, 2): 214,\n",
       " (2, 7): 233,\n",
       " (7, 2): 233,\n",
       " (2, 8): 202,\n",
       " (8, 2): 202,\n",
       " (2, 9): 248,\n",
       " (9, 2): 248,\n",
       " (3, 4): 270,\n",
       " (4, 3): 270,\n",
       " (3, 5): 246,\n",
       " (5, 3): 246,\n",
       " (3, 6): 228,\n",
       " (6, 3): 228,\n",
       " (3, 7): 227,\n",
       " (7, 3): 227,\n",
       " (3, 8): 212,\n",
       " (8, 3): 212,\n",
       " (3, 9): 246,\n",
       " (9, 3): 246,\n",
       " (4, 5): 276,\n",
       " (5, 4): 276,\n",
       " (4, 6): 262,\n",
       " (6, 4): 262,\n",
       " (4, 7): 281,\n",
       " (7, 4): 281,\n",
       " (4, 8): 272,\n",
       " (8, 4): 272,\n",
       " (4, 9): 306,\n",
       " (9, 4): 306,\n",
       " (5, 6): 238,\n",
       " (6, 5): 238,\n",
       " (5, 7): 265,\n",
       " (7, 5): 265,\n",
       " (5, 8): 244,\n",
       " (8, 5): 244,\n",
       " (5, 9): 266,\n",
       " (9, 5): 266,\n",
       " (6, 7): 249,\n",
       " (7, 6): 249,\n",
       " (6, 8): 218,\n",
       " (8, 6): 218,\n",
       " (6, 9): 252,\n",
       " (9, 6): 252,\n",
       " (7, 8): 241,\n",
       " (8, 7): 241,\n",
       " (7, 9): 279,\n",
       " (9, 7): 279,\n",
       " (8, 9): 252,\n",
       " (9, 8): 252}"
      ]
     },
     "execution_count": 9,
     "metadata": {},
     "output_type": "execute_result"
    }
   ],
   "source": [
    "pairwise_diff"
   ]
  },
  {
   "cell_type": "code",
   "execution_count": 10,
   "metadata": {},
   "outputs": [],
   "source": [
    "from itertools import combinations\n",
    "from scipy.special import comb as C\n",
    "results = []\n",
    "for comb in combinations(range(10), 5):\n",
    "    diff_sum = 0\n",
    "    for i in range(5):\n",
    "        for j in range(i+1, 5):\n",
    "            diff_sum += pairwise_diff[(comb[i], comb[j])]\n",
    "    diff_sum /= C(5, 2)\n",
    "    \n",
    "    df_comb_valid = df_valid[['target'] + ['pred_' + str(i) for i in comb]]\n",
    "    df_comb_test = df_test[['target'] + ['pred_' + str(i) for i in comb]]\n",
    "\n",
    "    res = generate_mean_ensemble_metrics_auto_threshold(df_comb_valid, df_comb_test, start=-10, end=10, step=1)\n",
    "    results.append((comb, diff_sum, res['valid_mcc'], res['mcc']))\n",
    "\n",
    "\n",
    "results.sort(key=lambda x: x[1])\n"
   ]
  },
  {
   "cell_type": "code",
   "execution_count": 11,
   "metadata": {},
   "outputs": [
    {
     "data": {
      "text/plain": [
       "[((1, 2, 3, 6, 8), 215.0, 0.6692, 0.6274),\n",
       " ((0, 2, 3, 6, 8), 217.8, 0.6746, 0.6362),\n",
       " ((1, 2, 3, 7, 8), 218.4, 0.665, 0.6348),\n",
       " ((0, 1, 2, 3, 8), 218.8, 0.6686, 0.645),\n",
       " ((0, 1, 2, 6, 8), 219.6, 0.6741, 0.6405),\n",
       " ((1, 2, 3, 5, 8), 221.0, 0.6787, 0.6406),\n",
       " ((0, 1, 2, 3, 6), 222.6, 0.6758, 0.6324),\n",
       " ((2, 3, 6, 7, 8), 223.2, 0.6722, 0.6302),\n",
       " ((1, 2, 3, 8, 9), 223.4, 0.6678, 0.6367),\n",
       " ((1, 2, 5, 6, 8), 223.6, 0.6728, 0.6267)]"
      ]
     },
     "execution_count": 11,
     "metadata": {},
     "output_type": "execute_result"
    }
   ],
   "source": [
    "results[:10]"
   ]
  },
  {
   "cell_type": "code",
   "execution_count": 12,
   "metadata": {},
   "outputs": [
    {
     "data": {
      "text/plain": [
       "[((3, 4, 6, 7, 9), 260.0, 0.6714, 0.629),\n",
       " ((1, 4, 5, 6, 9), 260.4, 0.6681, 0.6415),\n",
       " ((4, 6, 7, 8, 9), 261.2, 0.6761, 0.6285),\n",
       " ((1, 4, 6, 7, 9), 262.8, 0.6722, 0.6285),\n",
       " ((0, 4, 5, 7, 9), 263.6, 0.6806, 0.6395),\n",
       " ((2, 4, 5, 7, 9), 263.8, 0.6733, 0.6356),\n",
       " ((3, 4, 5, 7, 9), 266.2, 0.6719, 0.6325),\n",
       " ((1, 4, 5, 7, 9), 267.0, 0.6777, 0.6359),\n",
       " ((4, 5, 6, 7, 9), 267.4, 0.6802, 0.6355),\n",
       " ((4, 5, 7, 8, 9), 268.2, 0.6799, 0.6386)]"
      ]
     },
     "execution_count": 12,
     "metadata": {},
     "output_type": "execute_result"
    }
   ],
   "source": [
    "results[-10:]"
   ]
  },
  {
   "cell_type": "code",
   "execution_count": 13,
   "metadata": {},
   "outputs": [],
   "source": [
    "result_df = pd.DataFrame(results, columns=['combination', 'difference', 'valid_mcc', 'mcc'])"
   ]
  },
  {
   "cell_type": "code",
   "execution_count": 14,
   "metadata": {},
   "outputs": [
    {
     "data": {
      "text/html": [
       "<div>\n",
       "<style scoped>\n",
       "    .dataframe tbody tr th:only-of-type {\n",
       "        vertical-align: middle;\n",
       "    }\n",
       "\n",
       "    .dataframe tbody tr th {\n",
       "        vertical-align: top;\n",
       "    }\n",
       "\n",
       "    .dataframe thead th {\n",
       "        text-align: right;\n",
       "    }\n",
       "</style>\n",
       "<table border=\"1\" class=\"dataframe\">\n",
       "  <thead>\n",
       "    <tr style=\"text-align: right;\">\n",
       "      <th></th>\n",
       "      <th>combination</th>\n",
       "      <th>difference</th>\n",
       "      <th>valid_mcc</th>\n",
       "      <th>mcc</th>\n",
       "    </tr>\n",
       "  </thead>\n",
       "  <tbody>\n",
       "    <tr>\n",
       "      <th>0</th>\n",
       "      <td>(1, 2, 3, 6, 8)</td>\n",
       "      <td>215.0</td>\n",
       "      <td>0.6692</td>\n",
       "      <td>0.6274</td>\n",
       "    </tr>\n",
       "    <tr>\n",
       "      <th>1</th>\n",
       "      <td>(0, 2, 3, 6, 8)</td>\n",
       "      <td>217.8</td>\n",
       "      <td>0.6746</td>\n",
       "      <td>0.6362</td>\n",
       "    </tr>\n",
       "    <tr>\n",
       "      <th>2</th>\n",
       "      <td>(1, 2, 3, 7, 8)</td>\n",
       "      <td>218.4</td>\n",
       "      <td>0.6650</td>\n",
       "      <td>0.6348</td>\n",
       "    </tr>\n",
       "    <tr>\n",
       "      <th>3</th>\n",
       "      <td>(0, 1, 2, 3, 8)</td>\n",
       "      <td>218.8</td>\n",
       "      <td>0.6686</td>\n",
       "      <td>0.6450</td>\n",
       "    </tr>\n",
       "    <tr>\n",
       "      <th>4</th>\n",
       "      <td>(0, 1, 2, 6, 8)</td>\n",
       "      <td>219.6</td>\n",
       "      <td>0.6741</td>\n",
       "      <td>0.6405</td>\n",
       "    </tr>\n",
       "    <tr>\n",
       "      <th>...</th>\n",
       "      <td>...</td>\n",
       "      <td>...</td>\n",
       "      <td>...</td>\n",
       "      <td>...</td>\n",
       "    </tr>\n",
       "    <tr>\n",
       "      <th>247</th>\n",
       "      <td>(2, 4, 5, 7, 9)</td>\n",
       "      <td>263.8</td>\n",
       "      <td>0.6733</td>\n",
       "      <td>0.6356</td>\n",
       "    </tr>\n",
       "    <tr>\n",
       "      <th>248</th>\n",
       "      <td>(3, 4, 5, 7, 9)</td>\n",
       "      <td>266.2</td>\n",
       "      <td>0.6719</td>\n",
       "      <td>0.6325</td>\n",
       "    </tr>\n",
       "    <tr>\n",
       "      <th>249</th>\n",
       "      <td>(1, 4, 5, 7, 9)</td>\n",
       "      <td>267.0</td>\n",
       "      <td>0.6777</td>\n",
       "      <td>0.6359</td>\n",
       "    </tr>\n",
       "    <tr>\n",
       "      <th>250</th>\n",
       "      <td>(4, 5, 6, 7, 9)</td>\n",
       "      <td>267.4</td>\n",
       "      <td>0.6802</td>\n",
       "      <td>0.6355</td>\n",
       "    </tr>\n",
       "    <tr>\n",
       "      <th>251</th>\n",
       "      <td>(4, 5, 7, 8, 9)</td>\n",
       "      <td>268.2</td>\n",
       "      <td>0.6799</td>\n",
       "      <td>0.6386</td>\n",
       "    </tr>\n",
       "  </tbody>\n",
       "</table>\n",
       "<p>252 rows × 4 columns</p>\n",
       "</div>"
      ],
      "text/plain": [
       "         combination  difference  valid_mcc     mcc\n",
       "0    (1, 2, 3, 6, 8)       215.0     0.6692  0.6274\n",
       "1    (0, 2, 3, 6, 8)       217.8     0.6746  0.6362\n",
       "2    (1, 2, 3, 7, 8)       218.4     0.6650  0.6348\n",
       "3    (0, 1, 2, 3, 8)       218.8     0.6686  0.6450\n",
       "4    (0, 1, 2, 6, 8)       219.6     0.6741  0.6405\n",
       "..               ...         ...        ...     ...\n",
       "247  (2, 4, 5, 7, 9)       263.8     0.6733  0.6356\n",
       "248  (3, 4, 5, 7, 9)       266.2     0.6719  0.6325\n",
       "249  (1, 4, 5, 7, 9)       267.0     0.6777  0.6359\n",
       "250  (4, 5, 6, 7, 9)       267.4     0.6802  0.6355\n",
       "251  (4, 5, 7, 8, 9)       268.2     0.6799  0.6386\n",
       "\n",
       "[252 rows x 4 columns]"
      ]
     },
     "execution_count": 14,
     "metadata": {},
     "output_type": "execute_result"
    }
   ],
   "source": [
    "result_df"
   ]
  },
  {
   "cell_type": "code",
   "execution_count": 18,
   "metadata": {},
   "outputs": [],
   "source": [
    "from sklearn.linear_model import LinearRegression\n",
    "reg = LinearRegression().fit(result_df['difference'].values.reshape(-1,1), result_df['mcc'].values)"
   ]
  },
  {
   "cell_type": "code",
   "execution_count": 19,
   "metadata": {},
   "outputs": [
    {
     "data": {
      "text/plain": [
       "array([3.51267265e-06])"
      ]
     },
     "execution_count": 19,
     "metadata": {},
     "output_type": "execute_result"
    }
   ],
   "source": [
    "reg.coef_"
   ]
  },
  {
   "cell_type": "code",
   "execution_count": 20,
   "metadata": {},
   "outputs": [
    {
     "data": {
      "text/plain": [
       "-0.017854048910808773"
      ]
     },
     "execution_count": 20,
     "metadata": {},
     "output_type": "execute_result"
    }
   ],
   "source": [
    "reg.score(result_df['valid_mcc'].values.reshape(-1,1), result_df['mcc'].values)"
   ]
  }
 ],
 "metadata": {
  "kernelspec": {
   "display_name": "jc",
   "language": "python",
   "name": "python3"
  },
  "language_info": {
   "codemirror_mode": {
    "name": "ipython",
    "version": 3
   },
   "file_extension": ".py",
   "mimetype": "text/x-python",
   "name": "python",
   "nbconvert_exporter": "python",
   "pygments_lexer": "ipython3",
   "version": "3.9.17"
  },
  "orig_nbformat": 4
 },
 "nbformat": 4,
 "nbformat_minor": 2
}
