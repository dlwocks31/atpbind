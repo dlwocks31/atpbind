{
 "cells": [
  {
   "cell_type": "code",
   "execution_count": 1,
   "metadata": {},
   "outputs": [
    {
     "name": "stdout",
     "output_type": "stream",
     "text": [
      "Processing dataset type: imatinib\n",
      "get dataset imatinib\n",
      "CustomBindDataset: data_path is set to /home/jaechanlee/atpbind/data/imatinib\n",
      "Processing dataset type: dasatinib\n",
      "get dataset dasatinib\n",
      "CustomBindDataset: data_path is set to /home/jaechanlee/atpbind/data/dasatinib\n",
      "Processing dataset type: bosutinib\n",
      "get dataset bosutinib\n",
      "CustomBindDataset: data_path is set to /home/jaechanlee/atpbind/data/bosutinib\n",
      "Processing dataset type: methotrexate\n",
      "get dataset methotrexate\n",
      "CustomBindDataset: data_path is set to /home/jaechanlee/atpbind/data/methotrexate\n",
      "Processing dataset type: crizotinib\n",
      "get dataset crizotinib\n",
      "CustomBindDataset: data_path is set to /home/jaechanlee/atpbind/data/crizotinib\n",
      "ERROR: protein: 289, binding: 290\n",
      "get dataset atpbind3d\n"
     ]
    }
   ],
   "source": [
    "from lib.pipeline import get_dataset, CUSTOM_DATASET_TYPES\n",
    "\n",
    "dataset = {}\n",
    "for dataset_type in CUSTOM_DATASET_TYPES:\n",
    "    print(\"Processing dataset type: {}\".format(dataset_type))\n",
    "    dataset[dataset_type] = get_dataset(dataset_type)\n",
    "\n",
    "\n",
    "dataset['atpbind3d'] = get_dataset('atpbind3d')\n"
   ]
  },
  {
   "cell_type": "code",
   "execution_count": 9,
   "metadata": {},
   "outputs": [
    {
     "name": "stdout",
     "output_type": "stream",
     "text": [
      "Initialize Undersampling: all ones\n",
      "Initialize Weighting: all ones\n",
      "CustomBindDataset: split with valid_fold_num 0\n",
      "CustomBindDataset(\n",
      "  #sample: 11\n",
      "  #task: 1\n",
      ")\n",
      "CustomBindDataset: split with valid_fold_num 0\n",
      "8\n",
      "3\n",
      "tensor(196) tensor(2817)\n"
     ]
    }
   ],
   "source": [
    "dataset_name = 'atpbind3d'\n",
    "dataset[dataset_name].initialize_mask_and_weights().split(0)\n",
    "print(dataset[dataset_name])\n",
    "train, valid, test = dataset[dataset_name].split()\n",
    "print((len(train)) + (len(valid)))\n",
    "print(len(test))\n",
    "\n",
    "pos = 0\n",
    "neg = 0\n",
    "for b in dataset[dataset_name]:\n",
    "    tgt = b['graph'].target.flatten()\n",
    "    pos += (tgt == 1).sum()\n",
    "    neg += (tgt == 0).sum()\n",
    "print(pos, neg)"
   ]
  },
  {
   "cell_type": "code",
   "execution_count": 4,
   "metadata": {},
   "outputs": [
    {
     "data": {
      "text/plain": [
       "[<torch.utils.data.dataset.Subset at 0x7fc8acf3b610>,\n",
       " <torch.utils.data.dataset.Subset at 0x7fc9a0190e80>,\n",
       " <torch.utils.data.dataset.Subset at 0x7fc8ac555a00>]"
      ]
     },
     "execution_count": 4,
     "metadata": {},
     "output_type": "execute_result"
    }
   ],
   "source": [
    "dataset_name = 'imatinib'\n",
    "dataset[dataset_name].initialize_mask_and_weights().split(0)\n",
    "print(dataset[dataset_name])\n",
    "train, valid, test = dataset[dataset_name].split()\n",
    "print((len(train)) + (len(valid)))\n",
    "print(len(test))\n",
    "\n",
    "pos = 0\n",
    "neg = 0\n",
    "for b in dataset[dataset_name]:\n",
    "    tgt = b['graph'].target.flatten()\n",
    "    pos += (tgt == 1).sum()\n",
    "    neg += (tgt == 0).sum()\n",
    "print(pos, neg)"
   ]
  },
  {
   "cell_type": "code",
   "execution_count": null,
   "metadata": {},
   "outputs": [],
   "source": [
    "dataset_name = 'dasatinib'\n",
    "dataset[dataset_name].initialize_mask_and_weights().split(0)\n",
    "print(dataset[dataset_name])\n",
    "train, valid, test = dataset[dataset_name].split()\n",
    "print((len(train)) + (len(valid)))\n",
    "print(len(test))\n",
    "\n",
    "pos = 0\n",
    "neg = 0\n",
    "for b in dataset[dataset_name]:\n",
    "    tgt = b['graph'].target.flatten()\n",
    "    pos += (tgt == 1).sum()\n",
    "    neg += (tgt == 0).sum()\n",
    "print(pos, neg)"
   ]
  },
  {
   "cell_type": "code",
   "execution_count": null,
   "metadata": {},
   "outputs": [],
   "source": [
    "dataset_name = 'bosutinib'\n",
    "dataset[dataset_name].initialize_mask_and_weights().split(0)\n",
    "print(dataset[dataset_name])\n",
    "train, valid, test = dataset[dataset_name].split()\n",
    "print((len(train)) + (len(valid)))\n",
    "print(len(test))\n",
    "\n",
    "pos = 0\n",
    "neg = 0\n",
    "for b in dataset[dataset_name]:\n",
    "    tgt = b['graph'].target.flatten()\n",
    "    pos += (tgt == 1).sum()\n",
    "    neg += (tgt == 0).sum()\n",
    "print(pos, neg)"
   ]
  },
  {
   "cell_type": "code",
   "execution_count": 14,
   "metadata": {},
   "outputs": [
    {
     "data": {
      "text/plain": [
       "tensor([0, 0, 0, 0, 0, 0, 0, 0, 0, 0, 0, 0, 1, 0, 0, 0, 0, 1, 0, 0, 1, 0, 0, 0,\n",
       "        0, 0, 0, 0, 0, 0, 0, 0, 0, 1, 1, 1, 0, 0, 0, 0, 0, 0, 0, 0, 0, 0, 0, 0,\n",
       "        0, 1, 0, 0, 1, 1, 0, 0, 1, 0, 0, 0, 0, 0, 1, 0, 0, 0, 0, 0, 0, 0, 0, 0,\n",
       "        0, 0, 0, 0, 1, 0, 1, 0, 1, 1, 0, 0, 1, 0, 0, 0, 0, 0, 0, 0, 0, 0, 0, 0,\n",
       "        0, 0, 0, 0, 0, 0, 0, 0, 0, 0, 0, 0, 0, 0, 0, 0, 0, 0, 0, 0, 0, 0, 0, 0,\n",
       "        0, 0, 0, 1, 1, 1, 0, 0, 0, 0, 0, 0, 0, 1, 0, 0, 0, 0, 0, 0, 0, 0, 0, 1,\n",
       "        1, 1, 0, 0, 0, 0, 0, 0, 0, 0, 0, 0, 0, 0, 0, 0, 0, 0, 0, 0, 0, 0, 0, 0,\n",
       "        0, 0, 0, 0, 0, 0, 0, 0, 0, 0, 0, 0, 0, 0, 0, 0, 0, 0, 0, 0, 0, 0, 0, 0,\n",
       "        0, 0, 0, 0, 0, 0, 0, 0, 0, 0, 0, 0, 0, 0, 0, 0, 0, 0, 0, 0, 0, 0, 0, 0,\n",
       "        0, 0, 0, 0, 0, 0, 0, 0, 0, 0, 0, 0, 0, 0, 0, 0, 0, 0, 0, 0, 0, 0, 0, 0,\n",
       "        0, 0, 0, 0, 0, 0, 0, 0, 0, 0, 0, 0, 0, 0, 0, 0, 0, 0, 0, 0, 0, 0, 0])"
      ]
     },
     "execution_count": 14,
     "metadata": {},
     "output_type": "execute_result"
    }
   ],
   "source": [
    "b['graph'].target.flatten()"
   ]
  }
 ],
 "metadata": {
  "kernelspec": {
   "display_name": "jc",
   "language": "python",
   "name": "python3"
  },
  "language_info": {
   "codemirror_mode": {
    "name": "ipython",
    "version": 3
   },
   "file_extension": ".py",
   "mimetype": "text/x-python",
   "name": "python",
   "nbconvert_exporter": "python",
   "pygments_lexer": "ipython3",
   "version": "3.9.17"
  }
 },
 "nbformat": 4,
 "nbformat_minor": 2
}
