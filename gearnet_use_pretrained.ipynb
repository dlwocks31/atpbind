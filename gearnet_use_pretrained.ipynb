{
 "cells": [
  {
   "cell_type": "code",
   "execution_count": 1,
   "metadata": {},
   "outputs": [
    {
     "name": "stdout",
     "output_type": "stream",
     "text": [
      "Split num:  [337, 41, 41]\n",
      "train samples: 337, valid samples: 41, test samples: 41\n"
     ]
    }
   ],
   "source": [
    "from lib.datasets import ATPBind3D\n",
    "\n",
    "from torchdrug import transforms\n",
    "\n",
    "truncuate_transform = transforms.TruncateProtein(max_length=350, random=False)\n",
    "protein_view_transform = transforms.ProteinView(view='residue')\n",
    "transform = transforms.Compose([truncuate_transform, protein_view_transform])\n",
    "\n",
    "dataset = ATPBind3D(transform=transform)\n",
    "\n",
    "train_set, valid_set, test_set = dataset.split()\n",
    "print(\"train samples: %d, valid samples: %d, test samples: %d\" %\n",
    "      (len(train_set), len(valid_set), len(test_set)))\n"
   ]
  },
  {
   "cell_type": "code",
   "execution_count": 2,
   "metadata": {},
   "outputs": [],
   "source": [
    "from torchdrug.utils import download\n",
    "import torch\n",
    "from torchdrug import models\n",
    "possible_weights = [\n",
    "    \"mc_gearnet_edge.pth\",\n",
    "    \"distance_gearnet_edge.pth\",\n",
    "    \"dihedral_gearnet_edge.pth\",\n",
    "    \"attr_gearnet_edge.pth\",\n",
    "    \"angle_gearnet_edge.pth\"\n",
    "]\n",
    "md5s = [\n",
    "    \"c35402108f14e43f20feb475918f9c26\",\n",
    "    \"a5b4781506b51a146a1b26c564917110\",\n",
    "    \"3f4cc8a1d0401c4aea68bbac0ce9d990\",\n",
    "    \"77ea524ffe0c11ec93a403696b1c80a9\",\n",
    "    \"1f2c1bb27f8fdb3577e0476210a9692e\"\n",
    "]\n",
    "\n",
    "def pretrained_gearnet(index):\n",
    "    weights_path = download(\n",
    "        \"https://zenodo.org/record/7593637/files/%s?download=1\" % possible_weights[index],\n",
    "        \"data/weight\",\n",
    "        md5=md5s[index]\n",
    "    )\n",
    "    # load the weights from the .pth file\n",
    "    state_dict = torch.load(weights_path, map_location=torch.device(\"cpu\"))\n",
    "    \n",
    "    gearnet = models.GearNet(input_dim=21, hidden_dims=[512, 512, 512, 512, 512, 512], num_relation=7,\n",
    "                         edge_input_dim=59, num_angle_bin=8,\n",
    "                         batch_norm=True, concat_hidden=True, short_cut=True, readout=\"sum\")\n",
    "\n",
    "    gearnet.load_state_dict(state_dict)\n",
    "    \n",
    "    return gearnet\n"
   ]
  },
  {
   "cell_type": "code",
   "execution_count": 3,
   "metadata": {},
   "outputs": [],
   "source": [
    "def _freeze_gearnet_edge(\n",
    "    gearnet_edge, freeze_all=True, freeze_layer_count=-1\n",
    "):\n",
    "    if freeze_all:\n",
    "        for param in gearnet_edge.parameters():\n",
    "            param.requires_grad = False\n",
    "    else:\n",
    "        print(\"Freezing %d layers, total %d layers\" % (freeze_layer_count, len(gearnet_edge.layers)))\n",
    "        for layer in gearnet_edge.layers[:freeze_layer_count]:\n",
    "            for param in layer.parameters():\n",
    "                param.requires_grad = False\n",
    "        \n",
    "        for layer in gearnet_edge.edge_layers[:freeze_layer_count]:\n",
    "            for param in layer.parameters():\n",
    "                param.requires_grad = False\n",
    "        \n",
    "        for layer in gearnet_edge.batch_norms[:freeze_layer_count]:\n",
    "            for param in layer.parameters():\n",
    "                param.requires_grad = False\n",
    "    return None"
   ]
  },
  {
   "cell_type": "code",
   "execution_count": 4,
   "metadata": {},
   "outputs": [
    {
     "name": "stdout",
     "output_type": "stream",
     "text": [
      "Freezing 5 layers, total 6 layers\n"
     ]
    }
   ],
   "source": [
    "from torchdrug import core, layers, models\n",
    "from torchdrug.layers import geometry\n",
    "import torch\n",
    "from lib.tasks import NodePropertyPrediction\n",
    "\n",
    "graph_construction_model = layers.GraphConstruction(node_layers=[geometry.AlphaCarbonNode()],\n",
    "                                                    edge_layers=[geometry.SpatialEdge(radius=10.0, min_distance=5),\n",
    "                                                                 geometry.KNNEdge(\n",
    "                                                                     k=10, min_distance=5),\n",
    "                                                                 geometry.SequentialEdge(max_distance=2)],\n",
    "                                                    edge_feature=\"gearnet\")\n",
    "\n",
    "gearnet = pretrained_gearnet(1)\n",
    "_freeze_gearnet_edge(gearnet, freeze_all=False, freeze_layer_count=5)\n"
   ]
  },
  {
   "cell_type": "code",
   "execution_count": 5,
   "metadata": {},
   "outputs": [
    {
     "name": "stdout",
     "output_type": "stream",
     "text": [
      "16:32:04   Preprocess training set\n",
      "16:32:10   {'batch_size': 1,\n",
      " 'class': 'core.Engine',\n",
      " 'gpus': [1],\n",
      " 'gradient_interval': 1,\n",
      " 'log_interval': 100,\n",
      " 'logger': 'logging',\n",
      " 'num_worker': 0,\n",
      " 'optimizer': {'amsgrad': False,\n",
      "               'betas': (0.9, 0.999),\n",
      "               'class': 'optim.Adam',\n",
      "               'eps': 1e-08,\n",
      "               'lr': 0.0001,\n",
      "               'weight_decay': 0},\n",
      " 'scheduler': None,\n",
      " 'task': {'class': 'NodePropertyPrediction',\n",
      "          'criterion': 'bce',\n",
      "          'graph_construction_model': {'class': 'layers.GraphConstruction',\n",
      "                                       'edge_feature': 'gearnet',\n",
      "                                       'edge_layers': [SpatialEdge(),\n",
      "                                                       KNNEdge(),\n",
      "                                                       SequentialEdge()],\n",
      "                                       'node_layers': [AlphaCarbonNode()]},\n",
      "          'metric': 'micro_auroc',\n",
      "          'model': {'activation': 'relu',\n",
      "                    'batch_norm': True,\n",
      "                    'class': 'models.GearNet',\n",
      "                    'concat_hidden': True,\n",
      "                    'edge_input_dim': 59,\n",
      "                    'hidden_dims': [512, 512, 512, 512, 512, 512],\n",
      "                    'input_dim': 21,\n",
      "                    'num_angle_bin': 8,\n",
      "                    'num_relation': 7,\n",
      "                    'readout': 'sum',\n",
      "                    'short_cut': True},\n",
      "          'normalization': False,\n",
      "          'num_class': None,\n",
      "          'num_mlp_layer': 2,\n",
      "          'verbose': 0},\n",
      " 'test_set': {'class': 'dataset.Subset',\n",
      "              'dataset': {'class': 'ATPBind3D',\n",
      "                          'limit': -1,\n",
      "                          'path': None,\n",
      "                          'transform': {'class': 'transforms.Compose',\n",
      "                                        'transforms': [<torchdrug.transforms.transform.TruncateProtein object at 0x7f6fec14ae50>,\n",
      "                                                       <torchdrug.transforms.transform.ProteinView object at 0x7f6fec20f820>]},\n",
      "                          'valid_ratio': 0.1},\n",
      "              'indices': range(378, 419)},\n",
      " 'train_set': {'class': 'dataset.Subset',\n",
      "               'dataset': {'class': 'ATPBind3D',\n",
      "                           'limit': -1,\n",
      "                           'path': None,\n",
      "                           'transform': {'class': 'transforms.Compose',\n",
      "                                         'transforms': [<torchdrug.transforms.transform.TruncateProtein object at 0x7f6fec14ae50>,\n",
      "                                                        <torchdrug.transforms.transform.ProteinView object at 0x7f6fec20f820>]},\n",
      "                           'valid_ratio': 0.1},\n",
      "               'indices': range(0, 337)},\n",
      " 'valid_set': {'class': 'dataset.Subset',\n",
      "               'dataset': {'class': 'ATPBind3D',\n",
      "                           'limit': -1,\n",
      "                           'path': None,\n",
      "                           'transform': {'class': 'transforms.Compose',\n",
      "                                         'transforms': [<torchdrug.transforms.transform.TruncateProtein object at 0x7f6fec14ae50>,\n",
      "                                                        <torchdrug.transforms.transform.ProteinView object at 0x7f6fec20f820>]},\n",
      "                           'valid_ratio': 0.1},\n",
      "               'indices': range(337, 378)}}\n"
     ]
    }
   ],
   "source": [
    "task = NodePropertyPrediction(\n",
    "    gearnet,\n",
    "    graph_construction_model=graph_construction_model,\n",
    "    normalization=False,\n",
    "    num_mlp_layer=2,\n",
    "    metric=(\"micro_auroc\")\n",
    ")\n",
    "\n",
    "optimizer = torch.optim.Adam(task.parameters(), lr=1e-4)\n",
    "solver = core.Engine(task, train_set, valid_set, test_set, optimizer,\n",
    "                     gpus=[1], batch_size=1)"
   ]
  },
  {
   "cell_type": "code",
   "execution_count": 6,
   "metadata": {},
   "outputs": [
    {
     "name": "stdout",
     "output_type": "stream",
     "text": [
      "16:32:10   >>>>>>>>>>>>>>>>>>>>>>>>>>>>>>\n",
      "16:32:10   Epoch 0 begin\n",
      "16:32:11   >>>>>>>>>>>>>>>>>>>>>>>>>>>>>>\n",
      "16:32:11   binary cross entropy: 0.708787\n",
      "16:32:24   >>>>>>>>>>>>>>>>>>>>>>>>>>>>>>\n",
      "16:32:24   binary cross entropy: 0.181673\n",
      "16:32:37   >>>>>>>>>>>>>>>>>>>>>>>>>>>>>>\n",
      "16:32:37   binary cross entropy: 0.273708\n",
      "16:32:51   >>>>>>>>>>>>>>>>>>>>>>>>>>>>>>\n",
      "16:32:51   binary cross entropy: 0.135656\n",
      "16:32:56   >>>>>>>>>>>>>>>>>>>>>>>>>>>>>>\n",
      "16:32:56   Epoch 0 end\n",
      "16:32:56   duration: 46.39 secs\n",
      "16:32:56   speed: 7.26 batch / sec\n",
      "16:32:56   ETA: 46.39 secs\n",
      "16:32:56   max GPU memory: 628.8 MiB\n",
      "16:32:56   ------------------------------\n",
      "16:32:56   average binary cross entropy: 0.181512\n",
      "16:32:56   >>>>>>>>>>>>>>>>>>>>>>>>>>>>>>\n",
      "16:32:56   Epoch 1 begin\n",
      "16:33:05   >>>>>>>>>>>>>>>>>>>>>>>>>>>>>>\n",
      "16:33:05   binary cross entropy: 0.114254\n",
      "16:33:18   >>>>>>>>>>>>>>>>>>>>>>>>>>>>>>\n",
      "16:33:18   binary cross entropy: 0.144979\n",
      "16:33:31   >>>>>>>>>>>>>>>>>>>>>>>>>>>>>>\n",
      "16:33:31   binary cross entropy: 0.0892658\n",
      "16:33:42   >>>>>>>>>>>>>>>>>>>>>>>>>>>>>>\n",
      "16:33:42   Epoch 1 end\n",
      "16:33:42   duration: 45.73 secs\n",
      "16:33:42   speed: 7.37 batch / sec\n",
      "16:33:42   ETA: 0.00 secs\n",
      "16:33:42   max GPU memory: 628.8 MiB\n",
      "16:33:42   ------------------------------\n",
      "16:33:42   average binary cross entropy: 0.151799\n",
      "16:33:42   >>>>>>>>>>>>>>>>>>>>>>>>>>>>>>\n",
      "16:33:42   Evaluate on valid\n",
      "16:33:47   ------------------------------\n",
      "16:33:47   micro_auroc: 0.825132\n",
      "16:33:47   >>>>>>>>>>>>>>>>>>>>>>>>>>>>>>\n",
      "16:33:47   Evaluate on test\n",
      "16:33:52   ------------------------------\n",
      "16:33:52   micro_auroc: 0.801305\n"
     ]
    },
    {
     "data": {
      "text/plain": [
       "{'micro_auroc': tensor(0.8013, device='cuda:1')}"
      ]
     },
     "execution_count": 6,
     "metadata": {},
     "output_type": "execute_result"
    }
   ],
   "source": [
    "solver.train(num_epoch=2)\n",
    "solver.evaluate(\"valid\")\n",
    "solver.evaluate(\"test\")"
   ]
  },
  {
   "cell_type": "markdown",
   "metadata": {},
   "source": []
  }
 ],
 "metadata": {
  "kernelspec": {
   "display_name": "jc",
   "language": "python",
   "name": "jc"
  },
  "language_info": {
   "codemirror_mode": {
    "name": "ipython",
    "version": 3
   },
   "file_extension": ".py",
   "mimetype": "text/x-python",
   "name": "python",
   "nbconvert_exporter": "python",
   "pygments_lexer": "ipython3",
   "version": "3.9.16"
  },
  "orig_nbformat": 4
 },
 "nbformat": 4,
 "nbformat_minor": 2
}
