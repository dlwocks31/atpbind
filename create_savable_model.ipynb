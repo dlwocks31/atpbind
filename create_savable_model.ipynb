{
 "cells": [
  {
   "cell_type": "code",
   "execution_count": 4,
   "metadata": {},
   "outputs": [
    {
     "name": "stdout",
     "output_type": "stream",
     "text": [
      "load model lm-gearnet, kwargs: {'gpu': 1, 'lm_type': 'esm-t30', 'gearnet_hidden_dim_size': 512, 'gearnet_hidden_dim_count': 4}\n",
      "train samples: 302, valid samples: 76, test samples: 41\n",
      "0m27s {'sensitivity': 0.5183, 'specificity': 0.9868, 'accuracy': 0.9625, 'precision': 0.6813, 'mcc': 0.5754, 'micro_auroc': 0.9279, 'train_bce': 0.1822, 'valid_bce': 0.113, 'valid_mcc': 0.5389}\n",
      "0m27s {'sensitivity': 0.6699, 'specificity': 0.9772, 'accuracy': 0.9613, 'precision': 0.6158, 'mcc': 0.6219, 'micro_auroc': 0.9436, 'train_bce': 0.0855, 'valid_bce': 0.1103, 'valid_mcc': 0.5785}\n",
      "0m27s {'sensitivity': 0.4035, 'specificity': 0.9952, 'accuracy': 0.9646, 'precision': 0.8214, 'mcc': 0.5611, 'micro_auroc': 0.9157, 'train_bce': 0.0558, 'valid_bce': 0.1275, 'valid_mcc': 0.5482}\n",
      "0m27s {'sensitivity': 0.4147, 'specificity': 0.9955, 'accuracy': 0.9654, 'precision': 0.8333, 'mcc': 0.5736, 'micro_auroc': 0.9029, 'train_bce': 0.0377, 'valid_bce': 0.1585, 'valid_mcc': 0.5397}\n",
      "0m27s {'sensitivity': 0.5455, 'specificity': 0.9891, 'accuracy': 0.9661, 'precision': 0.7323, 'mcc': 0.6151, 'micro_auroc': 0.9239, 'train_bce': 0.0247, 'valid_bce': 0.1299, 'valid_mcc': 0.6326}\n",
      "0m27s {'sensitivity': 0.5423, 'specificity': 0.9922, 'accuracy': 0.9689, 'precision': 0.7907, 'mcc': 0.6399, 'micro_auroc': 0.9347, 'train_bce': 0.0153, 'valid_bce': 0.1456, 'valid_mcc': 0.63}\n",
      "0m27s {'sensitivity': 0.6029, 'specificity': 0.9865, 'accuracy': 0.9666, 'precision': 0.7092, 'mcc': 0.6366, 'micro_auroc': 0.9244, 'train_bce': 0.0109, 'valid_bce': 0.1361, 'valid_mcc': 0.6254}\n",
      "0m27s {'sensitivity': 0.5646, 'specificity': 0.9911, 'accuracy': 0.969, 'precision': 0.7763, 'mcc': 0.6468, 'micro_auroc': 0.9113, 'train_bce': 0.0076, 'valid_bce': 0.1778, 'valid_mcc': 0.6361}\n",
      "0m27s {'sensitivity': 0.5502, 'specificity': 0.9912, 'accuracy': 0.9684, 'precision': 0.7735, 'mcc': 0.637, 'micro_auroc': 0.9151, 'train_bce': 0.006, 'valid_bce': 0.1789, 'valid_mcc': 0.6521}\n",
      "0m27s {'sensitivity': 0.5789, 'specificity': 0.9892, 'accuracy': 0.9679, 'precision': 0.7454, 'mcc': 0.6408, 'micro_auroc': 0.9233, 'train_bce': 0.0035, 'valid_bce': 0.2015, 'valid_mcc': 0.6455}\n",
      "0m27s {'sensitivity': 0.555, 'specificity': 0.9915, 'accuracy': 0.9689, 'precision': 0.7803, 'mcc': 0.6429, 'micro_auroc': 0.9046, 'train_bce': 0.0029, 'valid_bce': 0.2032, 'valid_mcc': 0.6415}\n",
      "0m28s {'sensitivity': 0.5917, 'specificity': 0.9897, 'accuracy': 0.9691, 'precision': 0.7587, 'mcc': 0.6545, 'micro_auroc': 0.9196, 'train_bce': 0.0012, 'valid_bce': 0.213, 'valid_mcc': 0.6438}\n",
      "0m27s {'sensitivity': 0.547, 'specificity': 0.9932, 'accuracy': 0.9701, 'precision': 0.8147, 'mcc': 0.6535, 'micro_auroc': 0.9018, 'train_bce': 0.0019, 'valid_bce': 0.2187, 'valid_mcc': 0.6314}\n"
     ]
    }
   ],
   "source": [
    "from lib.pipeline import Pipeline\n",
    "gpu = 1\n",
    "pipeline = Pipeline(\n",
    "    model='lm-gearnet',\n",
    "    dataset='atpbind3d',\n",
    "    gpus=[gpu],\n",
    "    model_kwargs={\n",
    "        'gpu': gpu,\n",
    "        'lm_type': 'esm-t30',\n",
    "        'gearnet_hidden_dim_size': 512,\n",
    "        'gearnet_hidden_dim_count': 4,\n",
    "    },\n",
    "    optimizer_kwargs={\n",
    "        'lr': 1e-3,\n",
    "    },\n",
    "    batch_size=4,\n",
    "    optimizer='adam',\n",
    ")\n",
    "\n",
    "pipeline.model.freeze_lm(freeze_all=False, freeze_layer_count=27)\n",
    "\n",
    "train_record, state_dict = pipeline.train_until_fit(\n",
    "    patience=5,\n",
    "    return_state_dict=True,\n",
    "    use_dynamic_threshold=False,\n",
    ")\n"
   ]
  },
  {
   "cell_type": "code",
   "execution_count": 7,
   "metadata": {},
   "outputs": [],
   "source": [
    "import torch\n",
    "torch.save(state_dict, 'lmg_512_4.pt')"
   ]
  }
 ],
 "metadata": {
  "kernelspec": {
   "display_name": "jc",
   "language": "python",
   "name": "python3"
  },
  "language_info": {
   "codemirror_mode": {
    "name": "ipython",
    "version": 3
   },
   "file_extension": ".py",
   "mimetype": "text/x-python",
   "name": "python",
   "nbconvert_exporter": "python",
   "pygments_lexer": "ipython3",
   "version": "3.9.17"
  },
  "orig_nbformat": 4
 },
 "nbformat": 4,
 "nbformat_minor": 2
}
