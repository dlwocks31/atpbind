{
 "cells": [
  {
   "cell_type": "code",
   "execution_count": 67,
   "metadata": {},
   "outputs": [],
   "source": [
    "import pandas as pd\n",
    "import numpy as np\n",
    "\n",
    "def sigmoid(x):\n",
    "    return 1 / (1 + np.exp(-x))\n",
    "\n",
    "atps = [pd.read_csv(f'drugs/atpbind3d_esm-33-gearnet_{i}.csv') for i in range(5)]\n",
    "dasas = [pd.read_csv(f'drugs/dasatinib_esm-33-gearnet-pretrained-freezelm_{i}.csv') for i in range(5)]\n",
    "\n",
    "\n",
    "fold_index = 0\n",
    "protein_index = 1\n",
    "\n",
    "pred_columns = ['pred_0', 'pred_1', 'pred_2', 'pred_3', 'pred_4', 'pred_5', 'pred_6', 'pred_7', 'pred_8', 'pred_9']\n",
    "\n",
    "a1 = atps[fold_index].query(f'protein_index == {protein_index}')\n",
    "a1['pmean'] = a1[pred_columns].apply(sigmoid).mean(axis=1)\n",
    "\n",
    "d1 = dasas[fold_index].query(f'protein_index == {protein_index}')\n",
    "d1['pmean'] = d1[pred_columns].apply(sigmoid).mean(axis=1)"
   ]
  },
  {
   "cell_type": "code",
   "execution_count": 70,
   "metadata": {},
   "outputs": [
    {
     "name": "stdout",
     "output_type": "stream",
     "text": [
      "atp predicted count: 19\n",
      "[12, 13, 14, 15, 16, 20, 32, 34, 51, 80, 81, 82, 83, 87, 137, 138, 140, 151, 153]\n",
      "dasatinib predicted count: 69\n",
      "[0, 6, 10, 11, 12, 13, 14, 15, 19, 20, 25, 26, 31, 32, 33, 34, 49, 50, 54, 55, 58, 60, 62, 63, 64, 76, 77, 78, 79, 80, 81, 82, 83, 84, 85, 87, 88, 89, 90, 93, 96, 107, 110, 127, 130, 131, 135, 138, 139, 140, 146, 148, 149, 150, 151, 152, 153, 156, 169, 181, 185, 200, 203, 206, 215, 216, 228, 242, 262]\n",
      "intersecting count: 16\n"
     ]
    }
   ],
   "source": [
    "st1 = set(a1.query('pmean > 0.35')['residue_index'])\n",
    "st2 = set(d1.query('pmean > 0.35')['residue_index'])\n",
    "\n",
    "print('atp predicted count:', len(st1))\n",
    "print(sorted(list(st1)))\n",
    "\n",
    "print('dasatinib predicted count:', len(st2))\n",
    "print(sorted(list(st2)))\n",
    "\n",
    "print('intersecting count:', len(st1 & st2))\n"
   ]
  }
 ],
 "metadata": {
  "kernelspec": {
   "display_name": "jc",
   "language": "python",
   "name": "python3"
  },
  "language_info": {
   "codemirror_mode": {
    "name": "ipython",
    "version": 3
   },
   "file_extension": ".py",
   "mimetype": "text/x-python",
   "name": "python",
   "nbconvert_exporter": "python",
   "pygments_lexer": "ipython3",
   "version": "3.9.17"
  }
 },
 "nbformat": 4,
 "nbformat_minor": 2
}
