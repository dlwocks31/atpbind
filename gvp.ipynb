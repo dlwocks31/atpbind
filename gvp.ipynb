{
 "cells": [
  {
   "cell_type": "code",
   "execution_count": 2,
   "metadata": {},
   "outputs": [
    {
     "name": "stdout",
     "output_type": "stream",
     "text": [
      "Collecting git+https://github.com/drorlab/gvp-pytorch\n",
      "  Cloning https://github.com/drorlab/gvp-pytorch to /tmp/pip-req-build-_e8imgzs\n",
      "  Running command git clone --quiet https://github.com/drorlab/gvp-pytorch /tmp/pip-req-build-_e8imgzs\n",
      "  Resolved https://github.com/drorlab/gvp-pytorch to commit 82af6b22eaf8311c15733117b0071408d24ed877\n",
      "  Preparing metadata (setup.py) ... \u001b[?25ldone\n",
      "\u001b[?25hRequirement already satisfied: torch in /data/project/aigenintern/aigenintern2/miniconda3/envs/jc/lib/python3.9/site-packages (from gvp==0.1.1) (1.8.1+cu101)\n",
      "Requirement already satisfied: torch_geometric in /data/project/aigenintern/aigenintern2/miniconda3/envs/jc/lib/python3.9/site-packages (from gvp==0.1.1) (2.0.3)\n",
      "Requirement already satisfied: torch_scatter in /data/project/aigenintern/aigenintern2/miniconda3/envs/jc/lib/python3.9/site-packages (from gvp==0.1.1) (2.0.8)\n",
      "Requirement already satisfied: torch_cluster in /data/project/aigenintern/aigenintern2/miniconda3/envs/jc/lib/python3.9/site-packages (from gvp==0.1.1) (1.5.9)\n",
      "Requirement already satisfied: tqdm in /data/project/aigenintern/aigenintern2/miniconda3/envs/jc/lib/python3.9/site-packages (from gvp==0.1.1) (4.65.0)\n",
      "Requirement already satisfied: numpy in /data/project/aigenintern/aigenintern2/miniconda3/envs/jc/lib/python3.9/site-packages (from gvp==0.1.1) (1.23.5)\n",
      "Requirement already satisfied: sklearn in /data/project/aigenintern/aigenintern2/miniconda3/envs/jc/lib/python3.9/site-packages (from gvp==0.1.1) (0.0.post1)\n",
      "Requirement already satisfied: atom3d in /data/project/aigenintern/aigenintern2/miniconda3/envs/jc/lib/python3.9/site-packages (from gvp==0.1.1) (0.2.6)\n",
      "Requirement already satisfied: msgpack in /data/project/aigenintern/aigenintern2/miniconda3/envs/jc/lib/python3.9/site-packages (from atom3d->gvp==0.1.1) (1.0.5)\n",
      "Requirement already satisfied: freesasa in /data/project/aigenintern/aigenintern2/miniconda3/envs/jc/lib/python3.9/site-packages (from atom3d->gvp==0.1.1) (2.2.0.post3)\n",
      "Collecting argparse\n",
      "  Using cached argparse-1.4.0-py2.py3-none-any.whl (23 kB)\n",
      "Requirement already satisfied: python-dotenv>=0.5.1 in /data/project/aigenintern/aigenintern2/miniconda3/envs/jc/lib/python3.9/site-packages (from atom3d->gvp==0.1.1) (1.0.0)\n",
      "Requirement already satisfied: scikit-learn in /data/project/aigenintern/aigenintern2/miniconda3/envs/jc/lib/python3.9/site-packages (from atom3d->gvp==0.1.1) (1.2.2)\n",
      "Requirement already satisfied: click in /data/project/aigenintern/aigenintern2/miniconda3/envs/jc/lib/python3.9/site-packages (from atom3d->gvp==0.1.1) (8.1.3)\n",
      "Requirement already satisfied: pandas in /data/project/aigenintern/aigenintern2/miniconda3/envs/jc/lib/python3.9/site-packages (from atom3d->gvp==0.1.1) (1.5.3)\n",
      "Requirement already satisfied: lmdb in /data/project/aigenintern/aigenintern2/miniconda3/envs/jc/lib/python3.9/site-packages (from atom3d->gvp==0.1.1) (1.4.0)\n",
      "Requirement already satisfied: pyrr in /data/project/aigenintern/aigenintern2/miniconda3/envs/jc/lib/python3.9/site-packages (from atom3d->gvp==0.1.1) (0.10.3)\n",
      "Requirement already satisfied: scipy in /data/project/aigenintern/aigenintern2/miniconda3/envs/jc/lib/python3.9/site-packages (from atom3d->gvp==0.1.1) (1.10.1)\n",
      "Requirement already satisfied: easy-parallel in /data/project/aigenintern/aigenintern2/miniconda3/envs/jc/lib/python3.9/site-packages (from atom3d->gvp==0.1.1) (0.1.6)\n",
      "Requirement already satisfied: biopython in /data/project/aigenintern/aigenintern2/miniconda3/envs/jc/lib/python3.9/site-packages (from atom3d->gvp==0.1.1) (1.81)\n",
      "Requirement already satisfied: tables in /data/project/aigenintern/aigenintern2/miniconda3/envs/jc/lib/python3.9/site-packages (from atom3d->gvp==0.1.1) (3.8.0)\n",
      "Requirement already satisfied: h5py in /data/project/aigenintern/aigenintern2/miniconda3/envs/jc/lib/python3.9/site-packages (from atom3d->gvp==0.1.1) (3.8.0)\n",
      "Requirement already satisfied: typing-extensions in /data/project/aigenintern/aigenintern2/miniconda3/envs/jc/lib/python3.9/site-packages (from torch->gvp==0.1.1) (4.5.0)\n",
      "Requirement already satisfied: jinja2 in /data/project/aigenintern/aigenintern2/miniconda3/envs/jc/lib/python3.9/site-packages (from torch_geometric->gvp==0.1.1) (3.1.2)\n",
      "Requirement already satisfied: googledrivedownloader in /data/project/aigenintern/aigenintern2/miniconda3/envs/jc/lib/python3.9/site-packages (from torch_geometric->gvp==0.1.1) (0.4)\n",
      "Requirement already satisfied: rdflib in /data/project/aigenintern/aigenintern2/miniconda3/envs/jc/lib/python3.9/site-packages (from torch_geometric->gvp==0.1.1) (6.3.2)\n",
      "Requirement already satisfied: networkx in /data/project/aigenintern/aigenintern2/miniconda3/envs/jc/lib/python3.9/site-packages (from torch_geometric->gvp==0.1.1) (3.0)\n",
      "Requirement already satisfied: pyparsing in /data/project/aigenintern/aigenintern2/miniconda3/envs/jc/lib/python3.9/site-packages (from torch_geometric->gvp==0.1.1) (3.0.9)\n",
      "Requirement already satisfied: yacs in /data/project/aigenintern/aigenintern2/miniconda3/envs/jc/lib/python3.9/site-packages (from torch_geometric->gvp==0.1.1) (0.1.8)\n",
      "Requirement already satisfied: requests in /data/project/aigenintern/aigenintern2/miniconda3/envs/jc/lib/python3.9/site-packages (from torch_geometric->gvp==0.1.1) (2.28.2)\n",
      "Requirement already satisfied: PyYAML in /data/project/aigenintern/aigenintern2/miniconda3/envs/jc/lib/python3.9/site-packages (from torch_geometric->gvp==0.1.1) (5.4.1)\n",
      "Requirement already satisfied: pathos in /data/project/aigenintern/aigenintern2/miniconda3/envs/jc/lib/python3.9/site-packages (from easy-parallel->atom3d->gvp==0.1.1) (0.3.0)\n",
      "Requirement already satisfied: MarkupSafe>=2.0 in /data/project/aigenintern/aigenintern2/miniconda3/envs/jc/lib/python3.9/site-packages (from jinja2->torch_geometric->gvp==0.1.1) (2.1.2)\n",
      "Requirement already satisfied: pytz>=2020.1 in /data/project/aigenintern/aigenintern2/miniconda3/envs/jc/lib/python3.9/site-packages (from pandas->atom3d->gvp==0.1.1) (2023.2)\n",
      "Requirement already satisfied: python-dateutil>=2.8.1 in /data/project/aigenintern/aigenintern2/miniconda3/envs/jc/lib/python3.9/site-packages (from pandas->atom3d->gvp==0.1.1) (2.8.2)\n",
      "Requirement already satisfied: multipledispatch in /data/project/aigenintern/aigenintern2/miniconda3/envs/jc/lib/python3.9/site-packages (from pyrr->atom3d->gvp==0.1.1) (0.6.0)\n",
      "Requirement already satisfied: isodate<0.7.0,>=0.6.0 in /data/project/aigenintern/aigenintern2/miniconda3/envs/jc/lib/python3.9/site-packages (from rdflib->torch_geometric->gvp==0.1.1) (0.6.1)\n",
      "Requirement already satisfied: urllib3<1.27,>=1.21.1 in /data/project/aigenintern/aigenintern2/miniconda3/envs/jc/lib/python3.9/site-packages (from requests->torch_geometric->gvp==0.1.1) (1.26.15)\n",
      "Requirement already satisfied: charset-normalizer<4,>=2 in /data/project/aigenintern/aigenintern2/miniconda3/envs/jc/lib/python3.9/site-packages (from requests->torch_geometric->gvp==0.1.1) (2.1.1)\n",
      "Requirement already satisfied: certifi>=2017.4.17 in /data/project/aigenintern/aigenintern2/miniconda3/envs/jc/lib/python3.9/site-packages (from requests->torch_geometric->gvp==0.1.1) (2022.12.7)\n",
      "Requirement already satisfied: idna<4,>=2.5 in /data/project/aigenintern/aigenintern2/miniconda3/envs/jc/lib/python3.9/site-packages (from requests->torch_geometric->gvp==0.1.1) (3.4)\n",
      "Requirement already satisfied: threadpoolctl>=2.0.0 in /data/project/aigenintern/aigenintern2/miniconda3/envs/jc/lib/python3.9/site-packages (from scikit-learn->atom3d->gvp==0.1.1) (3.1.0)\n",
      "Requirement already satisfied: joblib>=1.1.1 in /data/project/aigenintern/aigenintern2/miniconda3/envs/jc/lib/python3.9/site-packages (from scikit-learn->atom3d->gvp==0.1.1) (1.2.0)\n",
      "Requirement already satisfied: py-cpuinfo in /data/project/aigenintern/aigenintern2/miniconda3/envs/jc/lib/python3.9/site-packages (from tables->atom3d->gvp==0.1.1) (9.0.0)\n",
      "Requirement already satisfied: numexpr>=2.6.2 in /data/project/aigenintern/aigenintern2/miniconda3/envs/jc/lib/python3.9/site-packages (from tables->atom3d->gvp==0.1.1) (2.8.4)\n",
      "Requirement already satisfied: blosc2~=2.0.0 in /data/project/aigenintern/aigenintern2/miniconda3/envs/jc/lib/python3.9/site-packages (from tables->atom3d->gvp==0.1.1) (2.0.0)\n",
      "Requirement already satisfied: packaging in /data/project/aigenintern/aigenintern2/miniconda3/envs/jc/lib/python3.9/site-packages (from tables->atom3d->gvp==0.1.1) (23.0)\n",
      "Requirement already satisfied: cython>=0.29.21 in /data/project/aigenintern/aigenintern2/miniconda3/envs/jc/lib/python3.9/site-packages (from tables->atom3d->gvp==0.1.1) (0.29.34)\n",
      "Requirement already satisfied: six in /data/project/aigenintern/aigenintern2/miniconda3/envs/jc/lib/python3.9/site-packages (from isodate<0.7.0,>=0.6.0->rdflib->torch_geometric->gvp==0.1.1) (1.16.0)\n",
      "Requirement already satisfied: pox>=0.3.2 in /data/project/aigenintern/aigenintern2/miniconda3/envs/jc/lib/python3.9/site-packages (from pathos->easy-parallel->atom3d->gvp==0.1.1) (0.3.2)\n",
      "Requirement already satisfied: multiprocess>=0.70.14 in /data/project/aigenintern/aigenintern2/miniconda3/envs/jc/lib/python3.9/site-packages (from pathos->easy-parallel->atom3d->gvp==0.1.1) (0.70.14)\n",
      "Requirement already satisfied: ppft>=1.7.6.6 in /data/project/aigenintern/aigenintern2/miniconda3/envs/jc/lib/python3.9/site-packages (from pathos->easy-parallel->atom3d->gvp==0.1.1) (1.7.6.6)\n",
      "Requirement already satisfied: dill>=0.3.6 in /data/project/aigenintern/aigenintern2/miniconda3/envs/jc/lib/python3.9/site-packages (from pathos->easy-parallel->atom3d->gvp==0.1.1) (0.3.6)\n",
      "Installing collected packages: argparse\n",
      "Successfully installed argparse-1.4.0\n",
      "Note: you may need to restart the kernel to use updated packages.\n"
     ]
    }
   ],
   "source": [
    "%pip install git+https://github.com/drorlab/gvp-pytorch"
   ]
  },
  {
   "cell_type": "code",
   "execution_count": 1,
   "metadata": {},
   "outputs": [
    {
     "data": {
      "text/plain": [
       "(tensor([[0.0000, 0.0000],\n",
       "         [0.0000, 0.0000],\n",
       "         [0.0000, 0.3314],\n",
       "         [0.0000, 0.0000],\n",
       "         [0.0000, 0.0000]], grad_fn=<ReluBackward0>),\n",
       " tensor([[[-0.0049,  0.0289,  0.0032],\n",
       "          [ 0.2422,  0.3663, -0.0337]],\n",
       " \n",
       "         [[-0.0286,  0.0388, -0.0890],\n",
       "          [-0.1948, -0.5293,  0.0850]],\n",
       " \n",
       "         [[ 0.0450, -0.0225,  0.0116],\n",
       "          [-0.0083, -0.0364, -0.1288]],\n",
       " \n",
       "         [[ 0.0028,  0.0008, -0.0267],\n",
       "          [-0.0561, -0.1624, -0.1133]],\n",
       " \n",
       "         [[ 0.0142, -0.0095, -0.0069],\n",
       "          [ 0.0846,  0.0274, -0.0552]]], grad_fn=<MulBackward0>))"
      ]
     },
     "execution_count": 1,
     "metadata": {},
     "output_type": "execute_result"
    }
   ],
   "source": [
    "import gvp\n",
    "\n",
    "scalars_in = 2\n",
    "scalars_out = 2\n",
    "vectors_in = 3\n",
    "vectors_out = 2\n",
    "\n",
    "in_dims = scalars_in, vectors_in\n",
    "out_dims = scalars_out, vectors_out\n",
    "gvp_ = gvp.GVP(in_dims, out_dims)\n",
    "\n",
    "x = gvp.randn(n=5, dims = in_dims)\n",
    "x\n",
    "\n",
    "out = gvp_(x)\n",
    "out"
   ]
  },
  {
   "cell_type": "code",
   "execution_count": null,
   "metadata": {},
   "outputs": [],
   "source": []
  }
 ],
 "metadata": {
  "kernelspec": {
   "display_name": "jc",
   "language": "python",
   "name": "jc"
  },
  "language_info": {
   "codemirror_mode": {
    "name": "ipython",
    "version": 3
   },
   "file_extension": ".py",
   "mimetype": "text/x-python",
   "name": "python",
   "nbconvert_exporter": "python",
   "pygments_lexer": "ipython3",
   "version": "3.9.16"
  },
  "orig_nbformat": 4
 },
 "nbformat": 4,
 "nbformat_minor": 2
}
