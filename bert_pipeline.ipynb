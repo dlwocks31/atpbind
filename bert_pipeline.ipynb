{
 "cells": [
  {
   "cell_type": "code",
   "execution_count": 1,
   "metadata": {},
   "outputs": [
    {
     "name": "stderr",
     "output_type": "stream",
     "text": [
      "/data/project/aigenintern/aigenintern3/miniconda3/envs/wonconda/lib/python3.9/site-packages/tqdm/auto.py:21: TqdmWarning: IProgress not found. Please update jupyter and ipywidgets. See https://ipywidgets.readthedocs.io/en/stable/user_install.html\n",
      "  from .autonotebook import tqdm as notebook_tqdm\n"
     ]
    }
   ],
   "source": [
    "from lib.pipeline import Pipeline\n",
    "\n",
    "pipeline = Pipeline(model='bert', dataset='atpbind', gpus=[2],\n",
    "                    model_kwargs={\n",
    "                        'freeze_bert': False,\n",
    "                        'freeze_layer_count': 29\n",
    "                    },\n",
    "                    task_kwargs={\n",
    "                        'threshold': -1.5,\n",
    "                    })\n",
    "# pipeline.train(num_epoch=2)\n",
    "pipeline.evaluate()\n"
   ]
  },
  {
   "cell_type": "code",
   "execution_count": null,
   "metadata": {},
   "outputs": [],
   "source": []
  }
 ],
 "metadata": {
  "kernelspec": {
   "display_name": "wonconda",
   "language": "python",
   "name": "wonconda"
  },
  "language_info": {
   "codemirror_mode": {
    "name": "ipython",
    "version": 3
   },
   "file_extension": ".py",
   "mimetype": "text/x-python",
   "name": "python",
   "nbconvert_exporter": "python",
   "pygments_lexer": "ipython3",
   "version": "3.9.16"
  },
  "orig_nbformat": 4
 },
 "nbformat": 4,
 "nbformat_minor": 2
}
