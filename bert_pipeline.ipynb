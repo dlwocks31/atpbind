{
 "cells": [
  {
   "cell_type": "code",
   "execution_count": 1,
   "metadata": {},
   "outputs": [
    {
     "name": "stdout",
     "output_type": "stream",
     "text": [
      "Split num:  [346, 42, 41]\n",
      "train samples: 346, valid samples: 42, test samples: 41\n",
      "19:06:18   >>>>>>>>>>>>>>>>>>>>>>>>>>>>>>\n",
      "19:06:18   Epoch 0 begin\n",
      "19:06:18   >>>>>>>>>>>>>>>>>>>>>>>>>>>>>>\n",
      "19:06:18   binary cross entropy: 0.688208\n",
      "19:06:41   >>>>>>>>>>>>>>>>>>>>>>>>>>>>>>\n",
      "19:06:41   Epoch 0 end\n",
      "19:06:41   duration: 22.77 secs\n",
      "19:06:41   speed: 15.20 batch / sec\n",
      "19:06:41   ETA: 22.77 secs\n",
      "19:06:41   max GPU memory: 1911.9 MiB\n",
      "19:06:41   ------------------------------\n",
      "19:06:41   average binary cross entropy: 0.160959\n",
      "19:06:41   >>>>>>>>>>>>>>>>>>>>>>>>>>>>>>\n",
      "19:06:41   Epoch 1 begin\n",
      "19:07:03   >>>>>>>>>>>>>>>>>>>>>>>>>>>>>>\n",
      "19:07:03   Epoch 1 end\n",
      "19:07:03   duration: 22.55 secs\n",
      "19:07:03   speed: 15.34 batch / sec\n",
      "19:07:03   ETA: 0.00 secs\n",
      "19:07:03   max GPU memory: 1911.9 MiB\n",
      "19:07:03   ------------------------------\n",
      "19:07:03   average binary cross entropy: 0.121383\n",
      "19:07:03   >>>>>>>>>>>>>>>>>>>>>>>>>>>>>>\n",
      "19:07:03   Evaluate on test\n",
      "19:07:06   ------------------------------\n",
      "19:07:06   mcc: 0.491051\n",
      "19:07:06   micro_auroc: 0.905777\n"
     ]
    },
    {
     "data": {
      "text/plain": [
       "{'micro_auroc': tensor(0.9058, device='cuda:2'), 'mcc': 0.4910508642751313}"
      ]
     },
     "execution_count": 1,
     "metadata": {},
     "output_type": "execute_result"
    },
    {
     "ename": "",
     "evalue": "",
     "output_type": "error",
     "traceback": [
      "\u001b[1;31mThe Kernel crashed while executing code in the the current cell or a previous cell. Please review the code in the cell(s) to identify a possible cause of the failure. Click <a href='https://aka.ms/vscodeJupyterKernelCrash'>here</a> for more info. View Jupyter <a href='command:jupyter.viewOutput'>log</a> for further details."
     ]
    }
   ],
   "source": [
    "from lib.pipeline import Pipeline\n",
    "\n",
    "pipeline = Pipeline(model='bert', dataset='atpbind', gpus=[2],\n",
    "                    model_kwargs={\n",
    "                        'freeze_bert': False,\n",
    "                        'freeze_layer_count': 29\n",
    "                    },\n",
    "                    task_kwargs={\n",
    "                        'threshold': -1.5,\n",
    "                    })\n",
    "pipeline.train(num_epoch=2)\n",
    "pipeline.evaluate()\n"
   ]
  },
  {
   "cell_type": "code",
   "execution_count": null,
   "metadata": {},
   "outputs": [],
   "source": []
  }
 ],
 "metadata": {
  "kernelspec": {
   "display_name": "jc",
   "language": "python",
   "name": "jc"
  },
  "language_info": {
   "codemirror_mode": {
    "name": "ipython",
    "version": 3
   },
   "file_extension": ".py",
   "mimetype": "text/x-python",
   "name": "python",
   "nbconvert_exporter": "python",
   "pygments_lexer": "ipython3",
   "version": "3.9.16"
  },
  "orig_nbformat": 4
 },
 "nbformat": 4,
 "nbformat_minor": 2
}
