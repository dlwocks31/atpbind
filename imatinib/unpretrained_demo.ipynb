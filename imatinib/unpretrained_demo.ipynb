{
 "cells": [
  {
   "cell_type": "code",
   "execution_count": 1,
   "metadata": {},
   "outputs": [],
   "source": [
    "import sys, os\n",
    "sys.path.insert(0, os.path.abspath('..'))"
   ]
  },
  {
   "cell_type": "code",
   "execution_count": 2,
   "metadata": {},
   "outputs": [
    {
     "name": "stdout",
     "output_type": "stream",
     "text": [
      "load model lm-gearnet, kwargs: {'gpu': 1, 'lm_type': 'esm-t33', 'gearnet_hidden_dim_size': 512, 'gearnet_hidden_dim_count': 4, 'lm_freeze_layer_count': 30}\n",
      "freeze_lm: 30\n",
      "get dataset imatinib\n",
      "ImatinibBind: data_path is None, set to /home/jaechanlee/atpbind/data/imatinib\n",
      "Initialize Undersampling: all ones\n",
      "Initialize Weighting: all ones\n",
      "train samples: 16, valid samples: 5, test samples: 6\n",
      "Adam parameter: all\n",
      "no scheduler\n",
      "0m3s {'sensitivity': 0.0, 'specificity': 1.0, 'accuracy': 0.9306, 'precision': nan, 'mcc': 0.0, 'micro_auroc': 0.4076, 'valid_mcc': 0.0, 'train_bce': 0.7389, 'valid_bce': 54.0503, 'lr': 0.001}\n",
      "0m2s {'sensitivity': 0.0, 'specificity': 0.9973, 'accuracy': 0.9281, 'precision': 0.0, 'mcc': -0.0137, 'micro_auroc': 0.4349, 'valid_mcc': 0.0, 'train_bce': 0.3878, 'valid_bce': 7.369, 'lr': 0.001}\n",
      "0m2s {'sensitivity': 0.0, 'specificity': 0.9993, 'accuracy': 0.93, 'precision': 0.0, 'mcc': -0.0069, 'micro_auroc': 0.4655, 'valid_mcc': 0.0, 'train_bce': 0.1289, 'valid_bce': 3.0426, 'lr': 0.001}\n",
      "0m2s {'sensitivity': 0.3545, 'specificity': 0.9505, 'accuracy': 0.9091, 'precision': 0.3482, 'mcc': 0.3025, 'micro_auroc': 0.7379, 'valid_mcc': 0.2965, 'train_bce': 0.1017, 'valid_bce': 0.5512, 'lr': 0.001}\n",
      "0m2s {'sensitivity': 0.2545, 'specificity': 0.9858, 'accuracy': 0.935, 'precision': 0.5714, 'mcc': 0.3528, 'micro_auroc': 0.7856, 'valid_mcc': 0.3836, 'train_bce': 0.0621, 'valid_bce': 0.5616, 'lr': 0.001}\n",
      "0m2s {'sensitivity': 0.6818, 'specificity': 0.7756, 'accuracy': 0.7691, 'precision': 0.1847, 'mcc': 0.2663, 'micro_auroc': 0.8234, 'valid_mcc': 0.3793, 'train_bce': 0.063, 'valid_bce': 0.8038, 'lr': 0.001}\n",
      "0m2s {'sensitivity': 0.7, 'specificity': 0.9769, 'accuracy': 0.9577, 'precision': 0.6937, 'mcc': 0.6741, 'micro_auroc': 0.9331, 'valid_mcc': 0.7955, 'train_bce': 0.0509, 'valid_bce': 0.1098, 'lr': 0.001}\n",
      "0m2s {'sensitivity': 0.6909, 'specificity': 0.9851, 'accuracy': 0.9647, 'precision': 0.7755, 'mcc': 0.7133, 'micro_auroc': 0.9147, 'valid_mcc': 0.8197, 'train_bce': 0.0318, 'valid_bce': 0.0641, 'lr': 0.001}\n",
      "0m2s {'sensitivity': 0.7182, 'specificity': 0.9783, 'accuracy': 0.9603, 'precision': 0.7117, 'mcc': 0.6936, 'micro_auroc': 0.913, 'valid_mcc': 0.8683, 'train_bce': 0.0181, 'valid_bce': 0.0483, 'lr': 0.001}\n",
      "0m2s {'sensitivity': 0.7273, 'specificity': 0.9776, 'accuracy': 0.9603, 'precision': 0.708, 'mcc': 0.6962, 'micro_auroc': 0.9242, 'valid_mcc': 0.851, 'train_bce': 0.0152, 'valid_bce': 0.0702, 'lr': 0.001}\n"
     ]
    },
    {
     "data": {
      "text/plain": [
       "{'sensitivity': 0.7273,\n",
       " 'specificity': 0.9776,\n",
       " 'accuracy': 0.9603,\n",
       " 'precision': 0.708,\n",
       " 'mcc': 0.6962,\n",
       " 'micro_auroc': 0.9242,\n",
       " 'valid_mcc': 0.851,\n",
       " 'train_bce': 0.0152,\n",
       " 'valid_bce': 0.0702,\n",
       " 'lr': 0.001}"
      ]
     },
     "execution_count": 2,
     "metadata": {},
     "output_type": "execute_result"
    }
   ],
   "source": [
    "from lib.pipeline import Pipeline\n",
    "import numpy as np\n",
    "import matplotlib.pyplot as plt\n",
    "import torch\n",
    "from torchdrug import utils, data\n",
    "from lib.disable_logger import DisableLogger\n",
    "\n",
    "GPU = 1\n",
    "device = f'cuda:{GPU}'\n",
    "pipeline = Pipeline(\n",
    "    model='lm-gearnet',\n",
    "    dataset='imatinib',\n",
    "    gpus=[GPU],\n",
    "    model_kwargs={\n",
    "        'gpu': GPU,\n",
    "        'lm_type': 'esm-t33',\n",
    "        'gearnet_hidden_dim_size': 512,\n",
    "        'gearnet_hidden_dim_count': 4,\n",
    "        'lm_freeze_layer_count': 30,\n",
    "    },\n",
    "    batch_size=4,\n",
    ")\n",
    "\n",
    "res = pipeline.train_until_fit(max_epoch=10, patience=10)\n",
    "res[-1]"
   ]
  },
  {
   "cell_type": "code",
   "execution_count": 3,
   "metadata": {},
   "outputs": [
    {
     "name": "stdout",
     "output_type": "stream",
     "text": [
      "load model esm-t33, kwargs: {'gpu': 1, 'freeze_esm': False, 'freeze_layer_count': 30}\n",
      "Initialize Undersampling: all ones\n",
      "Initialize Weighting: all ones\n",
      "train samples: 16, valid samples: 5, test samples: 6\n",
      "Adam parameter: all\n",
      "no scheduler\n",
      "0m1s {'sensitivity': 0.5909, 'specificity': 0.9708, 'accuracy': 0.9445, 'precision': 0.6019, 'mcc': 0.5666, 'micro_auroc': 0.8019, 'valid_mcc': 0.7111, 'train_bce': 0.3865, 'valid_bce': 0.2354, 'lr': 0.001}\n",
      "0m1s {'sensitivity': 0.6818, 'specificity': 0.9675, 'accuracy': 0.9476, 'precision': 0.6098, 'mcc': 0.6167, 'micro_auroc': 0.8796, 'valid_mcc': 0.819, 'train_bce': 0.1917, 'valid_bce': 0.0861, 'lr': 0.001}\n",
      "0m1s {'sensitivity': 0.7, 'specificity': 0.9783, 'accuracy': 0.959, 'precision': 0.7064, 'mcc': 0.6812, 'micro_auroc': 0.8849, 'valid_mcc': 0.8754, 'train_bce': 0.0963, 'valid_bce': 0.0431, 'lr': 0.001}\n",
      "0m1s {'sensitivity': 0.7091, 'specificity': 0.9797, 'accuracy': 0.9609, 'precision': 0.7222, 'mcc': 0.6946, 'micro_auroc': 0.8545, 'valid_mcc': 0.8526, 'train_bce': 0.0805, 'valid_bce': 0.0832, 'lr': 0.001}\n",
      "0m1s {'sensitivity': 0.7, 'specificity': 0.9797, 'accuracy': 0.9603, 'precision': 0.7196, 'mcc': 0.6884, 'micro_auroc': 0.9576, 'valid_mcc': 0.8649, 'train_bce': 0.0641, 'valid_bce': 0.0597, 'lr': 0.001}\n",
      "0m1s {'sensitivity': 0.7364, 'specificity': 0.9776, 'accuracy': 0.9609, 'precision': 0.7105, 'mcc': 0.7023, 'micro_auroc': 0.9581, 'valid_mcc': 0.8684, 'train_bce': 0.044, 'valid_bce': 0.0528, 'lr': 0.001}\n",
      "0m1s {'sensitivity': 0.7, 'specificity': 0.9783, 'accuracy': 0.959, 'precision': 0.7064, 'mcc': 0.6812, 'micro_auroc': 0.9609, 'valid_mcc': 0.8666, 'train_bce': 0.0349, 'valid_bce': 0.0549, 'lr': 0.001}\n",
      "0m1s {'sensitivity': 0.7, 'specificity': 0.981, 'accuracy': 0.9615, 'precision': 0.7333, 'mcc': 0.6959, 'micro_auroc': 0.9635, 'valid_mcc': 0.8416, 'train_bce': 0.0289, 'valid_bce': 0.0783, 'lr': 0.001}\n",
      "0m1s {'sensitivity': 0.7273, 'specificity': 0.9783, 'accuracy': 0.9609, 'precision': 0.7143, 'mcc': 0.6997, 'micro_auroc': 0.963, 'valid_mcc': 0.8662, 'train_bce': 0.0237, 'valid_bce': 0.0599, 'lr': 0.001}\n",
      "0m1s {'sensitivity': 0.7364, 'specificity': 0.9797, 'accuracy': 0.9628, 'precision': 0.7297, 'mcc': 0.713, 'micro_auroc': 0.9666, 'valid_mcc': 0.8465, 'train_bce': 0.0219, 'valid_bce': 0.0731, 'lr': 0.001}\n"
     ]
    },
    {
     "data": {
      "text/plain": [
       "{'sensitivity': 0.7364,\n",
       " 'specificity': 0.9797,\n",
       " 'accuracy': 0.9628,\n",
       " 'precision': 0.7297,\n",
       " 'mcc': 0.713,\n",
       " 'micro_auroc': 0.9666,\n",
       " 'valid_mcc': 0.8465,\n",
       " 'train_bce': 0.0219,\n",
       " 'valid_bce': 0.0731,\n",
       " 'lr': 0.001}"
      ]
     },
     "execution_count": 3,
     "metadata": {},
     "output_type": "execute_result"
    }
   ],
   "source": [
    "GPU = 1\n",
    "device = f'cuda:{GPU}'\n",
    "pipeline = Pipeline(\n",
    "    model='esm-t33',\n",
    "    dataset='imatinib',\n",
    "    gpus=[GPU],\n",
    "    model_kwargs={\n",
    "        'gpu': GPU,\n",
    "        'freeze_esm': False,\n",
    "        'freeze_layer_count': 30,  \n",
    "    },\n",
    "    batch_size=4,\n",
    ")\n",
    "\n",
    "res = pipeline.train_until_fit(max_epoch=10, patience=10)\n",
    "res[-1]"
   ]
  },
  {
   "cell_type": "code",
   "execution_count": 4,
   "metadata": {},
   "outputs": [
    {
     "name": "stdout",
     "output_type": "stream",
     "text": [
      "load model gearnet, kwargs: {'gpu': 1, 'input_dim': 21, 'hidden_dims': [512, 512, 512, 512]}\n",
      "Initialize Undersampling: all ones\n",
      "Initialize Weighting: all ones\n",
      "train samples: 16, valid samples: 5, test samples: 6\n",
      "Adam parameter: all\n",
      "no scheduler\n",
      "0m0s {'sensitivity': 0.0, 'specificity': 1.0, 'accuracy': 0.9306, 'precision': nan, 'mcc': 0.0, 'micro_auroc': 0.404, 'valid_mcc': 0.0, 'train_bce': 0.5974, 'valid_bce': 28.8289, 'lr': 0.001}\n",
      "0m0s {'sensitivity': 0.2364, 'specificity': 0.9159, 'accuracy': 0.8688, 'precision': 0.1733, 'mcc': 0.1322, 'micro_auroc': 0.6113, 'valid_mcc': 0.1295, 'train_bce': 0.3085, 'valid_bce': 0.646, 'lr': 0.001}\n",
      "0m0s {'sensitivity': 0.4909, 'specificity': 0.9607, 'accuracy': 0.9281, 'precision': 0.4821, 'mcc': 0.4478, 'micro_auroc': 0.8345, 'valid_mcc': 0.4579, 'train_bce': 0.1328, 'valid_bce': 0.1994, 'lr': 0.001}\n",
      "0m0s {'sensitivity': 0.4455, 'specificity': 0.9864, 'accuracy': 0.9489, 'precision': 0.7101, 'mcc': 0.5379, 'micro_auroc': 0.8504, 'valid_mcc': 0.6059, 'train_bce': 0.0799, 'valid_bce': 0.1324, 'lr': 0.001}\n",
      "0m0s {'sensitivity': 0.5364, 'specificity': 0.9851, 'accuracy': 0.9539, 'precision': 0.7284, 'mcc': 0.6018, 'micro_auroc': 0.8833, 'valid_mcc': 0.7148, 'train_bce': 0.0584, 'valid_bce': 0.1334, 'lr': 0.001}\n",
      "0m0s {'sensitivity': 0.6636, 'specificity': 0.9769, 'accuracy': 0.9552, 'precision': 0.6822, 'mcc': 0.6488, 'micro_auroc': 0.8906, 'valid_mcc': 0.818, 'train_bce': 0.0446, 'valid_bce': 0.1064, 'lr': 0.001}\n",
      "0m0s {'sensitivity': 0.6727, 'specificity': 0.9803, 'accuracy': 0.959, 'precision': 0.7184, 'mcc': 0.6733, 'micro_auroc': 0.8852, 'valid_mcc': 0.8386, 'train_bce': 0.0322, 'valid_bce': 0.0753, 'lr': 0.001}\n",
      "0m0s {'sensitivity': 0.6636, 'specificity': 0.9803, 'accuracy': 0.9584, 'precision': 0.7157, 'mcc': 0.6669, 'micro_auroc': 0.8958, 'valid_mcc': 0.8536, 'train_bce': 0.0261, 'valid_bce': 0.072, 'lr': 0.001}\n",
      "0m0s {'sensitivity': 0.6818, 'specificity': 0.9742, 'accuracy': 0.9539, 'precision': 0.6637, 'mcc': 0.6479, 'micro_auroc': 0.899, 'valid_mcc': 0.8634, 'train_bce': 0.0235, 'valid_bce': 0.0692, 'lr': 0.001}\n",
      "0m0s {'sensitivity': 0.7, 'specificity': 0.9702, 'accuracy': 0.9514, 'precision': 0.6364, 'mcc': 0.6414, 'micro_auroc': 0.895, 'valid_mcc': 0.8439, 'train_bce': 0.02, 'valid_bce': 0.0651, 'lr': 0.001}\n"
     ]
    },
    {
     "data": {
      "text/plain": [
       "{'sensitivity': 0.7,\n",
       " 'specificity': 0.9702,\n",
       " 'accuracy': 0.9514,\n",
       " 'precision': 0.6364,\n",
       " 'mcc': 0.6414,\n",
       " 'micro_auroc': 0.895,\n",
       " 'valid_mcc': 0.8439,\n",
       " 'train_bce': 0.02,\n",
       " 'valid_bce': 0.0651,\n",
       " 'lr': 0.001}"
      ]
     },
     "execution_count": 4,
     "metadata": {},
     "output_type": "execute_result"
    }
   ],
   "source": [
    "GPU = 1\n",
    "device = f'cuda:{GPU}'\n",
    "pipeline = Pipeline(\n",
    "    model='gearnet',\n",
    "    dataset='imatinib',\n",
    "    gpus=[GPU],\n",
    "    model_kwargs={\n",
    "        'gpu': GPU,\n",
    "        'input_dim': 21,\n",
    "        'hidden_dims': [512] * 4,\n",
    "    },\n",
    "    batch_size=4,\n",
    ")\n",
    "\n",
    "res = pipeline.train_until_fit(max_epoch=10, patience=10)\n",
    "res[-1]"
   ]
  },
  {
   "cell_type": "code",
   "execution_count": null,
   "metadata": {},
   "outputs": [],
   "source": []
  }
 ],
 "metadata": {
  "kernelspec": {
   "display_name": "jc",
   "language": "python",
   "name": "python3"
  },
  "language_info": {
   "codemirror_mode": {
    "name": "ipython",
    "version": 3
   },
   "file_extension": ".py",
   "mimetype": "text/x-python",
   "name": "python",
   "nbconvert_exporter": "python",
   "pygments_lexer": "ipython3",
   "version": "3.9.17"
  }
 },
 "nbformat": 4,
 "nbformat_minor": 2
}
