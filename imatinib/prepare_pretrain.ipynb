{
 "cells": [
  {
   "cell_type": "code",
   "execution_count": 1,
   "metadata": {},
   "outputs": [],
   "source": [
    "import sys, os\n",
    "sys.path.insert(0, os.path.abspath('..'))"
   ]
  },
  {
   "cell_type": "code",
   "execution_count": 2,
   "metadata": {},
   "outputs": [
    {
     "name": "stdout",
     "output_type": "stream",
     "text": [
      "load model esm-t33, kwargs: {'gpu': 1, 'freeze_esm': False, 'freeze_layer_count': 30}\n",
      "get dataset atpbind3d\n",
      "Initialize Undersampling: all ones\n",
      "Initialize Weighting: all ones\n",
      "train samples: 302, valid samples: 76, test samples: 41\n",
      "Adam parameter: all\n",
      "use cyclic lr scheduler\n",
      "0m20s {'sensitivity': 0.5758, 'specificity': 0.9802, 'accuracy': 0.9593, 'precision': 0.6139, 'mcc': 0.5732, 'micro_auroc': 0.9388, 'valid_mcc': 0.5343, 'train_bce': 0.1644, 'valid_bce': 0.109, 'lr': 0.00084}\n",
      "0m19s {'sensitivity': 0.6491, 'specificity': 0.9856, 'accuracy': 0.9682, 'precision': 0.7115, 'mcc': 0.663, 'micro_auroc': 0.9462, 'valid_mcc': 0.6283, 'train_bce': 0.0832, 'valid_bce': 0.0912, 'lr': 0.00138}\n",
      "0m19s {'sensitivity': 0.6316, 'specificity': 0.9841, 'accuracy': 0.9658, 'precision': 0.6839, 'mcc': 0.6393, 'micro_auroc': 0.9333, 'valid_mcc': 0.6186, 'train_bce': 0.0414, 'valid_bce': 0.1244, 'lr': 0.00192}\n",
      "0m19s {'sensitivity': 0.5486, 'specificity': 0.9883, 'accuracy': 0.9656, 'precision': 0.7197, 'mcc': 0.611, 'micro_auroc': 0.9318, 'valid_mcc': 0.6101, 'train_bce': 0.0357, 'valid_bce': 0.1544, 'lr': 0.00246}\n",
      "0m19s {'sensitivity': 0.5789, 'specificity': 0.9882, 'accuracy': 0.967, 'precision': 0.7275, 'mcc': 0.6322, 'micro_auroc': 0.9258, 'valid_mcc': 0.6265, 'train_bce': 0.0313, 'valid_bce': 0.1283, 'lr': 0.003}\n",
      "0m19s {'sensitivity': 0.6077, 'specificity': 0.987, 'accuracy': 0.9674, 'precision': 0.7189, 'mcc': 0.6441, 'micro_auroc': 0.9258, 'valid_mcc': 0.631, 'train_bce': 0.029, 'valid_bce': 0.1454, 'lr': 0.00246}\n",
      "0m19s {'sensitivity': 0.5965, 'specificity': 0.9855, 'accuracy': 0.9653, 'precision': 0.6913, 'mcc': 0.6242, 'micro_auroc': 0.931, 'valid_mcc': 0.6476, 'train_bce': 0.0206, 'valid_bce': 0.1167, 'lr': 0.00192}\n",
      "0m19s {'sensitivity': 0.5997, 'specificity': 0.9883, 'accuracy': 0.9682, 'precision': 0.7373, 'mcc': 0.6487, 'micro_auroc': 0.9337, 'valid_mcc': 0.6672, 'train_bce': 0.0119, 'valid_bce': 0.1655, 'lr': 0.00138}\n",
      "0m19s {'sensitivity': 0.6108, 'specificity': 0.989, 'accuracy': 0.9694, 'precision': 0.7525, 'mcc': 0.6624, 'micro_auroc': 0.9384, 'valid_mcc': 0.6722, 'train_bce': 0.0049, 'valid_bce': 0.1718, 'lr': 0.00084}\n",
      "0m19s {'sensitivity': 0.6045, 'specificity': 0.9892, 'accuracy': 0.9693, 'precision': 0.7535, 'mcc': 0.6593, 'micro_auroc': 0.9379, 'valid_mcc': 0.6725, 'train_bce': 0.0029, 'valid_bce': 0.1943, 'lr': 0.0003}\n"
     ]
    },
    {
     "data": {
      "text/plain": [
       "{'sensitivity': 0.6045,\n",
       " 'specificity': 0.9892,\n",
       " 'accuracy': 0.9693,\n",
       " 'precision': 0.7535,\n",
       " 'mcc': 0.6593,\n",
       " 'micro_auroc': 0.9379,\n",
       " 'valid_mcc': 0.6725,\n",
       " 'train_bce': 0.0029,\n",
       " 'valid_bce': 0.1943,\n",
       " 'lr': 0.0003}"
      ]
     },
     "execution_count": 2,
     "metadata": {},
     "output_type": "execute_result"
    }
   ],
   "source": [
    "from lib.pipeline import Pipeline\n",
    "import numpy as np\n",
    "import matplotlib.pyplot as plt\n",
    "import torch\n",
    "from torchdrug import utils, data\n",
    "from lib.disable_logger import DisableLogger\n",
    "\n",
    "\n",
    "GPU = 1\n",
    "device = f'cuda:{GPU}'\n",
    "pipeline = Pipeline(\n",
    "    model='esm-t33',\n",
    "    dataset='atpbind3d',\n",
    "    gpus=[GPU],\n",
    "    model_kwargs={\n",
    "        'gpu': GPU,\n",
    "        'freeze_esm': False,\n",
    "        'freeze_layer_count': 30,\n",
    "    },\n",
    "    scheduler='cyclic',\n",
    "    scheduler_kwargs={\n",
    "        'base_lr': 3e-4,\n",
    "        'max_lr': 3e-3,\n",
    "        'step_size_up': 5,\n",
    "        'step_size_down': 5,\n",
    "        'cycle_momentum': False,\n",
    "    },\n",
    "    batch_size=8,\n",
    ")\n",
    "\n",
    "res = pipeline.train_until_fit(max_epoch=10, patience=10)\n",
    "res[-1]"
   ]
  },
  {
   "cell_type": "code",
   "execution_count": 3,
   "metadata": {},
   "outputs": [],
   "source": [
    "torch.save(pipeline.task.state_dict(), 'esm-t33-pretrained.pth')"
   ]
  }
 ],
 "metadata": {
  "kernelspec": {
   "display_name": "jc",
   "language": "python",
   "name": "python3"
  },
  "language_info": {
   "codemirror_mode": {
    "name": "ipython",
    "version": 3
   },
   "file_extension": ".py",
   "mimetype": "text/x-python",
   "name": "python",
   "nbconvert_exporter": "python",
   "pygments_lexer": "ipython3",
   "version": "3.9.17"
  }
 },
 "nbformat": 4,
 "nbformat_minor": 2
}
