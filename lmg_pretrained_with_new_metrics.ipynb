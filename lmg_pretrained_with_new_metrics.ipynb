{
 "cells": [
  {
   "cell_type": "code",
   "execution_count": 25,
   "metadata": {},
   "outputs": [
    {
     "name": "stdout",
     "output_type": "stream",
     "text": [
      "16:49:08   >>>>>>>>>>>>>>>>>>>>>>>>>>>>>>\n",
      "16:49:08   Epoch 0 begin\n",
      "16:49:08   >>>>>>>>>>>>>>>>>>>>>>>>>>>>>>\n",
      "16:49:08   binary cross entropy: 0.74727\n",
      "16:50:47   >>>>>>>>>>>>>>>>>>>>>>>>>>>>>>\n",
      "16:50:47   Epoch 0 end\n",
      "16:50:47   duration: 1.66 mins\n",
      "16:50:47   speed: 3.38 batch / sec\n",
      "16:50:47   ETA: 3.32 mins\n",
      "16:50:47   max GPU memory: 5863.9 MiB\n",
      "16:50:47   ------------------------------\n",
      "16:50:47   average binary cross entropy: 0.157791\n",
      "16:50:47   >>>>>>>>>>>>>>>>>>>>>>>>>>>>>>\n",
      "16:50:47   Epoch 1 begin\n",
      "16:52:27   >>>>>>>>>>>>>>>>>>>>>>>>>>>>>>\n",
      "16:52:27   Epoch 1 end\n",
      "16:52:27   duration: 1.66 mins\n",
      "16:52:27   speed: 3.38 batch / sec\n",
      "16:52:27   ETA: 1.66 mins\n",
      "16:52:27   max GPU memory: 5092.8 MiB\n",
      "16:52:27   ------------------------------\n",
      "16:52:27   average binary cross entropy: 0.103848\n",
      "16:52:27   >>>>>>>>>>>>>>>>>>>>>>>>>>>>>>\n",
      "16:52:27   Epoch 2 begin\n",
      "16:54:07   >>>>>>>>>>>>>>>>>>>>>>>>>>>>>>\n",
      "16:54:07   Epoch 2 end\n",
      "16:54:07   duration: 1.68 mins\n",
      "16:54:07   speed: 3.35 batch / sec\n",
      "16:54:07   ETA: 0.00 secs\n",
      "16:54:07   max GPU memory: 5092.8 MiB\n",
      "16:54:07   ------------------------------\n",
      "16:54:07   average binary cross entropy: 0.0621541\n",
      "16:54:22   >>>>>>>>>>>>>>>>>>>>>>>>>>>>>>\n",
      "16:54:22   Evaluate on test\n",
      "16:54:32   ------------------------------\n",
      "16:54:32   accuracy: 0.955807\n",
      "16:54:32   mcc: 0.52775\n",
      "16:54:32   micro_auroc: 0.899791\n",
      "16:54:32   precision: 0.581851\n",
      "16:54:32   sensitivity: 0.521531\n",
      "16:54:32   specificity: 0.979528\n"
     ]
    },
    {
     "data": {
      "text/plain": [
       "{'micro_auroc': 0.8997910618782043,\n",
       " 'mcc': 0.5277500602561384,\n",
       " 'accuracy': tensor(0.9558),\n",
       " 'precision': tensor(0.5819),\n",
       " 'sensitivity': tensor(0.5215),\n",
       " 'specificity': tensor(0.9795)}"
      ]
     },
     "execution_count": 25,
     "metadata": {},
     "output_type": "execute_result"
    }
   ],
   "source": [
    "from lib.pipeline import Pipeline\n",
    "import torch\n",
    "PRETRAINED_WEIGHT = 'ResidueType_lmg_4_512_0.57268.pth'\n",
    "GPU = 0\n",
    "pipeline = Pipeline(\n",
    "    model='lm-gearnet',\n",
    "    dataset='atpbind3d',\n",
    "    gpus=[0],\n",
    "    model_kwargs={\n",
    "        'gpu': GPU,\n",
    "        'gearnet_hidden_dim_size': 512,\n",
    "        'gearnet_hidden_dim_count': 4,\n",
    "        'bert_freeze': False,\n",
    "        'bert_freeze_layer_count': 29,\n",
    "    })\n",
    "\n",
    "state_dict = torch.load(PRETRAINED_WEIGHT)\n",
    "pipeline.model.gearnet.load_state_dict(state_dict)\n",
    "pipeline.model.freeze_gearnet(freeze_layer_count=1)\n",
    "\n",
    "pipeline.task.metric = (\"micro_auroc\", \"mcc\", \"accuracy\", \"precision\", \"sensitivity\", \"specificity\")\n",
    "pipeline.train(num_epoch=3)\n",
    "pipeline.evaluate(threshold_set='test')"
   ]
  },
  {
   "cell_type": "code",
   "execution_count": 18,
   "metadata": {},
   "outputs": [
    {
     "data": {
      "text/plain": [
       "array([ 0.52066827, 12.59583417])"
      ]
     },
     "execution_count": 18,
     "metadata": {},
     "output_type": "execute_result"
    }
   ],
   "source": [
    "from sklearn.utils import class_weight\n",
    "all_y = []\n",
    "for item in pipeline.train_set:\n",
    "    all_y.extend(list(i.item() for i in item['targets'].flatten()))\n",
    "\n",
    "class_weight.compute_class_weight(\n",
    "    class_weight='balanced', \n",
    "    classes=[0,1],\n",
    "    y=all_y,\n",
    ")\n"
   ]
  },
  {
   "cell_type": "code",
   "execution_count": 24,
   "metadata": {},
   "outputs": [
    {
     "name": "stdout",
     "output_type": "stream",
     "text": [
      "16:35:33   >>>>>>>>>>>>>>>>>>>>>>>>>>>>>>\n",
      "16:35:33   Epoch 0 begin\n",
      "16:35:33   >>>>>>>>>>>>>>>>>>>>>>>>>>>>>>\n",
      "16:35:33   binary cross entropy: 0.658281\n",
      "16:37:14   >>>>>>>>>>>>>>>>>>>>>>>>>>>>>>\n",
      "16:37:14   Epoch 0 end\n",
      "16:37:14   duration: 1.70 mins\n",
      "16:37:14   speed: 3.31 batch / sec\n",
      "16:37:14   ETA: 3.40 mins\n",
      "16:37:14   max GPU memory: 5859.7 MiB\n",
      "16:37:14   ------------------------------\n",
      "16:37:14   average binary cross entropy: 0.157411\n",
      "16:37:14   >>>>>>>>>>>>>>>>>>>>>>>>>>>>>>\n",
      "16:37:14   Epoch 1 begin\n",
      "16:38:56   >>>>>>>>>>>>>>>>>>>>>>>>>>>>>>\n",
      "16:38:56   Epoch 1 end\n",
      "16:38:56   duration: 1.70 mins\n",
      "16:38:56   speed: 3.31 batch / sec\n",
      "16:38:56   ETA: 1.70 mins\n",
      "16:38:56   max GPU memory: 5089.7 MiB\n",
      "16:38:56   ------------------------------\n",
      "16:38:56   average binary cross entropy: 0.10481\n",
      "16:38:56   >>>>>>>>>>>>>>>>>>>>>>>>>>>>>>\n",
      "16:38:56   Epoch 2 begin\n",
      "16:40:37   >>>>>>>>>>>>>>>>>>>>>>>>>>>>>>\n",
      "16:40:37   Epoch 2 end\n",
      "16:40:37   duration: 1.68 mins\n",
      "16:40:37   speed: 3.34 batch / sec\n",
      "16:40:37   ETA: 0.00 secs\n",
      "16:40:37   max GPU memory: 5089.7 MiB\n",
      "16:40:37   ------------------------------\n",
      "16:40:37   average binary cross entropy: 0.0623349\n",
      "16:40:52   >>>>>>>>>>>>>>>>>>>>>>>>>>>>>>\n",
      "16:40:52   Evaluate on test\n",
      "16:41:02   ------------------------------\n",
      "16:41:02   accuracy: 0.958368\n",
      "16:41:02   mcc: 0.55229\n",
      "16:41:02   micro_auroc: 0.912819\n",
      "16:41:02   precision: 0.611212\n",
      "16:41:02   sensitivity: 0.539075\n",
      "16:41:02   specificity: 0.98127\n"
     ]
    },
    {
     "data": {
      "text/plain": [
       "{'micro_auroc': 0.9128185510635376,\n",
       " 'mcc': 0.5522901782728409,\n",
       " 'accuracy': tensor(0.9584),\n",
       " 'precision': tensor(0.6112),\n",
       " 'sensitivity': tensor(0.5391),\n",
       " 'specificity': tensor(0.9813)}"
      ]
     },
     "execution_count": 24,
     "metadata": {},
     "output_type": "execute_result"
    }
   ],
   "source": [
    "pipeline = Pipeline(\n",
    "    model='lm-gearnet',\n",
    "    dataset='atpbind3d',\n",
    "    gpus=[0],\n",
    "    model_kwargs={\n",
    "        'gpu': GPU,\n",
    "        'gearnet_hidden_dim_size': 512,\n",
    "        'gearnet_hidden_dim_count': 4,\n",
    "        'bert_freeze': False,\n",
    "        'bert_freeze_layer_count': 29,\n",
    "    })\n",
    "\n",
    "state_dict = torch.load(PRETRAINED_WEIGHT)\n",
    "pipeline.model.gearnet.load_state_dict(state_dict)\n",
    "pipeline.model.freeze_gearnet(freeze_layer_count=1)\n",
    "\n",
    "pipeline.train(num_epoch=3)\n",
    "pipeline.task.criterion = {\n",
    "    'bce_positive': 12.59583417,\n",
    "    'bce_negative': 0.52066827,\n",
    "}\n",
    "pipeline.task.metric = (\"micro_auroc\", \"mcc\", \"accuracy\", \"precision\", \"sensitivity\", \"specificity\")\n",
    "pipeline.evaluate(threshold_set='test')"
   ]
  },
  {
   "cell_type": "code",
   "execution_count": 6,
   "metadata": {},
   "outputs": [
    {
     "name": "stdout",
     "output_type": "stream",
     "text": [
      "14:39:01   >>>>>>>>>>>>>>>>>>>>>>>>>>>>>>\n",
      "14:39:01   Epoch 0 begin\n",
      "14:39:01   >>>>>>>>>>>>>>>>>>>>>>>>>>>>>>\n",
      "14:39:01   binary cross entropy: 0.67998\n",
      "14:40:41   >>>>>>>>>>>>>>>>>>>>>>>>>>>>>>\n",
      "14:40:41   Epoch 0 end\n",
      "14:40:41   duration: 1.67 mins\n",
      "14:40:41   speed: 3.36 batch / sec\n",
      "14:40:41   ETA: 3.34 mins\n",
      "14:40:41   max GPU memory: 3955.4 MiB\n",
      "14:40:41   ------------------------------\n",
      "14:40:41   average binary cross entropy: 0.157912\n",
      "14:40:41   >>>>>>>>>>>>>>>>>>>>>>>>>>>>>>\n",
      "14:40:41   Epoch 1 begin\n",
      "14:42:22   >>>>>>>>>>>>>>>>>>>>>>>>>>>>>>\n",
      "14:42:22   Epoch 1 end\n",
      "14:42:22   duration: 1.69 mins\n",
      "14:42:22   speed: 3.33 batch / sec\n",
      "14:42:22   ETA: 1.68 mins\n",
      "14:42:22   max GPU memory: 3180.5 MiB\n",
      "14:42:22   ------------------------------\n",
      "14:42:22   average binary cross entropy: 0.101178\n",
      "14:42:22   >>>>>>>>>>>>>>>>>>>>>>>>>>>>>>\n",
      "14:42:22   Epoch 2 begin\n",
      "14:44:03   >>>>>>>>>>>>>>>>>>>>>>>>>>>>>>\n",
      "14:44:03   Epoch 2 end\n",
      "14:44:03   duration: 1.69 mins\n",
      "14:44:03   speed: 3.33 batch / sec\n",
      "14:44:03   ETA: 0.00 secs\n",
      "14:44:03   max GPU memory: 3180.5 MiB\n",
      "14:44:03   ------------------------------\n",
      "14:44:03   average binary cross entropy: 0.0634207\n",
      "14:44:19   >>>>>>>>>>>>>>>>>>>>>>>>>>>>>>\n",
      "14:44:19   Evaluate on test\n",
      "14:44:29   ------------------------------\n",
      "14:44:29   accuracy: 0.960433\n",
      "14:44:29   mcc: 0.555363\n",
      "14:44:29   micro_auroc: 0.920393\n",
      "14:44:29   precision: 0.65102\n",
      "14:44:29   sensitivity: 0.508772\n",
      "14:44:29   specificity: 0.985103\n"
     ]
    },
    {
     "data": {
      "text/plain": [
       "{'micro_auroc': 0.9203932881355286,\n",
       " 'mcc': 0.555362615486866,\n",
       " 'accuracy': tensor(0.9604),\n",
       " 'precision': tensor(0.6510),\n",
       " 'sensitivity': tensor(0.5088),\n",
       " 'specificity': tensor(0.9851)}"
      ]
     },
     "execution_count": 6,
     "metadata": {},
     "output_type": "execute_result"
    }
   ],
   "source": [
    "pipeline = Pipeline(\n",
    "    model='lm-gearnet',\n",
    "    dataset='atpbind3d',\n",
    "    gpus=[0],\n",
    "    model_kwargs={\n",
    "        'gpu': GPU,\n",
    "        'gearnet_hidden_dim_size': 512,\n",
    "        'gearnet_hidden_dim_count': 4,\n",
    "        'bert_freeze': False,\n",
    "        'bert_freeze_layer_count': 29,\n",
    "    })\n",
    "\n",
    "state_dict = torch.load(PRETRAINED_WEIGHT)\n",
    "pipeline.model.gearnet.load_state_dict(state_dict)\n",
    "pipeline.model.freeze_gearnet(freeze_layer_count=1)\n",
    "\n",
    "pipeline.train(num_epoch=3)\n",
    "pipeline.task.metric = (\"micro_auroc\", \"mcc\", \"accuracy\", \"precision\", \"sensitivity\", \"specificity\")\n",
    "pipeline.evaluate(threshold_set='test')"
   ]
  },
  {
   "cell_type": "code",
   "execution_count": 4,
   "metadata": {},
   "outputs": [
    {
     "data": {
      "text/plain": [
       "{'bce': 1}"
      ]
     },
     "execution_count": 4,
     "metadata": {},
     "output_type": "execute_result"
    }
   ],
   "source": [
    "pipeline.task.criterion"
   ]
  }
 ],
 "metadata": {
  "kernelspec": {
   "display_name": "jc",
   "language": "python",
   "name": "jc"
  },
  "language_info": {
   "codemirror_mode": {
    "name": "ipython",
    "version": 3
   },
   "file_extension": ".py",
   "mimetype": "text/x-python",
   "name": "python",
   "nbconvert_exporter": "python",
   "pygments_lexer": "ipython3",
   "version": "3.9.16"
  },
  "orig_nbformat": 4
 },
 "nbformat": 4,
 "nbformat_minor": 2
}
