{
 "cells": [
  {
   "cell_type": "code",
   "execution_count": 7,
   "metadata": {},
   "outputs": [],
   "source": [
    "def read_file(path):\n",
    "    '''\n",
    "    Read from ATPBind dataset.\n",
    "    '''\n",
    "    sequences, targets, pdb_ids = [], [], []\n",
    "    with open(path) as f:\n",
    "        lines = f.readlines()\n",
    "        num_samples = len(lines)\n",
    "        for line in lines:\n",
    "            sequence = line.split(' : ')[-1].strip()\n",
    "            sequences.append(sequence)\n",
    "\n",
    "            target = line.split(' : ')[-2].split(' ')\n",
    "            target_indices = []\n",
    "            for index in target:\n",
    "                target_indices.append(int(index[1:]))\n",
    "            target = []\n",
    "            for index in range(len(sequence)):\n",
    "                if index+1 in target_indices:\n",
    "                    target.append(1)\n",
    "                else:\n",
    "                    target.append(0)\n",
    "            targets.append(target)\n",
    "\n",
    "            pdb_id = line.split(' : ')[0]\n",
    "            pdb_ids.append(pdb_id)\n",
    "    return num_samples, sequences, targets, pdb_ids"
   ]
  },
  {
   "cell_type": "code",
   "execution_count": 8,
   "metadata": {},
   "outputs": [],
   "source": [
    "_, sequences, _, pdb_ids = read_file('../../lib/train.txt')"
   ]
  },
  {
   "cell_type": "code",
   "execution_count": 11,
   "metadata": {},
   "outputs": [
    {
     "data": {
      "text/plain": [
       "46"
      ]
     },
     "execution_count": 11,
     "metadata": {},
     "output_type": "execute_result"
    }
   ],
   "source": [
    "# find index of pdb_id 5J1SB\n",
    "pdb_ids.index('5J1SB')"
   ]
  },
  {
   "cell_type": "code",
   "execution_count": 16,
   "metadata": {},
   "outputs": [
    {
     "name": "stdout",
     "output_type": "stream",
     "text": [
      "235 231 Protein(num_atom=924, num_bond=1844, num_residue=231)\n"
     ]
    }
   ],
   "source": [
    "from torchdrug import data\n",
    "\n",
    "atpbind_sequence = sequences[46]\n",
    "\n",
    "pdb_protein = data.Protein.from_pdb('./pdb/5J1SB.pdb')\n",
    "pdb_sequence = ''.join(i for i in pdb_protein.to_sequence() if i != '.')\n",
    "\n",
    "print(len(atpbind_sequence), len(pdb_sequence), pdb_protein)"
   ]
  },
  {
   "cell_type": "code",
   "execution_count": 36,
   "metadata": {},
   "outputs": [
    {
     "data": {
      "text/plain": [
       "235"
      ]
     },
     "execution_count": 36,
     "metadata": {},
     "output_type": "execute_result"
    }
   ],
   "source": [
    "from Bio.PDB import Select, PDBIO\n",
    "from Bio.PDB.PDBParser import PDBParser\n",
    "\n",
    "three_to_one_letter = {\n",
    "    'ALA': 'A', 'CYS': 'C', 'ASP': 'D', 'GLU': 'E',\n",
    "    'PHE': 'F', 'GLY': 'G', 'HIS': 'H', 'ILE': 'I',\n",
    "    'LYS': 'K', 'LEU': 'L', 'MET': 'M', 'ASN': 'N',\n",
    "    'PRO': 'P', 'GLN': 'Q', 'ARG': 'R', 'SER': 'S',\n",
    "    'THR': 'T', 'VAL': 'V', 'TRP': 'W', 'TYR': 'Y'\n",
    "}\n",
    "\n",
    "p = PDBParser()\n",
    "structure = p.get_structure('', './pdb/5J1SB.pdb')\n",
    "\n",
    "raw_sequence = ''.join(three_to_one_letter[residue.get_resname()]\n",
    "        for residue in structure.get_residues())\n",
    "\n",
    "len(raw_sequence)"
   ]
  },
  {
   "cell_type": "code",
   "execution_count": 33,
   "metadata": {},
   "outputs": [
    {
     "data": {
      "text/plain": [
       "235"
      ]
     },
     "execution_count": 33,
     "metadata": {},
     "output_type": "execute_result"
    }
   ],
   "source": [
    "len(list(structure.get_residues()))"
   ]
  }
 ],
 "metadata": {
  "kernelspec": {
   "display_name": "jc",
   "language": "python",
   "name": "jc"
  },
  "language_info": {
   "codemirror_mode": {
    "name": "ipython",
    "version": 3
   },
   "file_extension": ".py",
   "mimetype": "text/x-python",
   "name": "python",
   "nbconvert_exporter": "python",
   "pygments_lexer": "ipython3",
   "version": "3.9.16"
  },
  "orig_nbformat": 4
 },
 "nbformat": 4,
 "nbformat_minor": 2
}
