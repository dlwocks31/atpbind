{
 "cells": [
  {
   "cell_type": "code",
   "execution_count": null,
   "metadata": {},
   "outputs": [
    {
     "name": "stderr",
     "output_type": "stream",
     "text": [
      "/data/project/aigenintern/aigenintern2/miniconda3/envs/jc/lib/python3.9/site-packages/tqdm/auto.py:21: TqdmWarning: IProgress not found. Please update jupyter and ipywidgets. See https://ipywidgets.readthedocs.io/en/stable/user_install.html\n",
      "  from .autonotebook import tqdm as notebook_tqdm\n"
     ]
    }
   ],
   "source": [
    "from torchdrug import transforms\n",
    "from torchdrug import data, core, layers, tasks, metrics, utils, models\n",
    "from torchdrug.layers import functional\n",
    "from torchdrug.core import Registry as R\n",
    "\n",
    "import torch\n",
    "from torch.utils import data as torch_data\n",
    "from torch.nn import functional as F"
   ]
  },
  {
   "cell_type": "code",
   "execution_count": 2,
   "metadata": {},
   "outputs": [
    {
     "name": "stdout",
     "output_type": "stream",
     "text": [
      "Split num:  [346, 42, 41]\n"
     ]
    },
    {
     "ename": "KeyboardInterrupt",
     "evalue": "",
     "output_type": "error",
     "traceback": [
      "\u001b[0;31m---------------------------------------------------------------------------\u001b[0m",
      "\u001b[0;31mKeyboardInterrupt\u001b[0m                         Traceback (most recent call last)",
      "Cell \u001b[0;32mIn[2], line 7\u001b[0m\n\u001b[1;32m      4\u001b[0m protein_view_transform \u001b[39m=\u001b[39m transforms\u001b[39m.\u001b[39mProteinView(view\u001b[39m=\u001b[39m\u001b[39m'\u001b[39m\u001b[39mresidue\u001b[39m\u001b[39m'\u001b[39m)\n\u001b[1;32m      5\u001b[0m transform \u001b[39m=\u001b[39m transforms\u001b[39m.\u001b[39mCompose([truncuate_transform, protein_view_transform])\n\u001b[0;32m----> 7\u001b[0m dataset \u001b[39m=\u001b[39m ATPBind(atom_feature\u001b[39m=\u001b[39;49m\u001b[39mNone\u001b[39;49;00m, bond_feature\u001b[39m=\u001b[39;49m\u001b[39mNone\u001b[39;49;00m, residue_feature\u001b[39m=\u001b[39;49m\u001b[39m\"\u001b[39;49m\u001b[39mdefault\u001b[39;49m\u001b[39m\"\u001b[39;49m, transform\u001b[39m=\u001b[39;49mtransform)\n",
      "File \u001b[0;32m/data/project/aigenintern/aigenintern2/miniconda3/envs/jc/lib/python3.9/site-packages/decorator.py:232\u001b[0m, in \u001b[0;36mdecorate.<locals>.fun\u001b[0;34m(*args, **kw)\u001b[0m\n\u001b[1;32m    230\u001b[0m \u001b[39mif\u001b[39;00m \u001b[39mnot\u001b[39;00m kwsyntax:\n\u001b[1;32m    231\u001b[0m     args, kw \u001b[39m=\u001b[39m fix(args, kw, sig)\n\u001b[0;32m--> 232\u001b[0m \u001b[39mreturn\u001b[39;00m caller(func, \u001b[39m*\u001b[39;49m(extras \u001b[39m+\u001b[39;49m args), \u001b[39m*\u001b[39;49m\u001b[39m*\u001b[39;49mkw)\n",
      "File \u001b[0;32m/data/project/aigenintern/aigenintern2/miniconda3/envs/jc/lib/python3.9/site-packages/torchdrug/core/core.py:288\u001b[0m, in \u001b[0;36m_Configurable.__new__.<locals>.wrapper\u001b[0;34m(init, self, *args, **kwargs)\u001b[0m\n\u001b[1;32m    286\u001b[0m     config\u001b[39m.\u001b[39mpop(k)\n\u001b[1;32m    287\u001b[0m \u001b[39mself\u001b[39m\u001b[39m.\u001b[39m_config \u001b[39m=\u001b[39m \u001b[39mdict\u001b[39m(config)\n\u001b[0;32m--> 288\u001b[0m \u001b[39mreturn\u001b[39;00m init(\u001b[39mself\u001b[39;49m, \u001b[39m*\u001b[39;49margs, \u001b[39m*\u001b[39;49m\u001b[39m*\u001b[39;49mkwargs)\n",
      "File \u001b[0;32m/data/project/aigenintern/aigenintern2/atpbind/lib/datasets.py:17\u001b[0m, in \u001b[0;36mATPBind.__init__\u001b[0;34m(self, path, verbose, valid_ratio, **kwargs)\u001b[0m\n\u001b[1;32m     15\u001b[0m \u001b[39mself\u001b[39m\u001b[39m.\u001b[39mvalid_ratio \u001b[39m=\u001b[39m valid_ratio\n\u001b[1;32m     16\u001b[0m sequences, targets \u001b[39m=\u001b[39m \u001b[39mself\u001b[39m\u001b[39m.\u001b[39mget_seq_target(path)\n\u001b[0;32m---> 17\u001b[0m \u001b[39mself\u001b[39;49m\u001b[39m.\u001b[39;49mload_sequence(sequences, targets)\n",
      "File \u001b[0;32m/data/project/aigenintern/aigenintern2/miniconda3/envs/jc/lib/python3.9/site-packages/torchdrug/data/dataset.py:663\u001b[0m, in \u001b[0;36mProteinDataset.load_sequence\u001b[0;34m(self, sequences, targets, attributes, transform, lazy, verbose, **kwargs)\u001b[0m\n\u001b[1;32m    661\u001b[0m \u001b[39mfor\u001b[39;00m i, sequence \u001b[39min\u001b[39;00m \u001b[39menumerate\u001b[39m(sequences):\n\u001b[1;32m    662\u001b[0m     \u001b[39mif\u001b[39;00m \u001b[39mnot\u001b[39;00m \u001b[39mself\u001b[39m\u001b[39m.\u001b[39mlazy \u001b[39mor\u001b[39;00m \u001b[39mlen\u001b[39m(\u001b[39mself\u001b[39m\u001b[39m.\u001b[39mdata) \u001b[39m==\u001b[39m \u001b[39m0\u001b[39m:\n\u001b[0;32m--> 663\u001b[0m         protein \u001b[39m=\u001b[39m data\u001b[39m.\u001b[39;49mProtein\u001b[39m.\u001b[39;49mfrom_sequence(sequence, \u001b[39m*\u001b[39;49m\u001b[39m*\u001b[39;49mkwargs)\n\u001b[1;32m    664\u001b[0m     \u001b[39melse\u001b[39;00m:\n\u001b[1;32m    665\u001b[0m         protein \u001b[39m=\u001b[39m \u001b[39mNone\u001b[39;00m\n",
      "File \u001b[0;32m/data/project/aigenintern/aigenintern2/miniconda3/envs/jc/lib/python3.9/site-packages/torchdrug/utils/decorator.py:192\u001b[0m, in \u001b[0;36mdeprecated_alias.<locals>.decorate.<locals>.wrapper\u001b[0;34m(*args, **kwargs)\u001b[0m\n\u001b[1;32m    189\u001b[0m         warnings\u001b[39m.\u001b[39mwarn(\u001b[39m\"\u001b[39m\u001b[39m%s\u001b[39;00m\u001b[39m(): argument `\u001b[39m\u001b[39m%s\u001b[39;00m\u001b[39m` is deprecated in favor of `\u001b[39m\u001b[39m%s\u001b[39;00m\u001b[39m`\u001b[39m\u001b[39m\"\u001b[39m \u001b[39m%\u001b[39m (obj\u001b[39m.\u001b[39m\u001b[39m__name__\u001b[39m, key, value))\n\u001b[1;32m    190\u001b[0m         kwargs[value] \u001b[39m=\u001b[39m kwargs\u001b[39m.\u001b[39mpop(key)\n\u001b[0;32m--> 192\u001b[0m \u001b[39mreturn\u001b[39;00m obj(\u001b[39m*\u001b[39;49margs, \u001b[39m*\u001b[39;49m\u001b[39m*\u001b[39;49mkwargs)\n",
      "File \u001b[0;32m/data/project/aigenintern/aigenintern2/miniconda3/envs/jc/lib/python3.9/site-packages/torchdrug/data/protein.py:303\u001b[0m, in \u001b[0;36mProtein.from_sequence\u001b[0;34m(cls, sequence, atom_feature, bond_feature, residue_feature, mol_feature, kekulize)\u001b[0m\n\u001b[1;32m    300\u001b[0m \u001b[39mif\u001b[39;00m mol \u001b[39mis\u001b[39;00m \u001b[39mNone\u001b[39;00m:\n\u001b[1;32m    301\u001b[0m     \u001b[39mraise\u001b[39;00m \u001b[39mValueError\u001b[39;00m(\u001b[39m\"\u001b[39m\u001b[39mInvalid sequence `\u001b[39m\u001b[39m%s\u001b[39;00m\u001b[39m`\u001b[39m\u001b[39m\"\u001b[39m \u001b[39m%\u001b[39m sequence)\n\u001b[0;32m--> 303\u001b[0m \u001b[39mreturn\u001b[39;00m \u001b[39mcls\u001b[39;49m\u001b[39m.\u001b[39;49mfrom_molecule(mol, atom_feature, bond_feature, residue_feature, mol_feature, kekulize)\n",
      "File \u001b[0;32m/data/project/aigenintern/aigenintern2/miniconda3/envs/jc/lib/python3.9/site-packages/torchdrug/utils/decorator.py:192\u001b[0m, in \u001b[0;36mdeprecated_alias.<locals>.decorate.<locals>.wrapper\u001b[0;34m(*args, **kwargs)\u001b[0m\n\u001b[1;32m    189\u001b[0m         warnings\u001b[39m.\u001b[39mwarn(\u001b[39m\"\u001b[39m\u001b[39m%s\u001b[39;00m\u001b[39m(): argument `\u001b[39m\u001b[39m%s\u001b[39;00m\u001b[39m` is deprecated in favor of `\u001b[39m\u001b[39m%s\u001b[39;00m\u001b[39m`\u001b[39m\u001b[39m\"\u001b[39m \u001b[39m%\u001b[39m (obj\u001b[39m.\u001b[39m\u001b[39m__name__\u001b[39m, key, value))\n\u001b[1;32m    190\u001b[0m         kwargs[value] \u001b[39m=\u001b[39m kwargs\u001b[39m.\u001b[39mpop(key)\n\u001b[0;32m--> 192\u001b[0m \u001b[39mreturn\u001b[39;00m obj(\u001b[39m*\u001b[39;49margs, \u001b[39m*\u001b[39;49m\u001b[39m*\u001b[39;49mkwargs)\n",
      "File \u001b[0;32m/data/project/aigenintern/aigenintern2/miniconda3/envs/jc/lib/python3.9/site-packages/torchdrug/data/protein.py:185\u001b[0m, in \u001b[0;36mProtein.from_molecule\u001b[0;34m(cls, mol, atom_feature, bond_feature, residue_feature, mol_feature, kekulize)\u001b[0m\n\u001b[1;32m    167\u001b[0m \u001b[39m@classmethod\u001b[39m\n\u001b[1;32m    168\u001b[0m \u001b[39m@utils\u001b[39m\u001b[39m.\u001b[39mdeprecated_alias(node_feature\u001b[39m=\u001b[39m\u001b[39m\"\u001b[39m\u001b[39matom_feature\u001b[39m\u001b[39m\"\u001b[39m, edge_feature\u001b[39m=\u001b[39m\u001b[39m\"\u001b[39m\u001b[39mbond_feature\u001b[39m\u001b[39m\"\u001b[39m, graph_feature\u001b[39m=\u001b[39m\u001b[39m\"\u001b[39m\u001b[39mmol_feature\u001b[39m\u001b[39m\"\u001b[39m)\n\u001b[1;32m    169\u001b[0m \u001b[39mdef\u001b[39;00m \u001b[39mfrom_molecule\u001b[39m(\u001b[39mcls\u001b[39m, mol, atom_feature\u001b[39m=\u001b[39m\u001b[39m\"\u001b[39m\u001b[39mdefault\u001b[39m\u001b[39m\"\u001b[39m, bond_feature\u001b[39m=\u001b[39m\u001b[39m\"\u001b[39m\u001b[39mdefault\u001b[39m\u001b[39m\"\u001b[39m, residue_feature\u001b[39m=\u001b[39m\u001b[39m\"\u001b[39m\u001b[39mdefault\u001b[39m\u001b[39m\"\u001b[39m,\n\u001b[1;32m    170\u001b[0m                   mol_feature\u001b[39m=\u001b[39m\u001b[39mNone\u001b[39;00m, kekulize\u001b[39m=\u001b[39m\u001b[39mFalse\u001b[39;00m):\n\u001b[1;32m    171\u001b[0m     \u001b[39m\"\"\"\u001b[39;00m\n\u001b[1;32m    172\u001b[0m \u001b[39m    Create a protein from an RDKit object.\u001b[39;00m\n\u001b[1;32m    173\u001b[0m \n\u001b[0;32m   (...)\u001b[0m\n\u001b[1;32m    183\u001b[0m \u001b[39m            By default, aromatic bonds are stored.\u001b[39;00m\n\u001b[1;32m    184\u001b[0m \u001b[39m    \"\"\"\u001b[39;00m\n\u001b[0;32m--> 185\u001b[0m     protein \u001b[39m=\u001b[39m Molecule\u001b[39m.\u001b[39;49mfrom_molecule(mol, atom_feature\u001b[39m=\u001b[39;49matom_feature, bond_feature\u001b[39m=\u001b[39;49mbond_feature,\n\u001b[1;32m    186\u001b[0m                                      mol_feature\u001b[39m=\u001b[39;49mmol_feature, with_hydrogen\u001b[39m=\u001b[39;49m\u001b[39mFalse\u001b[39;49;00m, kekulize\u001b[39m=\u001b[39;49mkekulize)\n\u001b[1;32m    187\u001b[0m     residue_feature \u001b[39m=\u001b[39m \u001b[39mcls\u001b[39m\u001b[39m.\u001b[39m_standarize_option(residue_feature)\n\u001b[1;32m    189\u001b[0m     \u001b[39mif\u001b[39;00m kekulize:\n",
      "File \u001b[0;32m/data/project/aigenintern/aigenintern2/miniconda3/envs/jc/lib/python3.9/site-packages/torchdrug/utils/decorator.py:192\u001b[0m, in \u001b[0;36mdeprecated_alias.<locals>.decorate.<locals>.wrapper\u001b[0;34m(*args, **kwargs)\u001b[0m\n\u001b[1;32m    189\u001b[0m         warnings\u001b[39m.\u001b[39mwarn(\u001b[39m\"\u001b[39m\u001b[39m%s\u001b[39;00m\u001b[39m(): argument `\u001b[39m\u001b[39m%s\u001b[39;00m\u001b[39m` is deprecated in favor of `\u001b[39m\u001b[39m%s\u001b[39;00m\u001b[39m`\u001b[39m\u001b[39m\"\u001b[39m \u001b[39m%\u001b[39m (obj\u001b[39m.\u001b[39m\u001b[39m__name__\u001b[39m, key, value))\n\u001b[1;32m    190\u001b[0m         kwargs[value] \u001b[39m=\u001b[39m kwargs\u001b[39m.\u001b[39mpop(key)\n\u001b[0;32m--> 192\u001b[0m \u001b[39mreturn\u001b[39;00m obj(\u001b[39m*\u001b[39;49margs, \u001b[39m*\u001b[39;49m\u001b[39m*\u001b[39;49mkwargs)\n",
      "File \u001b[0;32m/data/project/aigenintern/aigenintern2/miniconda3/envs/jc/lib/python3.9/site-packages/torchdrug/data/molecule.py:189\u001b[0m, in \u001b[0;36mMolecule.from_molecule\u001b[0;34m(cls, mol, atom_feature, bond_feature, mol_feature, with_hydrogen, kekulize)\u001b[0m\n\u001b[1;32m    187\u001b[0m     \u001b[39mfor\u001b[39;00m name \u001b[39min\u001b[39;00m atom_feature:\n\u001b[1;32m    188\u001b[0m         func \u001b[39m=\u001b[39m R\u001b[39m.\u001b[39mget(\u001b[39m\"\u001b[39m\u001b[39mfeatures.atom.\u001b[39m\u001b[39m%s\u001b[39;00m\u001b[39m\"\u001b[39m \u001b[39m%\u001b[39m name)\n\u001b[0;32m--> 189\u001b[0m         feature \u001b[39m+\u001b[39m\u001b[39m=\u001b[39m func(atom)\n\u001b[1;32m    190\u001b[0m     _atom_feature\u001b[39m.\u001b[39mappend(feature)\n\u001b[1;32m    191\u001b[0m atom_type \u001b[39m=\u001b[39m torch\u001b[39m.\u001b[39mtensor(atom_type)[:\u001b[39m-\u001b[39m\u001b[39m1\u001b[39m]\n",
      "File \u001b[0;32m/data/project/aigenintern/aigenintern2/miniconda3/envs/jc/lib/python3.9/site-packages/torchdrug/data/feature.py:76\u001b[0m, in \u001b[0;36matom_default\u001b[0;34m(atom)\u001b[0m\n\u001b[1;32m     53\u001b[0m \u001b[39m@R\u001b[39m\u001b[39m.\u001b[39mregister(\u001b[39m\"\u001b[39m\u001b[39mfeatures.atom.default\u001b[39m\u001b[39m\"\u001b[39m)\n\u001b[1;32m     54\u001b[0m \u001b[39mdef\u001b[39;00m \u001b[39matom_default\u001b[39m(atom):\n\u001b[1;32m     55\u001b[0m     \u001b[39m\"\"\"Default atom feature.\u001b[39;00m\n\u001b[1;32m     56\u001b[0m \n\u001b[1;32m     57\u001b[0m \u001b[39m    Features:\u001b[39;00m\n\u001b[0;32m   (...)\u001b[0m\n\u001b[1;32m     74\u001b[0m \u001b[39m        IsInRing(): whether the atom is in a ring\u001b[39;00m\n\u001b[1;32m     75\u001b[0m \u001b[39m    \"\"\"\u001b[39;00m\n\u001b[0;32m---> 76\u001b[0m     \u001b[39mreturn\u001b[39;00m onehot(atom\u001b[39m.\u001b[39;49mGetSymbol(), atom_vocab, allow_unknown\u001b[39m=\u001b[39;49m\u001b[39mTrue\u001b[39;49;00m) \u001b[39m+\u001b[39;49m \\\n\u001b[1;32m     77\u001b[0m            onehot(atom\u001b[39m.\u001b[39;49mGetChiralTag(), chiral_tag_vocab) \u001b[39m+\u001b[39;49m \\\n\u001b[1;32m     78\u001b[0m            onehot(atom\u001b[39m.\u001b[39;49mGetTotalDegree(), degree_vocab, allow_unknown\u001b[39m=\u001b[39;49m\u001b[39mTrue\u001b[39;49;00m) \u001b[39m+\u001b[39;49m \\\n\u001b[1;32m     79\u001b[0m            onehot(atom\u001b[39m.\u001b[39;49mGetFormalCharge(), formal_charge_vocab) \u001b[39m+\u001b[39;49m \\\n\u001b[1;32m     80\u001b[0m            onehot(atom\u001b[39m.\u001b[39;49mGetTotalNumHs(), num_hs_vocab) \u001b[39m+\u001b[39;49m \\\n\u001b[1;32m     81\u001b[0m            onehot(atom\u001b[39m.\u001b[39;49mGetNumRadicalElectrons(), num_radical_vocab) \u001b[39m+\u001b[39;49m \\\n\u001b[1;32m     82\u001b[0m            onehot(atom\u001b[39m.\u001b[39;49mGetHybridization(), hybridization_vocab) \u001b[39m+\u001b[39m \\\n\u001b[1;32m     83\u001b[0m            [atom\u001b[39m.\u001b[39mGetIsAromatic(), atom\u001b[39m.\u001b[39mIsInRing()]\n",
      "\u001b[0;31mKeyboardInterrupt\u001b[0m: "
     ]
    }
   ],
   "source": [
    "from lib.datasets import ATPBind\n",
    "\n",
    "truncuate_transform = transforms.TruncateProtein(max_length=350, random=False)\n",
    "protein_view_transform = transforms.ProteinView(view='residue')\n",
    "transform = transforms.Compose([truncuate_transform, protein_view_transform])\n",
    "\n",
    "dataset = ATPBind(atom_feature=None, bond_feature=None, residue_feature=\"default\", transform=transform)"
   ]
  }
 ],
 "metadata": {
  "kernelspec": {
   "display_name": "jc",
   "language": "python",
   "name": "jc"
  },
  "orig_nbformat": 4
 },
 "nbformat": 4,
 "nbformat_minor": 2
}
