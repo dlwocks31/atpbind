{
 "cells": [
  {
   "cell_type": "code",
   "execution_count": 1,
   "metadata": {},
   "outputs": [
    {
     "name": "stdout",
     "output_type": "stream",
     "text": [
      "Split num:  [346, 42, 41]\n",
      "train samples: 346, valid samples: 42, test samples: 41\n"
     ]
    }
   ],
   "source": [
    "from torchdrug.tasks import NodePropertyPrediction\n",
    "from torchdrug import transforms\n",
    "from torchdrug import data, core, layers, tasks, metrics, utils, models\n",
    "from torchdrug.layers import functional\n",
    "from torchdrug.core import Registry as R\n",
    "from torchdrug.models import GearNet\n",
    "\n",
    "import torch\n",
    "from torch.utils import data as torch_data\n",
    "from torch.nn import functional as F\n",
    "\n",
    "from lib.datasets import ATPBind\n",
    "\n",
    "truncuate_transform = transforms.TruncateProtein(max_length=350, random=False)\n",
    "protein_view_transform = transforms.ProteinView(view='residue')\n",
    "#transform = transforms.Compose([truncuate_transform, protein_view_transform])\n",
    "transform = transforms.Compose([protein_view_transform])\n",
    "\n",
    "dataset = ATPBind(atom_feature=None, bond_feature=None,\n",
    "                  residue_feature=\"default\", transform=transform)\n",
    "\n",
    "train_set, valid_set, test_set = dataset.split()\n",
    "print(\"train samples: %d, valid samples: %d, test samples: %d\" %\n",
    "      (len(train_set), len(valid_set), len(test_set)))\n"
   ]
  },
  {
   "cell_type": "code",
   "execution_count": 21,
   "metadata": {},
   "outputs": [],
   "source": [
    "model = models.GearNet(input_dim=21, hidden_dims=[512, 512, 512], \n",
    "                              num_relation=7, edge_input_dim=59, num_angle_bin=8,\n",
    "                              batch_norm=True, concat_hidden=True, short_cut=True, readout=\"sum\")"
   ]
  },
  {
   "cell_type": "code",
   "execution_count": 6,
   "metadata": {},
   "outputs": [
    {
     "data": {
      "text/plain": [
       "Protein(num_atom=0, num_bond=0, num_residue=566)"
      ]
     },
     "execution_count": 6,
     "metadata": {},
     "output_type": "execute_result"
    }
   ],
   "source": [
    "protein = train_set[0]['graph']\n",
    "protein"
   ]
  },
  {
   "cell_type": "code",
   "execution_count": 9,
   "metadata": {},
   "outputs": [
    {
     "ename": "RuntimeError",
     "evalue": "addmm: Argument #3 (dense): Expected dim 0 size 0, got 566",
     "output_type": "error",
     "traceback": [
      "\u001b[0;31m---------------------------------------------------------------------------\u001b[0m",
      "\u001b[0;31mRuntimeError\u001b[0m                              Traceback (most recent call last)",
      "Cell \u001b[0;32mIn[9], line 1\u001b[0m\n\u001b[0;32m----> 1\u001b[0m model(protein, protein\u001b[39m.\u001b[39;49mnode_feature\u001b[39m.\u001b[39;49mfloat())\n",
      "File \u001b[0;32m/data/project/aigenintern/aigenintern2/miniconda3/envs/jc/lib/python3.9/site-packages/torch/nn/modules/module.py:889\u001b[0m, in \u001b[0;36mModule._call_impl\u001b[0;34m(self, *input, **kwargs)\u001b[0m\n\u001b[1;32m    887\u001b[0m     result \u001b[39m=\u001b[39m \u001b[39mself\u001b[39m\u001b[39m.\u001b[39m_slow_forward(\u001b[39m*\u001b[39m\u001b[39minput\u001b[39m, \u001b[39m*\u001b[39m\u001b[39m*\u001b[39mkwargs)\n\u001b[1;32m    888\u001b[0m \u001b[39melse\u001b[39;00m:\n\u001b[0;32m--> 889\u001b[0m     result \u001b[39m=\u001b[39m \u001b[39mself\u001b[39;49m\u001b[39m.\u001b[39;49mforward(\u001b[39m*\u001b[39;49m\u001b[39minput\u001b[39;49m, \u001b[39m*\u001b[39;49m\u001b[39m*\u001b[39;49mkwargs)\n\u001b[1;32m    890\u001b[0m \u001b[39mfor\u001b[39;00m hook \u001b[39min\u001b[39;00m itertools\u001b[39m.\u001b[39mchain(\n\u001b[1;32m    891\u001b[0m         _global_forward_hooks\u001b[39m.\u001b[39mvalues(),\n\u001b[1;32m    892\u001b[0m         \u001b[39mself\u001b[39m\u001b[39m.\u001b[39m_forward_hooks\u001b[39m.\u001b[39mvalues()):\n\u001b[1;32m    893\u001b[0m     hook_result \u001b[39m=\u001b[39m hook(\u001b[39mself\u001b[39m, \u001b[39minput\u001b[39m, result)\n",
      "File \u001b[0;32m/data/project/aigenintern/aigenintern2/miniconda3/envs/jc/lib/python3.9/site-packages/torchdrug/models/gearnet.py:95\u001b[0m, in \u001b[0;36mGeometryAwareRelationalGraphNeuralNetwork.forward\u001b[0;34m(self, graph, input, all_loss, metric)\u001b[0m\n\u001b[1;32m     92\u001b[0m     edge_input \u001b[39m=\u001b[39m line_graph\u001b[39m.\u001b[39mnode_feature\u001b[39m.\u001b[39mfloat()\n\u001b[1;32m     94\u001b[0m \u001b[39mfor\u001b[39;00m i \u001b[39min\u001b[39;00m \u001b[39mrange\u001b[39m(\u001b[39mlen\u001b[39m(\u001b[39mself\u001b[39m\u001b[39m.\u001b[39mlayers)):\n\u001b[0;32m---> 95\u001b[0m     hidden \u001b[39m=\u001b[39m \u001b[39mself\u001b[39;49m\u001b[39m.\u001b[39;49mlayers[i](graph, layer_input)\n\u001b[1;32m     96\u001b[0m     \u001b[39mif\u001b[39;00m \u001b[39mself\u001b[39m\u001b[39m.\u001b[39mshort_cut \u001b[39mand\u001b[39;00m hidden\u001b[39m.\u001b[39mshape \u001b[39m==\u001b[39m layer_input\u001b[39m.\u001b[39mshape:\n\u001b[1;32m     97\u001b[0m         hidden \u001b[39m=\u001b[39m hidden \u001b[39m+\u001b[39m layer_input\n",
      "File \u001b[0;32m/data/project/aigenintern/aigenintern2/miniconda3/envs/jc/lib/python3.9/site-packages/torch/nn/modules/module.py:889\u001b[0m, in \u001b[0;36mModule._call_impl\u001b[0;34m(self, *input, **kwargs)\u001b[0m\n\u001b[1;32m    887\u001b[0m     result \u001b[39m=\u001b[39m \u001b[39mself\u001b[39m\u001b[39m.\u001b[39m_slow_forward(\u001b[39m*\u001b[39m\u001b[39minput\u001b[39m, \u001b[39m*\u001b[39m\u001b[39m*\u001b[39mkwargs)\n\u001b[1;32m    888\u001b[0m \u001b[39melse\u001b[39;00m:\n\u001b[0;32m--> 889\u001b[0m     result \u001b[39m=\u001b[39m \u001b[39mself\u001b[39;49m\u001b[39m.\u001b[39;49mforward(\u001b[39m*\u001b[39;49m\u001b[39minput\u001b[39;49m, \u001b[39m*\u001b[39;49m\u001b[39m*\u001b[39;49mkwargs)\n\u001b[1;32m    890\u001b[0m \u001b[39mfor\u001b[39;00m hook \u001b[39min\u001b[39;00m itertools\u001b[39m.\u001b[39mchain(\n\u001b[1;32m    891\u001b[0m         _global_forward_hooks\u001b[39m.\u001b[39mvalues(),\n\u001b[1;32m    892\u001b[0m         \u001b[39mself\u001b[39m\u001b[39m.\u001b[39m_forward_hooks\u001b[39m.\u001b[39mvalues()):\n\u001b[1;32m    893\u001b[0m     hook_result \u001b[39m=\u001b[39m hook(\u001b[39mself\u001b[39m, \u001b[39minput\u001b[39m, result)\n",
      "File \u001b[0;32m/data/project/aigenintern/aigenintern2/miniconda3/envs/jc/lib/python3.9/site-packages/torchdrug/layers/conv.py:91\u001b[0m, in \u001b[0;36mMessagePassingBase.forward\u001b[0;34m(self, graph, input)\u001b[0m\n\u001b[1;32m     89\u001b[0m     update \u001b[39m=\u001b[39m checkpoint\u001b[39m.\u001b[39mcheckpoint(\u001b[39mself\u001b[39m\u001b[39m.\u001b[39m_message_and_aggregate, \u001b[39m*\u001b[39mgraph\u001b[39m.\u001b[39mto_tensors(), \u001b[39minput\u001b[39m)\n\u001b[1;32m     90\u001b[0m \u001b[39melse\u001b[39;00m:\n\u001b[0;32m---> 91\u001b[0m     update \u001b[39m=\u001b[39m \u001b[39mself\u001b[39;49m\u001b[39m.\u001b[39;49mmessage_and_aggregate(graph, \u001b[39minput\u001b[39;49m)\n\u001b[1;32m     92\u001b[0m output \u001b[39m=\u001b[39m \u001b[39mself\u001b[39m\u001b[39m.\u001b[39mcombine(\u001b[39minput\u001b[39m, update)\n\u001b[1;32m     93\u001b[0m \u001b[39mreturn\u001b[39;00m output\n",
      "File \u001b[0;32m/data/project/aigenintern/aigenintern2/miniconda3/envs/jc/lib/python3.9/site-packages/torchdrug/layers/conv.py:804\u001b[0m, in \u001b[0;36mGeometricRelationalGraphConv.message_and_aggregate\u001b[0;34m(self, graph, input)\u001b[0m\n\u001b[1;32m    801\u001b[0m node_out \u001b[39m=\u001b[39m node_out \u001b[39m*\u001b[39m \u001b[39mself\u001b[39m\u001b[39m.\u001b[39mnum_relation \u001b[39m+\u001b[39m relation\n\u001b[1;32m    802\u001b[0m adjacency \u001b[39m=\u001b[39m utils\u001b[39m.\u001b[39msparse_coo_tensor(torch\u001b[39m.\u001b[39mstack([node_in, node_out]), graph\u001b[39m.\u001b[39medge_weight,\n\u001b[1;32m    803\u001b[0m                                     (graph\u001b[39m.\u001b[39mnum_node, graph\u001b[39m.\u001b[39mnum_node \u001b[39m*\u001b[39m graph\u001b[39m.\u001b[39mnum_relation))\n\u001b[0;32m--> 804\u001b[0m update \u001b[39m=\u001b[39m torch\u001b[39m.\u001b[39;49msparse\u001b[39m.\u001b[39;49mmm(adjacency\u001b[39m.\u001b[39;49mt(), \u001b[39minput\u001b[39;49m)\n\u001b[1;32m    805\u001b[0m \u001b[39mif\u001b[39;00m \u001b[39mself\u001b[39m\u001b[39m.\u001b[39medge_linear:\n\u001b[1;32m    806\u001b[0m     edge_input \u001b[39m=\u001b[39m graph\u001b[39m.\u001b[39medge_feature\u001b[39m.\u001b[39mfloat()\n",
      "File \u001b[0;32m/data/project/aigenintern/aigenintern2/miniconda3/envs/jc/lib/python3.9/site-packages/torch/sparse/__init__.py:91\u001b[0m, in \u001b[0;36mmm\u001b[0;34m(mat1, mat2)\u001b[0m\n\u001b[1;32m     89\u001b[0m \u001b[39mif\u001b[39;00m mat1\u001b[39m.\u001b[39mis_sparse \u001b[39mand\u001b[39;00m mat2\u001b[39m.\u001b[39mis_sparse:\n\u001b[1;32m     90\u001b[0m     \u001b[39mreturn\u001b[39;00m torch\u001b[39m.\u001b[39m_sparse_sparse_matmul(mat1, mat2)\n\u001b[0;32m---> 91\u001b[0m \u001b[39mreturn\u001b[39;00m torch\u001b[39m.\u001b[39;49m_sparse_mm(mat1, mat2)\n",
      "\u001b[0;31mRuntimeError\u001b[0m: addmm: Argument #3 (dense): Expected dim 0 size 0, got 566"
     ]
    }
   ],
   "source": [
    "model(protein, protein.node_feature.float())"
   ]
  },
  {
   "cell_type": "code",
   "execution_count": 10,
   "metadata": {},
   "outputs": [
    {
     "name": "stdout",
     "output_type": "stream",
     "text": [
      "Protein(num_atom=4769, num_bond=9746, num_residue=597)\n"
     ]
    },
    {
     "name": "stderr",
     "output_type": "stream",
     "text": [
      "/data/project/aigenintern/aigenintern2/miniconda3/envs/jc/lib/python3.9/site-packages/torchdrug/data/protein.py:213: UserWarning: Unknown residue `AMP`. Treat as glycine\n",
      "  warnings.warn(\"Unknown residue `%s`. Treat as glycine\" % type)\n",
      "/data/project/aigenintern/aigenintern2/miniconda3/envs/jc/lib/python3.9/site-packages/torchdrug/data/feature.py:42: UserWarning: Unknown value `AMP`\n",
      "  warnings.warn(\"Unknown value `%s`\" % x)\n",
      "/data/project/aigenintern/aigenintern2/miniconda3/envs/jc/lib/python3.9/site-packages/torchdrug/data/protein.py:213: UserWarning: Unknown residue `ATP`. Treat as glycine\n",
      "  warnings.warn(\"Unknown residue `%s`. Treat as glycine\" % type)\n",
      "/data/project/aigenintern/aigenintern2/miniconda3/envs/jc/lib/python3.9/site-packages/torchdrug/data/feature.py:42: UserWarning: Unknown value `ATP`\n",
      "  warnings.warn(\"Unknown value `%s`\" % x)\n",
      "/data/project/aigenintern/aigenintern2/miniconda3/envs/jc/lib/python3.9/site-packages/torchdrug/data/protein.py:213: UserWarning: Unknown residue `MG`. Treat as glycine\n",
      "  warnings.warn(\"Unknown residue `%s`. Treat as glycine\" % type)\n",
      "/data/project/aigenintern/aigenintern2/miniconda3/envs/jc/lib/python3.9/site-packages/torchdrug/data/feature.py:42: UserWarning: Unknown value ` MG`\n",
      "  warnings.warn(\"Unknown value `%s`\" % x)\n",
      "/data/project/aigenintern/aigenintern2/miniconda3/envs/jc/lib/python3.9/site-packages/torchdrug/data/protein.py:213: UserWarning: Unknown residue `HOH`. Treat as glycine\n",
      "  warnings.warn(\"Unknown residue `%s`. Treat as glycine\" % type)\n",
      "/data/project/aigenintern/aigenintern2/miniconda3/envs/jc/lib/python3.9/site-packages/torchdrug/data/feature.py:42: UserWarning: Unknown value `HOH`\n",
      "  warnings.warn(\"Unknown value `%s`\" % x)\n"
     ]
    }
   ],
   "source": [
    "# read protein from pdb file\n",
    "\n"
   ]
  },
  {
   "cell_type": "code",
   "execution_count": 11,
   "metadata": {},
   "outputs": [
    {
     "ename": "RuntimeError",
     "evalue": "shape '[4769, 84]' is invalid for input of size 57228",
     "output_type": "error",
     "traceback": [
      "\u001b[0;31m---------------------------------------------------------------------------\u001b[0m",
      "\u001b[0;31mRuntimeError\u001b[0m                              Traceback (most recent call last)",
      "Cell \u001b[0;32mIn[11], line 1\u001b[0m\n\u001b[0;32m----> 1\u001b[0m model(protein, protein\u001b[39m.\u001b[39;49mnode_feature\u001b[39m.\u001b[39;49mfloat())\n",
      "File \u001b[0;32m/data/project/aigenintern/aigenintern2/miniconda3/envs/jc/lib/python3.9/site-packages/torch/nn/modules/module.py:889\u001b[0m, in \u001b[0;36mModule._call_impl\u001b[0;34m(self, *input, **kwargs)\u001b[0m\n\u001b[1;32m    887\u001b[0m     result \u001b[39m=\u001b[39m \u001b[39mself\u001b[39m\u001b[39m.\u001b[39m_slow_forward(\u001b[39m*\u001b[39m\u001b[39minput\u001b[39m, \u001b[39m*\u001b[39m\u001b[39m*\u001b[39mkwargs)\n\u001b[1;32m    888\u001b[0m \u001b[39melse\u001b[39;00m:\n\u001b[0;32m--> 889\u001b[0m     result \u001b[39m=\u001b[39m \u001b[39mself\u001b[39;49m\u001b[39m.\u001b[39;49mforward(\u001b[39m*\u001b[39;49m\u001b[39minput\u001b[39;49m, \u001b[39m*\u001b[39;49m\u001b[39m*\u001b[39;49mkwargs)\n\u001b[1;32m    890\u001b[0m \u001b[39mfor\u001b[39;00m hook \u001b[39min\u001b[39;00m itertools\u001b[39m.\u001b[39mchain(\n\u001b[1;32m    891\u001b[0m         _global_forward_hooks\u001b[39m.\u001b[39mvalues(),\n\u001b[1;32m    892\u001b[0m         \u001b[39mself\u001b[39m\u001b[39m.\u001b[39m_forward_hooks\u001b[39m.\u001b[39mvalues()):\n\u001b[1;32m    893\u001b[0m     hook_result \u001b[39m=\u001b[39m hook(\u001b[39mself\u001b[39m, \u001b[39minput\u001b[39m, result)\n",
      "File \u001b[0;32m/data/project/aigenintern/aigenintern2/miniconda3/envs/jc/lib/python3.9/site-packages/torchdrug/models/gearnet.py:95\u001b[0m, in \u001b[0;36mGeometryAwareRelationalGraphNeuralNetwork.forward\u001b[0;34m(self, graph, input, all_loss, metric)\u001b[0m\n\u001b[1;32m     92\u001b[0m     edge_input \u001b[39m=\u001b[39m line_graph\u001b[39m.\u001b[39mnode_feature\u001b[39m.\u001b[39mfloat()\n\u001b[1;32m     94\u001b[0m \u001b[39mfor\u001b[39;00m i \u001b[39min\u001b[39;00m \u001b[39mrange\u001b[39m(\u001b[39mlen\u001b[39m(\u001b[39mself\u001b[39m\u001b[39m.\u001b[39mlayers)):\n\u001b[0;32m---> 95\u001b[0m     hidden \u001b[39m=\u001b[39m \u001b[39mself\u001b[39;49m\u001b[39m.\u001b[39;49mlayers[i](graph, layer_input)\n\u001b[1;32m     96\u001b[0m     \u001b[39mif\u001b[39;00m \u001b[39mself\u001b[39m\u001b[39m.\u001b[39mshort_cut \u001b[39mand\u001b[39;00m hidden\u001b[39m.\u001b[39mshape \u001b[39m==\u001b[39m layer_input\u001b[39m.\u001b[39mshape:\n\u001b[1;32m     97\u001b[0m         hidden \u001b[39m=\u001b[39m hidden \u001b[39m+\u001b[39m layer_input\n",
      "File \u001b[0;32m/data/project/aigenintern/aigenintern2/miniconda3/envs/jc/lib/python3.9/site-packages/torch/nn/modules/module.py:889\u001b[0m, in \u001b[0;36mModule._call_impl\u001b[0;34m(self, *input, **kwargs)\u001b[0m\n\u001b[1;32m    887\u001b[0m     result \u001b[39m=\u001b[39m \u001b[39mself\u001b[39m\u001b[39m.\u001b[39m_slow_forward(\u001b[39m*\u001b[39m\u001b[39minput\u001b[39m, \u001b[39m*\u001b[39m\u001b[39m*\u001b[39mkwargs)\n\u001b[1;32m    888\u001b[0m \u001b[39melse\u001b[39;00m:\n\u001b[0;32m--> 889\u001b[0m     result \u001b[39m=\u001b[39m \u001b[39mself\u001b[39;49m\u001b[39m.\u001b[39;49mforward(\u001b[39m*\u001b[39;49m\u001b[39minput\u001b[39;49m, \u001b[39m*\u001b[39;49m\u001b[39m*\u001b[39;49mkwargs)\n\u001b[1;32m    890\u001b[0m \u001b[39mfor\u001b[39;00m hook \u001b[39min\u001b[39;00m itertools\u001b[39m.\u001b[39mchain(\n\u001b[1;32m    891\u001b[0m         _global_forward_hooks\u001b[39m.\u001b[39mvalues(),\n\u001b[1;32m    892\u001b[0m         \u001b[39mself\u001b[39m\u001b[39m.\u001b[39m_forward_hooks\u001b[39m.\u001b[39mvalues()):\n\u001b[1;32m    893\u001b[0m     hook_result \u001b[39m=\u001b[39m hook(\u001b[39mself\u001b[39m, \u001b[39minput\u001b[39m, result)\n",
      "File \u001b[0;32m/data/project/aigenintern/aigenintern2/miniconda3/envs/jc/lib/python3.9/site-packages/torchdrug/layers/conv.py:91\u001b[0m, in \u001b[0;36mMessagePassingBase.forward\u001b[0;34m(self, graph, input)\u001b[0m\n\u001b[1;32m     89\u001b[0m     update \u001b[39m=\u001b[39m checkpoint\u001b[39m.\u001b[39mcheckpoint(\u001b[39mself\u001b[39m\u001b[39m.\u001b[39m_message_and_aggregate, \u001b[39m*\u001b[39mgraph\u001b[39m.\u001b[39mto_tensors(), \u001b[39minput\u001b[39m)\n\u001b[1;32m     90\u001b[0m \u001b[39melse\u001b[39;00m:\n\u001b[0;32m---> 91\u001b[0m     update \u001b[39m=\u001b[39m \u001b[39mself\u001b[39;49m\u001b[39m.\u001b[39;49mmessage_and_aggregate(graph, \u001b[39minput\u001b[39;49m)\n\u001b[1;32m     92\u001b[0m output \u001b[39m=\u001b[39m \u001b[39mself\u001b[39m\u001b[39m.\u001b[39mcombine(\u001b[39minput\u001b[39m, update)\n\u001b[1;32m     93\u001b[0m \u001b[39mreturn\u001b[39;00m output\n",
      "File \u001b[0;32m/data/project/aigenintern/aigenintern2/miniconda3/envs/jc/lib/python3.9/site-packages/torchdrug/layers/conv.py:813\u001b[0m, in \u001b[0;36mGeometricRelationalGraphConv.message_and_aggregate\u001b[0;34m(self, graph, input)\u001b[0m\n\u001b[1;32m    809\u001b[0m     edge_update \u001b[39m=\u001b[39m scatter_add(edge_input \u001b[39m*\u001b[39m edge_weight, node_out, dim\u001b[39m=\u001b[39m\u001b[39m0\u001b[39m,\n\u001b[1;32m    810\u001b[0m                               dim_size\u001b[39m=\u001b[39mgraph\u001b[39m.\u001b[39mnum_node \u001b[39m*\u001b[39m graph\u001b[39m.\u001b[39mnum_relation)\n\u001b[1;32m    811\u001b[0m     update \u001b[39m+\u001b[39m\u001b[39m=\u001b[39m edge_update\n\u001b[0;32m--> 813\u001b[0m \u001b[39mreturn\u001b[39;00m update\u001b[39m.\u001b[39;49mview(graph\u001b[39m.\u001b[39;49mnum_node, \u001b[39mself\u001b[39;49m\u001b[39m.\u001b[39;49mnum_relation \u001b[39m*\u001b[39;49m \u001b[39mself\u001b[39;49m\u001b[39m.\u001b[39;49minput_dim)\n",
      "\u001b[0;31mRuntimeError\u001b[0m: shape '[4769, 84]' is invalid for input of size 57228"
     ]
    }
   ],
   "source": [
    "model(protein, protein.node_feature.float())\n"
   ]
  },
  {
   "cell_type": "code",
   "execution_count": 24,
   "metadata": {},
   "outputs": [
    {
     "name": "stderr",
     "output_type": "stream",
     "text": [
      "/data/project/aigenintern/aigenintern2/miniconda3/envs/jc/lib/python3.9/site-packages/torchdrug/data/protein.py:213: UserWarning: Unknown residue `AMP`. Treat as glycine\n",
      "  warnings.warn(\"Unknown residue `%s`. Treat as glycine\" % type)\n",
      "/data/project/aigenintern/aigenintern2/miniconda3/envs/jc/lib/python3.9/site-packages/torchdrug/data/feature.py:42: UserWarning: Unknown value `AMP`\n",
      "  warnings.warn(\"Unknown value `%s`\" % x)\n",
      "/data/project/aigenintern/aigenintern2/miniconda3/envs/jc/lib/python3.9/site-packages/torchdrug/data/protein.py:213: UserWarning: Unknown residue `ATP`. Treat as glycine\n",
      "  warnings.warn(\"Unknown residue `%s`. Treat as glycine\" % type)\n",
      "/data/project/aigenintern/aigenintern2/miniconda3/envs/jc/lib/python3.9/site-packages/torchdrug/data/feature.py:42: UserWarning: Unknown value `ATP`\n",
      "  warnings.warn(\"Unknown value `%s`\" % x)\n",
      "/data/project/aigenintern/aigenintern2/miniconda3/envs/jc/lib/python3.9/site-packages/torchdrug/data/protein.py:213: UserWarning: Unknown residue `MG`. Treat as glycine\n",
      "  warnings.warn(\"Unknown residue `%s`. Treat as glycine\" % type)\n",
      "/data/project/aigenintern/aigenintern2/miniconda3/envs/jc/lib/python3.9/site-packages/torchdrug/data/feature.py:42: UserWarning: Unknown value ` MG`\n",
      "  warnings.warn(\"Unknown value `%s`\" % x)\n",
      "/data/project/aigenintern/aigenintern2/miniconda3/envs/jc/lib/python3.9/site-packages/torchdrug/data/protein.py:213: UserWarning: Unknown residue `HOH`. Treat as glycine\n",
      "  warnings.warn(\"Unknown residue `%s`. Treat as glycine\" % type)\n",
      "/data/project/aigenintern/aigenintern2/miniconda3/envs/jc/lib/python3.9/site-packages/torchdrug/data/feature.py:42: UserWarning: Unknown value `HOH`\n",
      "  warnings.warn(\"Unknown value `%s`\" % x)\n"
     ]
    },
    {
     "name": "stdout",
     "output_type": "stream",
     "text": [
      "Protein(num_atom=4769, num_bond=9746, num_residue=597)\n",
      "tensor(4)\n",
      "PackedProtein(batch_size=1, num_atoms=[4769], num_bonds=[267424], num_residues=[597])\n",
      "tensor(7)\n"
     ]
    }
   ],
   "source": [
    "from torchdrug import layers\n",
    "from torchdrug.layers import geometry\n",
    "\n",
    "graph_construction_model = layers.GraphConstruction(\n",
    "                                edge_layers=[geometry.SpatialEdge(radius=10.0, min_distance=5),\n",
    "                                                                 geometry.KNNEdge(k=10, min_distance=5),\n",
    "                                                                 geometry.SequentialEdge(max_distance=2)],\n",
    "                                                    edge_feature=\"gearnet\")\n",
    "\n",
    "\n",
    "file_path = 'data/script/pdb/3EPSA.pdb'\n",
    "protein = data.Protein.from_pdb(\n",
    "    file_path, atom_feature=\"position\", bond_feature=\"length\", residue_feature=\"symbol\")\n",
    "print(protein)\n",
    "print(protein.num_relation)\n",
    "\n",
    "protein = data.Protein.pack([protein])\n",
    "protein = graph_construction_model(protein)\n",
    "print(protein)\n",
    "print(protein.num_relation)"
   ]
  },
  {
   "cell_type": "code",
   "execution_count": 23,
   "metadata": {},
   "outputs": [
    {
     "ename": "RuntimeError",
     "evalue": "shape '[566, 147]' is invalid for input of size 11886",
     "output_type": "error",
     "traceback": [
      "\u001b[0;31m---------------------------------------------------------------------------\u001b[0m",
      "\u001b[0;31mRuntimeError\u001b[0m                              Traceback (most recent call last)",
      "Cell \u001b[0;32mIn[23], line 1\u001b[0m\n\u001b[0;32m----> 1\u001b[0m model(protein, protein\u001b[39m.\u001b[39;49mnode_feature\u001b[39m.\u001b[39;49mfloat())\n",
      "File \u001b[0;32m/data/project/aigenintern/aigenintern2/miniconda3/envs/jc/lib/python3.9/site-packages/torch/nn/modules/module.py:889\u001b[0m, in \u001b[0;36mModule._call_impl\u001b[0;34m(self, *input, **kwargs)\u001b[0m\n\u001b[1;32m    887\u001b[0m     result \u001b[39m=\u001b[39m \u001b[39mself\u001b[39m\u001b[39m.\u001b[39m_slow_forward(\u001b[39m*\u001b[39m\u001b[39minput\u001b[39m, \u001b[39m*\u001b[39m\u001b[39m*\u001b[39mkwargs)\n\u001b[1;32m    888\u001b[0m \u001b[39melse\u001b[39;00m:\n\u001b[0;32m--> 889\u001b[0m     result \u001b[39m=\u001b[39m \u001b[39mself\u001b[39;49m\u001b[39m.\u001b[39;49mforward(\u001b[39m*\u001b[39;49m\u001b[39minput\u001b[39;49m, \u001b[39m*\u001b[39;49m\u001b[39m*\u001b[39;49mkwargs)\n\u001b[1;32m    890\u001b[0m \u001b[39mfor\u001b[39;00m hook \u001b[39min\u001b[39;00m itertools\u001b[39m.\u001b[39mchain(\n\u001b[1;32m    891\u001b[0m         _global_forward_hooks\u001b[39m.\u001b[39mvalues(),\n\u001b[1;32m    892\u001b[0m         \u001b[39mself\u001b[39m\u001b[39m.\u001b[39m_forward_hooks\u001b[39m.\u001b[39mvalues()):\n\u001b[1;32m    893\u001b[0m     hook_result \u001b[39m=\u001b[39m hook(\u001b[39mself\u001b[39m, \u001b[39minput\u001b[39m, result)\n",
      "File \u001b[0;32m/data/project/aigenintern/aigenintern2/miniconda3/envs/jc/lib/python3.9/site-packages/torchdrug/models/gearnet.py:95\u001b[0m, in \u001b[0;36mGeometryAwareRelationalGraphNeuralNetwork.forward\u001b[0;34m(self, graph, input, all_loss, metric)\u001b[0m\n\u001b[1;32m     92\u001b[0m     edge_input \u001b[39m=\u001b[39m line_graph\u001b[39m.\u001b[39mnode_feature\u001b[39m.\u001b[39mfloat()\n\u001b[1;32m     94\u001b[0m \u001b[39mfor\u001b[39;00m i \u001b[39min\u001b[39;00m \u001b[39mrange\u001b[39m(\u001b[39mlen\u001b[39m(\u001b[39mself\u001b[39m\u001b[39m.\u001b[39mlayers)):\n\u001b[0;32m---> 95\u001b[0m     hidden \u001b[39m=\u001b[39m \u001b[39mself\u001b[39;49m\u001b[39m.\u001b[39;49mlayers[i](graph, layer_input)\n\u001b[1;32m     96\u001b[0m     \u001b[39mif\u001b[39;00m \u001b[39mself\u001b[39m\u001b[39m.\u001b[39mshort_cut \u001b[39mand\u001b[39;00m hidden\u001b[39m.\u001b[39mshape \u001b[39m==\u001b[39m layer_input\u001b[39m.\u001b[39mshape:\n\u001b[1;32m     97\u001b[0m         hidden \u001b[39m=\u001b[39m hidden \u001b[39m+\u001b[39m layer_input\n",
      "File \u001b[0;32m/data/project/aigenintern/aigenintern2/miniconda3/envs/jc/lib/python3.9/site-packages/torch/nn/modules/module.py:889\u001b[0m, in \u001b[0;36mModule._call_impl\u001b[0;34m(self, *input, **kwargs)\u001b[0m\n\u001b[1;32m    887\u001b[0m     result \u001b[39m=\u001b[39m \u001b[39mself\u001b[39m\u001b[39m.\u001b[39m_slow_forward(\u001b[39m*\u001b[39m\u001b[39minput\u001b[39m, \u001b[39m*\u001b[39m\u001b[39m*\u001b[39mkwargs)\n\u001b[1;32m    888\u001b[0m \u001b[39melse\u001b[39;00m:\n\u001b[0;32m--> 889\u001b[0m     result \u001b[39m=\u001b[39m \u001b[39mself\u001b[39;49m\u001b[39m.\u001b[39;49mforward(\u001b[39m*\u001b[39;49m\u001b[39minput\u001b[39;49m, \u001b[39m*\u001b[39;49m\u001b[39m*\u001b[39;49mkwargs)\n\u001b[1;32m    890\u001b[0m \u001b[39mfor\u001b[39;00m hook \u001b[39min\u001b[39;00m itertools\u001b[39m.\u001b[39mchain(\n\u001b[1;32m    891\u001b[0m         _global_forward_hooks\u001b[39m.\u001b[39mvalues(),\n\u001b[1;32m    892\u001b[0m         \u001b[39mself\u001b[39m\u001b[39m.\u001b[39m_forward_hooks\u001b[39m.\u001b[39mvalues()):\n\u001b[1;32m    893\u001b[0m     hook_result \u001b[39m=\u001b[39m hook(\u001b[39mself\u001b[39m, \u001b[39minput\u001b[39m, result)\n",
      "File \u001b[0;32m/data/project/aigenintern/aigenintern2/miniconda3/envs/jc/lib/python3.9/site-packages/torchdrug/layers/conv.py:91\u001b[0m, in \u001b[0;36mMessagePassingBase.forward\u001b[0;34m(self, graph, input)\u001b[0m\n\u001b[1;32m     89\u001b[0m     update \u001b[39m=\u001b[39m checkpoint\u001b[39m.\u001b[39mcheckpoint(\u001b[39mself\u001b[39m\u001b[39m.\u001b[39m_message_and_aggregate, \u001b[39m*\u001b[39mgraph\u001b[39m.\u001b[39mto_tensors(), \u001b[39minput\u001b[39m)\n\u001b[1;32m     90\u001b[0m \u001b[39melse\u001b[39;00m:\n\u001b[0;32m---> 91\u001b[0m     update \u001b[39m=\u001b[39m \u001b[39mself\u001b[39;49m\u001b[39m.\u001b[39;49mmessage_and_aggregate(graph, \u001b[39minput\u001b[39;49m)\n\u001b[1;32m     92\u001b[0m output \u001b[39m=\u001b[39m \u001b[39mself\u001b[39m\u001b[39m.\u001b[39mcombine(\u001b[39minput\u001b[39m, update)\n\u001b[1;32m     93\u001b[0m \u001b[39mreturn\u001b[39;00m output\n",
      "File \u001b[0;32m/data/project/aigenintern/aigenintern2/miniconda3/envs/jc/lib/python3.9/site-packages/torchdrug/layers/conv.py:813\u001b[0m, in \u001b[0;36mGeometricRelationalGraphConv.message_and_aggregate\u001b[0;34m(self, graph, input)\u001b[0m\n\u001b[1;32m    809\u001b[0m     edge_update \u001b[39m=\u001b[39m scatter_add(edge_input \u001b[39m*\u001b[39m edge_weight, node_out, dim\u001b[39m=\u001b[39m\u001b[39m0\u001b[39m,\n\u001b[1;32m    810\u001b[0m                               dim_size\u001b[39m=\u001b[39mgraph\u001b[39m.\u001b[39mnum_node \u001b[39m*\u001b[39m graph\u001b[39m.\u001b[39mnum_relation)\n\u001b[1;32m    811\u001b[0m     update \u001b[39m+\u001b[39m\u001b[39m=\u001b[39m edge_update\n\u001b[0;32m--> 813\u001b[0m \u001b[39mreturn\u001b[39;00m update\u001b[39m.\u001b[39;49mview(graph\u001b[39m.\u001b[39;49mnum_node, \u001b[39mself\u001b[39;49m\u001b[39m.\u001b[39;49mnum_relation \u001b[39m*\u001b[39;49m \u001b[39mself\u001b[39;49m\u001b[39m.\u001b[39;49minput_dim)\n",
      "\u001b[0;31mRuntimeError\u001b[0m: shape '[566, 147]' is invalid for input of size 11886"
     ]
    }
   ],
   "source": [
    "model(protein, protein.node_feature.float())\n"
   ]
  }
 ],
 "metadata": {
  "kernelspec": {
   "display_name": "jc",
   "language": "python",
   "name": "jc"
  },
  "language_info": {
   "codemirror_mode": {
    "name": "ipython",
    "version": 3
   },
   "file_extension": ".py",
   "mimetype": "text/x-python",
   "name": "python",
   "nbconvert_exporter": "python",
   "pygments_lexer": "ipython3",
   "version": "3.9.16"
  },
  "orig_nbformat": 4
 },
 "nbformat": 4,
 "nbformat_minor": 2
}
