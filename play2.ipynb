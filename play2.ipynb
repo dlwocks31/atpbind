{
 "cells": [
  {
   "cell_type": "code",
   "execution_count": 1,
   "metadata": {},
   "outputs": [],
   "source": [
    "def read_file(path):\n",
    "    sequences, targets, pdb_ids = [], [], []\n",
    "    with open(path) as f:\n",
    "        lines = f.readlines()\n",
    "        num_samples = len(lines)\n",
    "        for line in lines:\n",
    "            sequence = line.split(' : ')[-1].strip()\n",
    "            sequences.append(sequence)\n",
    "\n",
    "            target = line.split(' : ')[-2].split(' ')\n",
    "            target_indices = []\n",
    "            for index in target:\n",
    "                target_indices.append(int(index[1:]))\n",
    "            target = []\n",
    "            for index in range(len(sequence)):\n",
    "                if index+1 in target_indices:\n",
    "                    target.append(1)\n",
    "                else:\n",
    "                    target.append(0)\n",
    "            targets.append(target)\n",
    "\n",
    "            pdb_id = line.split(' : ')[0]\n",
    "            pdb_ids.append(pdb_id)\n",
    "    return num_samples, sequences, targets, pdb_ids\n",
    "\n",
    "\n",
    "num_samples, sequences, targets, pdb_ids = read_file('lib/train.txt')"
   ]
  },
  {
   "cell_type": "code",
   "execution_count": 14,
   "metadata": {},
   "outputs": [],
   "source": [
    "import pylcs\n",
    "import os\n",
    "from torchdrug import utils\n",
    "\n",
    "def parse_pdb(file_path, chain_id):\n",
    "    three_to_one_letter = {\n",
    "        'ALA': 'A', 'CYS': 'C', 'ASP': 'D', 'GLU': 'E',\n",
    "        'PHE': 'F', 'GLY': 'G', 'HIS': 'H', 'ILE': 'I',\n",
    "        'LYS': 'K', 'LEU': 'L', 'MET': 'M', 'ASN': 'N',\n",
    "        'PRO': 'P', 'GLN': 'Q', 'ARG': 'R', 'SER': 'S',\n",
    "        'THR': 'T', 'VAL': 'V', 'TRP': 'W', 'TYR': 'Y'\n",
    "    }\n",
    "\n",
    "    atom_order = {'N': 0, 'CA': 1, 'C': 2, 'O': 3}\n",
    "\n",
    "    positions = []\n",
    "    sequence = ''\n",
    "    prev_residue_number = None\n",
    "    with open(file_path, 'r') as pdb_file:\n",
    "        for line in pdb_file:\n",
    "            if line.startswith('ATOM'):\n",
    "                current_chain_id = line[21].strip()\n",
    "                if current_chain_id == chain_id:\n",
    "                    atom_name = line[12:16].strip()\n",
    "                    residue_name = line[17:20].strip()\n",
    "                    residue_number = int(line[22:26].strip())\n",
    "                    if atom_name in atom_order:\n",
    "                        if residue_number != prev_residue_number:\n",
    "                            one_letter_code = three_to_one_letter.get(\n",
    "                                residue_name, 'X')\n",
    "                            sequence += one_letter_code\n",
    "                            positions.append([None, None, None, None])\n",
    "                            prev_residue_number = residue_number\n",
    "                        x = float(line[30:38].strip())\n",
    "                        y = float(line[38:46].strip())\n",
    "                        z = float(line[46:54].strip())\n",
    "                        positions[-1][atom_order[atom_name]] = [x, y, z]\n",
    "    return positions, sequence\n",
    "\n",
    "def get_parsed_data_from_pdb_id(orig_sequence, pdb_id):\n",
    "    if os.path.exists(\"./pdb/%s.pdb\" % pdb_id[:4]):\n",
    "        file_path = \"./pdb/%s.pdb\" % pdb_id[:4]\n",
    "    else:\n",
    "        file_path = utils.download(\"https://files.rcsb.org/download/%s.pdb\" % pdb_id[:4], \"./pdb\")\n",
    "    chain_id = pdb_id[4]\n",
    "    positions, sequence = parse_pdb(file_path, chain_id)\n",
    "    lcs_indices = pylcs.lcs_sequence_idx(orig_sequence, sequence)\n",
    "    assert(-1 not in lcs_indices)\n",
    "    filtered_positions = [positions[i] for i in lcs_indices]\n",
    "    filtered_sequence = ''.join(sequence[i] for i in lcs_indices)\n",
    "    assert(filtered_sequence == orig_sequence)\n",
    "    return filtered_positions\n"
   ]
  },
  {
   "cell_type": "code",
   "execution_count": 46,
   "metadata": {},
   "outputs": [],
   "source": [
    "from ipywidgets import IntProgress\n",
    "from IPython.display import display\n",
    "import json\n",
    "\n",
    "def load_all_in_file(filename):\n",
    "    num_samples, sequences, targets, pdb_ids = read_file(filename)\n",
    "    result = []\n",
    "    f = IntProgress(min=0, max=num_samples)\n",
    "    display(f)\n",
    "    for sequence, pdb_id in zip(sequences, pdb_ids):\n",
    "        coords = get_parsed_data_from_pdb_id(sequence, pdb_id)\n",
    "        result.append({\n",
    "            'name': pdb_id,\n",
    "            'seq': sequence,\n",
    "            'coords': coords,\n",
    "        })\n",
    "        f.value += 1\n",
    "    \n",
    "    with open(filename + '.json', 'w') as o:\n",
    "        json.dump(result, o)\n",
    "    \n",
    "    return result"
   ]
  },
  {
   "cell_type": "code",
   "execution_count": 47,
   "metadata": {},
   "outputs": [
    {
     "data": {
      "application/vnd.jupyter.widget-view+json": {
       "model_id": "96d9120f84e941e784935d710bebbe91",
       "version_major": 2,
       "version_minor": 0
      },
      "text/plain": [
       "IntProgress(value=0, max=388)"
      ]
     },
     "metadata": {},
     "output_type": "display_data"
    }
   ],
   "source": [
    "result = load_all_in_file('lib/train.txt')"
   ]
  },
  {
   "cell_type": "code",
   "execution_count": 24,
   "metadata": {},
   "outputs": [],
   "source": [
    "import gvp.data\n",
    "\n",
    "# structures is a list or list-like as shown above\n",
    "dataset = gvp.data.ProteinGraphDataset(result, device='cuda')"
   ]
  },
  {
   "cell_type": "code",
   "execution_count": 18,
   "metadata": {},
   "outputs": [
    {
     "data": {
      "text/plain": [
       "Data(x=[566, 3], edge_index=[2, 16980], seq=[566], name='3EPSA', node_s=[566, 6], node_v=[566, 3, 3], edge_s=[16980, 32], edge_v=[16980, 1, 3], mask=[566])"
      ]
     },
     "execution_count": 18,
     "metadata": {},
     "output_type": "execute_result"
    }
   ],
   "source": [
    "dataset[0]"
   ]
  },
  {
   "cell_type": "code",
   "execution_count": 49,
   "metadata": {},
   "outputs": [],
   "source": [
    "import gvp.models\n",
    "\n",
    "node_in_dim = (6,3)\n",
    "edge_in_dim = (32,1)\n",
    "node_h_dim = (100, 16)\n",
    "edge_h_dim = (32, 1)\n",
    "\n",
    "cpd_model = gvp.models.CPDModel(node_in_dim, node_h_dim, \n",
    "                        edge_in_dim, edge_h_dim).to('cuda')"
   ]
  },
  {
   "cell_type": "code",
   "execution_count": 50,
   "metadata": {},
   "outputs": [],
   "source": [
    "protein = dataset[3]\n",
    "h_V = (protein.node_s, protein.node_v)\n",
    "h_E = (protein.edge_s, protein.edge_v) \n",
    "sample = cpd_model.sample(h_V, protein.edge_index, h_E, n_samples=1)"
   ]
  },
  {
   "cell_type": "code",
   "execution_count": 52,
   "metadata": {},
   "outputs": [
    {
     "data": {
      "text/plain": [
       "array(0.04158416, dtype=float32)"
      ]
     },
     "execution_count": 52,
     "metadata": {},
     "output_type": "execute_result"
    }
   ],
   "source": [
    "sample.eq(protein.seq).float().mean().cpu().numpy()"
   ]
  },
  {
   "cell_type": "code",
   "execution_count": null,
   "metadata": {},
   "outputs": [],
   "source": []
  }
 ],
 "metadata": {
  "kernelspec": {
   "display_name": "jc",
   "language": "python",
   "name": "jc"
  },
  "language_info": {
   "codemirror_mode": {
    "name": "ipython",
    "version": 3
   },
   "file_extension": ".py",
   "mimetype": "text/x-python",
   "name": "python",
   "nbconvert_exporter": "python",
   "pygments_lexer": "ipython3",
   "version": "3.9.16"
  },
  "orig_nbformat": 4
 },
 "nbformat": 4,
 "nbformat_minor": 2
}
