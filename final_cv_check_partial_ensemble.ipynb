{
 "cells": [
  {
   "cell_type": "code",
   "execution_count": 10,
   "metadata": {},
   "outputs": [],
   "source": [
    "from lib.utils import aggregate_pred_dataframe, generate_mean_ensemble_metrics_auto\n",
    "import pandas as pd\n",
    "import os\n",
    "\n",
    "def read_models(key):\n",
    "    valids_by_folds = [[] for _ in range(5)]\n",
    "    tests_by_folds = [[] for _ in range(5)]\n",
    "    for fold in range(5):\n",
    "        directory = f'result_cv/{key}/fold_{fold}/intermediate'\n",
    "        files = [f for f in os.listdir(directory) if f.startswith('iter_')]\n",
    "        files.sort(key=lambda x: int(x.split('_')[1]))\n",
    "        test_files = [f for f in files if f.endswith('test.csv')]\n",
    "        valid_files = [f for f in files if f.endswith('valid.csv')]\n",
    "        print(test_files)\n",
    "        for file in test_files:\n",
    "            fold_pred = pd.read_csv(f'{directory}/{file}')\n",
    "            tests_by_folds[fold].append(fold_pred)\n",
    "            \n",
    "        for file in valid_files:\n",
    "            fold_pred = pd.read_csv(f'{directory}/{file}')\n",
    "            valids_by_folds[fold].append(fold_pred)\n",
    "    return tests_by_folds, valids_by_folds"
   ]
  },
  {
   "cell_type": "code",
   "execution_count": 11,
   "metadata": {},
   "outputs": [
    {
     "name": "stdout",
     "output_type": "stream",
     "text": [
      "['iter_0_test.csv', 'iter_1_test.csv', 'iter_2_test.csv', 'iter_3_test.csv', 'iter_4_test.csv', 'iter_5_test.csv', 'iter_6_test.csv', 'iter_7_test.csv', 'iter_8_test.csv', 'iter_9_test.csv', 'iter_10_test.csv', 'iter_11_test.csv', 'iter_12_test.csv', 'iter_13_test.csv', 'iter_14_test.csv', 'iter_15_test.csv', 'iter_16_test.csv', 'iter_17_test.csv', 'iter_18_test.csv', 'iter_19_test.csv', 'iter_20_test.csv', 'iter_21_test.csv', 'iter_22_test.csv', 'iter_23_test.csv', 'iter_24_test.csv', 'iter_25_test.csv', 'iter_26_test.csv', 'iter_27_test.csv', 'iter_28_test.csv', 'iter_29_test.csv', 'iter_30_test.csv', 'iter_31_test.csv', 'iter_32_test.csv', 'iter_33_test.csv', 'iter_34_test.csv', 'iter_35_test.csv', 'iter_36_test.csv', 'iter_37_test.csv', 'iter_38_test.csv', 'iter_39_test.csv', 'iter_40_test.csv', 'iter_41_test.csv', 'iter_42_test.csv', 'iter_43_test.csv', 'iter_44_test.csv', 'iter_45_test.csv', 'iter_46_test.csv', 'iter_47_test.csv', 'iter_48_test.csv', 'iter_49_test.csv']\n",
      "['iter_0_test.csv', 'iter_1_test.csv', 'iter_2_test.csv', 'iter_3_test.csv', 'iter_4_test.csv', 'iter_5_test.csv', 'iter_6_test.csv', 'iter_7_test.csv', 'iter_8_test.csv', 'iter_9_test.csv', 'iter_10_test.csv', 'iter_11_test.csv', 'iter_12_test.csv', 'iter_13_test.csv', 'iter_14_test.csv', 'iter_15_test.csv', 'iter_16_test.csv', 'iter_17_test.csv', 'iter_18_test.csv', 'iter_19_test.csv', 'iter_20_test.csv', 'iter_21_test.csv', 'iter_22_test.csv', 'iter_23_test.csv', 'iter_24_test.csv', 'iter_25_test.csv', 'iter_26_test.csv', 'iter_27_test.csv', 'iter_28_test.csv', 'iter_29_test.csv', 'iter_30_test.csv', 'iter_31_test.csv', 'iter_32_test.csv', 'iter_33_test.csv', 'iter_34_test.csv', 'iter_35_test.csv', 'iter_36_test.csv', 'iter_37_test.csv', 'iter_38_test.csv', 'iter_39_test.csv', 'iter_40_test.csv', 'iter_41_test.csv', 'iter_42_test.csv', 'iter_43_test.csv', 'iter_44_test.csv', 'iter_45_test.csv', 'iter_46_test.csv', 'iter_47_test.csv', 'iter_48_test.csv', 'iter_49_test.csv']\n",
      "['iter_0_test.csv', 'iter_1_test.csv', 'iter_2_test.csv', 'iter_3_test.csv', 'iter_4_test.csv', 'iter_5_test.csv', 'iter_6_test.csv', 'iter_7_test.csv', 'iter_8_test.csv', 'iter_9_test.csv', 'iter_10_test.csv', 'iter_11_test.csv', 'iter_12_test.csv', 'iter_13_test.csv', 'iter_14_test.csv', 'iter_15_test.csv', 'iter_16_test.csv', 'iter_17_test.csv', 'iter_18_test.csv', 'iter_19_test.csv', 'iter_20_test.csv', 'iter_21_test.csv', 'iter_22_test.csv', 'iter_23_test.csv', 'iter_24_test.csv', 'iter_25_test.csv', 'iter_26_test.csv', 'iter_27_test.csv', 'iter_28_test.csv', 'iter_29_test.csv', 'iter_30_test.csv', 'iter_31_test.csv', 'iter_32_test.csv', 'iter_33_test.csv', 'iter_34_test.csv', 'iter_35_test.csv', 'iter_36_test.csv', 'iter_37_test.csv', 'iter_38_test.csv', 'iter_39_test.csv', 'iter_40_test.csv', 'iter_41_test.csv', 'iter_42_test.csv', 'iter_43_test.csv', 'iter_44_test.csv', 'iter_45_test.csv', 'iter_46_test.csv', 'iter_47_test.csv', 'iter_48_test.csv', 'iter_49_test.csv']\n",
      "['iter_0_test.csv', 'iter_1_test.csv', 'iter_2_test.csv', 'iter_3_test.csv', 'iter_4_test.csv', 'iter_5_test.csv', 'iter_6_test.csv', 'iter_7_test.csv', 'iter_8_test.csv', 'iter_9_test.csv', 'iter_10_test.csv', 'iter_11_test.csv', 'iter_12_test.csv', 'iter_13_test.csv', 'iter_14_test.csv', 'iter_15_test.csv', 'iter_16_test.csv', 'iter_17_test.csv', 'iter_18_test.csv', 'iter_19_test.csv', 'iter_20_test.csv', 'iter_21_test.csv', 'iter_22_test.csv', 'iter_23_test.csv', 'iter_24_test.csv', 'iter_25_test.csv', 'iter_26_test.csv', 'iter_27_test.csv', 'iter_28_test.csv', 'iter_29_test.csv', 'iter_30_test.csv', 'iter_31_test.csv', 'iter_32_test.csv', 'iter_33_test.csv', 'iter_34_test.csv', 'iter_35_test.csv', 'iter_36_test.csv', 'iter_37_test.csv', 'iter_38_test.csv', 'iter_39_test.csv', 'iter_40_test.csv', 'iter_41_test.csv', 'iter_42_test.csv', 'iter_43_test.csv', 'iter_44_test.csv', 'iter_45_test.csv', 'iter_46_test.csv', 'iter_47_test.csv', 'iter_48_test.csv', 'iter_49_test.csv']\n",
      "['iter_0_test.csv', 'iter_1_test.csv', 'iter_2_test.csv', 'iter_3_test.csv', 'iter_4_test.csv', 'iter_5_test.csv', 'iter_6_test.csv', 'iter_7_test.csv', 'iter_8_test.csv', 'iter_9_test.csv', 'iter_10_test.csv', 'iter_11_test.csv', 'iter_12_test.csv', 'iter_13_test.csv', 'iter_14_test.csv', 'iter_15_test.csv', 'iter_16_test.csv', 'iter_17_test.csv', 'iter_18_test.csv', 'iter_19_test.csv', 'iter_20_test.csv', 'iter_21_test.csv', 'iter_22_test.csv', 'iter_23_test.csv', 'iter_24_test.csv', 'iter_25_test.csv', 'iter_26_test.csv', 'iter_27_test.csv', 'iter_28_test.csv', 'iter_29_test.csv', 'iter_30_test.csv', 'iter_31_test.csv', 'iter_32_test.csv', 'iter_33_test.csv', 'iter_34_test.csv', 'iter_35_test.csv', 'iter_36_test.csv', 'iter_37_test.csv', 'iter_38_test.csv', 'iter_39_test.csv', 'iter_40_test.csv', 'iter_41_test.csv', 'iter_42_test.csv', 'iter_43_test.csv', 'iter_44_test.csv', 'iter_45_test.csv', 'iter_46_test.csv', 'iter_47_test.csv', 'iter_48_test.csv', 'iter_49_test.csv']\n"
     ]
    }
   ],
   "source": [
    "tf, vf = read_models('esm-33-gearnet-ensemble')"
   ]
  },
  {
   "cell_type": "code",
   "execution_count": 7,
   "metadata": {},
   "outputs": [],
   "source": [
    "def aggregate_pred_prefixes(valids_by_folds, tests_by_folds):\n",
    "    mx = len(valids_by_folds[0])\n",
    "    for i in range(1, len(valids_by_folds)):\n",
    "        assert len(valids_by_folds[i]) == mx\n",
    "        assert len(tests_by_folds[i]) == mx\n",
    "        \n",
    "    df = pd.DataFrame()\n",
    "    for i in range(0, mx):\n",
    "        print(f'iter {i}')\n",
    "        for fold in range(5):\n",
    "            df_valid = aggregate_pred_dataframe(dfs=valids_by_folds[fold][:i], apply_sig=True)\n",
    "            df_test = aggregate_pred_dataframe(dfs=tests_by_folds[fold][:i], apply_sig=True)\n",
    "            \n",
    "            me_metric = generate_mean_ensemble_metrics_auto(df_valid=df_valid, df_test=df_test, start=0.1, end=0.6, step=0.01)\n",
    "            df = pd.concat([df, pd.DataFrame([{**me_metric, 'fold': fold, 'n_models': i}])])\n",
    "    return df"
   ]
  },
  {
   "cell_type": "code",
   "execution_count": 25,
   "metadata": {},
   "outputs": [
    {
     "name": "stdout",
     "output_type": "stream",
     "text": [
      "['iter_0_test.csv', 'iter_1_test.csv', 'iter_2_test.csv', 'iter_3_test.csv', 'iter_4_test.csv', 'iter_5_test.csv', 'iter_6_test.csv', 'iter_7_test.csv', 'iter_8_test.csv', 'iter_9_test.csv', 'iter_10_test.csv', 'iter_11_test.csv', 'iter_12_test.csv', 'iter_13_test.csv', 'iter_14_test.csv', 'iter_15_test.csv', 'iter_16_test.csv', 'iter_17_test.csv', 'iter_18_test.csv', 'iter_19_test.csv', 'iter_20_test.csv', 'iter_21_test.csv', 'iter_22_test.csv', 'iter_23_test.csv', 'iter_24_test.csv', 'iter_25_test.csv', 'iter_26_test.csv', 'iter_27_test.csv', 'iter_28_test.csv', 'iter_29_test.csv', 'iter_30_test.csv', 'iter_31_test.csv', 'iter_32_test.csv', 'iter_33_test.csv', 'iter_34_test.csv', 'iter_35_test.csv', 'iter_36_test.csv', 'iter_37_test.csv', 'iter_38_test.csv', 'iter_39_test.csv', 'iter_40_test.csv', 'iter_41_test.csv', 'iter_42_test.csv', 'iter_43_test.csv', 'iter_44_test.csv', 'iter_45_test.csv', 'iter_46_test.csv', 'iter_47_test.csv', 'iter_48_test.csv', 'iter_49_test.csv']\n",
      "['iter_0_test.csv', 'iter_1_test.csv', 'iter_2_test.csv', 'iter_3_test.csv', 'iter_4_test.csv', 'iter_5_test.csv', 'iter_6_test.csv', 'iter_7_test.csv', 'iter_8_test.csv', 'iter_9_test.csv', 'iter_10_test.csv', 'iter_11_test.csv', 'iter_12_test.csv', 'iter_13_test.csv', 'iter_14_test.csv', 'iter_15_test.csv', 'iter_16_test.csv', 'iter_17_test.csv', 'iter_18_test.csv', 'iter_19_test.csv', 'iter_20_test.csv', 'iter_21_test.csv', 'iter_22_test.csv', 'iter_23_test.csv', 'iter_24_test.csv', 'iter_25_test.csv', 'iter_26_test.csv', 'iter_27_test.csv', 'iter_28_test.csv', 'iter_29_test.csv', 'iter_30_test.csv', 'iter_31_test.csv', 'iter_32_test.csv', 'iter_33_test.csv', 'iter_34_test.csv', 'iter_35_test.csv', 'iter_36_test.csv', 'iter_37_test.csv', 'iter_38_test.csv', 'iter_39_test.csv', 'iter_40_test.csv', 'iter_41_test.csv', 'iter_42_test.csv', 'iter_43_test.csv', 'iter_44_test.csv', 'iter_45_test.csv', 'iter_46_test.csv', 'iter_47_test.csv', 'iter_48_test.csv', 'iter_49_test.csv']\n",
      "['iter_0_test.csv', 'iter_1_test.csv', 'iter_2_test.csv', 'iter_3_test.csv', 'iter_4_test.csv', 'iter_5_test.csv', 'iter_6_test.csv', 'iter_7_test.csv', 'iter_8_test.csv', 'iter_9_test.csv', 'iter_10_test.csv', 'iter_11_test.csv', 'iter_12_test.csv', 'iter_13_test.csv', 'iter_14_test.csv', 'iter_15_test.csv', 'iter_16_test.csv', 'iter_17_test.csv', 'iter_18_test.csv', 'iter_19_test.csv', 'iter_20_test.csv', 'iter_21_test.csv', 'iter_22_test.csv', 'iter_23_test.csv', 'iter_24_test.csv', 'iter_25_test.csv', 'iter_26_test.csv', 'iter_27_test.csv', 'iter_28_test.csv', 'iter_29_test.csv', 'iter_30_test.csv', 'iter_31_test.csv', 'iter_32_test.csv', 'iter_33_test.csv', 'iter_34_test.csv', 'iter_35_test.csv', 'iter_36_test.csv', 'iter_37_test.csv', 'iter_38_test.csv', 'iter_39_test.csv', 'iter_40_test.csv', 'iter_41_test.csv', 'iter_42_test.csv', 'iter_43_test.csv', 'iter_44_test.csv', 'iter_45_test.csv', 'iter_46_test.csv', 'iter_47_test.csv', 'iter_48_test.csv', 'iter_49_test.csv']\n",
      "['iter_0_test.csv', 'iter_1_test.csv', 'iter_2_test.csv', 'iter_3_test.csv', 'iter_4_test.csv', 'iter_5_test.csv', 'iter_6_test.csv', 'iter_7_test.csv', 'iter_8_test.csv', 'iter_9_test.csv', 'iter_10_test.csv', 'iter_11_test.csv', 'iter_12_test.csv', 'iter_13_test.csv', 'iter_14_test.csv', 'iter_15_test.csv', 'iter_16_test.csv', 'iter_17_test.csv', 'iter_18_test.csv', 'iter_19_test.csv', 'iter_20_test.csv', 'iter_21_test.csv', 'iter_22_test.csv', 'iter_23_test.csv', 'iter_24_test.csv', 'iter_25_test.csv', 'iter_26_test.csv', 'iter_27_test.csv', 'iter_28_test.csv', 'iter_29_test.csv', 'iter_30_test.csv', 'iter_31_test.csv', 'iter_32_test.csv', 'iter_33_test.csv', 'iter_34_test.csv', 'iter_35_test.csv', 'iter_36_test.csv', 'iter_37_test.csv', 'iter_38_test.csv', 'iter_39_test.csv', 'iter_40_test.csv', 'iter_41_test.csv', 'iter_42_test.csv', 'iter_43_test.csv', 'iter_44_test.csv', 'iter_45_test.csv', 'iter_46_test.csv', 'iter_47_test.csv', 'iter_48_test.csv', 'iter_49_test.csv']\n",
      "['iter_0_test.csv', 'iter_1_test.csv', 'iter_2_test.csv', 'iter_3_test.csv', 'iter_4_test.csv', 'iter_5_test.csv', 'iter_6_test.csv', 'iter_7_test.csv', 'iter_8_test.csv', 'iter_9_test.csv', 'iter_10_test.csv', 'iter_11_test.csv', 'iter_12_test.csv', 'iter_13_test.csv', 'iter_14_test.csv', 'iter_15_test.csv', 'iter_16_test.csv', 'iter_17_test.csv', 'iter_18_test.csv', 'iter_19_test.csv', 'iter_20_test.csv', 'iter_21_test.csv', 'iter_22_test.csv', 'iter_23_test.csv', 'iter_24_test.csv', 'iter_25_test.csv', 'iter_26_test.csv', 'iter_27_test.csv', 'iter_28_test.csv', 'iter_29_test.csv', 'iter_30_test.csv', 'iter_31_test.csv', 'iter_32_test.csv', 'iter_33_test.csv', 'iter_34_test.csv', 'iter_35_test.csv', 'iter_36_test.csv', 'iter_37_test.csv', 'iter_38_test.csv', 'iter_39_test.csv', 'iter_40_test.csv', 'iter_41_test.csv', 'iter_42_test.csv', 'iter_43_test.csv', 'iter_44_test.csv', 'iter_45_test.csv', 'iter_46_test.csv', 'iter_47_test.csv', 'iter_48_test.csv', 'iter_49_test.csv']\n",
      "iter 1\n",
      "iter 2\n",
      "iter 3\n",
      "iter 4\n",
      "iter 5\n",
      "iter 6\n",
      "iter 7\n",
      "iter 8\n",
      "iter 9\n",
      "iter 10\n",
      "iter 11\n",
      "iter 12\n",
      "iter 13\n",
      "iter 14\n",
      "iter 15\n",
      "iter 16\n",
      "iter 17\n",
      "iter 18\n",
      "iter 19\n",
      "iter 20\n",
      "iter 21\n",
      "iter 22\n",
      "iter 23\n",
      "iter 24\n",
      "iter 25\n",
      "iter 26\n",
      "iter 27\n",
      "iter 28\n",
      "iter 29\n",
      "iter 30\n",
      "iter 31\n",
      "iter 32\n",
      "iter 33\n",
      "iter 34\n",
      "iter 35\n",
      "iter 36\n",
      "iter 37\n",
      "iter 38\n",
      "iter 39\n",
      "iter 40\n",
      "iter 41\n",
      "iter 42\n",
      "iter 43\n",
      "iter 44\n",
      "iter 45\n",
      "iter 46\n",
      "iter 47\n",
      "iter 48\n",
      "iter 49\n"
     ]
    }
   ],
   "source": [
    "def read_and_aggregate(key):\n",
    "    tf, vf = read_models(key)\n",
    "    return aggregate_pred_prefixes(valids_by_folds=vf, tests_by_folds=tf)\n",
    "\n",
    "df_esm_33_gearnet_ensemble = read_and_aggregate('esm-33-gearnet-ensemble')"
   ]
  },
  {
   "cell_type": "code",
   "execution_count": 16,
   "metadata": {},
   "outputs": [
    {
     "data": {
      "text/html": [
       "<div>\n",
       "<style scoped>\n",
       "    .dataframe tbody tr th:only-of-type {\n",
       "        vertical-align: middle;\n",
       "    }\n",
       "\n",
       "    .dataframe tbody tr th {\n",
       "        vertical-align: top;\n",
       "    }\n",
       "\n",
       "    .dataframe thead th {\n",
       "        text-align: right;\n",
       "    }\n",
       "</style>\n",
       "<table border=\"1\" class=\"dataframe\">\n",
       "  <thead>\n",
       "    <tr style=\"text-align: right;\">\n",
       "      <th></th>\n",
       "      <th>sensitivity</th>\n",
       "      <th>specificity</th>\n",
       "      <th>accuracy</th>\n",
       "      <th>precision</th>\n",
       "      <th>mcc</th>\n",
       "      <th>micro_auroc</th>\n",
       "      <th>fold</th>\n",
       "      <th>n_models</th>\n",
       "    </tr>\n",
       "  </thead>\n",
       "  <tbody>\n",
       "    <tr>\n",
       "      <th>0</th>\n",
       "      <td>0.6300</td>\n",
       "      <td>0.9874</td>\n",
       "      <td>0.9689</td>\n",
       "      <td>0.7315</td>\n",
       "      <td>0.6627</td>\n",
       "      <td>0.9101</td>\n",
       "      <td>0</td>\n",
       "      <td>1</td>\n",
       "    </tr>\n",
       "    <tr>\n",
       "      <th>0</th>\n",
       "      <td>0.6475</td>\n",
       "      <td>0.9879</td>\n",
       "      <td>0.9703</td>\n",
       "      <td>0.7450</td>\n",
       "      <td>0.6791</td>\n",
       "      <td>0.9307</td>\n",
       "      <td>1</td>\n",
       "      <td>1</td>\n",
       "    </tr>\n",
       "    <tr>\n",
       "      <th>0</th>\n",
       "      <td>0.6108</td>\n",
       "      <td>0.9900</td>\n",
       "      <td>0.9703</td>\n",
       "      <td>0.7691</td>\n",
       "      <td>0.6704</td>\n",
       "      <td>0.8974</td>\n",
       "      <td>2</td>\n",
       "      <td>1</td>\n",
       "    </tr>\n",
       "    <tr>\n",
       "      <th>0</th>\n",
       "      <td>0.5710</td>\n",
       "      <td>0.9917</td>\n",
       "      <td>0.9699</td>\n",
       "      <td>0.7903</td>\n",
       "      <td>0.6570</td>\n",
       "      <td>0.9214</td>\n",
       "      <td>3</td>\n",
       "      <td>1</td>\n",
       "    </tr>\n",
       "    <tr>\n",
       "      <th>0</th>\n",
       "      <td>0.6316</td>\n",
       "      <td>0.9886</td>\n",
       "      <td>0.9701</td>\n",
       "      <td>0.7514</td>\n",
       "      <td>0.6735</td>\n",
       "      <td>0.9200</td>\n",
       "      <td>4</td>\n",
       "      <td>1</td>\n",
       "    </tr>\n",
       "    <tr>\n",
       "      <th>...</th>\n",
       "      <td>...</td>\n",
       "      <td>...</td>\n",
       "      <td>...</td>\n",
       "      <td>...</td>\n",
       "      <td>...</td>\n",
       "      <td>...</td>\n",
       "      <td>...</td>\n",
       "      <td>...</td>\n",
       "    </tr>\n",
       "    <tr>\n",
       "      <th>0</th>\n",
       "      <td>0.6651</td>\n",
       "      <td>0.9873</td>\n",
       "      <td>0.9706</td>\n",
       "      <td>0.7407</td>\n",
       "      <td>0.6865</td>\n",
       "      <td>0.9431</td>\n",
       "      <td>0</td>\n",
       "      <td>49</td>\n",
       "    </tr>\n",
       "    <tr>\n",
       "      <th>0</th>\n",
       "      <td>0.6459</td>\n",
       "      <td>0.9895</td>\n",
       "      <td>0.9717</td>\n",
       "      <td>0.7700</td>\n",
       "      <td>0.6907</td>\n",
       "      <td>0.9463</td>\n",
       "      <td>1</td>\n",
       "      <td>49</td>\n",
       "    </tr>\n",
       "    <tr>\n",
       "      <th>0</th>\n",
       "      <td>0.7033</td>\n",
       "      <td>0.9856</td>\n",
       "      <td>0.9710</td>\n",
       "      <td>0.7277</td>\n",
       "      <td>0.7002</td>\n",
       "      <td>0.9497</td>\n",
       "      <td>2</td>\n",
       "      <td>49</td>\n",
       "    </tr>\n",
       "    <tr>\n",
       "      <th>0</th>\n",
       "      <td>0.6954</td>\n",
       "      <td>0.9861</td>\n",
       "      <td>0.9710</td>\n",
       "      <td>0.7315</td>\n",
       "      <td>0.6980</td>\n",
       "      <td>0.9486</td>\n",
       "      <td>3</td>\n",
       "      <td>49</td>\n",
       "    </tr>\n",
       "    <tr>\n",
       "      <th>0</th>\n",
       "      <td>0.6938</td>\n",
       "      <td>0.9856</td>\n",
       "      <td>0.9705</td>\n",
       "      <td>0.7250</td>\n",
       "      <td>0.6937</td>\n",
       "      <td>0.9464</td>\n",
       "      <td>4</td>\n",
       "      <td>49</td>\n",
       "    </tr>\n",
       "  </tbody>\n",
       "</table>\n",
       "<p>245 rows × 8 columns</p>\n",
       "</div>"
      ],
      "text/plain": [
       "    sensitivity  specificity  accuracy  precision     mcc  micro_auroc  fold  \\\n",
       "0        0.6300       0.9874    0.9689     0.7315  0.6627       0.9101     0   \n",
       "0        0.6475       0.9879    0.9703     0.7450  0.6791       0.9307     1   \n",
       "0        0.6108       0.9900    0.9703     0.7691  0.6704       0.8974     2   \n",
       "0        0.5710       0.9917    0.9699     0.7903  0.6570       0.9214     3   \n",
       "0        0.6316       0.9886    0.9701     0.7514  0.6735       0.9200     4   \n",
       "..          ...          ...       ...        ...     ...          ...   ...   \n",
       "0        0.6651       0.9873    0.9706     0.7407  0.6865       0.9431     0   \n",
       "0        0.6459       0.9895    0.9717     0.7700  0.6907       0.9463     1   \n",
       "0        0.7033       0.9856    0.9710     0.7277  0.7002       0.9497     2   \n",
       "0        0.6954       0.9861    0.9710     0.7315  0.6980       0.9486     3   \n",
       "0        0.6938       0.9856    0.9705     0.7250  0.6937       0.9464     4   \n",
       "\n",
       "    n_models  \n",
       "0          1  \n",
       "0          1  \n",
       "0          1  \n",
       "0          1  \n",
       "0          1  \n",
       "..       ...  \n",
       "0         49  \n",
       "0         49  \n",
       "0         49  \n",
       "0         49  \n",
       "0         49  \n",
       "\n",
       "[245 rows x 8 columns]"
      ]
     },
     "execution_count": 16,
     "metadata": {},
     "output_type": "execute_result"
    }
   ],
   "source": [
    "df_esm_33_gearnet_ensemble"
   ]
  },
  {
   "cell_type": "code",
   "execution_count": 26,
   "metadata": {},
   "outputs": [
    {
     "data": {
      "text/plain": [
       "<Axes: xlabel='n_models'>"
      ]
     },
     "execution_count": 26,
     "metadata": {},
     "output_type": "execute_result"
    },
    {
     "data": {
      "image/png": "[encoded data removed]",
      "text/plain": [
       "<Figure size 640x480 with 1 Axes>"
      ]
     },
     "metadata": {},
     "output_type": "display_data"
    }
   ],
   "source": [
    "%matplotlib inline\n",
    "df_esm_33_gearnet_ensemble.groupby('n_models').aggregate('mean').plot(y='mcc', grid=True)"
   ]
  },
  {
   "cell_type": "code",
   "execution_count": 21,
   "metadata": {},
   "outputs": [
    {
     "name": "stdout",
     "output_type": "stream",
     "text": [
      "['iter_0_test.csv', 'iter_1_test.csv', 'iter_2_test.csv', 'iter_3_test.csv', 'iter_4_test.csv', 'iter_5_test.csv', 'iter_6_test.csv', 'iter_7_test.csv', 'iter_8_test.csv', 'iter_9_test.csv', 'iter_10_test.csv', 'iter_11_test.csv', 'iter_12_test.csv', 'iter_13_test.csv', 'iter_14_test.csv', 'iter_15_test.csv', 'iter_16_test.csv', 'iter_17_test.csv', 'iter_18_test.csv', 'iter_19_test.csv', 'iter_20_test.csv', 'iter_21_test.csv', 'iter_22_test.csv', 'iter_23_test.csv', 'iter_24_test.csv', 'iter_25_test.csv', 'iter_26_test.csv', 'iter_27_test.csv', 'iter_28_test.csv', 'iter_29_test.csv']\n",
      "['iter_0_test.csv', 'iter_1_test.csv', 'iter_2_test.csv', 'iter_3_test.csv', 'iter_4_test.csv', 'iter_5_test.csv', 'iter_6_test.csv', 'iter_7_test.csv', 'iter_8_test.csv', 'iter_9_test.csv', 'iter_10_test.csv', 'iter_11_test.csv', 'iter_12_test.csv', 'iter_13_test.csv', 'iter_14_test.csv', 'iter_15_test.csv', 'iter_16_test.csv', 'iter_17_test.csv', 'iter_18_test.csv', 'iter_19_test.csv', 'iter_20_test.csv', 'iter_21_test.csv', 'iter_22_test.csv', 'iter_23_test.csv', 'iter_24_test.csv', 'iter_25_test.csv', 'iter_26_test.csv', 'iter_27_test.csv', 'iter_28_test.csv', 'iter_29_test.csv']\n",
      "['iter_0_test.csv', 'iter_1_test.csv', 'iter_2_test.csv', 'iter_3_test.csv', 'iter_4_test.csv', 'iter_5_test.csv', 'iter_6_test.csv', 'iter_7_test.csv', 'iter_8_test.csv', 'iter_9_test.csv', 'iter_10_test.csv', 'iter_11_test.csv', 'iter_12_test.csv', 'iter_13_test.csv', 'iter_14_test.csv', 'iter_15_test.csv', 'iter_16_test.csv', 'iter_17_test.csv', 'iter_18_test.csv', 'iter_19_test.csv', 'iter_20_test.csv', 'iter_21_test.csv', 'iter_22_test.csv', 'iter_23_test.csv', 'iter_24_test.csv', 'iter_25_test.csv', 'iter_26_test.csv', 'iter_27_test.csv', 'iter_28_test.csv', 'iter_29_test.csv']\n",
      "['iter_0_test.csv', 'iter_1_test.csv', 'iter_2_test.csv', 'iter_3_test.csv', 'iter_4_test.csv', 'iter_5_test.csv', 'iter_6_test.csv', 'iter_7_test.csv', 'iter_8_test.csv', 'iter_9_test.csv', 'iter_10_test.csv', 'iter_11_test.csv', 'iter_12_test.csv', 'iter_13_test.csv', 'iter_14_test.csv', 'iter_15_test.csv', 'iter_16_test.csv', 'iter_17_test.csv', 'iter_18_test.csv', 'iter_19_test.csv', 'iter_20_test.csv', 'iter_21_test.csv', 'iter_22_test.csv', 'iter_23_test.csv', 'iter_24_test.csv', 'iter_25_test.csv', 'iter_26_test.csv', 'iter_27_test.csv', 'iter_28_test.csv', 'iter_29_test.csv']\n",
      "['iter_0_test.csv', 'iter_1_test.csv', 'iter_2_test.csv', 'iter_3_test.csv', 'iter_4_test.csv', 'iter_5_test.csv', 'iter_6_test.csv', 'iter_7_test.csv', 'iter_8_test.csv', 'iter_9_test.csv', 'iter_10_test.csv', 'iter_11_test.csv', 'iter_12_test.csv', 'iter_13_test.csv', 'iter_14_test.csv', 'iter_15_test.csv', 'iter_16_test.csv', 'iter_17_test.csv', 'iter_18_test.csv', 'iter_19_test.csv', 'iter_20_test.csv', 'iter_21_test.csv', 'iter_22_test.csv', 'iter_23_test.csv', 'iter_24_test.csv', 'iter_25_test.csv', 'iter_26_test.csv', 'iter_27_test.csv', 'iter_28_test.csv', 'iter_29_test.csv']\n",
      "iter 1\n",
      "iter 2\n",
      "iter 3\n",
      "iter 4\n",
      "iter 5\n",
      "iter 6\n",
      "iter 7\n",
      "iter 8\n",
      "iter 9\n",
      "iter 10\n",
      "iter 11\n",
      "iter 12\n",
      "iter 13\n",
      "iter 14\n",
      "iter 15\n",
      "iter 16\n",
      "iter 17\n",
      "iter 18\n",
      "iter 19\n",
      "iter 20\n",
      "iter 21\n",
      "iter 22\n",
      "iter 23\n",
      "iter 24\n",
      "iter 25\n",
      "iter 26\n",
      "iter 27\n",
      "iter 28\n",
      "iter 29\n"
     ]
    }
   ],
   "source": [
    "df_esm_33_resiboost_v2 = read_and_aggregate('esm-33-gearnet-resiboost-v2')"
   ]
  },
  {
   "cell_type": "code",
   "execution_count": 24,
   "metadata": {},
   "outputs": [
    {
     "data": {
      "text/plain": [
       "<Axes: xlabel='n_models'>"
      ]
     },
     "execution_count": 24,
     "metadata": {},
     "output_type": "execute_result"
    },
    {
     "data": {
      "image/png": "[encoded data removed]",
      "text/plain": [
       "<Figure size 640x480 with 1 Axes>"
      ]
     },
     "metadata": {},
     "output_type": "display_data"
    }
   ],
   "source": [
    "df_esm_33_gearnet_ensemble.groupby('n_models').aggregate('mean').plot(y='mcc', grid=True)"
   ]
  }
 ],
 "metadata": {
  "kernelspec": {
   "display_name": "jc",
   "language": "python",
   "name": "python3"
  },
  "language_info": {
   "codemirror_mode": {
    "name": "ipython",
    "version": 3
   },
   "file_extension": ".py",
   "mimetype": "text/x-python",
   "name": "python",
   "nbconvert_exporter": "python",
   "pygments_lexer": "ipython3",
   "version": "3.9.17"
  }
 },
 "nbformat": 4,
 "nbformat_minor": 2
}
